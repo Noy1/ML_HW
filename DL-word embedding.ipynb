{
  "cells": [
    {
      "cell_type": "markdown",
      "metadata": {
        "id": "w-GozcdBNzrX"
      },
      "source": [
        "# Word Embedding - Home Assigment\n",
        "## Dr. Omri Allouche 2021-2022. YData Deep Learning Course\n",
        "\n",
        "[Open in Google Colab](https://colab.research.google.com/github/omriallouche/ydata_deep_learning_2021/blob/master/assignments/word_vectors_text_classification/DL_word_embedding_assignment.ipynb)\n",
        "\n",
        "    \n",
        "In this exercise, you'll use word vectors trained on a corpus of lyrics of songs from MetroLyrics http://github.com/omriallouche/ydata_deep_learning_2021/blob/master/data/metrolyrics.parquet.\n",
        "The dataset contains these fields for each song, in CSV format:\n",
        "1. index\n",
        "1. song\n",
        "1. year\n",
        "1. artist\n",
        "1. genre\n",
        "1. lyrics\n",
        "\n",
        "Before doing this exercise, we recommend that you go over the \"Bag of words meets bag of popcorn\" tutorial (https://www.kaggle.com/c/word2vec-nlp-tutorial)\n",
        "\n",
        "Other recommended resources:\n",
        "- https://rare-technologies.com/word2vec-tutorial/\n",
        "- https://www.kaggle.com/pierremegret/gensim-word2vec-tutorial"
      ]
    },
    {
      "cell_type": "code",
      "execution_count": null,
      "metadata": {
        "colab": {
          "base_uri": "https://localhost:8080/"
        },
        "id": "Nm7Tlj9okw3h",
        "outputId": "7e42a85d-2bc9-4319-abc6-ada0779657fc"
      },
      "outputs": [
        {
          "output_type": "stream",
          "name": "stdout",
          "text": [
            "Requirement already satisfied: BeautifulSoup4 in /usr/local/lib/python3.7/dist-packages (4.6.3)\n",
            "Requirement already satisfied: gensim in /usr/local/lib/python3.7/dist-packages (4.2.0)\n",
            "Requirement already satisfied: scipy>=0.18.1 in /usr/local/lib/python3.7/dist-packages (from gensim) (1.4.1)\n",
            "Requirement already satisfied: numpy>=1.17.0 in /usr/local/lib/python3.7/dist-packages (from gensim) (1.21.6)\n",
            "Requirement already satisfied: smart-open>=1.8.1 in /usr/local/lib/python3.7/dist-packages (from gensim) (6.0.0)\n",
            "Requirement already satisfied: tqdm in /usr/local/lib/python3.7/dist-packages (4.64.0)\n"
          ]
        }
      ],
      "source": [
        "!pip install BeautifulSoup4\n",
        "!pip install --upgrade gensim\n",
        "!pip install tqdm"
      ]
    },
    {
      "cell_type": "code",
      "execution_count": null,
      "metadata": {
        "colab": {
          "base_uri": "https://localhost:8080/"
        },
        "id": "ZfKCYTX3vLyz",
        "outputId": "2f98790f-d3d5-4f36-855a-63f733b7122a"
      },
      "outputs": [
        {
          "output_type": "stream",
          "name": "stdout",
          "text": [
            "[nltk_data] Downloading package stopwords to /root/nltk_data...\n",
            "[nltk_data]   Package stopwords is already up-to-date!\n",
            "[nltk_data] Downloading package punkt to /root/nltk_data...\n",
            "[nltk_data]   Package punkt is already up-to-date!\n"
          ]
        },
        {
          "output_type": "execute_result",
          "data": {
            "text/plain": [
              "True"
            ]
          },
          "metadata": {},
          "execution_count": 2
        }
      ],
      "source": [
        "import nltk\n",
        "nltk.download(\"stopwords\")\n",
        "nltk.download('punkt') #for tokenize"
      ]
    },
    {
      "cell_type": "code",
      "execution_count": null,
      "metadata": {
        "id": "2R_xhMZTiizK"
      },
      "outputs": [],
      "source": [
        "import pandas as pd\n",
        "import numpy as np\n",
        "import seaborn as sns\n",
        "import matplotlib.pyplot as plt\n",
        "import torch, time, copy, os, re, zipfile\n",
        "import torch.nn as nn\n",
        "import torch.optim as optim\n",
        "from torch.nn import functional as F\n",
        "from torch.optim import lr_scheduler\n",
        "from torchsummary import summary\n",
        "from torch.utils.data import Dataset, DataLoader, TensorDataset\n",
        "from nltk.corpus import stopwords # Import the stop word list\n",
        "from bs4 import BeautifulSoup\n",
        "from tqdm import tqdm\n",
        "from gensim.models import word2vec\n",
        "from sklearn.model_selection import train_test_split\n",
        "from sklearn.linear_model import Ridge\n",
        "from sklearn.metrics import mean_squared_error\n",
        "from nltk.tokenize.treebank import TreebankWordDetokenizer #convert back to sentence\n",
        "from sklearn.model_selection import train_test_split\n",
        "from sklearn.feature_extraction.text import CountVectorizer\n",
        "from sklearn.naive_bayes import MultinomialNB\n",
        "from sklearn.metrics import classification_report, accuracy_score, confusion_matrix\n",
        "from sklearn.preprocessing import MinMaxScaler\n",
        "from sklearn.feature_extraction.text import TfidfVectorizer\n",
        "import warnings\n",
        "warnings.filterwarnings('ignore')"
      ]
    },
    {
      "cell_type": "markdown",
      "metadata": {
        "id": "RYjoiJkqNzrd"
      },
      "source": [
        "### Train word vectors\n",
        "Train word vectors using the Skipgram Word2vec algorithm and the gensim package.\n",
        "Make sure you perform the following:\n",
        "- Tokenize words\n",
        "- Lowercase all words\n",
        "- Remove punctuation marks\n",
        "- Remove rare words\n",
        "- Remove stopwords\n",
        "\n",
        "Use 300 as the dimension of the word vectors. Try different context sizes."
      ]
    },
    {
      "cell_type": "code",
      "execution_count": null,
      "metadata": {
        "id": "sQIiv0pdNzre"
      },
      "outputs": [],
      "source": [
        "songs_df = pd.read_parquet('/content/metrolyrics.parquet')"
      ]
    },
    {
      "cell_type": "code",
      "execution_count": null,
      "metadata": {
        "id": "1Z_uBLBltP1S"
      },
      "outputs": [],
      "source": [
        "def lyrics_to_wordlist(lyrics):\n",
        "  stops = set(stopwords.words(\"english\"))                  \n",
        "  # 1. Remove HTML\n",
        "  lyrics_text = BeautifulSoup(lyrics).get_text() \n",
        "  # 2. Remove non-letters        \n",
        "  letters_only = re.sub(\"[^a-zA-Z]\", \" \", lyrics_text) \n",
        "  # 3. Convert to lower case, split into individual words\n",
        "  words = letters_only.lower().split()                             \n",
        "  # 4. Remove stop words\n",
        "  words = [w for w in words if not w in stops]\n",
        "  # 5. Remove words of len = 1\n",
        "  words = [w for w in words if len(w) > 1] \n",
        "  return words"
      ]
    },
    {
      "cell_type": "code",
      "execution_count": null,
      "metadata": {
        "id": "-BXALRboyACf"
      },
      "outputs": [],
      "source": [
        "def lyrics_to_sentences(lyrics, tokenizer):\n",
        "  # 1. Use the NLTK tokenizer to split the paragraph into sentences\n",
        "  raw_sentences = tokenizer.tokenize(lyrics.strip())\n",
        "  # 2. Loop over each sentence\n",
        "  sentences = []\n",
        "  for raw_sentence in raw_sentences:\n",
        "    if len(raw_sentence) > 0:\n",
        "      sentences.append(lyrics_to_wordlist(raw_sentence))\n",
        "  return sentences"
      ]
    },
    {
      "cell_type": "code",
      "execution_count": null,
      "metadata": {
        "colab": {
          "base_uri": "https://localhost:8080/"
        },
        "id": "O1_Eylrtz85C",
        "outputId": "d00884f4-e4c0-4d96-b7f5-e00eff182238"
      },
      "outputs": [
        {
          "output_type": "stream",
          "name": "stderr",
          "text": [
            "100%|██████████| 49976/49976 [01:48<00:00, 462.40it/s]\n"
          ]
        }
      ],
      "source": [
        "sentences = []  # Initialize an empty list of sentences\n",
        "tokenizer = nltk.data.load('tokenizers/punkt/english.pickle') #load tokenaizer\n",
        "\n",
        "for lyrics in tqdm(songs_df['lyrics']):\n",
        "    sentences += lyrics_to_sentences(lyrics, tokenizer)"
      ]
    },
    {
      "cell_type": "code",
      "execution_count": null,
      "metadata": {
        "id": "3K9AYNmc5BTI"
      },
      "outputs": [],
      "source": [
        "w2v_model = word2vec.Word2Vec(sentences, workers=4, vector_size=300, min_count=40, window=10, sample=0.001)"
      ]
    },
    {
      "cell_type": "markdown",
      "metadata": {
        "id": "y4ZnshVBNzrf"
      },
      "source": [
        "### Review most similar words\n",
        "Get initial evaluation of the word vectors by analyzing the most similar words for a few interesting words in the text. \n",
        "\n",
        "Choose words yourself, and find the most similar words to them."
      ]
    },
    {
      "cell_type": "code",
      "execution_count": null,
      "metadata": {
        "colab": {
          "base_uri": "https://localhost:8080/"
        },
        "id": "mPxr1BkRNzrg",
        "outputId": "53ebd02a-5120-4f67-f28e-dc0221e34321"
      },
      "outputs": [
        {
          "data": {
            "text/plain": [
              "[('glasses', 0.545772910118103),\n",
              " ('cigarettes', 0.5266082286834717),\n",
              " ('cup', 0.5214027166366577),\n",
              " ('bottle', 0.4910624027252197),\n",
              " ('cigarette', 0.4764534533023834),\n",
              " ('wine', 0.4599669277667999),\n",
              " ('drink', 0.45713675022125244),\n",
              " ('bubbles', 0.4554212689399719),\n",
              " ('coat', 0.44084179401397705),\n",
              " ('ash', 0.4400840699672699)]"
            ]
          },
          "execution_count": 9,
          "metadata": {},
          "output_type": "execute_result"
        }
      ],
      "source": [
        "w2v_model.wv.most_similar(\"glass\", topn=10)"
      ]
    },
    {
      "cell_type": "code",
      "execution_count": null,
      "metadata": {
        "colab": {
          "base_uri": "https://localhost:8080/"
        },
        "id": "MwyFEzvdQPqe",
        "outputId": "2459e273-b894-49f9-a0ed-32882012b13b"
      },
      "outputs": [
        {
          "data": {
            "text/plain": [
              "[('hound', 0.6139552593231201),\n",
              " ('dogs', 0.542687177658081),\n",
              " ('cat', 0.5260366201400757),\n",
              " ('barking', 0.49912187457084656),\n",
              " ('puppy', 0.46973705291748047),\n",
              " ('frog', 0.46819767355918884),\n",
              " ('bark', 0.4645535349845886),\n",
              " ('leash', 0.46060940623283386),\n",
              " ('hog', 0.45781010389328003),\n",
              " ('titty', 0.421688973903656)]"
            ]
          },
          "execution_count": 10,
          "metadata": {},
          "output_type": "execute_result"
        }
      ],
      "source": [
        "w2v_model.wv.most_similar(\"dog\", topn=10) "
      ]
    },
    {
      "cell_type": "markdown",
      "metadata": {
        "id": "Xg5L0hNyNzrg"
      },
      "source": [
        "### Word Vectors Algebra\n",
        "We've seen in class examples of algebraic games on the word vectors (e.g. man - woman + king = queen ). \n",
        "\n",
        "Try a few vector algebra terms, and evaluate how well they work. Try to use the Cosine distance and compare it to the Euclidean distance."
      ]
    },
    {
      "cell_type": "code",
      "execution_count": null,
      "metadata": {
        "colab": {
          "base_uri": "https://localhost:8080/"
        },
        "id": "nVgVpR8aeHl8",
        "outputId": "4bbfc42d-6947-49f8-90d7-f59aaef24301"
      },
      "outputs": [
        {
          "name": "stdout",
          "output_type": "stream",
          "text": [
            "Euclidean distance: 13.74511432647705\n",
            "Cosin distance: 0.4825018644332886\n"
          ]
        }
      ],
      "source": [
        "#Euclidean distance\n",
        "euc_dist = np.linalg.norm(w2v_model.wv['cat'] - w2v_model.wv['dog'])\n",
        "print(f'Euclidean distance: {euc_dist}')\n",
        "\n",
        "#Cosine distance\n",
        "cosin_dist = w2v_model.wv.distance('cat', 'dog')\n",
        "print(f'Cosin distance: {cosin_dist}')"
      ]
    },
    {
      "cell_type": "code",
      "execution_count": null,
      "metadata": {
        "colab": {
          "base_uri": "https://localhost:8080/"
        },
        "id": "ppoJ1P1SWyGt",
        "outputId": "62fe375d-59eb-4294-f199-767efd2d3640"
      },
      "outputs": [
        {
          "name": "stdout",
          "output_type": "stream",
          "text": [
            "Euclidean distance: 19.34150505065918\n",
            "Cosin distance: 0.6004656851291656\n"
          ]
        }
      ],
      "source": [
        "#Euclidean distance\n",
        "euc_dist = np.linalg.norm(w2v_model.wv['girl'] - w2v_model.wv['boy'])\n",
        "print(f'Euclidean distance: {euc_dist}')\n",
        "\n",
        "#Cosine distance\n",
        "cosin_dist = w2v_model.wv.distance('girl', 'boy')\n",
        "print(f'Cosin distance: {cosin_dist}')"
      ]
    },
    {
      "cell_type": "code",
      "execution_count": null,
      "metadata": {
        "colab": {
          "base_uri": "https://localhost:8080/"
        },
        "id": "t9jA4R1_eN5M",
        "outputId": "0a66c15f-1d08-40d6-a153-18c05a9d9a32"
      },
      "outputs": [
        {
          "name": "stdout",
          "output_type": "stream",
          "text": [
            "Euclidean distance: 20.0351619720459\n",
            "Cosin distance: 1.0025552082806826\n"
          ]
        }
      ],
      "source": [
        "#Euclidean distance\n",
        "euc_dist = np.linalg.norm(w2v_model.wv['kitchen'] - w2v_model.wv['child'])\n",
        "print(f'Euclidean distance: {euc_dist}')\n",
        "\n",
        "#Cosine distance\n",
        "cosin_dist = w2v_model.wv.distance('kitchen', 'child')\n",
        "print(f'Cosin distance: {cosin_dist}')"
      ]
    },
    {
      "cell_type": "markdown",
      "metadata": {
        "id": "nF5qBH4XWSVk"
      },
      "source": [
        "### Explanation\n",
        "As we can see, the cosin distance emphasis the difference between the words in more semantic and realistic way. We can see that when in cosin we get a big distance between kitchen and child but smaller distance between boy and girl the euclidean distance gave both of pairs almost the same distance that represent a high difference between the words.\n",
        " \n",
        "The cosine distance measures the difference in orientation. Euclidean distance would also include difference in magnitude, which can tiled the results.\n",
        "Euclidean distance depends on a vector’s magnitude whereas cosine similarity depends on the angle between the vectors. The angle measure is more resilient to variations of occurrence counts between terms that are semantically similar, whereas the magnitude of vectors are influenced by occurrence counts and heterogeneity of word neighborhood."
      ]
    },
    {
      "cell_type": "markdown",
      "metadata": {
        "id": "3sJ0cJq3Nzrh"
      },
      "source": [
        "## Sentiment Analysis\n",
        "Estimate sentiment of words using word vectors.  \n",
        "In this section, we'll use the SemEval-2015 English Twitter Sentiment Lexicon.  \n",
        "The lexicon was used as an official test set in the SemEval-2015 shared Task #10: Subtask E, and contains a polarity score for words in range -1 (negative) to 1 (positive) - http://saifmohammad.com/WebPages/SCL.html#OPP"
      ]
    },
    {
      "cell_type": "markdown",
      "metadata": {
        "id": "b8Fk4guVNzrh"
      },
      "source": [
        "Build a classifier for the sentiment of a word given its word vector (the vector you computed using the song lyrics dataset). Split the data to a train and test sets, and report the model performance on both sets."
      ]
    },
    {
      "cell_type": "code",
      "execution_count": null,
      "metadata": {
        "id": "BWrblah1Nzri"
      },
      "outputs": [],
      "source": [
        "with zipfile.ZipFile('/content/SemEval2015-English-Twitter-Lexicon.zip', 'r') as zip_ref:\n",
        "    zip_ref.extractall('./')\n",
        "\n",
        "semEval_df = pd.read_csv('/content/SemEval2015-English-Twitter-Lexicon/SemEval2015-English-Twitter-Lexicon.txt', sep=\"\\t\", names=['score', 'word'])\n",
        "semEval_df['word'] = semEval_df['word'].apply(lambda x: x.replace(\"#\", \"\"))"
      ]
    },
    {
      "cell_type": "code",
      "execution_count": null,
      "metadata": {
        "id": "OwckD19ugmI0"
      },
      "outputs": [],
      "source": [
        "def embedd_words(word, w2v_model):\n",
        "  if word in w2v_model.wv:\n",
        "      vec = w2v_model.wv[word]\n",
        "  else:\n",
        "      vec = np.nan\n",
        "  return vec"
      ]
    },
    {
      "cell_type": "code",
      "execution_count": null,
      "metadata": {
        "colab": {
          "base_uri": "https://localhost:8080/",
          "height": 206
        },
        "id": "VUB82JpZgOCP",
        "outputId": "db19e1b3-708e-44c5-b0ca-c0dff8b78808"
      },
      "outputs": [
        {
          "data": {
            "text/html": [
              "\n",
              "  <div id=\"df-3579bb47-38bf-414d-a87f-a7e54c0d6f07\">\n",
              "    <div class=\"colab-df-container\">\n",
              "      <div>\n",
              "<style scoped>\n",
              "    .dataframe tbody tr th:only-of-type {\n",
              "        vertical-align: middle;\n",
              "    }\n",
              "\n",
              "    .dataframe tbody tr th {\n",
              "        vertical-align: top;\n",
              "    }\n",
              "\n",
              "    .dataframe thead th {\n",
              "        text-align: right;\n",
              "    }\n",
              "</style>\n",
              "<table border=\"1\" class=\"dataframe\">\n",
              "  <thead>\n",
              "    <tr style=\"text-align: right;\">\n",
              "      <th></th>\n",
              "      <th>score</th>\n",
              "      <th>word</th>\n",
              "      <th>vec</th>\n",
              "    </tr>\n",
              "  </thead>\n",
              "  <tbody>\n",
              "    <tr>\n",
              "      <th>0</th>\n",
              "      <td>0.984</td>\n",
              "      <td>loves</td>\n",
              "      <td>[0.7401149, -0.07405829, -0.9786648, 0.3482619...</td>\n",
              "    </tr>\n",
              "    <tr>\n",
              "      <th>2</th>\n",
              "      <td>0.969</td>\n",
              "      <td>amazing</td>\n",
              "      <td>[-0.14017898, 0.9948364, 0.20321341, -0.302035...</td>\n",
              "    </tr>\n",
              "    <tr>\n",
              "      <th>3</th>\n",
              "      <td>0.969</td>\n",
              "      <td>peaceful</td>\n",
              "      <td>[0.058224306, 0.47973973, -0.031605948, 0.0820...</td>\n",
              "    </tr>\n",
              "    <tr>\n",
              "      <th>4</th>\n",
              "      <td>0.953</td>\n",
              "      <td>greatness</td>\n",
              "      <td>[0.065673895, 0.025691131, -0.07258512, 0.1741...</td>\n",
              "    </tr>\n",
              "    <tr>\n",
              "      <th>5</th>\n",
              "      <td>0.938</td>\n",
              "      <td>fantastic</td>\n",
              "      <td>[0.01841742, -0.12527326, -0.6703563, 0.035640...</td>\n",
              "    </tr>\n",
              "  </tbody>\n",
              "</table>\n",
              "</div>\n",
              "      <button class=\"colab-df-convert\" onclick=\"convertToInteractive('df-3579bb47-38bf-414d-a87f-a7e54c0d6f07')\"\n",
              "              title=\"Convert this dataframe to an interactive table.\"\n",
              "              style=\"display:none;\">\n",
              "        \n",
              "  <svg xmlns=\"http://www.w3.org/2000/svg\" height=\"24px\"viewBox=\"0 0 24 24\"\n",
              "       width=\"24px\">\n",
              "    <path d=\"M0 0h24v24H0V0z\" fill=\"none\"/>\n",
              "    <path d=\"M18.56 5.44l.94 2.06.94-2.06 2.06-.94-2.06-.94-.94-2.06-.94 2.06-2.06.94zm-11 1L8.5 8.5l.94-2.06 2.06-.94-2.06-.94L8.5 2.5l-.94 2.06-2.06.94zm10 10l.94 2.06.94-2.06 2.06-.94-2.06-.94-.94-2.06-.94 2.06-2.06.94z\"/><path d=\"M17.41 7.96l-1.37-1.37c-.4-.4-.92-.59-1.43-.59-.52 0-1.04.2-1.43.59L10.3 9.45l-7.72 7.72c-.78.78-.78 2.05 0 2.83L4 21.41c.39.39.9.59 1.41.59.51 0 1.02-.2 1.41-.59l7.78-7.78 2.81-2.81c.8-.78.8-2.07 0-2.86zM5.41 20L4 18.59l7.72-7.72 1.47 1.35L5.41 20z\"/>\n",
              "  </svg>\n",
              "      </button>\n",
              "      \n",
              "  <style>\n",
              "    .colab-df-container {\n",
              "      display:flex;\n",
              "      flex-wrap:wrap;\n",
              "      gap: 12px;\n",
              "    }\n",
              "\n",
              "    .colab-df-convert {\n",
              "      background-color: #E8F0FE;\n",
              "      border: none;\n",
              "      border-radius: 50%;\n",
              "      cursor: pointer;\n",
              "      display: none;\n",
              "      fill: #1967D2;\n",
              "      height: 32px;\n",
              "      padding: 0 0 0 0;\n",
              "      width: 32px;\n",
              "    }\n",
              "\n",
              "    .colab-df-convert:hover {\n",
              "      background-color: #E2EBFA;\n",
              "      box-shadow: 0px 1px 2px rgba(60, 64, 67, 0.3), 0px 1px 3px 1px rgba(60, 64, 67, 0.15);\n",
              "      fill: #174EA6;\n",
              "    }\n",
              "\n",
              "    [theme=dark] .colab-df-convert {\n",
              "      background-color: #3B4455;\n",
              "      fill: #D2E3FC;\n",
              "    }\n",
              "\n",
              "    [theme=dark] .colab-df-convert:hover {\n",
              "      background-color: #434B5C;\n",
              "      box-shadow: 0px 1px 3px 1px rgba(0, 0, 0, 0.15);\n",
              "      filter: drop-shadow(0px 1px 2px rgba(0, 0, 0, 0.3));\n",
              "      fill: #FFFFFF;\n",
              "    }\n",
              "  </style>\n",
              "\n",
              "      <script>\n",
              "        const buttonEl =\n",
              "          document.querySelector('#df-3579bb47-38bf-414d-a87f-a7e54c0d6f07 button.colab-df-convert');\n",
              "        buttonEl.style.display =\n",
              "          google.colab.kernel.accessAllowed ? 'block' : 'none';\n",
              "\n",
              "        async function convertToInteractive(key) {\n",
              "          const element = document.querySelector('#df-3579bb47-38bf-414d-a87f-a7e54c0d6f07');\n",
              "          const dataTable =\n",
              "            await google.colab.kernel.invokeFunction('convertToInteractive',\n",
              "                                                     [key], {});\n",
              "          if (!dataTable) return;\n",
              "\n",
              "          const docLinkHtml = 'Like what you see? Visit the ' +\n",
              "            '<a target=\"_blank\" href=https://colab.research.google.com/notebooks/data_table.ipynb>data table notebook</a>'\n",
              "            + ' to learn more about interactive tables.';\n",
              "          element.innerHTML = '';\n",
              "          dataTable['output_type'] = 'display_data';\n",
              "          await google.colab.output.renderOutput(dataTable, element);\n",
              "          const docLink = document.createElement('div');\n",
              "          docLink.innerHTML = docLinkHtml;\n",
              "          element.appendChild(docLink);\n",
              "        }\n",
              "      </script>\n",
              "    </div>\n",
              "  </div>\n",
              "  "
            ],
            "text/plain": [
              "   score       word                                                vec\n",
              "0  0.984      loves  [0.7401149, -0.07405829, -0.9786648, 0.3482619...\n",
              "2  0.969    amazing  [-0.14017898, 0.9948364, 0.20321341, -0.302035...\n",
              "3  0.969   peaceful  [0.058224306, 0.47973973, -0.031605948, 0.0820...\n",
              "4  0.953  greatness  [0.065673895, 0.025691131, -0.07258512, 0.1741...\n",
              "5  0.938  fantastic  [0.01841742, -0.12527326, -0.6703563, 0.035640..."
            ]
          },
          "execution_count": 19,
          "metadata": {},
          "output_type": "execute_result"
        }
      ],
      "source": [
        "semEval_df['vec'] = semEval_df['word'].apply(lambda x: embedd_words(x, w2v_model))\n",
        "semEval_df.dropna(inplace=True)\n",
        "semEval_df.head()"
      ]
    },
    {
      "cell_type": "code",
      "execution_count": null,
      "metadata": {
        "id": "axroZ5kxnBpq"
      },
      "outputs": [],
      "source": [
        "x_train, x_test, y_train, y_test = train_test_split(semEval_df['vec'], semEval_df['score'], test_size=0.2, random_state=42)"
      ]
    },
    {
      "cell_type": "code",
      "execution_count": null,
      "metadata": {
        "id": "GRyspdl4ov13"
      },
      "outputs": [],
      "source": [
        "x_train = x_train.to_list()\n",
        "x_test = x_test.to_list()\n",
        "y_train = y_train.to_list()\n",
        "y_test = y_test.to_list()"
      ]
    },
    {
      "cell_type": "code",
      "execution_count": null,
      "metadata": {
        "colab": {
          "base_uri": "https://localhost:8080/"
        },
        "id": "o8Yil0RboF4u",
        "outputId": "88e6ffd7-9e93-4aab-d021-d9132f4152dc"
      },
      "outputs": [
        {
          "name": "stdout",
          "output_type": "stream",
          "text": [
            "Train's MSE: 0.1, Test's MSE: 0.308\n"
          ]
        }
      ],
      "source": [
        "regressor = Ridge(alpha=1.0)\n",
        "regressor.fit(x_train, y_train)\n",
        "y_pred_test = regressor.predict(x_test)\n",
        "y_pred_train = regressor.predict(x_train)\n",
        "train_mse = mean_squared_error(y_train, y_pred_train)\n",
        "test_mse = mean_squared_error(y_test, y_pred_test)\n",
        "print(f\"Train's MSE: {round(train_mse, 3)}, Test's MSE: {round(test_mse, 3)}\")"
      ]
    },
    {
      "cell_type": "markdown",
      "metadata": {
        "id": "6e2LazljNzri"
      },
      "source": [
        "Use your trained model from the previous question to predict the sentiment score of words in the lyrics corpus that are not part of the original sentiment dataset. Review the words with the highest positive and negative sentiment. Do the results make sense?"
      ]
    },
    {
      "cell_type": "code",
      "execution_count": null,
      "metadata": {
        "id": "nPJLbOYENzrj"
      },
      "outputs": [],
      "source": [
        "words_sentiment_dataset = semEval_df['word'].to_list()\n",
        "words_to_predict = set()\n",
        "\n",
        "for sentence in sentences:\n",
        "  for word in sentence:\n",
        "    if word not in words_sentiment_dataset:\n",
        "      words_to_predict.add(word)"
      ]
    },
    {
      "cell_type": "code",
      "execution_count": null,
      "metadata": {
        "colab": {
          "base_uri": "https://localhost:8080/",
          "height": 206
        },
        "id": "nzOO1g7jfNdW",
        "outputId": "e23e791d-02a0-4fd2-ac92-564bde7cae17"
      },
      "outputs": [
        {
          "data": {
            "text/html": [
              "\n",
              "  <div id=\"df-b1b5d418-093e-4f9f-8630-f080f4d11388\">\n",
              "    <div class=\"colab-df-container\">\n",
              "      <div>\n",
              "<style scoped>\n",
              "    .dataframe tbody tr th:only-of-type {\n",
              "        vertical-align: middle;\n",
              "    }\n",
              "\n",
              "    .dataframe tbody tr th {\n",
              "        vertical-align: top;\n",
              "    }\n",
              "\n",
              "    .dataframe thead th {\n",
              "        text-align: right;\n",
              "    }\n",
              "</style>\n",
              "<table border=\"1\" class=\"dataframe\">\n",
              "  <thead>\n",
              "    <tr style=\"text-align: right;\">\n",
              "      <th></th>\n",
              "      <th>word</th>\n",
              "      <th>vec</th>\n",
              "    </tr>\n",
              "  </thead>\n",
              "  <tbody>\n",
              "    <tr>\n",
              "      <th>2</th>\n",
              "      <td>emptied</td>\n",
              "      <td>[-0.04991555, 0.111111514, -0.0933969, -0.0057...</td>\n",
              "    </tr>\n",
              "    <tr>\n",
              "      <th>5</th>\n",
              "      <td>willst</td>\n",
              "      <td>[-0.31290576, 0.21449652, 0.027861625, 0.01759...</td>\n",
              "    </tr>\n",
              "    <tr>\n",
              "      <th>16</th>\n",
              "      <td>showed</td>\n",
              "      <td>[0.5535033, -0.26419467, 0.37930772, -0.242182...</td>\n",
              "    </tr>\n",
              "    <tr>\n",
              "      <th>22</th>\n",
              "      <td>length</td>\n",
              "      <td>[0.028374622, 0.16176198, -0.010871219, 0.1193...</td>\n",
              "    </tr>\n",
              "    <tr>\n",
              "      <th>28</th>\n",
              "      <td>sock</td>\n",
              "      <td>[-0.073550895, 0.14726068, -0.037020065, -0.31...</td>\n",
              "    </tr>\n",
              "  </tbody>\n",
              "</table>\n",
              "</div>\n",
              "      <button class=\"colab-df-convert\" onclick=\"convertToInteractive('df-b1b5d418-093e-4f9f-8630-f080f4d11388')\"\n",
              "              title=\"Convert this dataframe to an interactive table.\"\n",
              "              style=\"display:none;\">\n",
              "        \n",
              "  <svg xmlns=\"http://www.w3.org/2000/svg\" height=\"24px\"viewBox=\"0 0 24 24\"\n",
              "       width=\"24px\">\n",
              "    <path d=\"M0 0h24v24H0V0z\" fill=\"none\"/>\n",
              "    <path d=\"M18.56 5.44l.94 2.06.94-2.06 2.06-.94-2.06-.94-.94-2.06-.94 2.06-2.06.94zm-11 1L8.5 8.5l.94-2.06 2.06-.94-2.06-.94L8.5 2.5l-.94 2.06-2.06.94zm10 10l.94 2.06.94-2.06 2.06-.94-2.06-.94-.94-2.06-.94 2.06-2.06.94z\"/><path d=\"M17.41 7.96l-1.37-1.37c-.4-.4-.92-.59-1.43-.59-.52 0-1.04.2-1.43.59L10.3 9.45l-7.72 7.72c-.78.78-.78 2.05 0 2.83L4 21.41c.39.39.9.59 1.41.59.51 0 1.02-.2 1.41-.59l7.78-7.78 2.81-2.81c.8-.78.8-2.07 0-2.86zM5.41 20L4 18.59l7.72-7.72 1.47 1.35L5.41 20z\"/>\n",
              "  </svg>\n",
              "      </button>\n",
              "      \n",
              "  <style>\n",
              "    .colab-df-container {\n",
              "      display:flex;\n",
              "      flex-wrap:wrap;\n",
              "      gap: 12px;\n",
              "    }\n",
              "\n",
              "    .colab-df-convert {\n",
              "      background-color: #E8F0FE;\n",
              "      border: none;\n",
              "      border-radius: 50%;\n",
              "      cursor: pointer;\n",
              "      display: none;\n",
              "      fill: #1967D2;\n",
              "      height: 32px;\n",
              "      padding: 0 0 0 0;\n",
              "      width: 32px;\n",
              "    }\n",
              "\n",
              "    .colab-df-convert:hover {\n",
              "      background-color: #E2EBFA;\n",
              "      box-shadow: 0px 1px 2px rgba(60, 64, 67, 0.3), 0px 1px 3px 1px rgba(60, 64, 67, 0.15);\n",
              "      fill: #174EA6;\n",
              "    }\n",
              "\n",
              "    [theme=dark] .colab-df-convert {\n",
              "      background-color: #3B4455;\n",
              "      fill: #D2E3FC;\n",
              "    }\n",
              "\n",
              "    [theme=dark] .colab-df-convert:hover {\n",
              "      background-color: #434B5C;\n",
              "      box-shadow: 0px 1px 3px 1px rgba(0, 0, 0, 0.15);\n",
              "      filter: drop-shadow(0px 1px 2px rgba(0, 0, 0, 0.3));\n",
              "      fill: #FFFFFF;\n",
              "    }\n",
              "  </style>\n",
              "\n",
              "      <script>\n",
              "        const buttonEl =\n",
              "          document.querySelector('#df-b1b5d418-093e-4f9f-8630-f080f4d11388 button.colab-df-convert');\n",
              "        buttonEl.style.display =\n",
              "          google.colab.kernel.accessAllowed ? 'block' : 'none';\n",
              "\n",
              "        async function convertToInteractive(key) {\n",
              "          const element = document.querySelector('#df-b1b5d418-093e-4f9f-8630-f080f4d11388');\n",
              "          const dataTable =\n",
              "            await google.colab.kernel.invokeFunction('convertToInteractive',\n",
              "                                                     [key], {});\n",
              "          if (!dataTable) return;\n",
              "\n",
              "          const docLinkHtml = 'Like what you see? Visit the ' +\n",
              "            '<a target=\"_blank\" href=https://colab.research.google.com/notebooks/data_table.ipynb>data table notebook</a>'\n",
              "            + ' to learn more about interactive tables.';\n",
              "          element.innerHTML = '';\n",
              "          dataTable['output_type'] = 'display_data';\n",
              "          await google.colab.output.renderOutput(dataTable, element);\n",
              "          const docLink = document.createElement('div');\n",
              "          docLink.innerHTML = docLinkHtml;\n",
              "          element.appendChild(docLink);\n",
              "        }\n",
              "      </script>\n",
              "    </div>\n",
              "  </div>\n",
              "  "
            ],
            "text/plain": [
              "       word                                                vec\n",
              "2   emptied  [-0.04991555, 0.111111514, -0.0933969, -0.0057...\n",
              "5    willst  [-0.31290576, 0.21449652, 0.027861625, 0.01759...\n",
              "16   showed  [0.5535033, -0.26419467, 0.37930772, -0.242182...\n",
              "22   length  [0.028374622, 0.16176198, -0.010871219, 0.1193...\n",
              "28     sock  [-0.073550895, 0.14726068, -0.037020065, -0.31..."
            ]
          },
          "execution_count": 24,
          "metadata": {},
          "output_type": "execute_result"
        }
      ],
      "source": [
        "songs_words_df = pd.DataFrame (list(words_to_predict), columns = ['word'])\n",
        "songs_words_df['vec'] = songs_words_df['word'].apply(lambda x: embedd_words(x))\n",
        "songs_words_df.dropna(inplace=True)\n",
        "songs_words_df.head()"
      ]
    },
    {
      "cell_type": "code",
      "execution_count": null,
      "metadata": {
        "id": "KNj4wq45e3vp"
      },
      "outputs": [],
      "source": [
        "y_pred_songs_words = regressor.predict(songs_words_df['vec'].to_list())\n",
        "songs_words_df['predict'] = y_pred_songs_words"
      ]
    },
    {
      "cell_type": "code",
      "execution_count": null,
      "metadata": {
        "colab": {
          "base_uri": "https://localhost:8080/",
          "height": 677
        },
        "id": "_BdaNd69h4T6",
        "outputId": "acfb4bfd-319f-4654-9000-ae6c53a7bf0d"
      },
      "outputs": [
        {
          "data": {
            "text/html": [
              "\n",
              "  <div id=\"df-f92c0800-c995-4720-af69-386bd7a7b590\">\n",
              "    <div class=\"colab-df-container\">\n",
              "      <div>\n",
              "<style scoped>\n",
              "    .dataframe tbody tr th:only-of-type {\n",
              "        vertical-align: middle;\n",
              "    }\n",
              "\n",
              "    .dataframe tbody tr th {\n",
              "        vertical-align: top;\n",
              "    }\n",
              "\n",
              "    .dataframe thead th {\n",
              "        text-align: right;\n",
              "    }\n",
              "</style>\n",
              "<table border=\"1\" class=\"dataframe\">\n",
              "  <thead>\n",
              "    <tr style=\"text-align: right;\">\n",
              "      <th></th>\n",
              "      <th>word</th>\n",
              "      <th>vec</th>\n",
              "      <th>predict</th>\n",
              "    </tr>\n",
              "  </thead>\n",
              "  <tbody>\n",
              "    <tr>\n",
              "      <th>154362</th>\n",
              "      <td>x</td>\n",
              "      <td>[-1.6942222, 0.26493186, -0.48919994, 0.974095...</td>\n",
              "      <td>3.028060</td>\n",
              "    </tr>\n",
              "    <tr>\n",
              "      <th>6098</th>\n",
              "      <td>open</td>\n",
              "      <td>[-1.2158725, 0.8688985, -0.4617153, 0.6208076,...</td>\n",
              "      <td>1.981404</td>\n",
              "    </tr>\n",
              "    <tr>\n",
              "      <th>125615</th>\n",
              "      <td>bout</td>\n",
              "      <td>[-0.71366096, -2.6343246, -1.0406893, -1.27515...</td>\n",
              "      <td>1.929348</td>\n",
              "    </tr>\n",
              "    <tr>\n",
              "      <th>42054</th>\n",
              "      <td>bridge</td>\n",
              "      <td>[-0.46698087, -0.42774394, -0.9764119, 0.18463...</td>\n",
              "      <td>1.910813</td>\n",
              "    </tr>\n",
              "    <tr>\n",
              "      <th>89713</th>\n",
              "      <td>yea</td>\n",
              "      <td>[-0.7285925, 0.3835624, -0.4243212, 0.766829, ...</td>\n",
              "      <td>1.908716</td>\n",
              "    </tr>\n",
              "    <tr>\n",
              "      <th>31237</th>\n",
              "      <td>much</td>\n",
              "      <td>[1.0826589, -0.9480849, -0.15542634, 0.5437311...</td>\n",
              "      <td>1.762600</td>\n",
              "    </tr>\n",
              "    <tr>\n",
              "      <th>98745</th>\n",
              "      <td>light</td>\n",
              "      <td>[-0.77690023, 1.0672016, -2.2604625, -0.066012...</td>\n",
              "      <td>1.720260</td>\n",
              "    </tr>\n",
              "    <tr>\n",
              "      <th>137177</th>\n",
              "      <td>reach</td>\n",
              "      <td>[0.62135845, 0.96689326, 0.59912854, -0.190527...</td>\n",
              "      <td>1.718757</td>\n",
              "    </tr>\n",
              "    <tr>\n",
              "      <th>168944</th>\n",
              "      <td>mi</td>\n",
              "      <td>[0.5913791, -1.4516606, -0.2190254, 0.09258544...</td>\n",
              "      <td>1.702437</td>\n",
              "    </tr>\n",
              "    <tr>\n",
              "      <th>57794</th>\n",
              "      <td>sun</td>\n",
              "      <td>[-0.07322957, -0.51312315, -1.8508846, -0.4406...</td>\n",
              "      <td>1.702116</td>\n",
              "    </tr>\n",
              "    <tr>\n",
              "      <th>7515</th>\n",
              "      <td>though</td>\n",
              "      <td>[-0.6661475, -1.049944, 0.2120682, 0.34187263,...</td>\n",
              "      <td>1.662682</td>\n",
              "    </tr>\n",
              "    <tr>\n",
              "      <th>18902</th>\n",
              "      <td>touch</td>\n",
              "      <td>[0.7596362, 0.05440738, 0.76354694, -1.2164493...</td>\n",
              "      <td>1.662439</td>\n",
              "    </tr>\n",
              "    <tr>\n",
              "      <th>107967</th>\n",
              "      <td>west</td>\n",
              "      <td>[-0.6605556, -0.7371043, -0.42856744, 0.363544...</td>\n",
              "      <td>1.626209</td>\n",
              "    </tr>\n",
              "    <tr>\n",
              "      <th>106743</th>\n",
              "      <td>sing</td>\n",
              "      <td>[-0.9572815, -0.9705513, 1.6945015, 0.6299598,...</td>\n",
              "      <td>1.608102</td>\n",
              "    </tr>\n",
              "    <tr>\n",
              "      <th>10118</th>\n",
              "      <td>tree</td>\n",
              "      <td>[2.0980015, -0.5534692, -1.1220534, -1.8267049...</td>\n",
              "      <td>1.596632</td>\n",
              "    </tr>\n",
              "    <tr>\n",
              "      <th>76523</th>\n",
              "      <td>stars</td>\n",
              "      <td>[-0.32823557, 0.5054598, 0.5964875, 0.6633976,...</td>\n",
              "      <td>1.591480</td>\n",
              "    </tr>\n",
              "    <tr>\n",
              "      <th>75925</th>\n",
              "      <td>every</td>\n",
              "      <td>[0.83692765, -0.26721257, -0.5886447, 0.096288...</td>\n",
              "      <td>1.591185</td>\n",
              "    </tr>\n",
              "    <tr>\n",
              "      <th>95936</th>\n",
              "      <td>oo</td>\n",
              "      <td>[-1.1246442, 0.6544749, 0.11009955, 0.23468772...</td>\n",
              "      <td>1.507143</td>\n",
              "    </tr>\n",
              "    <tr>\n",
              "      <th>109060</th>\n",
              "      <td>bright</td>\n",
              "      <td>[0.4327765, 0.101998836, -1.2326747, 1.2643845...</td>\n",
              "      <td>1.452174</td>\n",
              "    </tr>\n",
              "    <tr>\n",
              "      <th>130851</th>\n",
              "      <td>pre</td>\n",
              "      <td>[-1.3548975, 0.80888337, -0.5263162, 1.2212133...</td>\n",
              "      <td>1.433110</td>\n",
              "    </tr>\n",
              "  </tbody>\n",
              "</table>\n",
              "</div>\n",
              "      <button class=\"colab-df-convert\" onclick=\"convertToInteractive('df-f92c0800-c995-4720-af69-386bd7a7b590')\"\n",
              "              title=\"Convert this dataframe to an interactive table.\"\n",
              "              style=\"display:none;\">\n",
              "        \n",
              "  <svg xmlns=\"http://www.w3.org/2000/svg\" height=\"24px\"viewBox=\"0 0 24 24\"\n",
              "       width=\"24px\">\n",
              "    <path d=\"M0 0h24v24H0V0z\" fill=\"none\"/>\n",
              "    <path d=\"M18.56 5.44l.94 2.06.94-2.06 2.06-.94-2.06-.94-.94-2.06-.94 2.06-2.06.94zm-11 1L8.5 8.5l.94-2.06 2.06-.94-2.06-.94L8.5 2.5l-.94 2.06-2.06.94zm10 10l.94 2.06.94-2.06 2.06-.94-2.06-.94-.94-2.06-.94 2.06-2.06.94z\"/><path d=\"M17.41 7.96l-1.37-1.37c-.4-.4-.92-.59-1.43-.59-.52 0-1.04.2-1.43.59L10.3 9.45l-7.72 7.72c-.78.78-.78 2.05 0 2.83L4 21.41c.39.39.9.59 1.41.59.51 0 1.02-.2 1.41-.59l7.78-7.78 2.81-2.81c.8-.78.8-2.07 0-2.86zM5.41 20L4 18.59l7.72-7.72 1.47 1.35L5.41 20z\"/>\n",
              "  </svg>\n",
              "      </button>\n",
              "      \n",
              "  <style>\n",
              "    .colab-df-container {\n",
              "      display:flex;\n",
              "      flex-wrap:wrap;\n",
              "      gap: 12px;\n",
              "    }\n",
              "\n",
              "    .colab-df-convert {\n",
              "      background-color: #E8F0FE;\n",
              "      border: none;\n",
              "      border-radius: 50%;\n",
              "      cursor: pointer;\n",
              "      display: none;\n",
              "      fill: #1967D2;\n",
              "      height: 32px;\n",
              "      padding: 0 0 0 0;\n",
              "      width: 32px;\n",
              "    }\n",
              "\n",
              "    .colab-df-convert:hover {\n",
              "      background-color: #E2EBFA;\n",
              "      box-shadow: 0px 1px 2px rgba(60, 64, 67, 0.3), 0px 1px 3px 1px rgba(60, 64, 67, 0.15);\n",
              "      fill: #174EA6;\n",
              "    }\n",
              "\n",
              "    [theme=dark] .colab-df-convert {\n",
              "      background-color: #3B4455;\n",
              "      fill: #D2E3FC;\n",
              "    }\n",
              "\n",
              "    [theme=dark] .colab-df-convert:hover {\n",
              "      background-color: #434B5C;\n",
              "      box-shadow: 0px 1px 3px 1px rgba(0, 0, 0, 0.15);\n",
              "      filter: drop-shadow(0px 1px 2px rgba(0, 0, 0, 0.3));\n",
              "      fill: #FFFFFF;\n",
              "    }\n",
              "  </style>\n",
              "\n",
              "      <script>\n",
              "        const buttonEl =\n",
              "          document.querySelector('#df-f92c0800-c995-4720-af69-386bd7a7b590 button.colab-df-convert');\n",
              "        buttonEl.style.display =\n",
              "          google.colab.kernel.accessAllowed ? 'block' : 'none';\n",
              "\n",
              "        async function convertToInteractive(key) {\n",
              "          const element = document.querySelector('#df-f92c0800-c995-4720-af69-386bd7a7b590');\n",
              "          const dataTable =\n",
              "            await google.colab.kernel.invokeFunction('convertToInteractive',\n",
              "                                                     [key], {});\n",
              "          if (!dataTable) return;\n",
              "\n",
              "          const docLinkHtml = 'Like what you see? Visit the ' +\n",
              "            '<a target=\"_blank\" href=https://colab.research.google.com/notebooks/data_table.ipynb>data table notebook</a>'\n",
              "            + ' to learn more about interactive tables.';\n",
              "          element.innerHTML = '';\n",
              "          dataTable['output_type'] = 'display_data';\n",
              "          await google.colab.output.renderOutput(dataTable, element);\n",
              "          const docLink = document.createElement('div');\n",
              "          docLink.innerHTML = docLinkHtml;\n",
              "          element.appendChild(docLink);\n",
              "        }\n",
              "      </script>\n",
              "    </div>\n",
              "  </div>\n",
              "  "
            ],
            "text/plain": [
              "          word                                                vec   predict\n",
              "154362       x  [-1.6942222, 0.26493186, -0.48919994, 0.974095...  3.028060\n",
              "6098      open  [-1.2158725, 0.8688985, -0.4617153, 0.6208076,...  1.981404\n",
              "125615    bout  [-0.71366096, -2.6343246, -1.0406893, -1.27515...  1.929348\n",
              "42054   bridge  [-0.46698087, -0.42774394, -0.9764119, 0.18463...  1.910813\n",
              "89713      yea  [-0.7285925, 0.3835624, -0.4243212, 0.766829, ...  1.908716\n",
              "31237     much  [1.0826589, -0.9480849, -0.15542634, 0.5437311...  1.762600\n",
              "98745    light  [-0.77690023, 1.0672016, -2.2604625, -0.066012...  1.720260\n",
              "137177   reach  [0.62135845, 0.96689326, 0.59912854, -0.190527...  1.718757\n",
              "168944      mi  [0.5913791, -1.4516606, -0.2190254, 0.09258544...  1.702437\n",
              "57794      sun  [-0.07322957, -0.51312315, -1.8508846, -0.4406...  1.702116\n",
              "7515    though  [-0.6661475, -1.049944, 0.2120682, 0.34187263,...  1.662682\n",
              "18902    touch  [0.7596362, 0.05440738, 0.76354694, -1.2164493...  1.662439\n",
              "107967    west  [-0.6605556, -0.7371043, -0.42856744, 0.363544...  1.626209\n",
              "106743    sing  [-0.9572815, -0.9705513, 1.6945015, 0.6299598,...  1.608102\n",
              "10118     tree  [2.0980015, -0.5534692, -1.1220534, -1.8267049...  1.596632\n",
              "76523    stars  [-0.32823557, 0.5054598, 0.5964875, 0.6633976,...  1.591480\n",
              "75925    every  [0.83692765, -0.26721257, -0.5886447, 0.096288...  1.591185\n",
              "95936       oo  [-1.1246442, 0.6544749, 0.11009955, 0.23468772...  1.507143\n",
              "109060  bright  [0.4327765, 0.101998836, -1.2326747, 1.2643845...  1.452174\n",
              "130851     pre  [-1.3548975, 0.80888337, -0.5263162, 1.2212133...  1.433110"
            ]
          },
          "execution_count": 26,
          "metadata": {},
          "output_type": "execute_result"
        }
      ],
      "source": [
        "songs_words_df.nlargest(20, 'predict')"
      ]
    },
    {
      "cell_type": "code",
      "execution_count": null,
      "metadata": {
        "colab": {
          "base_uri": "https://localhost:8080/",
          "height": 677
        },
        "id": "19Npih-xi6Ob",
        "outputId": "aabdb739-946c-4ee3-8054-a57bbc23210f"
      },
      "outputs": [
        {
          "data": {
            "text/html": [
              "\n",
              "  <div id=\"df-3039ae8a-2579-4cd8-98d6-9ac4eb94df53\">\n",
              "    <div class=\"colab-df-container\">\n",
              "      <div>\n",
              "<style scoped>\n",
              "    .dataframe tbody tr th:only-of-type {\n",
              "        vertical-align: middle;\n",
              "    }\n",
              "\n",
              "    .dataframe tbody tr th {\n",
              "        vertical-align: top;\n",
              "    }\n",
              "\n",
              "    .dataframe thead th {\n",
              "        text-align: right;\n",
              "    }\n",
              "</style>\n",
              "<table border=\"1\" class=\"dataframe\">\n",
              "  <thead>\n",
              "    <tr style=\"text-align: right;\">\n",
              "      <th></th>\n",
              "      <th>word</th>\n",
              "      <th>vec</th>\n",
              "      <th>predict</th>\n",
              "    </tr>\n",
              "  </thead>\n",
              "  <tbody>\n",
              "    <tr>\n",
              "      <th>112334</th>\n",
              "      <td>door</td>\n",
              "      <td>[1.0624056, -0.8748254, -2.2617047, -1.119261,...</td>\n",
              "      <td>-2.071878</td>\n",
              "    </tr>\n",
              "    <tr>\n",
              "      <th>51724</th>\n",
              "      <td>tryin</td>\n",
              "      <td>[1.099934, 0.48463523, 0.7931942, -0.49095106,...</td>\n",
              "      <td>-1.730380</td>\n",
              "    </tr>\n",
              "    <tr>\n",
              "      <th>138080</th>\n",
              "      <td>sich</td>\n",
              "      <td>[-0.670998, 0.56891894, -0.41597754, 0.3602499...</td>\n",
              "      <td>-1.713755</td>\n",
              "    </tr>\n",
              "    <tr>\n",
              "      <th>78931</th>\n",
              "      <td>tat</td>\n",
              "      <td>[-0.5003692, -0.812688, 0.86647654, -0.2153842...</td>\n",
              "      <td>-1.628967</td>\n",
              "    </tr>\n",
              "    <tr>\n",
              "      <th>163263</th>\n",
              "      <td>trouble</td>\n",
              "      <td>[1.0030403, -1.2224668, 0.91359526, 0.39963052...</td>\n",
              "      <td>-1.612957</td>\n",
              "    </tr>\n",
              "    <tr>\n",
              "      <th>66107</th>\n",
              "      <td>wa</td>\n",
              "      <td>[-2.411508, 1.596554, -0.63833076, 2.3745656, ...</td>\n",
              "      <td>-1.560258</td>\n",
              "    </tr>\n",
              "    <tr>\n",
              "      <th>2132</th>\n",
              "      <td>wo</td>\n",
              "      <td>[-1.74624, 0.69874716, -0.46242616, 1.1338048,...</td>\n",
              "      <td>-1.544207</td>\n",
              "    </tr>\n",
              "    <tr>\n",
              "      <th>24251</th>\n",
              "      <td>away</td>\n",
              "      <td>[0.8974874, -1.3153924, -0.58873045, -0.605968...</td>\n",
              "      <td>-1.539509</td>\n",
              "    </tr>\n",
              "    <tr>\n",
              "      <th>24693</th>\n",
              "      <td>dead</td>\n",
              "      <td>[-1.7767199, -0.92078394, -0.7597481, -1.15308...</td>\n",
              "      <td>-1.530548</td>\n",
              "    </tr>\n",
              "    <tr>\n",
              "      <th>120860</th>\n",
              "      <td>ga</td>\n",
              "      <td>[-2.025575, 1.8772645, -0.6183134, 2.62474, -1...</td>\n",
              "      <td>-1.529499</td>\n",
              "    </tr>\n",
              "    <tr>\n",
              "      <th>131173</th>\n",
              "      <td>blast</td>\n",
              "      <td>[-0.6373127, -0.5127443, -0.47645754, -0.27690...</td>\n",
              "      <td>-1.513197</td>\n",
              "    </tr>\n",
              "    <tr>\n",
              "      <th>23994</th>\n",
              "      <td>quick</td>\n",
              "      <td>[0.1785483, -1.1592355, -0.40908056, -0.410980...</td>\n",
              "      <td>-1.508394</td>\n",
              "    </tr>\n",
              "    <tr>\n",
              "      <th>115699</th>\n",
              "      <td>punk</td>\n",
              "      <td>[1.0978091, 0.007962277, 0.14936134, -0.200126...</td>\n",
              "      <td>-1.486468</td>\n",
              "    </tr>\n",
              "    <tr>\n",
              "      <th>8072</th>\n",
              "      <td>nicht</td>\n",
              "      <td>[-1.0296413, 0.50731504, 0.24474803, 0.4987952...</td>\n",
              "      <td>-1.463354</td>\n",
              "    </tr>\n",
              "    <tr>\n",
              "      <th>57918</th>\n",
              "      <td>fade</td>\n",
              "      <td>[-0.08619665, 0.75154203, 0.70345974, 1.558515...</td>\n",
              "      <td>-1.461381</td>\n",
              "    </tr>\n",
              "    <tr>\n",
              "      <th>63407</th>\n",
              "      <td>der</td>\n",
              "      <td>[-0.37232065, 0.41645166, -0.047515716, 0.7081...</td>\n",
              "      <td>-1.418754</td>\n",
              "    </tr>\n",
              "    <tr>\n",
              "      <th>137052</th>\n",
              "      <td>ihr</td>\n",
              "      <td>[-0.74349207, 0.49476886, -0.3376253, 0.346421...</td>\n",
              "      <td>-1.392535</td>\n",
              "    </tr>\n",
              "    <tr>\n",
              "      <th>79486</th>\n",
              "      <td>steal</td>\n",
              "      <td>[0.9372031, 0.29235014, -0.022582242, 0.055470...</td>\n",
              "      <td>-1.386540</td>\n",
              "    </tr>\n",
              "    <tr>\n",
              "      <th>135896</th>\n",
              "      <td>zu</td>\n",
              "      <td>[-0.8998603, 0.75367045, 0.008151496, 0.130496...</td>\n",
              "      <td>-1.372093</td>\n",
              "    </tr>\n",
              "    <tr>\n",
              "      <th>73821</th>\n",
              "      <td>sie</td>\n",
              "      <td>[-0.74411124, 1.1078583, -0.1780276, 0.5129528...</td>\n",
              "      <td>-1.356300</td>\n",
              "    </tr>\n",
              "  </tbody>\n",
              "</table>\n",
              "</div>\n",
              "      <button class=\"colab-df-convert\" onclick=\"convertToInteractive('df-3039ae8a-2579-4cd8-98d6-9ac4eb94df53')\"\n",
              "              title=\"Convert this dataframe to an interactive table.\"\n",
              "              style=\"display:none;\">\n",
              "        \n",
              "  <svg xmlns=\"http://www.w3.org/2000/svg\" height=\"24px\"viewBox=\"0 0 24 24\"\n",
              "       width=\"24px\">\n",
              "    <path d=\"M0 0h24v24H0V0z\" fill=\"none\"/>\n",
              "    <path d=\"M18.56 5.44l.94 2.06.94-2.06 2.06-.94-2.06-.94-.94-2.06-.94 2.06-2.06.94zm-11 1L8.5 8.5l.94-2.06 2.06-.94-2.06-.94L8.5 2.5l-.94 2.06-2.06.94zm10 10l.94 2.06.94-2.06 2.06-.94-2.06-.94-.94-2.06-.94 2.06-2.06.94z\"/><path d=\"M17.41 7.96l-1.37-1.37c-.4-.4-.92-.59-1.43-.59-.52 0-1.04.2-1.43.59L10.3 9.45l-7.72 7.72c-.78.78-.78 2.05 0 2.83L4 21.41c.39.39.9.59 1.41.59.51 0 1.02-.2 1.41-.59l7.78-7.78 2.81-2.81c.8-.78.8-2.07 0-2.86zM5.41 20L4 18.59l7.72-7.72 1.47 1.35L5.41 20z\"/>\n",
              "  </svg>\n",
              "      </button>\n",
              "      \n",
              "  <style>\n",
              "    .colab-df-container {\n",
              "      display:flex;\n",
              "      flex-wrap:wrap;\n",
              "      gap: 12px;\n",
              "    }\n",
              "\n",
              "    .colab-df-convert {\n",
              "      background-color: #E8F0FE;\n",
              "      border: none;\n",
              "      border-radius: 50%;\n",
              "      cursor: pointer;\n",
              "      display: none;\n",
              "      fill: #1967D2;\n",
              "      height: 32px;\n",
              "      padding: 0 0 0 0;\n",
              "      width: 32px;\n",
              "    }\n",
              "\n",
              "    .colab-df-convert:hover {\n",
              "      background-color: #E2EBFA;\n",
              "      box-shadow: 0px 1px 2px rgba(60, 64, 67, 0.3), 0px 1px 3px 1px rgba(60, 64, 67, 0.15);\n",
              "      fill: #174EA6;\n",
              "    }\n",
              "\n",
              "    [theme=dark] .colab-df-convert {\n",
              "      background-color: #3B4455;\n",
              "      fill: #D2E3FC;\n",
              "    }\n",
              "\n",
              "    [theme=dark] .colab-df-convert:hover {\n",
              "      background-color: #434B5C;\n",
              "      box-shadow: 0px 1px 3px 1px rgba(0, 0, 0, 0.15);\n",
              "      filter: drop-shadow(0px 1px 2px rgba(0, 0, 0, 0.3));\n",
              "      fill: #FFFFFF;\n",
              "    }\n",
              "  </style>\n",
              "\n",
              "      <script>\n",
              "        const buttonEl =\n",
              "          document.querySelector('#df-3039ae8a-2579-4cd8-98d6-9ac4eb94df53 button.colab-df-convert');\n",
              "        buttonEl.style.display =\n",
              "          google.colab.kernel.accessAllowed ? 'block' : 'none';\n",
              "\n",
              "        async function convertToInteractive(key) {\n",
              "          const element = document.querySelector('#df-3039ae8a-2579-4cd8-98d6-9ac4eb94df53');\n",
              "          const dataTable =\n",
              "            await google.colab.kernel.invokeFunction('convertToInteractive',\n",
              "                                                     [key], {});\n",
              "          if (!dataTable) return;\n",
              "\n",
              "          const docLinkHtml = 'Like what you see? Visit the ' +\n",
              "            '<a target=\"_blank\" href=https://colab.research.google.com/notebooks/data_table.ipynb>data table notebook</a>'\n",
              "            + ' to learn more about interactive tables.';\n",
              "          element.innerHTML = '';\n",
              "          dataTable['output_type'] = 'display_data';\n",
              "          await google.colab.output.renderOutput(dataTable, element);\n",
              "          const docLink = document.createElement('div');\n",
              "          docLink.innerHTML = docLinkHtml;\n",
              "          element.appendChild(docLink);\n",
              "        }\n",
              "      </script>\n",
              "    </div>\n",
              "  </div>\n",
              "  "
            ],
            "text/plain": [
              "           word                                                vec   predict\n",
              "112334     door  [1.0624056, -0.8748254, -2.2617047, -1.119261,... -2.071878\n",
              "51724     tryin  [1.099934, 0.48463523, 0.7931942, -0.49095106,... -1.730380\n",
              "138080     sich  [-0.670998, 0.56891894, -0.41597754, 0.3602499... -1.713755\n",
              "78931       tat  [-0.5003692, -0.812688, 0.86647654, -0.2153842... -1.628967\n",
              "163263  trouble  [1.0030403, -1.2224668, 0.91359526, 0.39963052... -1.612957\n",
              "66107        wa  [-2.411508, 1.596554, -0.63833076, 2.3745656, ... -1.560258\n",
              "2132         wo  [-1.74624, 0.69874716, -0.46242616, 1.1338048,... -1.544207\n",
              "24251      away  [0.8974874, -1.3153924, -0.58873045, -0.605968... -1.539509\n",
              "24693      dead  [-1.7767199, -0.92078394, -0.7597481, -1.15308... -1.530548\n",
              "120860       ga  [-2.025575, 1.8772645, -0.6183134, 2.62474, -1... -1.529499\n",
              "131173    blast  [-0.6373127, -0.5127443, -0.47645754, -0.27690... -1.513197\n",
              "23994     quick  [0.1785483, -1.1592355, -0.40908056, -0.410980... -1.508394\n",
              "115699     punk  [1.0978091, 0.007962277, 0.14936134, -0.200126... -1.486468\n",
              "8072      nicht  [-1.0296413, 0.50731504, 0.24474803, 0.4987952... -1.463354\n",
              "57918      fade  [-0.08619665, 0.75154203, 0.70345974, 1.558515... -1.461381\n",
              "63407       der  [-0.37232065, 0.41645166, -0.047515716, 0.7081... -1.418754\n",
              "137052      ihr  [-0.74349207, 0.49476886, -0.3376253, 0.346421... -1.392535\n",
              "79486     steal  [0.9372031, 0.29235014, -0.022582242, 0.055470... -1.386540\n",
              "135896       zu  [-0.8998603, 0.75367045, 0.008151496, 0.130496... -1.372093\n",
              "73821       sie  [-0.74411124, 1.1078583, -0.1780276, 0.5129528... -1.356300"
            ]
          },
          "execution_count": 27,
          "metadata": {},
          "output_type": "execute_result"
        }
      ],
      "source": [
        "songs_words_df.nsmallest(20, 'predict')"
      ]
    },
    {
      "cell_type": "markdown",
      "metadata": {
        "id": "dySXdQqcjFtS"
      },
      "source": [
        "#### Review the words\n",
        "As we can see, some of the results are make sense. If we look at the top 20 negative sentiment words, we can see that there are words like- death, bloody, \"eu\", bitter, killing that got an high negative score. \n",
        "\n",
        "We can say the same thing on the top 20 positive sentiment words, there we can find words like- believe, together, shining, heaven that have a positive sentimente. \n",
        "\n",
        "But in both lists we can see words that desn't related to the sentiment list like- door, punk, doin that might got a vector that it's closet to the positive/negative sentiment words because they shows up in sentences with positive\n",
        "/negative sentiment words in the songs so the model got confused."
      ]
    },
    {
      "cell_type": "markdown",
      "metadata": {
        "id": "pRQjxwroNzrj"
      },
      "source": [
        "### Visualize Word Vectors\n",
        "In this section, you'll plot words on a 2D grid based on their inner similarity. We'll use the tSNE transformation to reduce dimensions from 300 to 2. You can get sample code from https://www.kaggle.com/pierremegret/gensim-word2vec-tutorial or other tutorials online.\n",
        "\n",
        "Perform the following:\n",
        "- Keep only the 3,000 most frequent words (after removing stopwords)\n",
        "- For this list, compute for each word its relative abundance in each of the genres\n",
        "- Compute the ratio between the proportion of each word in each genre and the proportion of the word in the entire corpus (the background distribution)\n",
        "- Pick the top 50 words for each genre. These words give good indication for that genre. Join the words from all genres into a single list of top significant words. \n",
        "- Compute tSNE transformation to 2D for all words, based on their word vectors\n",
        "- Plot the list of the top significant words in 2D. Next to each word output its text. You are encouraged to try that color of each point should indicate the genre for which it is most significant.\n",
        "\n",
        "You might prefer to use a different number of points or a slightly different methodology for improved results.  \n",
        "Analyze the results."
      ]
    },
    {
      "cell_type": "code",
      "execution_count": null,
      "metadata": {
        "id": "ycZhPy6rNzrk"
      },
      "outputs": [],
      "source": [
        "from collections import Counter\n",
        "import itertools\n",
        "\n",
        "full_lyrics = list(itertools.chain.from_iterable(sentences))\n",
        "counter = Counter(full_lyrics)\n",
        "most_occur = counter.most_common(3000)\n",
        "most_occure_dict = dict(most_occur)"
      ]
    },
    {
      "cell_type": "code",
      "execution_count": null,
      "metadata": {
        "id": "_nPxDR6Jsx4O"
      },
      "outputs": [],
      "source": [
        "def words_occure_by_genre(genre):\n",
        "  sentences_by_genre = []  # Initialize an empty list of sentences\n",
        "  occure_words_genre = {}\n",
        "  for lyrics in tqdm(songs_df[songs_df['genre'] == genre]['lyrics']):\n",
        "      sentences_by_genre += lyrics_to_sentences(lyrics, tokenizer)\n",
        "\n",
        "  lyrics_by_genre = list(itertools.chain.from_iterable(sentences_by_genre))\n",
        "  counter_genre = Counter(lyrics_by_genre)\n",
        "  \n",
        "  for word_genre, counts in counter_genre.items():\n",
        "    if word_genre in most_occure_dict.keys():\n",
        "      occure_words_genre[word_genre] = counts\n",
        "  return occure_words_genre"
      ]
    },
    {
      "cell_type": "code",
      "execution_count": null,
      "metadata": {
        "id": "Y4CZCeFAt3eF"
      },
      "outputs": [],
      "source": [
        "def calc_proportion_word_genre(genre, count_words_genre):\n",
        "  words_in_genre = sum(songs_df[songs_df['genre'] == genre]['num_words'])\n",
        "  proportions_words = {}\n",
        "  for word, counts in count_words_genre.items():\n",
        "    proportions_words[word] = counts/words_in_genre\n",
        "  return proportions_words"
      ]
    },
    {
      "cell_type": "code",
      "execution_count": null,
      "metadata": {
        "colab": {
          "base_uri": "https://localhost:8080/"
        },
        "id": "j1FvsiNVoHrN",
        "outputId": "3a42c6fb-44be-440d-893d-d5d178f4118f"
      },
      "outputs": [
        {
          "name": "stderr",
          "output_type": "stream",
          "text": [
            "100%|██████████| 10800/10800 [00:29<00:00, 360.17it/s]\n"
          ]
        },
        {
          "name": "stdout",
          "output_type": "stream",
          "text": [
            "{'spoken': 90, 'saying': 522, 'singing': 484, 'hey': 2926, 'man': 2997, 'dan': 125, 'got': 9714, 'style': 279, 'brother': 206, 'never': 8388, 'dressed': 128, 'without': 2146, 'smile': 1125, 'clothes': 289, 'may': 911, 'stand': 1176, 'mile': 62, 'cares': 170, 'wearing': 115, 'main': 79, 'street': 455, 'row': 44, 'wear': 262, 'ear': 131, 'head': 1506, 'toe': 37, 'matters': 130, 'long': 2537, 'remember': 1258, 'sister': 180, 'ready': 1382, 'goes': 916, 'listen': 778, 'toes': 67, 'ah': 1886, 'lovely': 140, 'sisters': 66, 'doo': 413, 'oo': 270, 'bother': 79, 'l': 1903, 'three': 492, 'e': 2392, 'ya': 3066, 'could': 5018, 'cause': 7759, 'much': 2328, 'pain': 1091, 'leave': 2085, 'heart': 6427, 'rain': 1055, 'gave': 888, 'everything': 2454, 'oh': 17682, 'tell': 4860, 'lies': 642, 'put': 1987, 'tears': 1023, 'eyes': 3240, 'push': 279, 'world': 4166, 'good': 3879, 'bye': 280, 'think': 4102, 'someday': 336, 'baby': 11018, 'soon': 477, 'gonna': 5033, 'taste': 372, 'cried': 236, 'right': 5399, 'going': 1775, 'ever': 2981, 'make': 7028, 'treat': 346, 'cruel': 228, 'fool': 654, 'one': 9033, 'day': 4085, 'notice': 126, 'like': 13276, 'someone': 1622, 'say': 7168, 'cry': 1717, 'things': 2741, 'turn': 2158, 'around': 3163, 'know': 16643, 'thing': 2142, 'come': 7449, 'love': 22730, 'take': 6049, 'girl': 5474, 'natural': 104, 'setting': 90, 'along': 552, 'comes': 1106, 'boy': 2494, 'looking': 1346, 'trouble': 535, 'knows': 892, 'decide': 138, 'get': 9437, 'want': 9006, 'used': 895, 'weapon': 15, 'way': 7258, 'said': 2627, 'wanted': 610, 'new': 1862, 'thinking': 934, 'something': 2334, 'wrap': 74, 'tender': 204, 'throat': 33, 'dreaming': 408, 'thinks': 98, 'see': 8176, 'standing': 498, 'stopped': 110, 'today': 796, 'liked': 97, 'hair': 404, 'ooh': 2970, 'asked': 164, 'tonight': 2592, 'girls': 1045, 'yeah': 8272, 'run': 1712, 'truth': 742, 'lil': 125, 'bit': 560, 'fresh': 126, 'many': 932, 'forget': 1024, 'sugar': 144, 'sweet': 1363, 'making': 690, 'mind': 2793, 'imagination': 90, 'w': 125, 'wild': 489, 'yea': 511, 'drink': 292, 'hand': 1461, 'plan': 210, 'turned': 371, 'caught': 522, 'eye': 422, 'made': 1759, 'lose': 1131, 'number': 375, 'name': 1346, 'score': 65, 'would': 3225, 'give': 4553, 'hot': 1109, 'ice': 306, 'lips': 484, 'feel': 6424, 'da': 2606, 'feeling': 1968, 'feet': 590, 'look': 3032, 'barely': 102, 'speak': 319, 'phone': 451, 'lives': 377, 'spent': 126, 'days': 1072, 'confusion': 73, 'hear': 2373, 'voice': 472, 'nights': 498, 'end': 1347, 'silent': 215, 'dreams': 1232, 'inside': 1915, 'night': 4599, 'quiet': 135, 'waking': 80, 'hour': 184, 'sea': 614, 'together': 1845, 'nobody': 1213, 'catch': 520, 'us': 3165, 'find': 2915, 'deep': 1051, 'birds': 138, 'fly': 1184, 'cross': 305, 'sky': 1192, 'voices': 167, 'big': 902, 'city': 608, 'lost': 1434, 'lazy': 66, 'old': 1045, 'streets': 294, 'young': 802, 'coming': 1075, 'need': 5972, 'check': 239, 'babe': 797, 'weakness': 46, 'luck': 182, 'telephone': 95, 'machine': 92, 'sit': 404, 'though': 979, 'really': 2769, 'move': 1353, 'wonder': 581, 'lady': 497, 'beautiful': 879, 'woman': 774, 'seems': 715, 'within': 265, 'weight': 93, 'pulling': 85, 'shoulders': 73, 'ask': 581, 'touch': 1463, 'door': 901, 'open': 903, 'soul': 1348, 'better': 2580, 'learn': 458, 'share': 488, 'shows': 77, 'wanna': 5599, 'order': 47, 'loneliness': 98, 'grows': 90, 'ha': 1052, 'hate': 679, 'help': 1111, 'silence': 265, 'wall': 315, 'two': 1357, 'first': 983, 'time': 8295, 'took': 799, 'last': 1612, 'breath': 460, 'even': 2053, 'yet': 468, 'bridge': 443, 'sand': 197, 'slippin': 36, 'fingers': 186, 'snow': 325, 'summer': 629, 'stepped': 32, 'warning': 92, 'away': 5181, 'figured': 76, 'found': 1242, 'become': 257, 'chorus': 3548, 'sleep': 794, 'verse': 737, 'scared': 324, 'tattoo': 29, 'go': 9284, 'please': 1443, 'hard': 1753, 'let': 9772, 'use': 450, 'tale': 73, 'hello': 342, 'change': 1602, 'everlasting': 109, 'suddenly': 191, 'life': 5370, 'meaning': 135, 'beauty': 211, 'wake': 521, 'thousand': 312, 'words': 1297, 'enough': 1411, 'holding': 634, 'hands': 1227, 'walk': 1338, 'shore': 80, 'felt': 645, 'living': 941, 'pray': 510, 'forever': 1568, 'already': 416, 'real': 1550, 'keeping': 203, 'strength': 232, 'gotta': 3002, 'try': 2146, 'getting': 937, 'past': 571, 'mine': 1588, 'waiting': 1610, 'accept': 56, 'live': 1969, 'lover': 753, 'friend': 963, 'follow': 520, 'came': 1033, 'realize': 315, 'hero': 105, 'clown': 86, 'pick': 292, 'wait': 1258, 'tomorrow': 731, 'late': 782, 'face': 1649, 'blind': 385, 'light': 1917, 'black': 703, 'sacred': 33, 'journey': 118, 'begun': 138, 'carry': 377, 'dance': 1521, 'knew': 1110, 'chance': 996, 'happen': 306, 'ring': 405, 'back': 5278, 'elle': 199, 'la': 8498, 'qui': 552, 'dans': 323, 'le': 1468, 'en': 3211, 'nous': 178, 'au': 290, 'je': 1454, 'sur': 196, 'un': 2810, 'innocent': 77, 'de': 6337, 'amour': 239, 'et': 952, 'comme': 304, 'secret': 429, 'pour': 408, 'ne': 673, 'nos': 365, 'quand': 204, 'si': 1954, 'n': 3579, 'que': 8056, 'moi': 469, 'mais': 213, 'r': 1299, 'pas': 553, 'il': 1042, 'vie': 210, 'par': 79, 'sans': 169, 'ni': 1325, 'j': 809, 'une': 230, 'est': 1231, 'every': 3497, 'dream': 1608, 'since': 678, 'goodbye': 985, 'nothin': 386, 'road': 570, 'crazy': 1487, 'anything': 912, 'set': 811, 'amazing': 180, 'best': 1202, 'prove': 188, 'promise': 585, 'earth': 360, 'loves': 517, 'beg': 74, 'fall': 1963, 'knees': 333, 'vamos': 63, 'uh': 1656, 'ahh': 151, 'yo': 2453, 'te': 3731, 'quiero': 909, 'pero': 534, 'hay': 502, 'para': 809, 'mi': 3070, 'cuerpo': 238, 'dice': 123, 'alma': 283, 'tiene': 182, 'quieres': 102, 'ti': 1471, 'bien': 332, 'como': 1024, 'tus': 549, 'tu': 3643, 'amor': 1483, 'con': 1265, 'ven': 180, 'aqui': 100, 'control': 809, 'es': 2146, 'tan': 394, 'hoy': 380, 'vez': 459, 'se': 2426, 'nada': 369, 'mis': 429, 'hold': 2661, 'close': 1322, 'ahead': 244, 'understand': 944, 'safe': 284, 'warm': 417, 'began': 123, 'must': 1177, 'seemed': 113, 'strange': 303, 'room': 610, 'alone': 2313, 'home': 2429, 'clear': 422, 'glad': 284, 'forward': 70, 'showing': 70, 'place': 1509, 'store': 111, 'meant': 473, 'miss': 857, 'cream': 89, 'kiss': 1369, 'takes': 467, 'watching': 439, 'believe': 2559, 'another': 1617, 'pretty': 582, 'sure': 960, 'reach': 511, 'gate': 36, 'worst': 118, 'went': 507, 'hell': 487, 'wish': 1248, 'months': 48, 'thought': 1391, 'fine': 743, 'wrote': 123, 'stupid': 208, 'little': 2933, 'note': 68, 'quite': 273, 'cheap': 47, 'smell': 95, 'left': 1583, 'somewhere': 437, 'bitch': 302, 'guys': 153, 'lame': 30, 'friends': 997, 'tried': 655, 'strong': 781, 'bet': 234, 'times': 1172, 'losing': 376, 'sometimes': 1018, 'keeps': 435, 'hurt': 890, 'still': 3269, 'lord': 577, 'show': 2200, 'might': 1031, 'call': 1945, 'temptation': 87, 'teach': 104, 'trust': 521, 'lean': 118, 'bear': 91, 'dark': 751, 'side': 1479, 'jesus': 313, 'longer': 319, 'cold': 1003, 'satisfied': 121, 'thank': 426, 'known': 336, 'promised': 103, 'eternity': 91, 'faith': 407, 'um': 240, 'ou': 123, 'os': 169, 'em': 782, 'c': 1260, 'voc': 120, 'vida': 661, 'sentir': 177, 'sempre': 189, 'com': 132, 'ohhh': 180, 'tempo': 118, 'ch': 71, 'ca': 116, 'drunk': 129, 'restless': 86, 'blue': 994, 'message': 128, 'jeans': 120, 'lived': 127, 'pretending': 102, 'kids': 245, 'wash': 136, 'grass': 79, 'ill': 343, 'pull': 384, 'shoes': 276, 'lets': 355, 'babies': 66, 'scars': 84, 'tear': 343, 'afraid': 535, 'troubles': 77, 'play': 1438, 'hide': 752, 'seek': 94, 'bed': 508, 'famous': 64, 'game': 856, 'upon': 441, 'neck': 84, 'climb': 165, 'pretend': 310, 'high': 1318, 'school': 184, 'answers': 92, 'done': 1098, 'rose': 164, 'changed': 332, 'ol': 101, 'mean': 1045, 'broke': 325, 'guess': 741, 'picture': 286, 'post': 46, 'card': 36, 'sorrow': 159, 'joy': 362, 'win': 379, 'ooo': 249, 'stay': 2123, 'answer': 339, 'child': 528, 'falling': 1083, 'strangers': 84, 'shy': 160, 'acting': 138, 'minute': 363, 'next': 708, 'cool': 607, 'weep': 47, 'raise': 189, 'wrapped': 106, 'yes': 1471, 'fake': 121, 'lie': 842, 'understood': 64, 'entre': 203, 'dia': 122, 'por': 1579, 'das': 365, 'pot': 19, 'forgive': 187, 'lonely': 924, 'track': 194, 'became': 62, 'mmm': 289, 'emotions': 121, 'gone': 2107, 'energy': 122, 'feels': 1066, 'electric': 87, 'ladies': 374, 'well': 2032, 'spark': 85, 'later': 161, 'shaking': 146, 'moving': 444, 'human': 188, 'part': 700, 'start': 1256, 'stopping': 63, 'beat': 931, 'moon': 554, 'jump': 322, 'base': 35, 'body': 1443, 'rising': 122, 'whole': 607, 'saw': 705, 'moment': 683, 'rocks': 50, 'closer': 444, 'somehow': 293, 'moments': 132, 'fire': 1292, 'keep': 3801, 'burning': 481, 'hearts': 599, 'desire': 257, 'bird': 158, 'wind': 604, 'turning': 394, 'higher': 458, 'far': 1348, 'path': 97, 'forest': 23, 'showed': 123, 'swag': 38, 'nothing': 2687, 'grown': 159, 'oooh': 331, 'sun': 1374, 'sets': 50, 'shed': 80, 'word': 568, 'hits': 79, 'car': 409, 'wont': 275, 'stars': 729, 'shine': 609, 'thats': 265, 'four': 314, 'hill': 97, 'house': 592, 'stands': 74, 'tired': 455, 'song': 1278, 'ago': 219, 'top': 600, 'write': 239, 'dead': 352, 'bad': 1687, 'green': 250, 'sitting': 234, 'sunny': 163, 'fifty': 30, 'hearing': 72, 'burnt': 38, 'sad': 502, 'seen': 845, 'tells': 148, 'laughing': 121, 'men': 389, 'yellow': 120, 'leaves': 249, 'warriors': 32, 'ship': 179, 'mr': 220, 'rainbow': 186, 'season': 110, 'roses': 135, 'fields': 112, 'dawn': 263, 'meet': 497, 'rule': 122, 'seas': 93, 'till': 1066, 'return': 198, 'release': 91, 'join': 84, 'air': 681, 'race': 92, 'leaving': 421, 'dreamer': 82, 'reaching': 141, 'fast': 545, 'always': 3527, 'eat': 176, 'work': 1114, 'lack': 37, 'country': 88, 'relax': 112, 'cup': 97, 'stop': 2495, 'clean': 146, 'mess': 284, 'throw': 470, 'floor': 773, 'spring': 180, 'nice': 386, 'state': 162, 'false': 39, 'common': 71, 'sense': 261, 'stronger': 302, 'paradise': 269, 'closing': 61, 'endless': 123, 'free': 1539, 'beats': 156, 'tight': 553, 'grab': 152, 'ray': 65, 'reason': 682, 'familiar': 75, 'secrets': 136, 'anymore': 503, 'fools': 136, 'followed': 37, 'chances': 88, 'dying': 279, 'crying': 448, 'thoughts': 226, 'save': 611, 'matter': 1086, 'waste': 315, 'easily': 105, 'true': 1834, 'wondering': 184, 'years': 586, 'supposed': 223, 'heal': 148, 'healing': 64, 'california': 93, 'forgotten': 99, 'fell': 357, 'difference': 91, 'million': 300, 'miles': 204, 'called': 326, 'sorry': 595, 'seem': 501, 'outside': 383, 'least': 181, 'breaking': 387, 'apart': 737, 'talk': 1145, 'hope': 1181, 'town': 573, 'happened': 176, 'running': 811, 'diamonds': 171, 'kinda': 350, 'spend': 411, 'coz': 107, 'team': 68, 'biggest': 64, 'dem': 202, 'walking': 598, 'kid': 154, 'class': 79, 'dat': 146, 'aint': 221, 'laugh': 310, 'everytime': 163, 'damn': 455, 'near': 423, 'attack': 36, 'year': 363, 'letter': 135, 'outta': 295, 'range': 22, 'page': 106, 'across': 318, 'stage': 104, 'died': 183, 'spoke': 50, 'couple': 115, 'college': 22, 'great': 312, 'job': 118, 'imma': 109, 'lights': 703, 'hoping': 222, 'book': 121, 'seeing': 203, 'flight': 96, 'touched': 137, 'ground': 615, 'form': 41, 'maybe': 1420, 'almost': 260, 'held': 266, 'ive': 119, 'plus': 331, 'mirror': 222, 'friday': 113, 'im': 1075, 'damned': 18, 'missed': 105, 'fears': 173, 'wide': 302, 'started': 397, 'heartbeat': 200, 'hardly': 93, 'didnt': 56, 'bout': 959, 'hit': 660, 'heard': 703, 'news': 140, 'told': 1094, 'crush': 77, 'hi': 174, 'fade': 356, 'sat': 87, 'coffee': 113, 'hall': 35, 'recall': 85, 'read': 350, 'smiled': 61, 'cant': 465, 'creep': 28, 'married': 80, 'weekend': 121, 'mc': 35, 'gente': 113, 'eu': 235, 'pra': 84, 'k': 400, 'na': 2911, 'blame': 301, 'talking': 558, 'believing': 106, 'wrong': 1617, 'growing': 178, 'underneath': 154, 'water': 455, 'flows': 56, 'tiny': 78, 'small': 247, 'seeds': 21, 'tall': 177, 'trees': 174, 'grow': 349, 'wanting': 149, 'loving': 854, 'different': 397, 'hurting': 148, 'send': 351, 'learning': 68, 'mistakes': 124, 'smoke': 155, 'funny': 273, 'joke': 70, 'gets': 501, 'struggle': 66, 'belong': 448, 'nation': 75, 'easy': 883, 'break': 1487, 'morning': 872, 'peace': 336, 'gettin': 302, 'naked': 206, 'killing': 207, 'shades': 75, 'blow': 410, 'shake': 768, 'ton': 132, 'son': 482, 'court': 21, 'mon': 591, 'vain': 71, 'h': 429, 'las': 644, 'rien': 191, 'early': 121, 'mornin': 81, 'alright': 937, 'ass': 300, 'walked': 309, 'bump': 149, 'passed': 105, 'couch': 32, 'met': 565, 'dude': 60, 'somebody': 879, 'grabbed': 28, 'plans': 149, 'mama': 428, 'hook': 244, 'hotel': 57, 'hooked': 83, 'guy': 377, 'named': 30, 'joe': 39, 'music': 871, 'slow': 560, 'til': 736, 'boys': 769, 'rock': 760, 'makes': 1096, 'block': 172, 'twelve': 29, 'clock': 195, 'working': 207, 'line': 631, 'cure': 91, 'party': 917, 'care': 1400, 'religion': 44, 'enemy': 104, 'tryna': 173, 'squeeze': 40, 'homie': 40, 'everyday': 458, 'apple': 50, 'grind': 61, 'bring': 1134, 'flying': 227, 'explain': 172, 'insane': 159, 'club': 382, 'thang': 110, 'popping': 32, 'bottles': 60, 'drank': 36, 'looked': 235, 'type': 264, 'daddy': 416, 'sell': 112, 'drugs': 28, 'paper': 168, 'none': 167, 'cake': 63, 'pocket': 88, 'full': 479, 'money': 924, 'likes': 122, 'kissing': 157, 'pop': 294, 'clip': 10, 'everywhere': 364, 'hoe': 62, 'dough': 44, 'roll': 584, 'fellas': 114, 'cheese': 20, 'tv': 154, 'staring': 135, 'taking': 532, 'brings': 174, 'rather': 360, 'sees': 118, 'color': 271, 'purple': 64, 'wants': 510, 'whatever': 550, 'smoking': 36, 'fate': 201, 'knowing': 270, 'spread': 97, 'wings': 263, 'flame': 224, 'hurts': 416, 'rolling': 142, 'changing': 121, 'seasons': 96, 'buried': 48, 'roads': 61, 'starts': 192, 'building': 130, 'add': 42, 'family': 177, 'crash': 105, 'course': 77, 'force': 82, 'moves': 204, 'drown': 115, 'noise': 120, 'yesterday': 299, 'sound': 694, 'situation': 119, 'yah': 117, 'north': 36, 'south': 74, 'east': 63, 'west': 101, 'rhythm': 390, 'calling': 548, 'worse': 113, 'bitter': 111, 'dry': 184, 'buy': 263, 'flowers': 158, 'drawn': 45, 'calm': 132, 'people': 1357, 'gun': 249, 'longing': 93, 'daylight': 58, 'punch': 24, 'pillow': 52, 'beside': 210, 'level': 43, 'funk': 41, 'step': 627, 'bomb': 103, 'goodnight': 107, 'disappear': 154, 'learned': 211, 'mad': 287, 'magic': 385, 'sunset': 55, 'youre': 351, 'hiding': 165, 'mountains': 100, 'guitar': 125, 'hang': 213, 'inner': 43, 'swim': 85, 'cuz': 370, 'x': 1437, 'act': 262, 'deal': 234, 'fact': 200, 'shit': 481, 'shes': 162, 'silver': 164, 'screen': 69, 'chick': 137, 'queen': 233, 'mistake': 211, 'history': 160, 'honey': 613, 'fat': 100, 'suit': 48, 'gucci': 38, 'drive': 448, 'round': 1098, 'band': 121, 'passing': 118, 'older': 101, 'happening': 92, 'simple': 249, 'sing': 1161, 'fa': 168, 'giving': 532, 'smiling': 140, 'everybody': 1293, 'stood': 152, 'believed': 153, 'else': 1111, 'thanks': 83, 'success': 46, 'person': 93, 'feelings': 346, 'white': 494, 'london': 129, 'cha': 170, 'breathe': 541, 'haze': 31, 'trying': 1023, 'turns': 181, 'dollar': 74, 'worries': 80, 'regret': 200, 'tie': 83, 'heavens': 83, 'cast': 81, 'mask': 48, 'skin': 327, 'smooth': 99, 'burn': 446, 'map': 40, 'lying': 271, 'brave': 151, 'count': 289, 'river': 352, 'travel': 93, 'laid': 86, 'circle': 79, 'complete': 132, 'defeat': 35, 'surprise': 138, 'spinning': 191, 'wheel': 95, 'slipping': 63, 'grip': 67, 'lines': 200, 'spin': 131, 'memories': 350, 'waited': 132, 'piece': 211, 'sick': 233, 'fight': 909, 'perfect': 576, 'compare': 82, 'harmony': 94, 'fighting': 195, 'deny': 241, 'half': 266, 'shining': 367, 'bright': 489, 'whisper': 168, 'tree': 182, 'fading': 132, 'dear': 372, 'written': 99, 'grey': 98, 'cover': 194, 'strip': 54, 'view': 156, 'confused': 107, 'press': 62, 'sexy': 287, 'deserve': 153, 'shots': 63, 'lot': 553, 'fuck': 429, 'missing': 438, 'single': 369, 'swear': 386, 'revolution': 49, 'admit': 112, 'agree': 52, 'ohh': 475, 'non': 1124, 'scene': 173, 'walks': 70, 'glass': 170, 'worth': 396, 'sight': 284, 'theres': 153, 'dont': 691, 'complain': 62, 'g': 704, 'u': 656, 'di': 1089, 'bu': 225, 'ba': 756, 'biz': 29, 'ad': 71, 'sin': 1039, 'ran': 158, 'el': 3063, 'b': 630, 'nd': 125, 'art': 131, 'q': 227, 'z': 305, 'woah': 275, 'vi': 198, 'ik': 256, 'aye': 260, 'screaming': 133, 'doin': 232, 'ones': 289, 'alive': 693, 'ace': 16, 'company': 95, 'anytime': 141, 'wire': 50, 'risk': 62, 'rest': 394, 'resist': 81, 'twisted': 83, 'ride': 716, 'dog': 144, 'shock': 44, 'plug': 29, 'playin': 122, 'blown': 79, 'donde': 213, 'dolor': 190, 'este': 280, 'dos': 205, 'nunca': 323, 'los': 711, 'su': 529, 'era': 166, 'solo': 735, 'tiempo': 336, 'ahora': 329, 'cuando': 617, 'todo': 603, 'fue': 178, 'cada': 304, 'cielo': 206, 'siempre': 390, 'una': 1014, 'ser': 689, 'del': 556, 'dentro': 217, 'lo': 2051, 'ms': 198, 'arm': 63, 'flies': 57, 'looks': 291, 'chain': 93, 'broken': 794, 'hunt': 13, 'jane': 58, 'fifth': 46, 'precious': 215, 'remind': 139, 'honest': 109, 'crowd': 211, 'hollywood': 64, 'star': 620, 'drop': 443, 'aah': 122, 'table': 82, 'breaks': 154, 'gives': 138, 'speaking': 74, 'float': 57, 'shadows': 193, 'stayed': 123, 'window': 279, 'john': 65, 'lyrics': 100, 'beginning': 133, 'cannot': 329, 'asking': 185, 'closed': 158, 'repeat': 561, 'everyone': 599, 'born': 467, 'kisses': 196, 'kissed': 127, 'becomes': 51, 'kept': 216, 'vibe': 73, 'paid': 112, 'fan': 69, 'planned': 98, 'nowhere': 428, 'nervous': 58, 'front': 326, 'poor': 156, 'rich': 111, 'chill': 136, 'blaze': 28, 'lemme': 66, 'eight': 61, 'bars': 30, 'crown': 75, 'watchin': 78, 'touching': 126, 'wood': 74, 'pages': 48, 'behind': 702, 'colors': 145, 'beneath': 133, 'erase': 69, 'search': 168, 'pay': 365, 'price': 134, 'telling': 376, 'god': 1092, 'pride': 254, 'less': 256, 'cared': 94, 'leavin': 128, 'throwin': 19, 'sittin': 92, 'given': 232, 'throwing': 65, 'children': 344, 'reasons': 172, 'happy': 1029, 'madness': 84, 'ocean': 303, 'distant': 78, 'story': 450, 'corner': 184, 'filled': 164, 'mouth': 310, 'shut': 217, 'harm': 74, 'heads': 71, 'huh': 446, 'sunshine': 340, 'woke': 136, 'drama': 85, 'storm': 254, 'thunder': 159, 'rolls': 36, 'lightning': 87, 'strike': 37, 'brand': 213, 'heaven': 1002, 'memory': 327, 'falls': 187, 'clouds': 316, 'kind': 826, 'weather': 121, 'drowning': 100, 'flood': 42, 'passion': 178, 'guard': 44, 'lock': 118, 'letting': 209, 'battle': 87, 'raging': 27, 'holy': 220, 'wo': 429, 'pulled': 88, 'tough': 200, 'whispers': 62, 'spell': 139, 'songs': 238, 'lay': 567, 'patience': 46, 'cherry': 72, 'candy': 154, 'packed': 52, 'bag': 107, 'prepared': 37, 'beating': 153, 'affair': 153, 'finally': 456, 'darling': 483, 'arms': 957, 'geht': 62, 'ihr': 42, 'und': 708, 'wird': 86, 'die': 1307, 'der': 572, 'kann': 61, 'doch': 161, 'auf': 200, 'fr': 96, 'gut': 48, 'bis': 58, 'auch': 55, 'wir': 142, 'sind': 109, 'radio': 318, 'den': 263, 'tag': 89, 'nur': 148, 'sich': 114, 'welt': 46, 'losin': 29, 'bass': 391, 'bein': 85, 'otra': 231, 'conmigo': 193, 'voy': 415, 'contigo': 293, 'sue': 190, 'mio': 179, 'puedo': 382, 'mas': 483, 'favor': 123, 'siento': 247, 'aqu': 251, 'estoy': 314, 'hasta': 275, 'final': 227, 'dame': 105, 'drinking': 89, 'sinking': 76, 'holiday': 69, 'fun': 722, 'twice': 191, 'mundo': 262, 'al': 815, 'lado': 175, 'van': 115, 'todos': 101, 'loose': 215, 'excuse': 78, 'hole': 119, 'knife': 99, 'protect': 59, 'finding': 83, 'pictures': 138, 'ending': 141, 'finish': 73, 'palm': 46, 'dancing': 575, 'heat': 317, 'knock': 260, 'drives': 61, 'nae': 379, 'sang': 86, 'red': 547, 'wit': 268, 'able': 72, 'stick': 174, 'middle': 261, 'f': 540, 'tryin': 364, 'lane': 74, 'games': 266, 'somethin': 224, 'spit': 71, 'sh': 43, 'slick': 24, 'limit': 111, 'goin': 486, 'watch': 825, 'needs': 387, 'instead': 228, 'whose': 68, 'crime': 143, 'grief': 21, 'io': 389, 'due': 100, 'amore': 232, 'sono': 211, 'che': 1326, 'ho': 671, 'per': 464, 'mai': 255, 'alle': 81, 'mia': 209, 'hai': 173, 'sei': 270, 'weary': 64, 'dress': 187, 'soft': 165, 'gentle': 88, 'happiness': 177, 'incomprehensible': 42, 'loud': 362, 'louder': 163, 'ashamed': 61, 'match': 74, 'dirty': 283, 'surrender': 201, 'ways': 338, 'nigga': 273, 'cash': 104, 'snatch': 8, 'james': 42, 'heels': 87, 'thinkin': 315, 'weak': 211, 'although': 154, 'nah': 231, 'sayin': 190, 'breathing': 197, 'police': 40, 'slide': 109, 'wasted': 96, 'gift': 111, 'nearly': 69, 'changes': 136, 'surely': 130, 'taken': 187, 'esta': 338, 'noche': 279, 'vas': 248, 'estar': 225, 'eso': 165, 'v': 275, 'han': 148, 'ella': 161, 'qu': 651, 'sa': 292, 'soy': 458, 'ashes': 46, 'satan': 17, 'flames': 69, 'age': 116, 'evil': 91, 'shall': 190, 'fuckin': 57, 'burned': 107, 'demons': 36, 'trapped': 62, 'mo': 490, 'ang': 92, 'ko': 85, 'pa': 316, 'ka': 119, 'extra': 159, 'ay': 594, 'okay': 374, 'eh': 788, 'parents': 45, 'books': 41, 'choice': 127, 'choose': 239, 'stress': 61, 'cut': 291, 'twenty': 148, 'destroy': 39, 'moonlight': 112, 'beyond': 154, 'senses': 49, 'loss': 47, 'low': 653, 'faces': 163, 'lied': 115, 'bullshit': 50, 'anyone': 347, 'fill': 319, 'void': 19, 'kill': 287, 'stranger': 197, 'others': 167, 'shower': 45, 'twist': 101, 'tongue': 127, 'legs': 87, 'moved': 93, 'flesh': 39, 'lead': 343, 'gain': 53, 'cuts': 46, 'cloud': 87, 'dust': 171, 'bust': 70, 'seein': 30, 'doubt': 292, 'droppin': 15, 'represent': 33, 'week': 156, 'seat': 81, 'trick': 81, 'fo': 39, 'cars': 99, 'crib': 63, 'talkin': 348, 'p': 358, 'bought': 139, 'ripped': 44, 'searching': 262, 'circles': 76, 'feed': 92, 'ego': 49, 'hunger': 98, 'remains': 65, 'holes': 33, 'darkness': 269, 'needed': 298, 'listening': 125, 'harder': 225, 'stuck': 204, 'attention': 141, 'pass': 298, 'hanging': 234, 'second': 345, 'sounds': 126, 'loved': 571, 'also': 55, 'jail': 24, 'chains': 131, 'master': 63, 'salvation': 31, 'waits': 56, 'freedom': 176, 'sale': 61, 'sol': 255, 'aunque': 218, 'mira': 103, 'sabes': 111, 'algo': 185, 'sabe': 99, 'sus': 130, 'hacer': 148, 'america': 83, 'quien': 207, 'tanto': 228, 'ese': 123, 'casa': 93, 'echo': 60, 'nadie': 201, 'dad': 96, 'worry': 400, 'straight': 390, 'knocking': 72, 'says': 410, 'crawl': 68, 'puede': 197, 'dime': 239, 'esto': 149, 'rub': 54, 'self': 181, 'shame': 300, 'raised': 49, 'vivir': 211, 'esa': 152, 'hace': 170, 'va': 450, 'victory': 36, 'action': 76, 'war': 392, 'distance': 143, 'mal': 256, 'th': 54, 'quarter': 40, 'plenty': 57, 'double': 134, 'expect': 83, 'lesson': 72, 'intro': 64, 'ghost': 143, 'crawling': 34, 'sex': 196, 'super': 255, 'freaky': 59, 'whats': 100, 'pants': 47, 'undone': 70, 'ok': 275, 'freak': 127, 'holds': 97, 'slave': 75, 'wow': 70, 'steal': 168, 'built': 104, 'walls': 223, 'mercy': 85, 'porque': 387, 'damage': 60, 'wishing': 161, 'space': 323, 'winter': 253, 'summertime': 135, 'ball': 119, 'finger': 144, 'locked': 147, 'victim': 53, 'promises': 159, 'trap': 33, 'rap': 128, 'jones': 41, 'proof': 66, 'feelin': 522, 'knowledge': 20, 'makin': 150, 'lots': 96, 'nine': 94, 'places': 178, 'playing': 415, 'sunlight': 72, 'shade': 97, 'toys': 56, 'refrain': 58, 'bottom': 119, 'plain': 95, 'movie': 125, 'father': 232, 'rage': 32, 'bullet': 88, 'smart': 57, 'jimmy': 46, 'tragedy': 52, 'rough': 97, 'boo': 164, 'kick': 246, 'boyfriend': 116, 'trip': 188, 'rules': 185, 'movin': 277, 'mood': 113, 'poppin': 52, 'mma': 151, 'hopin': 40, 'bringing': 134, 'saint': 59, 'chasing': 180, 'asleep': 145, 'fear': 464, 'horizon': 54, 'nan': 235, 'du': 826, 'mami': 54, 'neon': 180, 'livin': 247, 'proud': 184, 'guts': 19, 'glory': 188, 'flash': 77, 'edge': 156, 'willing': 89, 'bone': 134, 'fallin': 187, 'plane': 91, 'boom': 565, 'romance': 160, 'skies': 233, 'mom': 71, 'bread': 54, 'wore': 39, 'rolled': 27, 'ate': 19, 'dinner': 54, 'plate': 29, 'uptown': 13, 'train': 276, 'momma': 94, 'jam': 117, 'workin': 75, 'month': 42, 'slip': 162, 'whoa': 886, 'savior': 78, 'mental': 18, 'pink': 158, 'winner': 93, 'pound': 39, 'sides': 52, 'zone': 77, 'gusta': 128, 'tengo': 302, 'piel': 219, 'coraz': 345, 'ojos': 208, 'breakin': 75, 'walkin': 111, 'failed': 28, 'salt': 23, 'standin': 53, 'hat': 166, 'traffic': 37, 'short': 162, 'lifetime': 121, 'towards': 43, 'imagine': 201, 'enemies': 31, 'misery': 87, 'nuts': 10, 'dirt': 88, 'dope': 44, 'hating': 47, 'crew': 52, 'prepare': 27, 'fame': 139, 'bum': 20, 'begging': 147, 'soldier': 88, 'gods': 33, 'headed': 41, 'doom': 32, 'chaos': 31, 'terror': 18, 'laying': 59, 'shady': 52, 'army': 52, 'yall': 15, 'punk': 68, 'bitches': 75, 'fence': 41, 'mark': 124, 'counting': 63, 'signs': 142, 'five': 252, 'six': 138, 'fit': 147, 'picked': 54, 'shell': 47, 'beach': 104, 'softly': 98, 'windows': 78, 'brought': 205, 'woods': 27, 'pre': 111, 'rush': 197, 'starting': 153, 'cries': 114, 'lucky': 292, 'bar': 116, 'taught': 112, 'wonderful': 244, 'leading': 48, 'mister': 64, 'march': 54, 'chosen': 50, 'foolish': 94, 'wise': 89, 'helpless': 96, 'praise': 99, 'creation': 44, 'spirit': 146, 'colder': 34, 'forth': 81, 'shines': 103, 'death': 229, 'cap': 20, 'plays': 106, 'rapper': 30, 'daughter': 53, 'mother': 369, 'rings': 107, 'king': 301, 'kings': 58, 'played': 236, 'sheep': 38, 'third': 46, 'outro': 53, 'luna': 206, 'poco': 119, 'ir': 78, 'ich': 678, 'dass': 28, 'hab': 65, 'viel': 39, 'mich': 200, 'bin': 128, 'mit': 117, 'als': 106, 'wenn': 113, 'durch': 39, 'nicht': 255, 'zu': 198, 'ver': 270, 'leben': 50, 'zum': 39, 'mir': 182, 'wieder': 93, 'dich': 214, 'meine': 40, 'bist': 95, 'wie': 209, 'mein': 88, 'ist': 325, 'macht': 32, 'schon': 64, 'mehr': 87, 'hier': 96, 'aus': 123, 'waves': 117, 'dancin': 106, 'fever': 219, 'gimme': 703, 'blessed': 85, 'prayers': 44, 'christmas': 890, 'welcome': 177, 'celebrate': 117, 'pleasure': 214, 'square': 48, 'merry': 277, 'keys': 86, 'ak': 12, 'quickly': 38, 'sudden': 46, 'mention': 55, 'ends': 188, 'destiny': 219, 'melody': 129, 'golden': 167, 'key': 251, 'wine': 185, 'sunday': 160, 'bags': 62, 'lookin': 477, 'competition': 29, 'layin': 25, 'remain': 82, 'bigger': 126, 'adore': 152, 'darkest': 91, 'spot': 117, 'floating': 92, 'smiles': 86, 'ease': 169, 'burns': 89, 'hurry': 174, 'anyway': 243, 'comin': 292, 'blues': 183, 'forgiveness': 65, 'lovers': 284, 'sadness': 91, 'bottle': 128, 'tied': 88, 'power': 352, 'shout': 228, 'sings': 121, 'brothers': 80, 'cute': 89, 'minds': 101, 'gravity': 81, 'midnight': 167, 'lust': 51, 'rode': 24, 'texas': 22, 'shot': 216, 'heavy': 152, 'wherever': 205, 'riding': 107, 'id': 86, 'following': 50, 'settle': 77, 'awake': 195, 'busy': 119, 'bleeding': 66, 'stones': 65, 'spirits': 23, 'angel': 522, 'build': 248, 'trill': 6, 'blowing': 96, 'hearted': 75, 'des': 485, 'dann': 123, 'nie': 64, 'noch': 83, 'rum': 68, 'tellin': 139, 'sins': 31, 'preacher': 29, 'brown': 181, 'eyed': 45, 'future': 373, 'steady': 114, 'folks': 73, 'seed': 47, 'garden': 83, 'emptiness': 66, 'opened': 125, 'impossible': 121, 'rise': 359, 'split': 32, 'driving': 182, 'unknown': 55, 'forgot': 100, 'ci': 268, 'ed': 67, 'pi': 393, 'cosa': 167, 'pure': 149, 'chi': 150, 'eres': 340, 'ten': 210, 'muy': 152, 'led': 61, 'dreamed': 117, 'bliss': 67, 'owe': 57, 'realized': 66, 'station': 54, 'mankind': 19, 'tail': 41, 'quit': 168, 'boogie': 106, 'stone': 276, 'indeed': 46, 'fallen': 118, 'ecstasy': 93, 'unless': 94, 'pity': 39, 'devil': 193, 'park': 92, 'whistle': 42, 'jay': 42, 'sign': 298, 'private': 75, 'jet': 34, 'gay': 39, 'smash': 23, 'fair': 148, 'shoot': 84, 'hung': 85, 'papa': 102, 'rollin': 84, 'model': 35, 'rains': 28, 'except': 37, 'homies': 31, 'gon': 585, 'reality': 165, 'smack': 121, 'wave': 181, 'clap': 90, 'foot': 91, 'spinnin': 58, 'seven': 166, 'booty': 88, 'question': 192, 'mountain': 176, 'hills': 81, 'christ': 129, 'er': 273, 'birth': 58, 'sent': 189, 'eve': 53, 'ta': 337, 'ein': 254, 'immer': 72, 'alles': 75, 'gibt': 33, 'comfort': 82, 'prayer': 191, 'whenever': 267, 'chair': 72, 'knocked': 41, 'stream': 61, 'pouring': 85, 'scream': 264, 'leads': 92, 'kills': 35, 'pills': 27, 'torture': 57, 'bills': 88, 'empty': 381, 'land': 376, 'doll': 46, 'downtown': 49, 'figure': 117, 'idea': 77, 'bleed': 100, 'stories': 87, 'escape': 152, 'purpose': 29, 'hopes': 95, 'special': 373, 'candle': 71, 'vision': 135, 'glow': 101, 'bop': 243, 'mm': 96, 'wishin': 39, 'breeze': 112, 'tune': 141, 'worried': 54, 'wander': 65, 'blood': 398, 'curse': 39, 'sweetest': 93, 'blows': 94, 'porch': 22, 'nose': 108, 'evening': 106, 'probably': 144, 'regrets': 75, 'ought': 79, 'lands': 22, 'throne': 44, 'forced': 23, 'jumped': 28, 'case': 152, 'pushed': 41, 'kicked': 21, 'granted': 91, 'begins': 89, 'mystery': 191, 'focus': 89, 'bound': 133, 'suppose': 79, 'mission': 44, 'pieces': 182, 'decision': 72, 'rhyme': 61, 'certain': 98, 'refuse': 69, 'serious': 58, 'mighty': 95, 'pale': 61, 'hollow': 56, 'advice': 62, 'thrill': 107, 'divine': 103, 'highway': 55, 'bedroom': 62, 'plastic': 56, 'disease': 50, 'point': 243, 'facts': 60, 'frame': 64, 'tout': 283, 'ce': 378, 'rent': 38, 'ur': 143, 'ai': 444, 'writing': 61, 'ignore': 71, 'anybody': 187, 'shared': 93, 'lovin': 432, 'signed': 26, 'command': 39, 'quick': 123, 'problem': 185, 'completely': 74, 'nasty': 140, 'shakin': 40, 'mexico': 26, 'hip': 80, 'boots': 61, 'hangin': 97, 'women': 151, 'respect': 62, 'kingdom': 44, 'castle': 53, 'chicks': 66, 'dropped': 46, 'wrist': 26, 'dangerous': 154, 'stare': 167, 'flow': 287, 'cat': 107, 'puttin': 37, 'hop': 110, 'bones': 130, 'kitchen': 45, 'pack': 138, 'flat': 63, 'shoulder': 165, 'silly': 151, 'doors': 96, 'string': 51, 'calls': 142, 'pockets': 58, 'thirty': 56, 'jumpin': 122, 'nails': 32, 'drops': 80, 'washed': 69, 'turnin': 112, 'bounce': 227, 'bo': 86, 'dip': 56, 'aight': 7, 'fish': 56, 'chase': 130, 'scratch': 39, 'sigh': 60, 'ja': 176, 'metal': 48, 'innocence': 46, 'fills': 72, 'unto': 23, 'pool': 36, 'exactly': 125, 'bell': 128, 'among': 75, 'slowly': 214, 'crossed': 79, 'lit': 60, 'hundred': 105, 'rappers': 10, 'fires': 55, 'faithful': 71, 'law': 87, 'killin': 38, 'cell': 51, 'often': 100, 'heartache': 161, 'toi': 346, 'tes': 179, 'les': 714, 'dis': 85, 'mes': 173, 'talked': 47, 'aching': 55, 'begin': 215, 'upside': 109, 'position': 51, 'direction': 65, 'worlds': 95, 'laughed': 47, 'bare': 94, 'heavenly': 99, 'sake': 56, 'tour': 36, 'behold': 30, 'trace': 64, 'simply': 117, 'means': 261, 'killed': 49, 'decay': 5, 'ku': 148, 'sail': 154, 'heading': 72, 'missin': 64, 'fiend': 8, 'bling': 90, 'mic': 40, 'fashion': 49, 'anywhere': 272, 'fault': 71, 'runs': 102, 'guilty': 103, 'covered': 57, 'either': 80, 'knee': 32, 'crystal': 71, 'motion': 125, 'lift': 185, 'nature': 105, 'important': 34, 'role': 30, 'screamin': 26, 'runnin': 195, 'surprised': 58, 'beer': 43, 'dumb': 200, 'ended': 47, 'wasting': 106, 'rhymes': 38, 'pen': 33, 'test': 104, 'fans': 18, 'nightmare': 73, 'loaded': 66, 'sold': 75, 'rid': 32, 'draw': 57, 'business': 99, 'spine': 34, 'cards': 72, 'field': 66, 'gray': 88, 'frozen': 90, 'chose': 103, 'doctor': 120, 'ticket': 104, 'lately': 174, 'size': 39, 'holler': 48, 'hips': 89, 'drifting': 59, 'blew': 52, 'flew': 34, 'shoulda': 106, 'ruin': 29, 'science': 58, 'tales': 39, 'souls': 80, 'mil': 78, 'sean': 14, 'sleeping': 199, 'suis': 109, 'diamond': 141, 'grill': 9, 'brooklyn': 25, 'image': 44, 'aim': 62, 'speed': 125, 'liquor': 35, 'mike': 28, 'minutes': 60, 'betta': 20, 'drip': 57, 'trash': 18, 'veins': 101, 'grace': 183, 'trail': 34, 'sheets': 60, 'chest': 126, 'lick': 59, 'haha': 26, 'shawty': 73, 'problems': 98, 'guide': 124, 'tide': 111, 'paint': 125, 'rivers': 70, 'reflection': 95, 'enter': 30, 'bow': 96, 'dj': 227, 'hittin': 14, 'create': 31, 'har': 170, 'dir': 233, 'mujer': 146, 'worked': 54, 'torn': 140, 'whatcha': 99, 'laughter': 134, 'horse': 48, 'wet': 86, 'drift': 62, 'planet': 52, 'shadow': 150, 'darlin': 136, 'wipe': 85, 'mix': 70, 'quando': 166, 'gather': 29, 'island': 66, 'tennessee': 21, 'blowin': 55, 'painted': 76, 'autumn': 46, 'brain': 131, 'drug': 79, 'roof': 80, 'hallelujah': 97, 'saturday': 95, 'butt': 80, 'birthday': 136, 'bang': 367, 'cos': 332, 'po': 122, 'dove': 117, 'wedding': 42, 'watched': 65, 'lake': 27, 'boat': 54, 'ridin': 120, 'tore': 50, 'ears': 89, 'insanity': 28, 'grew': 76, 'drove': 34, 'conversation': 94, 'credit': 49, 'dollars': 48, 'disguise': 118, 'date': 105, 'surrounded': 41, 'brighter': 104, 'sixteen': 49, 'lion': 104, 'claim': 53, 'eine': 68, 'ck': 48, 'sie': 186, 'nach': 52, 'zeit': 36, 'nichts': 77, 'von': 121, 'hmm': 124, 'grave': 59, 'dee': 171, 'girlfriend': 238, 'cage': 45, 'hungry': 108, 'hesitate': 70, 'eternal': 36, 'angels': 285, 'saving': 68, 'sons': 29, 'prince': 95, 'numbers': 43, 'daily': 30, 'public': 29, 'ra': 122, 'st': 152, 'weil': 41, 'kein': 42, 'bei': 59, 'rot': 16, 'groove': 233, 'givin': 105, 'kicks': 49, 'screams': 27, 'deeper': 161, 'waitin': 109, 'bubble': 40, 'crooked': 13, 'heroes': 58, 'bam': 160, 'wa': 307, 'ga': 309, 'pump': 49, 'list': 67, 'ignorance': 20, 'piss': 8, 'talks': 44, 'jack': 109, 'gas': 43, 'fix': 136, 'wreck': 58, 'lungs': 42, 'satisfy': 99, 'emotion': 151, 'exist': 37, 'fantasy': 207, 'fucking': 109, 'hater': 10, 'guns': 44, 'thee': 92, 'thy': 86, 'hidden': 64, 'shattered': 71, 'marry': 36, 'embrace': 100, 'questions': 97, 'mejor': 121, 'carried': 69, 'rob': 27, 'fancy': 140, 'parts': 41, 'duck': 15, 'stops': 101, 'pushing': 81, 'honor': 17, 'crack': 86, 'angry': 62, 'pressure': 96, 'appear': 43, 'justice': 18, 'flowing': 69, 'cotton': 44, 'universe': 132, 'estas': 157, 'onto': 76, 'sip': 46, 'present': 54, 'bobby': 29, 'swing': 128, 'attitude': 64, 'hail': 31, 'bridges': 51, 'wounds': 33, 'fortune': 59, 'thug': 50, 'box': 94, 'despair': 62, 'thou': 73, 'southern': 43, 'spending': 67, 'stuff': 238, 'works': 48, 'fin': 141, 'american': 91, 'drag': 76, 'careful': 85, 'witness': 39, 'queens': 34, 'recognize': 64, 'danger': 158, 'hug': 44, 'knowin': 31, 'bend': 89, 'bless': 69, 'sir': 61, 'handle': 171, 'sober': 41, 'animal': 71, 'food': 51, 'happens': 153, 'prey': 32, 'truly': 112, 'gold': 324, 'survive': 201, 'mist': 29, 'constantly': 50, 'blast': 37, 'ki': 103, 'flower': 74, 'church': 86, 'hours': 203, 'shelter': 79, 'addicted': 94, 'french': 33, 'funky': 91, 'player': 48, 'dropping': 43, 'solid': 45, 'callin': 112, 'pounds': 12, 'beast': 78, 'jealous': 75, 'david': 26, 'blocks': 20, 'cost': 72, 'monday': 70, 'ringing': 71, 'winds': 53, 'melt': 81, 'hardest': 48, 'burnin': 66, 'coat': 61, 'bank': 62, 'blinded': 73, 'staying': 113, 'santa': 240, 'claus': 49, 'toy': 61, 'pole': 23, 'click': 90, 'bells': 193, 'cook': 22, 'iron': 19, 'sweat': 113, 'wei': 89, 'li': 178, 'ding': 294, 'beware': 54, 'dare': 200, 'fades': 70, 'tone': 52, 'hoes': 39, 'creepin': 27, 'jewels': 17, 'inch': 31, 'milk': 27, 'fail': 86, 'tick': 95, 'billy': 24, 'praying': 108, 'jag': 155, 'det': 141, 'som': 168, 'dig': 286, 'och': 88, 'trade': 51, 'saved': 125, 'enjoy': 106, 'system': 81, 'horses': 45, 'sharp': 23, 'illusion': 68, 'visions': 41, 'strings': 67, 'allow': 68, 'load': 68, 'finished': 56, 'eating': 39, 'knockin': 42, 'waters': 42, 'rip': 63, 'sipping': 22, 'studio': 19, 'wicked': 124, 'pro': 29, 'sink': 80, 'drum': 168, 'hoo': 181, 'woo': 221, 'holla': 116, 'hood': 137, 'juice': 14, 'ey': 46, 'wars': 29, 'explode': 45, 'created': 28, 'presence': 46, 'dies': 73, 'nacht': 63, 'weird': 86, 'bond': 28, 'coke': 31, 'mac': 11, 'drivin': 47, 'bob': 17, 'cops': 42, 'faded': 51, 'fucker': 19, 'choke': 29, 'pill': 23, 'violent': 14, 'whether': 67, 'underground': 67, 'wisdom': 36, 'pace': 53, 'tip': 49, 'wolf': 36, 'suffering': 40, 'youth': 47, 'disco': 60, 'serve': 31, 'bro': 22, 'neighborhood': 24, 'gal': 47, 'valley': 42, 'clue': 61, 'thin': 109, 'nerve': 61, 'dim': 83, 'az': 51, 'raining': 57, 'favorite': 176, 'letters': 70, 'whispering': 51, 'aware': 59, 'kicking': 44, 'numb': 48, 'threw': 82, 'aside': 82, 'tracks': 58, 'shallow': 39, 'miracle': 141, 'singin': 73, 'original': 52, 'denied': 47, 'drinks': 52, 'afford': 46, 'ceiling': 62, 'steps': 89, 'faster': 175, 'dogs': 29, 'thru': 33, 'finna': 11, 'pissed': 9, 'mixed': 38, 'actin': 67, 'putting': 78, 'lamb': 49, 'thick': 60, 'michael': 75, 'johnny': 69, 'poison': 74, 'foreign': 46, 'powers': 35, 'loco': 59, 'shorty': 89, 'sucker': 29, 'showin': 23, 'shape': 68, 'weg': 40, 'monster': 121, 'york': 141, 'record': 96, 'hype': 18, 'flip': 68, 'twilight': 63, 'fought': 56, 'fist': 29, 'teeth': 61, 'denn': 71, 'text': 37, 'oder': 40, 'leader': 26, 'dub': 54, 'rockin': 125, 'nuff': 14, 'tricks': 68, 'stays': 89, 'slap': 35, 'drums': 23, 'keepin': 32, 'sam': 45, 'bill': 54, 'total': 36, 'names': 59, 'snake': 11, 'greed': 22, 'cryin': 101, 'shirt': 66, 'lip': 31, 'takin': 122, 'ow': 96, 'tha': 60, 'breed': 28, 'cocaine': 7, 'bumpin': 19, 'frontin': 23, 'camera': 42, 'sunrise': 57, 'sleepin': 39, 'holdin': 88, 'shoe': 20, 'greatest': 133, 'criminal': 57, 'flex': 23, 'hopeless': 50, 'motherfucker': 104, 'grindin': 21, 'government': 6, 'dome': 7, 'homes': 13, 'jungle': 130, 'chris': 32, 'pimp': 22, 'weeks': 68, 'shook': 45, 'demon': 8, 'stole': 99, 'whip': 89, 'sippin': 40, 'cruise': 43, 'rims': 18, 'large': 21, 'snap': 48, 'vous': 137, 'champagne': 86, 'selling': 34, 'flyin': 17, 'dreamin': 75, 'treasure': 77, 'fi': 54, 'dum': 127, 'reign': 21, 'liar': 96, 'blade': 30, 'slim': 22, 'offer': 58, 'switch': 82, 'raw': 28, 'rocking': 68, 'coast': 64, 'bodies': 56, 'generation': 63, 'belly': 32, 'hustle': 55, 'fed': 46, 'core': 59, 'empire': 39, 'backwards': 51, 'steel': 47, 'millions': 34, 'ugly': 60, 'sword': 31, 'shinin': 27, 'sacrifice': 80, 'mill': 16, 'dr': 50, 'og': 58, 'trippin': 103, 'playa': 44, 'gangsta': 13, 'microphone': 37, 'skills': 17, 'nut': 5, 'motherfuckers': 22, 'niggas': 131, 'truck': 48, 'motherfucking': 3, 'forty': 15, 'records': 33, 'fucked': 84, 'swallow': 38, 'riot': 43, 'tearing': 64, 'dyin': 20, 'lyin': 24, 'haters': 42, 'slay': 63, 'mall': 22, 'shop': 47, 'gates': 44, 'revenge': 65, 'automatic': 37, 'cum': 16, 'sore': 80, 'bite': 69, 'bullets': 20, 'inna': 15, 'wife': 129, 'buddy': 21, 'usually': 46, 'san': 58, 'uns': 121, 'seh': 28, 'sein': 125, 'selfish': 45, 'drinkin': 24, 'shooting': 68, 'mail': 41, 'bricks': 12, 'wack': 12, 'leg': 17, 'lyrical': 9, 'fam': 14, 'conscience': 35, 'winning': 64, 'wound': 22, 'murder': 60, 'rewind': 63, 'cop': 26, 'pues': 79, 'chrome': 15, 'doe': 18, 'benz': 24, 'mud': 27, 'video': 71, 'bloody': 40, 'soldiers': 42, 'bus': 63, 'seconds': 68, 'kimi': 163, 'dale': 44, 'spare': 50, 'kissin': 51, 'desperate': 38, 'guilt': 29, 'wheels': 63, 'killer': 62, 'rope': 44, 'bands': 12, 'bay': 47, 'pullin': 15, 'rocky': 10, 'weh': 31, 'desert': 84, 'reached': 44, 'bringin': 18, 'wid': 3, 'ex': 33, 'awhile': 53, 'mortal': 15, 'grand': 97, 'constant': 47, 'ye': 162, 'vor': 33, 'deine': 31, 'whiskey': 24, 'visit': 31, 'chicken': 27, 'uno': 91, 'suck': 32, 'bury': 69, 'toast': 46, 'yup': 14, 'askin': 38, 'mary': 150, 'fore': 31, 'album': 18, 'ninety': 32, 'flavor': 22, 'thrown': 49, 'boss': 54, 'society': 11, 'mass': 8, 'cadillac': 25, 'thugs': 9, 'roam': 30, 'hotter': 60, 'hush': 87, 'steppin': 63, 'pair': 47, 'rebel': 77, 'monkey': 24, 'leather': 46, 'tat': 36, 'rat': 27, 'squad': 16, 'prison': 39, 'meat': 6, 'flo': 21, 'jetzt': 52, 'hast': 35, 'dein': 67, 'freeze': 34, 'sack': 16, 'pie': 42, 'aber': 35, 'cent': 11, 'concrete': 41, 'dick': 29, 'pussy': 36, 'dah': 168, 'hah': 36, 'gat': 8, 'yuh': 11, 'bom': 62, 'toss': 34, 'industry': 19, 'beef': 7, 'lotta': 29, 'pit': 17, 'cali': 61, 'seats': 21, 'ancient': 28, 'dot': 17, 'bent': 12, 'rotten': 23, 'suffer': 39, 'spray': 8, 'hustler': 9, 'label': 13, 'havin': 37, 'platinum': 27, 'vest': 20, 'stomach': 11, 'balls': 13, 'cigarette': 35, 'judge': 54, 'lonesome': 48, 'hurtin': 42, 'worship': 28, 'motherfuckin': 14, 'pimpin': 26, 'whore': 21, 'mack': 37, 'spittin': 7, 'mayne': 1, 'wealth': 26, 'cats': 20, 'chamillionaire': 4, 'jeg': 77, 'gang': 20, 'chasin': 35, 'dogg': 19, 'anger': 38, 'triple': 8, 'violence': 48, 'mommy': 23, 'sag': 15, 'trunk': 40, 'ghetto': 156, 'jingle': 63, 'greater': 22, 'dudes': 19, 'bunch': 37, 'buck': 45, 'chillin': 78, 'peep': 81, 'kickin': 25, 'ima': 87, 'hatred': 10, 'major': 31, 'fold': 23, 'blunt': 17, 'flag': 48, 'niggaz': 14, 'weed': 55, 'paul': 53, 'tony': 11, 'dive': 35, 'agony': 8, 'zero': 51, 'def': 19, 'backs': 22, 'pon': 18, 'smokin': 20, 'deadly': 9, 'stack': 30, 'ballin': 10, 'beep': 17, 'code': 37, 'lee': 19, 'dash': 34, 'destruction': 17, 'grin': 28, 'hatin': 22, 'tape': 15, 'hammer': 28, 'bible': 17, 'sweetheart': 13, 'county': 17, 'deck': 21, 'feeding': 19, 'clique': 10, 'suicide': 23, 'naw': 12, 'brick': 15, 'shootin': 12, 'cock': 9, 'cowboy': 19, 'thangs': 11, 'brains': 7, 'puff': 5, 'gots': 54, 'busta': 10, 'stash': 7, 'panic': 33, 'chips': 20, 'horror': 9, 'victims': 7, 'aw': 86, 'spill': 21, 'sho': 11, 'george': 24, 'bustin': 10, 'suckers': 11, 'raps': 6, 'uhh': 50, 'eazy': 3, 'wrath': 1, 'yard': 28, 'rape': 2, 'mek': 4, 'tee': 10, 'honky': 4, 'ole': 29, 'rappin': 12, 'nuttin': 2, 'pum': 191, 'rep': 7, 'bastard': 7, 'strap': 4, 'goddamn': 10, 'trigger': 29, 'uncle': 9, 'stacks': 16, 'chop': 6, 'wah': 278, 'strapped': 14, 'feds': 6, 'pistol': 9, 'joint': 12, 'rubber': 15, 'sellin': 10, 'roots': 24, 'getcha': 54, 'existence': 14, 'dawg': 11, 'broad': 6, 'georgia': 34, 'funeral': 4, 'nuh': 23, 'moms': 2, 'dre': 2, 'biggie': 2, 'bail': 1, 'hardcore': 10, 'versace': 2, 'glock': 4, 'slaughter': 2, 'laws': 5, 'mob': 3, 'killa': 1, 'corpse': 4, 'eatin': 4, 'eminem': 2, 'muthafuckin': 2, 'slang': 2}\n"
          ]
        },
        {
          "name": "stderr",
          "output_type": "stream",
          "text": [
            "100%|██████████| 9730/9730 [00:46<00:00, 210.12it/s]\n"
          ]
        },
        {
          "name": "stdout",
          "output_type": "stream",
          "text": [
            "{'chorus': 7203, 'repeat': 905, 'x': 4324, 'even': 4666, 'tryin': 2160, 'low': 1975, 'hoes': 2580, 'cause': 15384, 'game': 4137, 'sure': 1201, 'like': 38574, 'everywhere': 567, 'go': 14326, 'stay': 3510, 'surrounded': 108, 'man': 11546, 'gotta': 6398, 'dough': 748, 'got': 26595, 'verse': 4211, 'one': 11961, 'cent': 293, 'makin': 1096, 'hits': 383, 'try': 3278, 'act': 1202, 'heard': 1812, 'shit': 14699, 'see': 13912, 'come': 10274, 'door': 1196, 'bitches': 3635, 'changed': 605, 'know': 24492, 'blow': 1831, 'drink': 1138, 'till': 1907, 'fall': 1517, 'jump': 1035, 'nigga': 17089, 'goin': 2643, 'club': 1949, 'niggaz': 3197, 'ball': 1069, 'punk': 614, 'ass': 6262, 'dance': 1744, 'floor': 1221, 'crawl': 103, 'shots': 866, 'big': 4516, 'enough': 1573, 'tear': 472, 'fuckin': 3001, 'wall': 749, 'range': 323, 'rims': 293, 'bad': 3043, 'luck': 320, 'rap': 2795, 'feelings': 306, 'hear': 2905, 'killin': 435, 'haha': 289, 'yeah': 12957, 'fuck': 11607, 'thought': 1848, 'giving': 396, 'motherfuckin': 827, 'want': 10750, 'free': 1366, 'give': 6511, 'bars': 334, 'nothing': 2393, 'ya': 12427, 'wanting': 105, 'lot': 1879, 'mean': 2218, 'gonna': 5172, 'sit': 933, 'rappin': 323, 'night': 4078, 'hey': 3410, 'yo': 10940, 'money': 8427, 'work': 2586, 'hard': 3650, 'red': 1259, 'nose': 397, 'roof': 362, 'take': 8615, 'guns': 843, 'shoot': 1117, 'head': 3627, 'reach': 411, 'pistol': 441, 'turns': 170, 'around': 4606, 'ready': 2446, 'style': 1437, 'straight': 2050, 'wit': 4017, 'bet': 1127, 'love': 12164, 'hit': 5141, 'long': 2741, 'time': 9874, 'ago': 265, 'keep': 7246, 'good': 4929, 'popping': 266, 'complain': 92, 'life': 7380, 'lovely': 223, 'either': 442, 'hate': 1971, 'fans': 361, 'wanna': 8487, 'nuts': 392, 'next': 1859, 'matter': 1368, 'competition': 208, 'honest': 143, 'dogs': 448, 'smoking': 599, 'college': 215, 'clap': 509, 'hands': 1756, 'beat': 2691, 'get': 30120, 'bounce': 985, 'put': 6530, 'drinks': 176, 'girl': 8449, 'house': 2055, 'song': 1462, 'kissing': 99, 'mouth': 1332, 'find': 2211, 'us': 5381, 'back': 12620, 'squad': 500, 'deep': 1311, 'hold': 2856, 'bother': 125, 'nobody': 2007, 'less': 511, 'fucking': 2091, 'bring': 2502, 'shake': 1492, 'booty': 732, 'shorty': 823, 'butt': 300, 'look': 5345, 'holding': 410, 'camera': 247, 'care': 1426, 'women': 655, 'rappers': 707, 'hammer': 214, 'loose': 449, 'pair': 197, 'speak': 933, 'spit': 1194, 'trying': 1653, 'rich': 1152, 'without': 1591, 'thats': 981, 'k': 1100, 'empire': 70, 'believe': 1855, 'lies': 478, 'squeeze': 290, 'jesus': 533, 'inside': 1506, 'teeth': 327, 'make': 11731, 'suck': 620, 'cock': 487, 'knees': 407, 'fire': 1399, 'though': 1670, 'games': 433, 'right': 8445, 'brains': 305, 'better': 4400, 'chain': 788, 'might': 2276, 'frame': 236, 'tha': 1376, 'ooh': 1364, 'oh': 8466, 'well': 2764, 'oooh': 212, 'ahh': 310, 'harder': 329, 'ah': 1987, 'people': 3169, 'baby': 10072, 'damn': 2805, 'dont': 1610, 'evil': 379, 'never': 9621, 'cook': 231, 'coke': 544, 'top': 2482, 'guts': 165, 'doubt': 582, 'trapped': 251, 'rubber': 167, 'hoe': 1146, 'use': 1020, 'another': 2511, 'fun': 631, 'cool': 1318, 'gun': 1602, 'duck': 342, 'run': 3459, 'could': 4890, 'bum': 191, 'quick': 1094, 'chillin': 451, 'freak': 785, 'leave': 2789, 'best': 2188, 'rollin': 1056, 'bitch': 8978, 'niggas': 12113, 'smoke': 1941, 'toast': 317, 'coast': 485, 'whose': 115, 'dope': 1525, 'hope': 1274, 'gone': 2828, 'buy': 1026, 'yea': 1458, 'quarter': 271, 'gas': 372, 'seven': 463, 'double': 969, 'bag': 994, 'ol': 339, 'due': 206, 'guess': 1333, 'g': 3430, 'p': 1690, 'loaded': 200, 'crib': 697, 'form': 227, 'rolled': 212, 'playin': 943, 'roll': 2157, 'saw': 780, 'mack': 459, 'years': 953, 'old': 1888, 'closed': 262, 'crack': 1157, 'open': 1328, 'eyes': 2344, 'surprised': 90, 'kick': 1171, 'high': 3354, 'serve': 290, 'plate': 267, 'ask': 1811, 'drive': 795, 'far': 979, 'much': 2570, 'mind': 3640, 'size': 223, 'caught': 1170, 'grind': 704, 'plastic': 165, 'cover': 298, 'couch': 187, 'question': 393, 'pound': 599, 'da': 3836, 'uh': 3918, 'yall': 517, 'really': 4080, 'understand': 1218, 'flow': 1641, 'sitting': 410, 'pocket': 477, 'pants': 371, 'still': 5989, 'fly': 2294, 'float': 119, 'write': 622, 'favorite': 330, 'records': 322, 'aah': 219, 'sing': 921, 'ghost': 355, 'thousand': 512, 'getting': 2133, 'staying': 128, 'broke': 1351, 'coat': 165, 'cant': 872, 'throw': 1865, 'whatever': 891, 'smokin': 725, 'bout': 4253, 'beast': 241, 'every': 4262, 'single': 345, 'thing': 3076, 'way': 7828, 'taking': 698, 'flight': 284, 'ahead': 492, 'cut': 1327, 'light': 1773, 'cuz': 1279, 'plays': 138, 'phone': 1112, 'ringing': 69, 'call': 4451, 'aint': 1735, 'face': 2974, 'hang': 643, 'mall': 262, 'mmm': 242, 'cannot': 274, 'riding': 490, 'state': 623, 'swag': 269, 'space': 406, 'show': 3589, 'imma': 529, 'knock': 778, 'place': 1670, 'kill': 2028, 'ego': 136, 'green': 809, 'lo': 1744, 'hero': 135, 'ship': 183, 'pole': 236, 'dancing': 209, 'zero': 158, 'fantasy': 132, 'reality': 305, 'pass': 1225, 'fresh': 1025, 'would': 3562, 'agree': 76, 'smiling': 76, 'intro': 591, 'tell': 7722, 'built': 259, 'funny': 643, 'probably': 902, 'hook': 2206, 'talking': 1628, 'ancient': 45, 'ways': 477, 'wrong': 1801, 'planet': 254, 'god': 3041, 'respect': 788, 'since': 1542, 'made': 3119, 'government': 140, 'knew': 1196, 'along': 577, 'tryna': 1750, 'boy': 3907, 'hot': 2638, 'death': 1170, 'field': 226, 'think': 5479, 'real': 5666, 'angels': 131, 'demons': 124, 'brought': 428, 'world': 4145, 'law': 437, 'cute': 166, 'bullshit': 624, 'always': 2855, 'crew': 1240, 'loving': 363, 'school': 942, 'went': 1342, 'church': 234, 'behold': 44, 'pale': 40, 'horses': 54, 'cross': 473, 'nation': 236, 'watch': 3152, 'sky': 969, 'river': 141, 'dry': 192, 'hour': 296, 'return': 186, 'alright': 982, 'worried': 239, 'balls': 337, 'gods': 111, 'brown': 629, 'sun': 892, 'happening': 96, 'bible': 126, 'said': 4546, 'gold': 952, 'color': 296, 'wings': 205, 'sugar': 200, 'serious': 291, 'war': 1627, 'outro': 264, 'lie': 931, 'moon': 254, 'universe': 59, 'enter': 116, 'turn': 3051, 'save': 533, 'black': 3094, 'race': 252, 'finish': 314, 'line': 1359, 'seems': 504, 'keeps': 387, 'steady': 473, 'pace': 129, 'air': 1314, 'done': 2836, 'kept': 463, 'daddy': 1153, 'told': 2543, 'cotton': 65, 'picked': 147, 'day': 4663, 'killed': 430, 'white': 1638, 'deal': 851, 'sign': 454, 'dumb': 600, 'cash': 1659, 'check': 2403, 'society': 109, 'taught': 278, 'refuse': 103, 'let': 12860, 'hop': 1361, 'little': 4067, 'drop': 2380, 'clothes': 664, 'stop': 4393, 'im': 4113, 'kings': 161, 'trunk': 506, 'bang': 1700, 'gang': 836, 'colors': 140, 'beep': 243, 'last': 2301, 'message': 225, 'erase': 87, 'tomorrow': 500, 'stands': 94, 'friend': 1000, 'e': 3161, 'grand': 417, 'saved': 123, 'first': 2577, 'paid': 837, 'anybody': 433, 'gon': 4208, 'need': 6889, 'thang': 762, 'close': 1055, 'heat': 929, 'melt': 92, 'girlfriend': 282, 'kicked': 180, 'jay': 345, 'z': 539, 'nice': 1013, 'guy': 595, 'sweet': 789, 'times': 1350, 'crazy': 1970, 'climb': 146, 'alive': 540, 'seem': 400, 'trouble': 540, 'devil': 563, 'lord': 1310, 'trust': 955, 'wish': 1200, 'hug': 175, 'disappear': 146, 'going': 2277, 'ride': 3184, 'blowin': 398, 'wind': 351, 'outside': 599, 'lookin': 1623, 'clue': 196, 'id': 150, 'ghetto': 1166, 'struggle': 285, 'pressure': 393, 'bust': 1690, 'bright': 298, 'lights': 841, 'story': 641, 'final': 126, 'thug': 1489, 'feel': 5351, 'hustle': 757, 'mighty': 162, 'soldiers': 299, 'doin': 1432, 'surely': 70, 'knows': 688, 'late': 859, 'everyday': 872, 'twist': 342, 'babies': 271, 'away': 2953, 'youre': 210, 'music': 1668, 'anyway': 270, 'livin': 1096, 'true': 1703, 'test': 578, 'em': 9734, 'flesh': 350, 'something': 2163, 'stress': 418, 'lil': 1671, 'hood': 2272, 'crooked': 255, 'cha': 566, 'understood': 102, 'wood': 262, 'used': 1929, 'couple': 1002, 'wicked': 349, 'rhymes': 1105, 'wrote': 284, 'shine': 1050, 'folks': 330, 'eazy': 300, 'whoa': 689, 'five': 1193, 'killer': 386, 'flows': 327, 'finna': 292, 'temptation': 53, 'chasing': 191, 'satan': 130, 'famous': 275, 'haters': 835, 'calling': 406, 'greatest': 206, 'number': 880, 'fade': 440, 'spot': 1023, 'came': 2387, 'fallin': 199, 'happened': 354, 'die': 5154, 'whats': 299, 'comin': 1637, 'home': 2539, 'dome': 238, 'faded': 160, 'pain': 1357, 'stays': 82, 'ok': 422, 'fight': 1133, 'fake': 942, 'sound': 1453, 'wake': 873, 'early': 264, 'morning': 654, 'cigarette': 79, 'shower': 153, 'quickly': 108, 'gave': 1105, 'ever': 3220, 'lit': 260, 'children': 408, 'weapon': 190, 'talk': 2779, 'bless': 297, 'raise': 437, 'live': 3370, 'listen': 1489, 'west': 723, 'n': 4098, 'dub': 186, 'c': 2574, 'learn': 547, 'burned': 127, 'chance': 710, 'ones': 762, 'l': 1976, 'il': 531, 'took': 1533, 'twice': 369, 'jail': 436, 'blues': 148, 'shoes': 620, 'momma': 814, 'muthafuckin': 280, 'juice': 313, 'half': 1111, 'sack': 272, 'left': 2198, 'homie': 1072, 'scared': 800, 'block': 1845, 'cop': 536, 'seat': 377, 'dogg': 349, 'street': 1780, 'party': 1834, 'gangsta': 1302, 'raised': 388, 'backs': 125, 'swing': 470, 'fine': 749, 'terror': 125, 'seen': 1939, 'pushing': 149, 'era': 157, 'vest': 232, 'south': 802, 'represent': 360, 'rep': 389, 'falling': 320, 'busta': 440, 'ive': 126, 'talks': 120, 'wide': 363, 'sometimes': 980, 'dirty': 1093, 'talkin': 1807, 'sayin': 1194, 'pimpin': 425, 'wanted': 824, 'dead': 1862, 'jack': 506, 'ten': 801, 'twenty': 607, 'pay': 1416, 'play': 3390, 'buck': 793, 'food': 412, 'behind': 899, 'eat': 1194, 'dick': 2015, 'til': 1883, 'treat': 476, 'stick': 962, 'nothin': 1821, 'pick': 806, 'trick': 432, 'hell': 1879, 'spin': 263, 'bend': 298, 'grip': 359, 'fo': 795, 'bill': 391, 'fucked': 1082, 'type': 1109, 'weak': 477, 'moves': 345, 'goes': 1218, 'fast': 1285, 'lonely': 329, 'stupid': 554, 'switch': 463, 'role': 190, 'waitin': 356, 'se': 2265, 'naw': 381, 'county': 121, 'pimp': 632, 'hand': 1789, 'worse': 286, 'short': 390, 'sweat': 465, 'huh': 1859, 'kids': 1136, 'ends': 283, 'family': 872, 'grin': 92, 'laugh': 396, 'j': 1517, 'send': 750, 'car': 1539, 'lovin': 331, 'soon': 766, 'page': 218, 'private': 182, 'st': 374, 'changes': 88, 'worth': 506, 'blast': 627, 'tired': 722, 'bein': 379, 'poor': 279, 'stomach': 196, 'hurts': 185, 'snatch': 215, 'cops': 810, 'pull': 1937, 'sell': 808, 'cares': 101, 'hungry': 303, 'step': 1423, 'two': 3658, 'dark': 706, 'nowhere': 248, 'unless': 305, 'share': 307, 'start': 1968, 'instead': 391, 'distant': 31, 'strangers': 37, 'played': 439, 'things': 2327, 'change': 1851, 'nd': 107, 'faces': 320, 'makes': 790, 'wonder': 731, 'takes': 449, 'wasted': 122, 'actin': 516, 'tonight': 1923, 'chill': 634, 'heal': 92, 'heaven': 563, 'sent': 304, 'secret': 249, 'facts': 194, 'packed': 207, 'filled': 216, 'easy': 793, 'today': 950, 'sellin': 307, 'workin': 335, 'survive': 276, 'peace': 1062, 'streets': 1804, 'middle': 619, 'east': 675, 'drugs': 487, 'police': 683, 'crime': 411, 'givin': 420, 'smack': 247, 'jealous': 285, 'touch': 1444, 'rush': 387, 'mama': 1374, 'fool': 950, 'strapped': 352, 'lay': 1048, 'worry': 536, 'rat': 297, 'tat': 250, 'sister': 290, 'scream': 536, 'babe': 561, 'tears': 449, 'cry': 960, 'say': 9461, 'quit': 530, 'hardly': 91, 'sick': 1133, 'drinking': 262, 'bottle': 552, 'pill': 190, 'shot': 1577, 'sleeping': 187, 'speed': 343, 'whole': 2649, 'heart': 2315, 'bullet': 358, 'pills': 254, 'running': 880, 'waiting': 662, 'goodbye': 267, 'miss': 974, 'remember': 1309, 'meet': 869, 'upon': 336, 'dis': 518, 'sho': 330, 'nut': 265, 'found': 788, 'gay': 151, 'dog': 1434, 'fell': 457, 'b': 2498, 'success': 156, 'breakin': 226, 'memories': 231, 'many': 1845, 'days': 1293, 'box': 550, 'brother': 1089, 'lack': 128, 'anything': 923, 'rent': 197, 'u': 1871, 'four': 1293, 'dollars': 484, 'hundred': 945, 'bank': 569, 'kitchen': 311, 'table': 283, 'past': 826, 'dash': 258, 'making': 974, 'sin': 648, 'california': 171, 'living': 1253, 'motherfuckers': 794, 'rocks': 556, 'pockets': 407, 'spent': 339, 'six': 935, 'months': 167, 'dirt': 451, 'ticket': 144, 'learned': 297, 'gots': 279, 'homies': 732, 'laid': 333, 'shed': 149, 'clear': 557, 'ear': 356, 'knowledge': 223, 'th': 399, 'longer': 361, 'waste': 322, 'stuck': 738, 'station': 143, 'hooked': 114, 'fiend': 211, 'hip': 1060, 'recognize': 217, 'wet': 675, 'trace': 65, 'everybody': 2688, 'doctor': 316, 'flip': 773, 'brothers': 573, 'revolution': 106, 'walking': 373, 'liquor': 403, 'store': 355, 'bro': 259, 'wants': 500, 'different': 958, 'except': 135, 'become': 285, 'system': 359, 'drama': 523, 'pop': 2169, 'putting': 177, 'pro': 288, 'ill': 831, 'yet': 695, 'slow': 1427, 'window': 415, 'mood': 233, 'gimme': 651, 'pulled': 350, 'chick': 755, 'smile': 695, 'callin': 441, 'diamond': 369, 'freeze': 207, 'sip': 361, 'gucci': 349, 'chicken': 279, 'heads': 397, 'tried': 969, 'na': 1994, 'tattoo': 140, 'forever': 1078, 'else': 775, 'working': 353, 'pouring': 58, 'whiskey': 61, 'knowing': 221, 'certain': 167, 'coming': 1484, 'alone': 1296, 'motherfucking': 549, 'hurting': 76, 'end': 1462, 'body': 2776, 'lost': 1257, 'cost': 311, 'boss': 725, 'pussy': 1723, 'loss': 118, 'full': 1489, 'walk': 2255, 'crying': 199, 'healing': 43, 'lying': 267, 'gets': 933, 'losing': 207, 'piece': 652, 'hide': 628, 'sorrow': 62, 'fore': 230, 'follow': 730, 'blessed': 291, 'city': 1899, 'colder': 95, 'older': 200, 'daily': 215, 'ak': 233, 'flame': 275, 'thrown': 115, 'bit': 805, 'son': 1501, 'winning': 141, 'feeling': 1395, 'slipping': 74, 'fifth': 245, 'bunch': 296, 'truth': 906, 'outta': 947, 'rule': 296, 'brand': 522, 'keepin': 297, 'must': 1347, 'everything': 2394, 'shady': 371, 'bite': 431, 'pit': 132, 'afraid': 429, 'sunlight': 46, 'rose': 224, 'hunger': 101, 'build': 294, 'destroy': 129, 'h': 1051, 'fill': 322, 'void': 37, 'noise': 236, 'young': 2279, 'boys': 1441, 'grown': 430, 'tone': 240, 'ruin': 67, 'plans': 191, 'grace': 137, 'jones': 236, 'lion': 113, 'million': 805, 'super': 463, 'island': 219, 'cheese': 432, 'silly': 241, 'forgot': 232, 'soul': 1479, 'sense': 338, 'blue': 765, 'rough': 324, 'promised': 92, 'forty': 361, 'mistake': 196, 'north': 292, 'america': 264, 'master': 447, 'yard': 211, 'park': 411, 'turned': 542, 'gettin': 2635, 'front': 1447, 'throwing': 170, 'asked': 339, 'tore': 70, 'yes': 1816, 'bought': 760, 'va': 390, 'doe': 351, 'worked': 103, 'together': 1138, 'somebody': 1112, 'pictures': 256, 'cats': 691, 'explain': 245, 'ha': 2187, 'flash': 253, 'boogie': 228, 'expect': 183, 'wife': 525, 'break': 2123, 'power': 672, 'move': 2695, 'hatin': 437, 'chasin': 186, 'r': 1816, 'mad': 1499, 'taste': 534, 'standin': 220, 'bags': 278, 'bomb': 640, 'pretend': 228, 'holla': 712, 'spend': 869, 'cars': 738, 'mo': 1226, 'trip': 567, 'cat': 489, 'attitude': 263, 'ice': 1127, 'quite': 239, 'total': 97, 'rock': 2979, 'weight': 396, 'sexy': 479, 'shoulders': 114, 'ladies': 744, 'disco': 195, 'hips': 272, 'ho': 1505, 'la': 7004, 'gente': 186, 'di': 1968, 'non': 531, 'sa': 309, 'mio': 81, 'mi': 3464, 'dice': 291, 'pure': 216, 'che': 427, 'io': 118, 'mai': 108, 'una': 726, 'ci': 177, 'mia': 95, 'cos': 258, 'amore': 18, 'un': 2021, 'le': 1290, 'per': 199, 'fin': 126, 'al': 702, 'del': 479, 'cosa': 62, 'f': 1957, 'rode': 75, 'qui': 232, 'dove': 89, 'con': 1499, 'studio': 246, 'alle': 327, 'chi': 223, 'clip': 458, 'lake': 100, 'ja': 492, 'mess': 361, 'started': 1387, 'cup': 416, 'self': 526, 'slap': 316, 'lift': 338, 'danger': 145, 'toes': 315, 'wear': 601, 'acting': 448, 'blind': 496, 'kiss': 878, 'shall': 195, 'paint': 400, 'perfect': 510, 'picture': 655, 'tellin': 594, 'tour': 260, 'bedroom': 131, 'thinkin': 894, 'please': 1643, 'mission': 389, 'known': 632, 'drug': 389, 'blame': 399, 'became': 152, 'paper': 1275, 'word': 1741, 'twisted': 219, 'claim': 279, 'papa': 136, 'player': 467, 'truly': 161, 'beg': 121, 'lyin': 177, 'dyin': 179, 'stuff': 424, 'clown': 295, 'town': 1393, 'completely': 24, 'aim': 243, 'name': 3197, 'uhh': 529, 'met': 621, 'busy': 387, 'creep': 287, 'road': 664, 'weeks': 124, 'hurtin': 85, 'layin': 197, 'rules': 399, 'lose': 1022, 'dress': 286, 'okay': 941, 'drunk': 590, 'trippin': 429, 'nasty': 506, 'freaky': 373, 'kinda': 746, 'frontin': 348, 'honey': 391, 'nuttin': 282, 'round': 1604, 'incomprehensible': 100, 'plan': 669, 'stand': 1456, 'bottom': 456, 'chest': 665, 'grow': 485, 'starts': 204, 'doll': 48, 'extra': 340, 'cream': 434, 'tag': 280, 'team': 807, 'square': 180, 'bop': 79, 'bye': 461, 'saying': 904, 'mix': 435, 'vibe': 255, 'fifty': 377, 'pac': 438, 'playa': 518, 'spray': 295, 'hustler': 297, 'candy': 398, 'slang': 266, 'takin': 755, 'dollar': 706, 'cake': 435, 'uncle': 185, 'mention': 197, 'already': 930, 'ballin': 457, 'new': 4316, 'happen': 468, 'called': 691, 'sippin': 391, 'pack': 650, 'pre': 152, 'uno': 134, 'means': 498, 'hotter': 161, 'smash': 214, 'crossed': 91, 'seek': 106, 'hesitate': 93, 'steel': 299, 'catch': 1841, 'valley': 89, 'chrome': 476, 'keeping': 208, 'rhyme': 1049, 'wearing': 163, 'protect': 147, 'wash': 177, 'brain': 977, 'suckers': 282, 'lately': 207, 'bringing': 186, 'faster': 205, 'ground': 699, 'part': 756, 'forget': 988, 'rob': 328, 'killa': 500, 'aside': 90, 'strong': 903, 'rolling': 525, 'sorry': 650, 'unknown': 93, 'que': 6322, 'el': 3114, 'ese': 198, 'ahora': 181, 'ven': 250, 'soy': 600, 'pues': 207, 'porque': 363, 'si': 1410, 'nadie': 159, 'loco': 231, 'mas': 410, 'todo': 377, 'te': 2669, 'ser': 260, 'muy': 77, 'poco': 104, 'mis': 235, 'los': 1240, 'tiene': 215, 'q': 266, 'de': 4850, 'dan': 142, 'para': 402, 'en': 2432, 'como': 1175, 'pero': 540, 'por': 1030, 'mil': 183, 'gusta': 134, 'ver': 167, 'van': 244, 'siempre': 208, 'tengo': 374, 'eso': 269, 'es': 2796, 'bien': 406, 'idea': 118, 'vida': 427, 'ni': 388, 'voy': 283, 'hasta': 373, 'este': 264, 'algo': 65, 'aunque': 150, 'tu': 2441, 'mundo': 156, 'vivir': 99, 'han': 61, 'las': 767, 'ir': 45, 'donde': 172, 'com': 197, 'girls': 2261, 'mon': 1236, 'beware': 70, 'chains': 299, 'puttin': 371, 'runnin': 1093, 'screamin': 385, 'sounds': 348, 'dat': 1094, 'cum': 232, 'havin': 438, 'may': 756, 'ohhh': 106, 'plain': 156, 'three': 1603, 'set': 1490, 'remains': 76, 'ima': 582, 'happy': 686, 'supposed': 405, 'comes': 1187, 'minutes': 259, 'able': 172, 'matters': 80, 'boyfriend': 147, 'lame': 264, 'bigger': 487, 'thick': 358, 'mother': 925, 'yellow': 354, 'bones': 190, 'dime': 436, 'rain': 711, 'triple': 276, 'darlin': 52, 'rid': 162, 'pretty': 837, 'tight': 872, 'jeans': 498, 'toe': 275, 'woo': 431, 'direction': 113, 'glass': 396, 'order': 336, 'clock': 443, 'problems': 418, 'small': 348, 'tall': 268, 'rather': 716, 'soft': 407, 'showing': 146, 'bobby': 183, 'mma': 1034, 'cold': 1474, 'across': 425, 'dive': 57, 'bent': 151, 'beautiful': 536, 'circles': 55, 'walls': 210, 'rub': 186, 'rest': 1174, 'decision': 80, 'disguise': 86, 'bone': 1184, 'ease': 204, 'thugs': 797, 'none': 700, 'peep': 373, 'wid': 295, 'curse': 145, 'worst': 246, 'label': 236, 'droppin': 246, 'glock': 504, 'harmony': 114, 'smooth': 275, 'pump': 515, 'insane': 367, 'trigger': 267, 'decide': 126, 'murder': 996, 'creepin': 309, 'gat': 412, 'fools': 400, 'surrender': 75, 'hurt': 887, 'mine': 1763, 'sword': 81, 'nine': 953, 'knife': 223, 'favor': 111, 'wine': 529, 'jumped': 196, 'bullets': 443, 'ring': 600, 'strip': 304, 'leaves': 149, 'trees': 385, 'cap': 293, 'dig': 419, 'bound': 177, 'rip': 660, 'pullin': 196, 'blood': 1313, 'ta': 708, 'feelin': 1117, 'wire': 105, 'fence': 106, 'hittin': 325, 'po': 487, 'begin': 249, 'lady': 829, 'anymore': 195, 'mask': 251, 'roam': 67, 'earth': 473, 'purpose': 178, 'slide': 425, 'almost': 303, 'thinking': 873, 'nah': 1103, 'laughing': 186, 'mommy': 201, 'kid': 1361, 'playing': 606, 'dying': 270, 'machine': 180, 'wave': 353, 'blaze': 325, 'feels': 572, 'second': 587, 'case': 645, 'wounds': 58, 'eye': 825, 'prayer': 74, 'staring': 197, 'sight': 291, 'travel': 173, 'mexico': 75, 'course': 321, 'speaking': 175, 'code': 173, 'steal': 264, 'planned': 61, 'letting': 146, 'smart': 200, 'sucker': 274, 'holler': 176, 'minute': 792, 'apart': 275, 'walked': 297, 'standing': 382, 'gather': 84, 'realize': 274, 'looking': 1520, 'maybe': 1167, 'price': 365, 'works': 98, 'asking': 273, 'questions': 296, 'safe': 420, 'words': 928, 'loves': 280, 'flew': 100, 'strange': 214, 'leaving': 317, 'room': 970, 'locked': 464, 'growing': 136, 'hating': 237, 'dawg': 337, 'mill': 178, 'broad': 239, 'legs': 355, 'magic': 386, 'sipping': 193, 'purple': 324, 'future': 526, 'brick': 288, 'excuse': 256, 'diamonds': 686, 'lean': 460, 'flying': 190, 'energy': 205, 'tricks': 228, 'angel': 209, 'jimmy': 155, 'satisfied': 82, 'horse': 162, 'ck': 347, 'art': 261, 'pour': 589, 'dangerous': 216, 'sittin': 522, 'swear': 881, 'doors': 332, 'finished': 200, 'parents': 191, 'country': 334, 'chances': 77, 'dreams': 730, 'talked': 80, 'hours': 222, 'fact': 656, 'empty': 291, 'ohh': 285, 'stayed': 169, 'christmas': 235, 'summer': 441, 'fat': 1019, 'land': 579, 'stage': 436, 'company': 112, 'leavin': 277, 'tape': 391, 'crush': 207, 'hardest': 113, 'fair': 248, 'drag': 265, 'burn': 785, 'focus': 198, 'tip': 499, 'blows': 149, 'mark': 225, 'snap': 240, 'finger': 479, 'position': 295, 'soldier': 390, 'raw': 644, 'tongue': 397, 'water': 774, 'mom': 450, 'throwin': 327, 'pray': 639, 'loved': 319, 'pen': 403, 'crown': 254, 'king': 1109, 'golden': 140, 'stole': 175, 'ran': 449, 'throne': 139, 'bed': 713, 'calm': 257, 'watched': 109, 'lock': 560, 'shop': 289, 'oo': 229, 'eve': 198, 'beef': 712, 'year': 823, 'somethin': 1050, 'neighborhood': 273, 'blocks': 222, 'book': 315, 'problem': 678, 'loud': 576, 'hollow': 169, 'stars': 450, 'shook': 151, 'figure': 397, 'court': 299, 'judge': 282, 'dropping': 170, 'spread': 311, 'age': 262, 'major': 301, 'reason': 771, 'later': 584, 'minds': 210, 'plus': 1168, 'flames': 161, 'rolls': 179, 'drops': 128, 'spring': 83, 'bell': 127, 'men': 648, 'shape': 141, 'hollywood': 142, 'thru': 259, 'bodies': 296, 'stack': 494, 'carry': 347, 'married': 168, 'grill': 337, 'hole': 448, 'knocked': 177, 'post': 191, 'bail': 206, 'cell': 288, 'bricks': 408, 'trade': 201, 'winter': 197, 'milk': 126, 'scratch': 222, 'says': 329, 'def': 226, 'bass': 418, 'base': 279, 'looked': 331, 'regret': 97, 'hiding': 79, 'figured': 112, 'woke': 297, 'taken': 169, 'naked': 310, 'mirror': 286, 'tv': 333, 'guitar': 94, 'control': 765, 'everyone': 465, 'fit': 429, 'beauty': 149, 'das': 1202, 'leben': 211, 'gut': 254, 'durch': 144, 'noch': 453, 'denn': 514, 'ist': 1378, 'und': 3246, 'weh': 231, 'aber': 247, 'du': 2131, 'den': 1009, 'mehr': 303, 'nicht': 1168, 'au': 230, 'er': 540, 'wieder': 297, 'zu': 970, 'von': 502, 'ein': 836, 'mal': 391, 'nie': 283, 'nach': 249, 'nur': 609, 'wir': 1013, 'ne': 593, 'oder': 241, 'moment': 458, 'vision': 343, 'doch': 669, 'sich': 353, 'schon': 265, 'dann': 400, 'wird': 221, 'immer': 387, 'wie': 1048, 'der': 1472, 'auf': 1008, 'dich': 628, 'auch': 312, 'dein': 211, 'deine': 241, 'w': 676, 'welt': 171, 'dir': 475, 'sind': 453, 'aus': 396, 'dem': 2495, 'als': 342, 'ch': 154, 'listening': 226, 'wrapped': 168, 'bubble': 205, 'wrap': 159, 'grab': 914, 'shooting': 155, 'screaming': 342, 'rapper': 550, 'lick': 563, 'lips': 519, 'piss': 232, 'passed': 260, 'og': 193, 'grass': 196, 'win': 646, 'barely': 174, 'moved': 166, 'watching': 382, 'guys': 343, 'weed': 1287, 'pot': 232, 'lungs': 112, 'kind': 691, 'amazing': 166, 'hater': 284, 'star': 901, 'bottles': 489, 'trash': 386, 'class': 476, 'ace': 197, 'friends': 1622, 'benz': 567, 'dream': 979, 'v': 774, 'plug': 280, 'joe': 375, 'belong': 189, 'rocky': 108, 'ears': 211, 'shaking': 158, 'aching': 27, 'parts': 98, 'places': 253, 'lots': 124, 'hearts': 258, 'someone': 696, 'journey': 90, 'sleep': 1165, 'split': 464, 'recall': 52, 'stood': 120, 'generation': 101, 'pages': 50, 'pride': 270, 'died': 333, 'somewhere': 206, 'side': 1934, 'given': 171, 'runs': 96, 'automatic': 201, 'child': 608, 'passing': 78, 'traffic': 143, 'breathe': 441, 'threw': 244, 'hat': 499, 'driving': 185, 'york': 750, 'map': 171, 'finally': 328, 'fellas': 196, 'holes': 158, 'touched': 186, 'shinin': 219, 'feet': 791, 'softly': 58, 'add': 178, 'snake': 144, 'rise': 453, 'fam': 237, 'christ': 181, 'battle': 446, 'keys': 462, 'breeze': 193, 'higher': 373, 'sue': 90, 'groove': 171, 'news': 326, 'bus': 449, 'chicks': 421, 'wack': 394, 'felt': 494, 'wealth': 116, 'clique': 334, 'underground': 355, 'witness': 288, 'spittin': 262, 'job': 668, 'remain': 210, 'join': 134, 'solo': 640, 'dude': 518, 'eating': 222, 'scene': 459, 'bump': 426, 'pie': 135, 'deck': 193, 'card': 217, 'beats': 650, 'sex': 989, 'dawn': 204, 'birds': 257, 'solid': 98, 'sean': 201, 'lines': 333, 'trap': 443, 'lucky': 195, 'eatin': 242, 'shawty': 825, 'dip': 362, 'hidden': 72, 'shut': 642, 'shoulda': 221, 'whip': 674, 'chips': 252, 'glad': 274, 'seeing': 260, 'stash': 276, 'ex': 234, 'dust': 282, 'funky': 555, 'monkey': 198, 'hoo': 117, 'boo': 632, 'animal': 153, 'sudden': 91, 'season': 211, 'bleeding': 71, 'main': 293, 'everytime': 257, 'born': 883, 'hair': 715, 'yesterday': 236, 'showed': 179, 'thanks': 230, 'wild': 732, 'remind': 178, 'mm': 137, 'dad': 273, 'pool': 164, 'johnny': 90, 'shining': 201, 'bridge': 515, 'ridin': 871, 'train': 380, 'aye': 718, 'prove': 291, 'track': 746, 'pieces': 193, 'dj': 952, 'lemme': 308, 'lets': 845, 'blowing': 237, 'sir': 159, 'deserve': 328, 'honor': 110, 'singin': 160, 'nuh': 495, 'anywhere': 188, 'missed': 153, 'bin': 622, 'jewels': 289, 'choose': 371, 'stare': 218, 'wrist': 425, 'neck': 745, 'key': 380, 'settle': 168, 'foot': 332, 'mike': 428, 'brighter': 65, 'kickin': 306, 'askin': 221, 'losin': 133, 'dreamin': 164, 'happiness': 67, 'lived': 125, 'difference': 171, 'bar': 558, 'week': 469, 'chase': 433, 'edge': 121, 'followed': 42, 'model': 199, 'plenty': 310, 'human': 240, 'faith': 219, 'wait': 1547, 'constant': 40, 'special': 399, 'least': 329, 'imagine': 248, 'handle': 517, 'mile': 164, 'exactly': 173, 'spill': 119, 'thank': 618, 'original': 203, 'brooklyn': 378, 'youth': 176, 'mornin': 220, 'stopped': 190, 'fame': 613, 'lane': 280, 'stops': 123, 'corner': 568, 'breaks': 140, 'teach': 342, 'mankind': 28, 'industry': 242, 'great': 562, 'history': 250, 'mystery': 96, 'platinum': 284, 'grey': 135, 'divine': 78, 'answer': 267, 'fate': 155, 'freedom': 233, 'attack': 315, 'skills': 263, 'imagination': 41, 'confused': 151, 'woods': 93, 'jet': 386, 'whether': 350, 'shore': 46, 'zone': 463, 'joint': 221, 'reflection': 62, 'wheels': 229, 'drivin': 160, 'flo': 264, 'cast': 75, 'leather': 219, 'motion': 200, 'windows': 199, 'monday': 111, 'sunday': 179, 'san': 95, 'missin': 175, 'ceiling': 177, 'inch': 180, 'wheel': 277, 'addicted': 261, 'walks': 82, 'bumpin': 219, 'sisters': 109, 'voices': 102, 'passion': 186, 'ecstasy': 89, 'sunset': 45, 'shy': 81, 'enjoy': 159, 'attention': 389, 'slip': 373, 'dudes': 241, 'bay': 229, 'business': 835, 'hurry': 166, 'smell': 460, 'joy': 153, 'hi': 464, 'strap': 250, 'flag': 123, 'rot': 46, 'stone': 267, 'celebrate': 123, 'cage': 114, 'killing': 351, 'haze': 82, 'blew': 223, 'vamos': 186, 'dale': 420, 'toy': 123, 'pa': 1156, 'ella': 360, 'conmigo': 156, 'estas': 143, 'sale': 124, 'quiero': 394, 'esto': 259, 'nos': 267, 'natural': 155, 'piel': 54, 'su': 324, 'noche': 227, 'mit': 717, 'et': 321, 'ku': 37, 'tee': 264, 'sus': 81, 'ton': 196, 'chair': 158, 'calls': 153, 'mob': 240, 'az': 198, 'som': 65, 'apple': 169, 'reign': 77, 'queens': 191, 'dear': 234, 'desert': 145, 'holy': 212, 'help': 1050, 'suicide': 206, 'turning': 140, 'weekend': 172, 'stream': 31, 'ate': 143, 'voice': 425, 'moms': 261, 'thangs': 252, 'innocent': 166, 'gives': 155, 'telling': 449, 'read': 553, 'letters': 80, 'held': 195, 'feed': 397, 'lesson': 165, 'count': 478, 'promise': 436, 'shows': 343, 'admit': 203, 'pretending': 34, 'ay': 1327, 'simple': 335, 'flood': 55, 'visit': 144, 'choice': 168, 'wow': 313, 'jingle': 75, 'sixteen': 118, 'underneath': 98, 'showin': 200, 'shattered': 31, 'compare': 92, 'load': 256, 'exist': 87, 'wishin': 152, 'songs': 343, 'click': 687, 'holdin': 392, 'thoughts': 470, 'lives': 361, 'risk': 112, 'turnin': 152, 'kissin': 122, 'fist': 208, 'circle': 160, 'sober': 159, 'strength': 188, 'action': 323, 'level': 452, 'jungle': 178, 'hopin': 195, 'fish': 203, 'ur': 223, 'dropped': 326, 'shadow': 78, 'reasons': 86, 'cocaine': 246, 'bloody': 208, 'sheets': 166, 'plane': 269, 'mr': 849, 'letter': 242, 'building': 299, 'truck': 487, 'hung': 174, 'par': 145, 'homes': 177, 'daughter': 229, 'sees': 90, 'kissed': 100, 'stepped': 193, 'hall': 135, 'feeding': 53, 'ignorance': 67, 'careful': 84, 'row': 224, 'lust': 134, 'cuts': 187, 'third': 285, 'month': 186, 'hangin': 252, 'grave': 192, 'slave': 143, 'rhythm': 266, 'uptown': 263, 'lyrical': 274, 'miracle': 83, 'thirty': 252, 'thou': 196, 'begun': 58, 'spark': 247, 'fed': 231, 'aight': 277, 'gray': 121, 'mister': 179, 'explode': 95, 'looks': 377, 'rockin': 542, 'marry': 73, 'lover': 222, 'slick': 258, 'brave': 69, 'shines': 63, 'spirit': 215, 'shadows': 57, 'london': 144, 'wise': 177, 'lands': 43, 'patience': 117, 'glory': 215, 'porch': 102, 'moonlight': 45, 'rocking': 212, 'forth': 157, 'father': 515, 'wisdom': 108, 'floating': 53, 'wreck': 233, 'woman': 665, 'painted': 60, 'names': 200, 'dot': 210, 'poppin': 659, 'indeed': 178, 'screen': 124, 'anytime': 129, 'neon': 29, 'shame': 287, 'ed': 188, 'happens': 213, 'denied': 27, 'covered': 114, 'hill': 285, 'sink': 140, 'palm': 158, 'storm': 229, 'burning': 224, 'science': 113, 'fear': 573, 'selling': 248, 'grindin': 264, 'sleepin': 172, 'learning': 86, 'movin': 495, 'view': 248, 'georgia': 52, 'press': 233, 'feds': 255, 'breath': 634, 'movie': 367, 'nights': 266, 'tune': 166, 'singing': 320, 'closer': 237, 'lotta': 172, 'shirt': 353, 'hopeless': 57, 'damage': 165, 'horizon': 21, 'breaking': 205, 'cheap': 193, 'sheep': 113, 'quiet': 252, 'motherfucker': 1400, 'warning': 95, 'anyone': 188, 'dressed': 188, 'esta': 400, 'fue': 94, 'crowd': 448, 'fold': 195, 'biggie': 265, 'boom': 1370, 'mami': 379, 'blunt': 483, 'boots': 256, 'mira': 170, 'eres': 177, 'seas': 92, 'ray': 233, 'pounds': 204, 'slim': 313, 'owe': 390, 'nada': 237, 'push': 694, 'chose': 206, 'theres': 191, 'heavy': 469, 'allow': 68, 'satisfy': 21, 'written': 153, 'books': 122, 'eight': 362, 'prince': 202, 'point': 673, 'band': 287, 'james': 182, 'goddamn': 168, 'meant': 381, 'selfish': 72, 'cali': 204, 'meaning': 110, 'credit': 176, 'cards': 159, 'twelve': 184, 'missing': 302, 'hanging': 178, 'proud': 208, 'flat': 205, 'worlds': 85, 'biggest': 130, 'dr': 387, 'hotel': 142, 'heels': 106, 'warm': 234, 'blinded': 55, 'wo': 224, 'shout': 473, 'drank': 204, 'named': 275, 'betta': 359, 'harm': 96, 'arm': 335, 'versace': 296, 'suit': 180, 'meat': 197, 'john': 310, 'downtown': 161, 'lee': 137, 'spell': 110, 'closing': 46, 'person': 190, 'moving': 453, 'crash': 208, 'fingers': 287, 'monster': 165, 'gain': 156, 'um': 529, 'champagne': 254, 'album': 409, 'michael': 185, 'bridges': 28, 'saint': 79, 'candle': 102, 'upside': 88, 'dame': 205, 'millions': 159, 'ye': 167, 'trill': 256, 'nervous': 151, 'guilty': 100, 'usually': 193, 'text': 183, 'hopes': 63, 'crystal': 91, 'salt': 75, 'louder': 151, 'punch': 210, 'sold': 412, 'bastard': 130, 'kicks': 159, 'beach': 291, 'sand': 143, 'bling': 295, 'ashes': 110, 'rope': 120, 'victim': 158, 'heading': 52, 'telephone': 53, 'rings': 285, 'record': 629, 'hello': 338, 'within': 227, 'queen': 348, 'birth': 136, 'also': 276, 'dre': 562, 'common': 249, 'mic': 1213, 'nearly': 54, 'evening': 88, 'welcome': 401, 'muthafucka': 278, 'easily': 104, 'microphone': 357, 'joke': 239, 'lead': 459, 'lied': 123, 'rewind': 165, 'fan': 285, 'afford': 144, 'bands': 203, 'hoping': 193, 'fortune': 88, 'dreaming': 146, 'concrete': 153, 'bury': 175, 'suffering': 46, 'wound': 43, 'kicking': 142, 'waves': 85, 'french': 147, 'brings': 113, 'wondering': 124, 'vas': 176, 'chaos': 36, 'metal': 207, 'granted': 59, 'surprise': 160, 'dinner': 186, 'bare': 128, 'strike': 157, 'mass': 93, 'mental': 242, 'limit': 240, 'ninety': 155, 'steppin': 219, 'enemy': 271, 'deadly': 115, 'aw': 146, 'mud': 148, 'chosen': 82, 'spoken': 88, 'weather': 216, 'eternal': 71, 'heavens': 50, 'wherever': 201, 'raps': 315, 'flex': 370, 'enemies': 368, 'prayers': 63, 'mac': 400, 'mayne': 295, 'sea': 255, 'distance': 125, 'stories': 195, 'laughed': 51, 'gates': 111, 'unto': 17, 'billy': 116, 'cadillac': 197, 'spending': 215, 'video': 202, 'stacks': 307, 'ca': 127, 'ce': 153, 'eu': 129, 'fi': 788, 'casa': 144, 'ai': 313, 'lyrics': 611, 'large': 220, 'beyond': 222, 'bond': 210, 'jam': 375, 'drove': 105, 'riot': 104, 'often': 148, 'aware': 72, 'glow': 169, 'helpless': 17, 'clean': 659, 'steps': 178, 'shoulder': 224, 'paradise': 165, 'ich': 4157, 'fr': 157, 'mir': 688, 'hab': 445, 'sein': 172, 'alles': 374, 'wenn': 633, 'sie': 839, 'mein': 360, 'weg': 167, 'echo': 153, 'kein': 245, 'hier': 390, 'des': 308, 'viel': 155, 'mich': 748, 'bis': 196, 'uns': 426, 'present': 103, 'boat': 199, 'sunny': 70, 'suppose': 152, 'paul': 201, 'whatcha': 198, 'force': 275, 'miles': 226, 'mercy': 175, 'souls': 123, 'demon': 73, 'bleed': 270, 'spirits': 37, 'prison': 207, 'hay': 486, 'rotten': 82, 'opened': 92, 'shades': 179, 'tan': 210, 'grabbed': 163, 'highway': 103, 'roses': 54, 'lovers': 78, 'ocean': 175, 'mountains': 50, 'bird': 286, 'clouds': 191, 'date': 247, 'slowly': 178, 'bow': 470, 'swallow': 212, 'birthday': 125, 'shes': 122, 'shoe': 168, 'seasons': 59, 'didnt': 138, 'sabes': 226, 'sur': 222, 'tennessee': 29, 'tree': 296, 'whenever': 308, 'searching': 143, 'conversation': 128, 'wishing': 137, 'notice': 215, 'snow': 176, 'broken': 340, 'grief': 34, 'mek': 269, 'darkness': 120, 'bam': 153, 'inna': 324, 'tragedy': 52, 'awake': 116, 'walkin': 479, 'seein': 179, 'lifetime': 104, 'fought': 65, 'army': 151, 'fashion': 130, 'memory': 154, 'roads': 42, 'sets': 57, 'sins': 73, 'vain': 105, 'preacher': 83, 'ki': 139, 'buddy': 168, 'slay': 141, 'blade': 102, 'knocking': 111, 'stopping': 118, 'thunder': 102, 'lightning': 88, 'writing': 140, 'fighting': 174, 'setting': 35, 'worries': 45, 'je': 992, 'comme': 216, 'les': 542, 'dans': 333, 'est': 632, 'pas': 415, 'suis': 283, 'vie': 86, 'qu': 322, 'tes': 67, 'mes': 135, 'mais': 167, 'nous': 81, 'rien': 79, 'tout': 143, 'quand': 90, 'toi': 101, 'une': 184, 'flavor': 210, 'tony': 254, 'drum': 234, 'wasting': 64, 'willing': 127, 'eternity': 33, 'hail': 88, 'fix': 227, 'slippin': 196, 'ooo': 73, 'funk': 659, 'others': 259, 'wars': 99, 'veins': 105, 'whore': 116, 'false': 105, 'toss': 168, 'shade': 69, 'numbers': 168, 'dee': 137, 'tough': 313, 'dreamed': 63, 'sat': 141, 'toys': 90, 'watchin': 354, 'fancy': 178, 'situation': 300, 'carried': 52, 'reached': 61, 'headed': 261, 'belly': 191, 'seconds': 134, 'offer': 73, 'religion': 109, 'sang': 70, 'foreign': 228, 'wipe': 162, 'gate': 140, 'tie': 195, 'breed': 103, 'guard': 162, 'knowin': 257, 'mail': 190, 'falls': 105, 'dies': 109, 'bustin': 395, 'proof': 269, 'anger': 84, 'bringin': 246, 'laws': 139, 'compton': 338, 'sadness': 13, 'although': 78, 'bread': 545, 'throat': 249, 'drinkin': 311, 'puff': 286, 'chamillionaire': 273, 'cruise': 121, 'wont': 395, 'pulling': 188, 'gift': 211, 'shakin': 212, 'hills': 92, 'radio': 376, 'guide': 70, 'violence': 219, 'created': 105, 'laying': 127, 'hype': 245, 'public': 194, 'fever': 71, 'waited': 74, 'sweetheart': 46, 'dah': 135, 'weird': 66, 'heartbeat': 60, 'chris': 302, 'blown': 207, 'rage': 106, 'cared': 57, 'precious': 115, 'zum': 148, 'weil': 255, 'nichts': 201, 'nacht': 115, 'jetzt': 294, 'ihr': 392, 'whistle': 77, 'lamb': 88, 'mountain': 156, 'advice': 127, 'path': 212, 'treasure': 52, 'shallow': 26, 'bells': 112, 'drip': 174, 'stones': 132, 'yup': 316, 'drown': 132, 'friday': 165, 'saturday': 144, 'horror': 41, 'ba': 385, 'thee': 70, 'funeral': 113, 'seed': 167, 'tracks': 270, 'roots': 120, 'skin': 488, 'wonderful': 95, 'dancin': 230, 'otra': 130, 'dos': 174, 'esa': 182, 'cuando': 405, 'quien': 168, 'dia': 86, 'presence': 139, 'becomes': 59, 'iron': 133, 'ending': 77, 'signs': 185, 'wander': 22, 'screams': 55, 'image': 106, 'endless': 37, 'lip': 188, 'mc': 931, 'simply': 106, 'cure': 63, 'impossible': 91, 'prepared': 151, 'important': 122, 'shock': 195, 'release': 181, 'arms': 303, 'crawling': 40, 'heroes': 32, 'angry': 90, 'believing': 47, 'greater': 69, 'stronger': 138, 'begins': 59, 'creation': 48, 'american': 151, 'knee': 106, 'spine': 129, 'liar': 102, 'forced': 77, 'suffer': 85, 'waking': 50, 'bills': 279, 'counting': 157, 'list': 232, 'bitter': 92, 'tied': 118, 'decay': 15, 'fills': 39, 'silver': 95, 'spare': 80, 'hardcore': 231, 'ignore': 140, 'silence': 172, 'score': 181, 'fa': 201, 'ka': 125, 'ik': 62, 'eh': 435, 'hmm': 135, 'leads': 33, 'beating': 118, 'inner': 113, 'sacrifice': 115, 'relax': 285, 'nature': 178, 'seeds': 135, 'thinks': 120, 'damned': 92, 'near': 356, 'mistakes': 114, 'winner': 122, 'regrets': 53, 'forgive': 235, 'search': 179, 'familiar': 92, 'starting': 107, 'deny': 110, 'create': 120, 'forest': 63, 'knockin': 225, 'biz': 283, 'needs': 278, 'torn': 80, 'accept': 105, 'buried': 106, 'pissed': 198, 'nerve': 121, 'pink': 285, 'panic': 169, 'realized': 63, 'wrath': 63, 'greed': 97, 'beginning': 153, 'kingdom': 89, 'heavenly': 44, 'savior': 73, 'praise': 214, 'longing': 9, 'weary': 24, 'shelter': 54, 'restless': 18, 'tus': 181, 'vez': 141, 'amor': 265, 'luna': 56, 'entre': 115, 'cuerpo': 129, 'quieres': 241, 'cielo': 43, 'estoy': 248, 'hacer': 122, 'pi': 141, 'aqu': 166, 'ti': 511, 'puedo': 131, 'sabe': 142, 'siento': 98, 'tanto': 65, 'led': 76, 'backwards': 128, 'fades': 75, 'command': 33, 'match': 244, 'burnin': 168, 'nan': 45, 'deeper': 170, 'destiny': 132, 'doo': 293, 'answers': 88, 'sons': 107, 'constantly': 120, 'fallen': 90, 'flies': 52, 'misery': 80, 'beside': 149, 'prepare': 165, 'gravity': 74, 'violent': 159, 'hatred': 55, 'george': 115, 'complete': 134, 'bist': 271, 'eine': 131, 'hast': 194, 'macht': 173, 'geht': 269, 'seh': 323, 'choke': 178, 'slaughter': 97, 'dare': 214, 'getcha': 263, 'changing': 125, 'destruction': 69, 'core': 78, 'hush': 65, 'onto': 63, 'bear': 145, 'liked': 109, 'disease': 78, 'hearing': 122, 'needed': 229, 'existence': 52, 'fucker': 187, 'burnt': 73, 'pon': 265, 'string': 87, 'strings': 113, 'yah': 290, 'yuh': 1217, 'wah': 86, 'wolf': 43, 'woah': 379, 'sacred': 37, 'waters': 49, 'whispers': 24, 'thin': 150, 'shootin': 237, 'beer': 183, 'pleasure': 116, 'madness': 106, 'cryin': 188, 'pity': 92, 'rape': 73, 'midnight': 106, 'faithful': 49, 'likes': 175, 'seemed': 70, 'moments': 64, 'raining': 62, 'sh': 191, 'cowboy': 87, 'stranger': 79, 'hah': 327, 'ad': 127, 'bob': 177, 'leg': 155, 'cruel': 62, 'chop': 245, 'suddenly': 53, 'visions': 79, 'nightmare': 96, 'fail': 179, 'drifting': 18, 'criminal': 199, 'southern': 124, 'ojos': 106, 'tiempo': 198, 'estar': 98, 'alma': 51, 'rains': 55, 'grew': 278, 'justice': 111, 'confusion': 67, 'ra': 130, 'zeit': 179, 'kann': 216, 'refrain': 106, 'rainbow': 50, 'ended': 75, 'somehow': 82, 'flyin': 136, 'spinnin': 134, 'cloud': 120, 'castle': 84, 'begging': 74, 'sad': 371, 'ugly': 204, 'jumpin': 196, 'praying': 126, 'escape': 215, 'shared': 58, 'secrets': 63, 'fault': 153, 'hace': 95, 'puede': 76, 'cada': 83, 'eminem': 297, 'worship': 88, 'dentro': 86, 'li': 115, 'wore': 75, 'powers': 44, 'eyed': 96, 'bom': 156, 'daylight': 65, 'pra': 108, 'ou': 94, 'tempo': 91, 'darling': 85, 'hoy': 107, 'todos': 156, 'forgotten': 44, 'burns': 60, 'thrill': 72, 'fears': 67, 'warriors': 91, 'david': 137, 'jane': 93, 'ko': 150, 'ga': 60, 'tearing': 50, 'summertime': 59, 'rebel': 89, 'wa': 131, 'tick': 83, 'drums': 117, 'saving': 59, 'revenge': 106, 'det': 58, 'emotions': 85, 'signed': 165, 'drift': 44, 'texas': 190, 'silent': 127, 'beneath': 77, 'ey': 205, 'sharp': 115, 'shell': 128, 'dum': 186, 'bei': 192, 'vor': 148, 'gibt': 158, 'wei': 207, 'asleep': 106, 'ding': 190, 'tale': 50, 'guilt': 22, 'bo': 209, 'sinking': 34, 'fading': 39, 'desire': 115, 'sake': 84, 'seats': 161, 'forward': 139, 'hearted': 61, 'weep': 20, 'victory': 75, 'innocence': 24, 'defeat': 75, 'sail': 41, 'flowing': 68, 'draw': 226, 'numb': 121, 'nunca': 240, 'mejor': 113, 'mixed': 157, 'flowers': 90, 'ripped': 95, 'ashamed': 130, 'goodnight': 39, 'forgiveness': 36, 'garden': 95, 'pillow': 106, 'note': 178, 'dreamer': 98, 'dim': 56, 'meine': 264, 'dass': 211, 'appear': 78, 'senses': 31, 'rising': 59, 'lazy': 110, 'spoke': 118, 'finding': 59, 'hunt': 78, 'os': 92, 'towards': 55, 'rum': 100, 'sei': 94, 'sag': 209, 'thy': 49, 'promises': 56, 'ms': 161, 'holiday': 77, 'romance': 76, 'among': 38, 'sings': 28, 'laughter': 80, 'troubles': 29, 'coz': 125, 'tells': 56, 'fields': 24, 'mary': 195, 'trail': 53, 'tail': 85, 'nails': 99, 'electric': 57, 'sore': 73, 'contigo': 85, 'sol': 124, 'sono': 121, 'vi': 94, 'quando': 103, 'sempre': 46, 'kills': 64, 'scars': 72, 'torture': 52, 'tiny': 32, 'reaching': 50, 'drives': 43, 'smiles': 48, 'embrace': 67, 'santa': 87, 'merry': 74, 'kisses': 67, 'claus': 41, 'cries': 54, 'ole': 99, 'following': 55, 'leader': 137, 'breathing': 112, 'tender': 47, 'mist': 42, 'amour': 38, 'sans': 55, 'holds': 67, 'swim': 118, 'tide': 33, 'sunrise': 79, 'cried': 88, 'rivers': 25, 'darkest': 37, 'march': 62, 'elle': 90, 'moi': 183, 'whisper': 75, 'heartache': 18, 'prey': 20, 'victims': 52, 'honky': 5, 'resist': 77, 'frozen': 84, 'melody': 167, 'gal': 625, 'har': 113, 'wedding': 58, 'bu': 32, 'began': 64, 'pushed': 75, 'spinning': 110, 'sweetest': 38, 'awhile': 34, 'fires': 31, 'illusion': 33, 'aqui': 128, 'lado': 164, 'sentir': 43, 'doom': 90, 'sam': 213, 'ought': 33, 'failed': 30, 'jag': 149, 'cherry': 106, 'whispering': 25, 'foolish': 78, 'someday': 64, 'grows': 40, 'drawn': 36, 'winds': 21, 'coffee': 95, 'comfort': 44, 'washed': 68, 'autumn': 11, 'leading': 41, 'mujer': 109, 'touching': 56, 'nuff': 251, 'hallelujah': 64, 'poison': 83, 'salvation': 26, 'despair': 16, 'sides': 87, 'sunshine': 201, 'twilight': 21, 'insanity': 64, 'believed': 35, 'pum': 33, 'agony': 19, 'everlasting': 22, 'skies': 101, 'adore': 56, 'raging': 13, 'ang': 204, 'vous': 87, 'desperate': 25, 'affair': 32, 'conscience': 62, 'hai': 117, 'smiled': 40, 'flower': 60, 'weakness': 46, 'ow': 88, 'emotion': 47, 'coraz': 42, 'corpse': 29, 'bliss': 40, 'mortal': 24, 'loneliness': 16, 'drowning': 31, 'sigh': 17, 'emptiness': 7, 'tales': 46, 'dolor': 36, 'gentle': 24, 'undone': 8, 'lonesome': 12, 'waits': 18, 'och': 73, 'voc': 49, 'jeg': 5}\n"
          ]
        },
        {
          "name": "stderr",
          "output_type": "stream",
          "text": [
            "100%|██████████| 11733/11733 [00:30<00:00, 391.02it/s]\n"
          ]
        },
        {
          "name": "stdout",
          "output_type": "stream",
          "text": [
            "{'vision': 135, 'room': 680, 'come': 5810, 'decision': 60, 'dog': 391, 'day': 4187, 'breaking': 283, 'think': 3425, 'realize': 241, 'walk': 1452, 'disguise': 130, 'looking': 1280, 'truth': 922, 'set': 696, 'free': 1281, 'need': 3551, 'somebody': 685, 'push': 276, 'gravity': 76, 'kiss': 1018, 'sun': 1714, 'take': 5376, 'trip': 143, 'freedom': 281, 'wisdom': 62, 'guide': 99, 'world': 3983, 'keep': 2847, 'turnin': 60, 'spirit': 210, 'deep': 772, 'inside': 2075, 'wanna': 2544, 'darkest': 93, 'good': 3123, 'faith': 394, 'hands': 1189, 'wind': 750, 'pretending': 86, 'soft': 177, 'blows': 108, 'skin': 494, 'grey': 139, 'matter': 833, 'go': 7397, 'away': 5611, 'see': 7073, 'song': 1272, 'rise': 455, 'strong': 663, 'burns': 170, 'lives': 538, 'one': 7745, 'know': 12114, 'believe': 2051, 'power': 337, 'writing': 97, 'soon': 635, 'wrong': 1421, 'finally': 370, 'gone': 2363, 'forever': 1209, 'put': 1466, 'voice': 552, 'shoot': 268, 'lights': 589, 'moment': 554, 'night': 4194, 'disappear': 189, 'lonesome': 102, 'walks': 144, 'dirty': 343, 'mile': 68, 'longer': 309, 'sees': 137, 'miles': 338, 'faces': 225, 'train': 414, 'eyes': 3508, 'love': 10999, 'lines': 294, 'left': 1823, 'pull': 440, 'face': 1932, 'hearts': 489, 'laugh': 357, 'heads': 156, 'souls': 179, 'survive': 226, 'weather': 162, 'days': 1392, 'barely': 86, 'hold': 2071, 'life': 4909, 'let': 6155, 'weak': 229, 'soul': 1496, 'lost': 1705, 'without': 1491, 'never': 7604, 'doubt': 291, 'grace': 252, 'beyond': 312, 'compare': 34, 'though': 706, 'rains': 72, 'smile': 869, 'hear': 2229, 'prayer': 105, 'god': 1595, 'forth': 49, 'eternity': 101, 'wander': 71, 'call': 1630, 'home': 2685, 'close': 1055, 'say': 5524, 'alone': 2303, 'fall': 1721, 'hang': 396, 'head': 2227, 'reach': 422, 'hand': 1485, 'lift': 178, 'oh': 8677, 'yes': 1089, 'loved': 511, 'died': 407, 'yeah': 5399, 'fire': 1214, 'til': 460, 'takes': 567, 'yea': 229, 'nowhere': 333, 'place': 1762, 'real': 1073, 'sore': 76, 'smoking': 45, 'shit': 427, 'heart': 3788, 'big': 1134, 'everything': 2207, 'gets': 545, 'comes': 1257, 'ok': 227, 'side': 1106, 'top': 385, 'may': 863, 'light': 2135, 'end': 1803, 'warning': 102, 'nothin': 367, 'going': 1840, 'live': 1909, 'man': 3487, 'hell': 876, 'else': 879, 'want': 6498, 'mission': 70, 'time': 8029, 'legs': 172, 'despair': 78, 'walkin': 181, 'way': 5957, 'step': 420, 'paradise': 164, 'around': 3230, 'arms': 658, 'something': 2249, 'lonely': 1039, 'hero': 147, 'sitting': 273, 'boy': 1087, 'says': 608, 'like': 9981, 'hey': 2356, 'sir': 72, 'could': 4236, 'throw': 429, 'us': 2999, 'bone': 182, 'cause': 4661, 'th': 31, 'birthday': 76, 'new': 1610, 'shirt': 106, 'neck': 111, 'spine': 54, 'mine': 1333, 'feelin': 318, 'fine': 824, 'thin': 127, 'dime': 100, 'mom': 112, 'phone': 321, 'warm': 287, 'uhh': 34, 'done': 1156, 'fucked': 126, 'bit': 470, 'hard': 1664, 'luck': 302, 'went': 696, 'trail': 78, 'people': 1705, 'mind': 2783, 'jumped': 51, 'get': 7051, 'stuck': 337, 'trunk': 21, 'got': 7454, 'jungle': 55, 'looks': 393, 'books': 81, 'turns': 304, 'bad': 1441, 'learned': 239, 'burned': 156, 'turn': 1689, 'led': 100, 'another': 2065, 'watch': 911, 'run': 1870, 'circles': 102, 'dogs': 154, 'well': 3984, 'right': 4024, 'past': 693, 'em': 781, 'crush': 79, 'easy': 971, 'nothing': 2863, 'little': 3232, 'thing': 1732, 'crack': 113, 'dirt': 171, 'falling': 903, 'mouth': 378, 'seeing': 159, 'talking': 386, 'loving': 353, 'rolling': 199, 'river': 474, 'lovers': 222, 'color': 135, 'felt': 519, 'quite': 228, 'seen': 1084, 'looked': 339, 'talked': 83, 'oooh': 72, 'took': 938, 'long': 2656, 'make': 4839, 'rhyme': 93, 'story': 473, 'short': 176, 'lotta': 57, 'lies': 942, 'sell': 149, 'bring': 957, 'back': 5253, 'spend': 221, 'works': 57, 'save': 871, 'roll': 1007, 'look': 2734, 'ashamed': 72, 'together': 990, 'hate': 786, 'sisters': 70, 'brothers': 165, 'sea': 651, 'fill': 316, 'freeze': 62, 'feel': 4643, 'feels': 672, 'glass': 275, 'breaks': 162, 'feeling': 1249, 'getting': 781, 'beer': 179, 'goin': 491, 'open': 943, 'much': 2206, 'breathing': 166, 'fucking': 388, 'air': 584, 'makes': 903, 'talk': 1105, 'ground': 912, 'better': 1946, 'kissing': 77, 'girl': 2587, 'dress': 185, 'bunch': 47, 'trash': 89, 'seem': 552, 'name': 1306, 'house': 623, 'among': 84, 'men': 526, 'walking': 554, 'tall': 186, 'plan': 237, 'send': 300, 'whole': 651, 'everywhere': 379, 'pit': 29, 'grave': 224, 'gotta': 1509, 'always': 2653, 'fuckin': 109, 'nobody': 823, 'line': 970, 'decide': 125, 'suicide': 119, 'hurts': 259, 'nearly': 90, 'forget': 945, 'part': 598, 'show': 1304, 'ever': 2568, 'began': 156, 'would': 2872, 'understand': 830, 'plane': 105, 'catch': 406, 'smoke': 234, 'sky': 1180, 'beneath': 251, 'clothes': 210, 'everyone': 782, 'dance': 871, 'mountain': 241, 'holes': 96, 'shall': 230, 'merry': 154, 'tune': 129, 'mic': 12, 'yet': 491, 'stars': 695, 'planet': 73, 'reaching': 99, 'said': 3204, 'imagination': 64, 'started': 359, 'blow': 428, 'young': 714, 'crazy': 701, 'lazy': 100, 'alive': 859, 'system': 109, 'really': 1866, 'dude': 33, 'kind': 788, 'repeat': 414, 'awhile': 63, 'f': 271, 'fancy': 42, 'brought': 202, 'couple': 107, 'kids': 377, 'help': 996, 'gonna': 4636, 'sing': 1142, 'la': 3554, 'girls': 659, 'singing': 354, 'dudes': 24, 'everybody': 943, 'begins': 132, 'begin': 274, 'leather': 113, 'gods': 91, 'made': 1765, 'anyway': 358, 'met': 407, 'simply': 64, 'hope': 1248, 'dream': 1349, 'ah': 1010, 'still': 2931, 'eternal': 93, 'dying': 379, 'chance': 693, 'almost': 252, 'magic': 322, 'waits': 93, 'told': 963, 'alright': 862, 'knew': 1092, 'probably': 93, 'give': 2808, 'fight': 880, 'disease': 122, 'cure': 111, 'sacrifice': 109, 'killed': 135, 'breathe': 430, 'killing': 247, 'try': 1959, 'choice': 183, 'race': 159, 'reason': 692, 'dead': 1178, 'plain': 99, 'lot': 526, 'damned': 53, 'fool': 549, 'constant': 53, 'turning': 419, 'pray': 404, 'somehow': 265, 'every': 2735, 'moving': 337, 'sure': 873, 'baby': 4774, 'perfect': 448, 'motion': 82, 'wanted': 814, 'sorry': 460, 'sad': 550, 'ways': 384, 'understood': 55, 'tell': 3853, 'ugly': 94, 'pass': 369, 'lie': 935, 'middle': 243, 'half': 382, 'hidden': 92, 'shame': 379, 'blame': 459, 'torture': 49, 'misery': 169, 'must': 1107, 'secret': 271, 'till': 971, 'different': 402, 'prison': 79, 'even': 1406, 'cell': 61, 'already': 356, 'bars': 62, 'walls': 384, 'coming': 1472, 'babe': 388, 'stand': 1265, 'weeks': 48, 'friend': 1010, 'hide': 803, 'high': 1232, 'happened': 214, 'turned': 555, 'strange': 337, 'eye': 670, 'single': 182, 'word': 581, 'spoken': 103, 'pushed': 67, 'remember': 1167, 'lay': 662, 'broken': 918, 'walked': 325, 'sigh': 76, 'hurt': 602, 'saying': 343, 'locked': 174, 'sono': 80, 'ni': 630, 'ga': 300, 'te': 721, 'de': 2224, 'ja': 170, 'wa': 368, 'ne': 266, 'na': 1250, 'kimi': 139, 'worry': 301, 'mo': 230, 'unto': 44, 'nan': 63, 'carry': 407, 'moments': 95, 'safe': 284, 'knees': 423, 'begging': 86, 'change': 1556, 'water': 659, 'jump': 286, 'find': 2906, 'sinking': 119, 'fast': 539, 'might': 1086, 'honest': 74, 'answer': 320, 'things': 2517, 'tied': 138, 'surrender': 153, 'wait': 1136, 'final': 181, 'pleasure': 121, 'pain': 1215, 'mistakes': 185, 'cast': 161, 'black': 1057, 'wore': 88, 'lips': 402, 'drink': 497, 'holding': 467, 'supposed': 156, 'sweet': 1090, 'fallin': 174, 'pretty': 654, 'papa': 77, 'ask': 688, 'please': 1455, 'mighty': 77, 'tight': 415, 'woman': 872, 'lord': 798, 'jack': 141, 'also': 53, 'slave': 91, 'swear': 303, 'sayin': 83, 'cryin': 141, 'broad': 31, 'blue': 1033, 'happy': 710, 'married': 77, 'business': 198, 'wife': 211, 'shed': 76, 'tear': 331, 'fear': 821, 'special': 161, 'brown': 165, 'white': 676, 'control': 619, 'lick': 27, 'squeeze': 34, 'breeze': 120, 'higher': 246, 'create': 51, 'steal': 219, 'beef': 10, 'plans': 144, 'songs': 291, 'happening': 100, 'stopping': 30, 'ass': 217, 'peace': 419, 'hot': 526, 'sleep': 1058, 'wide': 330, 'satisfied': 125, 'next': 578, 'last': 1706, 'came': 962, 'mornin': 61, 'guess': 695, 'thought': 1229, 'break': 1268, 'stop': 1458, 'lovin': 279, 'write': 323, 'book': 192, 'innocent': 137, 'giving': 278, 'tears': 818, 'darlin': 186, 'clear': 444, 'sometimes': 1017, 'remind': 130, 'many': 1012, 'times': 986, 'memories': 349, 'fade': 386, 'enough': 1224, 'learn': 462, 'leave': 2051, 'summer': 493, 'slip': 223, 'london': 113, 'lane': 72, 'explain': 184, 'behind': 1053, 'pale': 84, 'green': 262, 'fields': 140, 'morning': 873, 'road': 751, 'flowers': 194, 'appear': 60, 'thick': 72, 'certain': 81, 'cuts': 106, 'small': 302, 'expect': 88, 'drifting': 85, 'upon': 620, 'town': 1028, 'darkness': 359, 'fail': 102, 'imagine': 124, 'within': 313, 'haze': 58, 'hardly': 108, 'matters': 103, 'shadow': 274, 'across': 467, 'leaving': 442, 'listen': 662, 'gal': 38, 'stay': 1707, 'askin': 17, 'poor': 320, 'lookin': 276, 'thinkin': 158, 'respect': 83, 'guilty': 100, 'conscience': 69, 'kept': 282, 'anything': 871, 'gave': 577, 'sleepin': 44, 'dark': 952, 'door': 1082, 'waiting': 1333, 'season': 118, 'best': 1078, 'strings': 69, 'apart': 605, 'later': 229, 'body': 606, 'belong': 287, 'someone': 1397, 'g': 227, 'heaven': 818, 'round': 1188, 'wall': 530, 'trouble': 371, 'goodbye': 723, 'promises': 136, 'beauty': 282, 'passion': 140, 'happen': 226, 'standing': 613, 'bar': 205, 'grief': 30, 'r': 303, 'shoulder': 167, 'bigger': 92, 'older': 125, 'caught': 457, 'taken': 305, 'friends': 963, 'choose': 236, 'waste': 372, 'death': 587, 'fashion': 64, 'sins': 107, 'self': 208, 'wolf': 108, 'sheep': 63, 'street': 586, 'outside': 465, 'window': 352, 'keepin': 22, 'secrets': 150, 'pillow': 61, 'promise': 357, 'tonight': 2168, 'harm': 72, 'searching': 197, 'shelter': 86, 'watching': 363, 'storm': 258, 'clouds': 266, 'heartache': 59, 'pouring': 51, 'chaos': 66, 'rain': 1156, 'devil': 384, 'beat': 564, 'hardest': 53, 'dreams': 1062, 'fears': 203, 'stranger': 190, 'lying': 317, 'pre': 50, 'dawn': 241, 'words': 1174, 'clean': 296, 'escape': 206, 'mistake': 160, 'pity': 101, 'bow': 129, 'remains': 164, 'stays': 65, 'cuz': 106, 'calling': 493, 'everytime': 81, 'cold': 1190, 'lip': 44, 'heavenly': 47, 'far': 1459, 'holy': 239, 'answers': 176, 'meaning': 102, 'price': 216, 'pay': 492, 'shines': 127, 'island': 105, 'universe': 89, 'since': 548, 'telling': 317, 'true': 1211, 'brighter': 79, 'ich': 921, 'den': 159, 'nie': 118, 'mich': 192, 'nicht': 314, 'wie': 190, 'und': 602, 'kann': 91, 'sich': 93, 'die': 1823, 'nur': 137, 'ist': 304, 'v': 100, 'zu': 179, 'bin': 146, 'leben': 78, 'da': 914, 'geht': 56, 'noch': 131, 'mehr': 80, 'alles': 141, 'auf': 146, 'nichts': 58, 'bis': 37, 'bist': 73, 'du': 566, 'immer': 88, 'mir': 224, 'mein': 72, 'wo': 344, 'n': 1224, 'ein': 240, 'tag': 64, 'sein': 79, 'das': 278, 'sind': 111, 'viel': 47, 'tu': 627, 'es': 882, 'bei': 41, 'zeit': 45, 'im': 641, 'doch': 135, 'h': 106, 'dann': 76, 'drive': 510, 'coast': 65, 'ride': 912, 'style': 146, 'twisted': 96, 'paint': 125, 'whenever': 141, 'feelings': 209, 'dry': 308, 'full': 617, 'game': 533, 'dressed': 127, 'french': 63, 'whore': 94, 'add': 51, 'flame': 213, 'kicked': 63, 'twice': 169, 'drives': 74, 'streets': 336, 'rock': 1067, 'bottom': 174, 'cries': 185, 'lady': 406, 'earth': 521, 'horizon': 115, 'greatest': 93, 'city': 768, 'land': 605, 'brave': 80, 'women': 217, 'notice': 101, 'first': 942, 'scene': 230, 'angels': 315, 'belly': 52, 'beast': 83, 'chorus': 2190, 'children': 453, 'tired': 530, 'stronger': 195, 'stands': 131, 'front': 278, 'bridges': 88, 'fence': 43, 'heal': 188, 'wounds': 56, 'care': 1245, 'nation': 87, 'revenge': 42, 'taking': 527, 'crying': 375, 'wasted': 268, 'pretend': 283, 'anymore': 707, 'losing': 274, 'meant': 383, 'lose': 909, 'drops': 59, 'cut': 516, 'silver': 246, 'el': 951, 'alma': 42, 'dame': 64, 'este': 55, 'mundo': 77, 'que': 1885, 'estoy': 81, 'quiero': 245, 'hasta': 69, 'ver': 93, 'uno': 18, 'vivir': 58, 'pero': 134, 'contigo': 45, 'tiempo': 81, 'os': 82, 'sue': 102, 'loud': 308, 'usually': 38, 'crowd': 224, 'okay': 294, 'keys': 70, 'constantly': 41, 'late': 754, 'pounds': 34, 'eat': 239, 'date': 100, 'two': 1148, 'feet': 636, 'meet': 479, 'wear': 270, 'yah': 24, 'ignore': 104, 'ohh': 203, 'living': 1039, 'threw': 126, 'aware': 51, 'shake': 620, 'trying': 819, 'ready': 635, 'touch': 716, 'taste': 340, 'miss': 662, 'admit': 103, 'sick': 478, 'lets': 214, 'start': 1021, 'billy': 81, 'bout': 380, 'kick': 201, 'cars': 122, 'funky': 30, 'boat': 97, 'tv': 214, 'brother': 310, 'news': 266, 'jimmy': 62, 'queen': 227, 'mean': 863, 'team': 32, 'stones': 92, 'revolution': 93, 'stuff': 149, 'drag': 159, 'drunk': 201, 'wine': 273, 'cat': 164, 'bed': 658, 'concrete': 38, 'known': 386, 'called': 372, 'livin': 290, 'somewhere': 454, 'along': 754, 'tried': 691, 'ya': 1706, 'wishing': 112, 'dreaming': 264, 'thinking': 561, 'recognize': 57, 'strength': 199, 'saw': 929, 'familiar': 74, 'wherever': 159, 'cross': 345, 'sings': 151, 'hanging': 273, 'headed': 84, 'path': 126, 'blood': 827, 'stone': 363, 'goes': 880, 'three': 428, 'fold': 33, 'floor': 578, 'tennessee': 20, 'child': 549, 'liar': 172, 'low': 412, 'suppose': 53, 'son': 463, 'hit': 542, 'drum': 117, 'vain': 147, 'space': 313, 'used': 947, 'knows': 1028, 'message': 115, 'kill': 561, 'unless': 101, 'spell': 171, 'tryin': 267, 'radio': 324, 'plastic': 102, 'ending': 149, 'job': 198, 'future': 370, 'highway': 203, 'reached': 65, 'opened': 120, 'mother': 538, 'father': 376, 'old': 1753, 'lived': 186, 'dancing': 314, 'bright': 428, 'guitar': 315, 'singin': 108, 'sunday': 142, 'blues': 433, 'school': 260, 'bells': 145, 'thank': 261, 'seems': 857, 'reasons': 156, 'shy': 60, 'deny': 119, 'tender': 110, 'wondering': 167, 'asked': 192, 'someday': 347, 'sa': 136, 'yo': 681, 'hi': 150, 'chi': 73, 'ima': 68, 'minds': 178, 'confused': 84, 'crime': 204, 'passing': 167, 'cry': 1262, 'holds': 131, 'mystery': 141, 'share': 268, 'sit': 523, 'wonder': 820, 'fan': 56, 'club': 130, 'christmas': 411, 'john': 158, 'album': 52, 'yellow': 95, 'brick': 40, 'stayed': 107, 'sign': 289, 'present': 40, 'society': 69, 'woods': 64, 'bet': 233, 'maybe': 1224, 'plenty': 57, 'found': 1112, 'burning': 654, 'empty': 519, 'fate': 278, 'crawling': 157, 'comfort': 143, 'sold': 153, 'dont': 525, 'destroy': 106, 'cant': 346, 'hearing': 67, 'voices': 200, 'shadows': 315, 'hopeless': 71, 'x': 763, 'play': 1092, 'games': 168, 'shaking': 114, 'forgiveness': 96, 'given': 234, 'chosen': 74, 'build': 217, 'scared': 330, 'innocence': 126, 'memory': 308, 'sent': 191, 'years': 783, 'ago': 238, 'leads': 119, 'torn': 157, 'toys': 60, 'fun': 562, 'fed': 68, 'watched': 140, 'fallen': 235, 'woo': 160, 'hoo': 90, 'waited': 162, 'number': 267, 'list': 85, 'work': 741, 'pick': 301, 'dinner': 51, 'use': 491, 'boyfriend': 46, 'money': 764, 'cool': 515, 'cover': 228, 'blown': 79, 'freak': 70, 'move': 774, 'country': 269, 'rough': 97, 'rat': 72, 'starts': 225, 'kid': 244, 'dj': 86, 'speed': 106, 'dad': 170, 'growing': 228, 'seeds': 43, 'conversation': 54, 'named': 60, 'stole': 153, 'slow': 505, 'shows': 121, 'leading': 87, 'grand': 80, 'shine': 576, 'divine': 67, 'skies': 226, 'frozen': 148, 'sound': 785, 'switch': 69, 'grows': 140, 'bitter': 166, 'selling': 68, 'soldier': 91, 'danger': 149, 'cannot': 403, 'weight': 154, 'level': 34, 'zero': 49, 'wheels': 123, 'desert': 113, 'wave': 187, 'spot': 63, 'rot': 48, 'setting': 79, 'proof': 64, 'raise': 177, 'roof': 85, 'eyed': 108, 'handle': 80, 'rivers': 68, 'running': 993, 'trade': 114, 'folks': 142, 'santa': 252, 'sipping': 21, 'mi': 665, 'hoy': 111, 'aunque': 23, 'l': 501, 'est': 233, 'aqu': 67, 'por': 366, 'fin': 61, 'si': 405, 'quieres': 13, 'al': 282, 'estar': 57, 'qu': 176, 'fue': 67, 'ti': 198, 'sur': 45, 'due': 47, 'del': 232, 'lo': 530, 'un': 726, 'su': 163, 'sol': 43, 'sus': 39, 'tan': 143, 'nadie': 76, 'las': 295, 'ir': 85, 'mejor': 50, 'county': 44, 'georgia': 50, 'ease': 114, 'gun': 415, 'joy': 234, 'slide': 119, 'underneath': 199, 'hair': 501, 'brain': 306, 'driving': 244, 'yesterday': 349, 'goodnight': 83, 'whoa': 463, 'fly': 761, 'ooh': 1150, 'fore': 33, 'wants': 419, 'ought': 59, 'treat': 208, 'honor': 56, 'rhythm': 165, 'rocks': 61, 'everyday': 296, 'somethin': 164, 'tells': 140, 'recall': 70, 'nails': 64, 'hammer': 73, 'losin': 65, 'calls': 176, 'afraid': 540, 'shade': 79, 'spread': 120, 'ones': 377, 'flowing': 30, 'ring': 341, 'doom': 28, 'instead': 198, 'snow': 225, 'gift': 104, 'year': 396, 'flows': 77, 'feed': 221, 'evil': 341, 'destruction': 72, 'bodies': 76, 'war': 720, 'machine': 177, 'keeps': 415, 'hatred': 78, 'mankind': 51, 'role': 28, 'making': 502, 'stops': 129, 'ashes': 103, 'hour': 231, 'satan': 41, 'laughing': 189, 'wings': 289, 'straight': 375, 'act': 236, 'cards': 100, 'gettin': 213, 'wise': 151, 'tellin': 58, 'facts': 43, 'judge': 87, 'jail': 58, 'justice': 88, 'runs': 132, 'table': 130, 'rule': 127, 'law': 169, 'breed': 29, 'moon': 631, 'lust': 117, 'pack': 118, 'bridge': 179, 'teeth': 131, 'hunger': 69, 'human': 261, 'hunt': 54, 'near': 393, 'deadly': 53, 'knowing': 208, 'trees': 215, 'flesh': 158, 'mass': 26, 'shape': 96, 'passed': 168, 'mirror': 288, 'crooked': 45, 'ninety': 33, 'nine': 164, 'bust': 42, 'sweat': 130, 'harder': 153, 'seven': 198, 'mess': 262, 'red': 625, 'sake': 58, 'rest': 559, 'guard': 63, 'hopin': 28, 'fading': 169, 'star': 595, 'glow': 103, 'madness': 86, 'pulling': 119, 'forgotten': 158, 'hungry': 215, 'battle': 129, 'cried': 204, 'evening': 163, 'mary': 160, 'speaking': 67, 'tomorrow': 634, 'wake': 775, 'music': 626, 'wicked': 98, 'feeding': 85, 'beside': 227, 'closing': 105, 'rather': 261, 'sink': 118, 'swim': 132, 'precious': 107, 'worth': 387, 'relax': 70, 'romance': 136, 'edge': 246, 'settle': 113, 'wont': 179, 'ive': 96, 'completely': 69, 'bones': 315, 'becomes': 81, 'cage': 69, 'blade': 61, 'throne': 79, 'apple': 62, 'stick': 191, 'tongue': 184, 'id': 40, 'salt': 58, 'per': 144, 'jag': 77, 'och': 58, 'har': 30, 'ser': 166, 'p': 191, 'som': 43, 'position': 45, 'ta': 57, 'det': 60, 'fr': 106, 'en': 1016, 'dr': 19, 'played': 257, 'return': 199, 'art': 116, 'building': 110, 'witness': 63, 'sadness': 94, 'damage': 60, 'darling': 380, 'ticket': 84, 'shore': 134, 'boys': 486, 'heard': 793, 'chances': 70, 'welcome': 196, 'flow': 173, 'state': 213, 'six': 210, 'drown': 160, 'heavy': 213, 'thunder': 179, 'lightning': 118, 'screams': 76, 'melt': 65, 'soldiers': 63, 'wire': 94, 'motherfucking': 8, 'bleed': 246, 'heat': 209, 'veins': 126, 'screaming': 226, 'surely': 115, 'figure': 152, 'sense': 267, 'sight': 341, 'cos': 202, 'party': 406, 'lover': 326, 'pop': 90, 'lead': 410, 'laid': 215, 'honey': 466, 'flat': 62, 'mood': 74, 'plate': 34, 'pour': 113, 'spill': 54, 'toast': 57, 'ghost': 155, 'comin': 511, 'figured': 68, 'dumb': 159, 'blind': 464, 'defeat': 59, 'tricks': 52, 'birds': 112, 'pen': 55, 'spark': 60, 'restless': 76, 'question': 184, 'trust': 355, 'situation': 92, 'order': 73, 'takin': 110, 'check': 156, 'none': 172, 'talkin': 214, 'hole': 294, 'cats': 59, 'trace': 58, 'smiled': 68, 'showed': 94, 'car': 483, 'bye': 374, 'angel': 414, 'questions': 125, 'asking': 156, 'promised': 89, 'sang': 126, 'bay': 68, 'ocean': 277, 'rocking': 46, 'ancient': 65, 'wonderful': 194, 'needs': 332, 'rainbow': 119, 'burn': 638, 'onto': 107, 'pieces': 229, 'rising': 185, 'finding': 115, 'needed': 292, 'keeping': 192, 'bus': 92, 'planned': 61, 'regrets': 75, 'ahead': 186, 'surprise': 139, 'daylight': 89, 'flying': 189, 'pressure': 141, 'gray': 127, 'ran': 213, 'seas': 52, 'force': 92, 'blowing': 97, 'gives': 165, 'drove': 103, 'proud': 238, 'except': 86, 'forward': 97, 'faster': 108, 'grab': 114, 'crash': 127, 'today': 1115, 'guilt': 75, 'built': 142, 'backwards': 74, 'drowning': 127, 'eu': 157, 'com': 71, 'sei': 86, 'pro': 20, 'vida': 175, 'e': 605, 'vi': 39, 'nada': 114, 'aqui': 16, 'para': 323, 'c': 535, 'mas': 132, 'mais': 83, 'um': 154, 'pra': 81, 'se': 709, 'dreamin': 64, 'mention': 48, 'burnin': 96, 'slowly': 235, 'likes': 183, 'ego': 53, 'famous': 62, 'ends': 240, 'bullshit': 54, 'adore': 68, 'stopped': 127, 'punk': 109, 'kitchen': 105, 'drop': 311, 'holla': 6, 'wish': 1022, 'drama': 47, 'kinda': 222, 'uh': 488, 'kicking': 41, 'tryna': 17, 'hat': 166, 'weakness': 44, 'mama': 528, 'drinkin': 47, 'chick': 48, 'week': 153, 'u': 259, 'deal': 169, 'shawty': 39, 'acting': 71, 'wild': 486, 'wishin': 19, 'movie': 109, 'changed': 301, 'insane': 227, 'frame': 64, 'shoulda': 26, 'peep': 13, 'either': 97, 'trippin': 27, 'creep': 45, 'crib': 9, 'dick': 58, 'cop': 47, 'least': 196, 'point': 293, 'doin': 212, 'fuck': 490, 'gon': 18, 'wet': 132, 'balls': 64, 'huh': 125, 'tiny': 110, 'grew': 101, 'daddy': 366, 'climb': 165, 'swallow': 90, 'pride': 320, 'family': 251, 'shut': 398, 'horse': 124, 'age': 126, 'twenty': 193, 'hung': 104, 'hearted': 63, 'guy': 297, 'towards': 83, 'playing': 326, 'hiding': 222, 'bare': 99, 'became': 114, 'nightmare': 74, 'illusion': 80, 'image': 79, 'born': 616, 'fell': 372, 'able': 70, 'ended': 53, 'scream': 289, 'fools': 136, 'kings': 114, 'names': 86, 'givin': 44, 'buddy': 46, 'ho': 169, 'leader': 48, 'north': 90, 'ears': 149, 'hurtin': 18, 'ball': 208, 'read': 400, 'held': 269, 'dyin': 55, 'course': 116, 'downtown': 127, 'crawl': 159, 'corner': 269, 'class': 86, 'awake': 272, 'clock': 222, 'tide': 133, 'scars': 140, 'others': 205, 'dare': 131, 'fa': 79, 'vas': 35, 'sempre': 39, 'et': 154, 'dies': 99, 'van': 108, 'dir': 166, 'flies': 102, 'surprised': 62, 'grass': 139, 'exist': 70, 'thrown': 87, 'mm': 61, 'weep': 103, 'tree': 260, 'spoke': 62, 'laughter': 110, 'fighting': 278, 'ray': 64, 'bobby': 38, 'bass': 92, 'drums': 102, 'cock': 53, 'sucker': 39, 'suckers': 14, 'suck': 82, 'rockin': 204, 'chair': 53, 'dear': 429, 'gay': 84, 'longing': 101, 'weird': 89, 'saved': 182, 'enemies': 66, 'become': 354, 'trapped': 89, 'beating': 161, 'arm': 124, 'whatcha': 95, 'stream': 66, 'picture': 312, 'flew': 65, 'mark': 162, 'bedroom': 83, 'forgive': 197, 'accept': 69, 'minute': 190, 'second': 337, 'regret': 154, 'weapon': 18, 'knife': 195, 'bullet': 92, 'hollow': 119, 'tip': 65, 'bite': 205, 'great': 436, 'tough': 112, 'hopes': 101, 'grow': 446, 'lovely': 151, 'woke': 235, 'places': 200, 'worlds': 80, 'shoes': 348, 'worked': 87, 'bubble': 22, 'spinning': 160, 'prove': 141, 'record': 117, 'studio': 12, 'listening': 193, 'york': 130, 'twelve': 43, 'track': 172, 'four': 273, 'five': 314, 'minutes': 71, 'split': 58, 'sacred': 93, 'gentle': 64, 'valley': 110, 'taught': 122, 'starting': 137, 'anybody': 165, 'stepped': 50, 'ear': 125, 'wood': 68, 'ill': 243, 'woah': 171, 'piss': 60, 'cum': 19, 'sharp': 45, 'shot': 278, 'lyrics': 83, 'sorrow': 200, 'sheets': 78, 'rose': 134, 'fades': 112, 'tearing': 78, 'endless': 162, 'nights': 420, 'pills': 61, 'buy': 298, 'crown': 139, 'load': 91, 'east': 120, 'drawn': 66, 'electric': 95, 'lately': 92, 'sugar': 110, 'bear': 126, 'bound': 191, 'realized': 51, 'hours': 262, 'damn': 315, 'sleeping': 273, 'truck': 71, 'field': 108, 'join': 112, 'bought': 125, 'cute': 31, 'toy': 50, 'string': 75, 'ding': 105, 'forgot': 122, 'bell': 132, 'king': 514, 'teach': 123, 'golden': 213, 'problem': 160, 'lack': 56, 'ate': 46, 'tie': 104, 'tracks': 74, 'doctor': 191, 'preacher': 48, 'unknown': 97, 'dreamer': 44, 'sister': 206, 'joke': 91, 'smiles': 117, 'hating': 19, 'anger': 137, 'hurting': 80, 'throat': 79, 'search': 124, 'breath': 488, 'poison': 184, 'staring': 145, 'noise': 148, 'floating': 123, 'colors': 122, 'hallelujah': 131, 'gimme': 221, 'broke': 316, 'hundred': 194, 'beginning': 164, 'carried': 67, 'ice': 189, 'pictures': 137, 'seemed': 170, 'journey': 71, 'covered': 108, 'coat': 68, 'bread': 85, 'chill': 61, 'tat': 72, 'truly': 98, 'rolls': 85, 'eating': 72, 'failed': 97, 'cheap': 111, 'gain': 63, 'gates': 81, 'complain': 65, 'youth': 93, 'twist': 143, 'murder': 141, 'willing': 62, 'jesus': 458, 'bringing': 93, 'missing': 195, 'happens': 128, 'lock': 156, 'station': 85, 'rode': 55, 'anyone': 392, 'card': 61, 'row': 107, 'saturday': 135, 'mexico': 55, 'dancin': 106, 'whiskey': 112, 'grabbed': 36, 'throwing': 67, 'blinded': 64, 'silent': 196, 'pure': 102, 'cowboy': 58, 'pockets': 47, 'silly': 84, 'thoughts': 328, 'theres': 145, 'lucky': 204, 'fat': 103, 'fingers': 219, 'offer': 107, 'advice': 83, 'youre': 263, 'count': 241, 'beats': 77, 'whispering': 65, 'mercy': 157, 'follow': 491, 'drinks': 61, 'rope': 73, 'bastard': 33, 'loose': 193, 'snap': 27, 'bloody': 76, 'han': 39, 'eve': 52, 'faded': 89, 'painted': 106, 'flight': 90, 'bill': 64, 'exactly': 88, 'steps': 82, 'owe': 84, 'demons': 86, 'protect': 52, 'sons': 50, 'undone': 86, 'bless': 88, 'curse': 109, 'view': 245, 'whisper': 171, 'kissed': 146, 'win': 389, 'sunshine': 180, 'biggest': 83, 'worries': 55, 'ten': 284, 'cook': 31, 'wearing': 132, 'jeans': 92, 'working': 353, 'private': 71, 'david': 59, 'thousand': 300, 'hills': 78, 'toe': 44, 'wipe': 110, 'grin': 60, 'whip': 47, 'army': 60, 'wedding': 56, 'lands': 33, 'suddenly': 130, 'piece': 209, 'paper': 164, 'pie': 60, 'clue': 80, 'pair': 35, 'leavin': 57, 'smell': 159, 'written': 149, 'telephone': 111, 'verse': 200, 'silence': 346, 'softly': 77, 'smiling': 126, 'sat': 123, 'nervous': 80, 'oo': 193, 'person': 99, 'speak': 376, 'hall': 93, 'pa': 164, 'ra': 49, 'smart': 100, 'milk': 63, 'sand': 262, 'park': 100, 'aching': 82, 'drugs': 65, 'flyin': 39, 'wars': 43, 'b': 239, 'mit': 167, 'az': 41, 'j': 153, 'ha': 414, 'ms': 95, 'garden': 154, 'harmony': 62, 'fantasy': 94, 'flower': 73, 'seed': 70, 'quiet': 180, 'rules': 205, 'trap': 42, 'loves': 267, 'monster': 83, 'candle': 69, 'prey': 27, 'month': 53, 'stage': 117, 'key': 171, 'pushing': 94, 'sets': 113, 'screen': 77, 'filled': 220, 'hoping': 171, 'champagne': 37, 'inch': 36, 'winning': 49, 'ridin': 56, 'hood': 39, 'riding': 137, 'mad': 212, 'suit': 91, 'windows': 96, 'aw': 41, 'w': 90, 'guts': 41, 'match': 66, 'scratch': 62, 'loaded': 68, 'incomprehensible': 66, 'yard': 75, 'liked': 72, 'sail': 136, 'ship': 157, 'dig': 150, 'johnny': 162, 'mob': 20, 'prepared': 43, 'food': 124, 'doors': 118, 'favorite': 135, 'ringing': 91, 'chest': 101, 'ghetto': 38, 'droppin': 10, 'mr': 229, 'dough': 29, 'fills': 64, 'company': 120, 'means': 223, 'signs': 126, 'roam': 66, 'lion': 47, 'stood': 179, 'bags': 68, 'rush': 118, 'fires': 70, 'fault': 138, 'fake': 161, 'funny': 229, 'loss': 85, 'attack': 98, 'aside': 88, 'dem': 72, 'jetzt': 55, 'hier': 59, 'aus': 79, 'der': 240, 'wir': 243, 'alle': 41, 'wird': 72, 'ihr': 76, 'von': 102, 'uns': 91, 'band': 238, 'hast': 37, 'wenn': 106, 'auch': 81, 'boo': 26, 'bump': 41, 'mask': 54, 'demon': 86, 'rubber': 75, 'cared': 62, 'talks': 79, 'raised': 94, 'reflection': 72, 'solo': 223, 'salvation': 83, 'creation': 56, 'patience': 59, 'ignorance': 38, 'remain': 157, 'hello': 238, 'savior': 84, 'wasting': 167, 'neon': 121, 'palm': 41, 'cigarette': 86, 'large': 24, 'bother': 134, 'afford': 73, 'tone': 21, 'hay': 202, 'algo': 45, 'mal': 182, 'amor': 168, 'una': 291, 'como': 263, 'era': 90, 'casa': 39, 'todo': 165, 'bam': 26, 'nos': 114, 'donde': 85, 'con': 335, 'cuando': 127, 'nunca': 98, 'esta': 112, 'aim': 56, 'score': 74, 'less': 304, 'thanks': 94, 'bleeding': 176, 'shell': 52, 'fist': 58, 'naked': 127, 'attention': 111, 'quarter': 39, 'learning': 97, 'changes': 161, 'cruel': 161, 'worse': 121, 'fifth': 21, 'beautiful': 729, 'simple': 261, 'daily': 39, 'strike': 100, 'heroes': 82, 'buried': 114, 'backs': 42, 'midnight': 236, 'fever': 151, 'raining': 67, 'begun': 122, 'thirty': 49, 'ex': 34, 'moved': 110, 'workin': 76, 'drivin': 71, 'roads': 90, 'mountains': 104, 'california': 162, 'winter': 247, 'layin': 18, 'south': 113, 'wrapped': 133, 'fix': 163, 'changing': 222, 'macht': 36, 'dein': 61, 'des': 76, 'lied': 132, 'er': 252, 'dich': 186, 'sie': 254, 'eine': 59, 'roses': 71, 'tale': 72, 'hill': 202, 'gas': 99, 'model': 21, 'church': 98, 'ceiling': 66, 'lean': 73, 'although': 83, 'distance': 162, 'fish': 112, 'hips': 37, 'plug': 25, 'pump': 26, 'kisses': 112, 'gate': 65, 'hug': 24, 'finish': 58, 'prince': 33, 'praise': 108, 'weg': 48, 'je': 417, 'doe': 17, 'thrill': 88, 'cocaine': 40, 'flames': 144, 'pages': 70, 'foolish': 73, 'chain': 179, 'weil': 29, 'aber': 31, 'tour': 37, 'kein': 32, 'als': 104, 'gut': 54, 'groove': 71, 'smooth': 62, 'emotion': 77, 'aint': 83, 'shining': 275, 'destiny': 117, 'fair': 191, 'didnt': 54, 'box': 142, 'letters': 81, 'bottle': 127, 'toss': 27, 'sin': 488, 'ruin': 60, 'distant': 121, 'brings': 164, 'seat': 110, 'whatever': 310, 'calm': 127, 'closer': 346, 'created': 42, 'reality': 139, 'believed': 85, 'forest': 46, 'dust': 218, 'weed': 39, 'bent': 62, 'shallow': 57, 'christ': 145, 'thy': 58, 'birth': 59, 'fi': 44, 'neighborhood': 36, 'sex': 182, 'wrote': 175, 'nice': 294, 'missed': 132, 'embrace': 106, 'lifetime': 111, 'saving': 86, 'praying': 71, 'colder': 67, 'third': 65, 'friday': 115, 'sunny': 92, 'purpose': 39, 'stare': 230, 'stupid': 200, 'foot': 141, 'shootin': 19, 'movin': 89, 'cruise': 58, 'hooked': 26, 'whose': 104, 'greed': 64, 'drinking': 110, 'form': 100, 'ripped': 46, 'k': 145, 'mortal': 29, 'kingdom': 47, 'competition': 18, 'wound': 56, 'addicted': 87, 'ace': 31, 'rings': 103, 'parents': 65, 'crew': 52, 'anytime': 78, 'guys': 152, 'crossed': 89, 'trigger': 53, 'double': 96, 'lyin': 51, 'claim': 71, 'lesson': 87, 'leaves': 256, 'bend': 117, 'winds': 120, 'strip': 27, 'closed': 151, 'hop': 42, 'spent': 246, 'runnin': 225, 'problems': 137, 'castle': 48, 'knowledge': 56, 'james': 44, 'hotel': 64, 'dan': 118, 'san': 61, 'jane': 71, 'existence': 40, 'decay': 43, 'thinks': 140, 'rebel': 44, 'desperate': 98, 'vor': 50, 'los': 368, 'todos': 48, 'entre': 44, 'soy': 161, 'va': 129, 'pas': 95, 'easily': 87, 'grown': 155, 'police': 94, 'knock': 183, 'million': 278, 'bricks': 34, 'beach': 112, 'faithful': 46, 'gold': 273, 'le': 347, 'di': 312, 'cuerpo': 28, 'dolor': 47, 'piel': 29, 'tiene': 47, 'muy': 65, 'dale': 12, 'extra': 58, 'rich': 166, 'press': 50, 'grip': 70, 'moves': 117, 'shook': 104, 'bands': 28, 'cash': 94, 'common': 71, 'page': 100, 'deserve': 110, 'touched': 89, 'beware': 59, 'generation': 79, 'porch': 45, 'packed': 74, 'map': 38, 'showing': 77, 'candy': 97, 'foreign': 44, 'laughed': 67, 'resist': 48, 'spin': 103, 'upside': 66, 'rage': 118, 'breakin': 60, 'thru': 57, 'reign': 78, 'hesitate': 48, 'chase': 134, 'spinnin': 56, 'heels': 50, 'confusion': 88, 'watchin': 45, 'dum': 119, 'wash': 200, 'wheel': 157, 'waves': 171, 'wrap': 66, 'energy': 39, 'attitude': 46, 'idea': 109, 'rollin': 120, 'action': 108, 'bank': 56, 'pole': 22, 'glory': 230, 'guns': 152, 'ku': 66, 'screamin': 34, 'hangin': 132, 'america': 103, 'months': 63, 'twilight': 67, 'zone': 74, 'american': 259, 'tragedy': 62, 'monkey': 113, 'rotten': 41, 'dive': 84, 'dip': 46, 'standin': 58, 'steel': 123, 'case': 154, 'ed': 44, 'raw': 31, 'holiday': 58, 'knocking': 67, 'dollar': 128, 'bitch': 120, 'ahh': 112, 'rape': 34, 'fit': 200, 'touching': 54, 'ohhh': 49, 'store': 127, 'cops': 59, 'coffee': 108, 'st': 82, 'wreck': 84, 'cent': 28, 'playin': 109, 'cloud': 123, 'happiness': 138, 'chasing': 130, 'lit': 69, 'drug': 82, 'chop': 21, 'animal': 124, 'erase': 107, 'asleep': 193, 'monday': 84, 'quit': 181, 'steady': 87, 'rob': 26, 'pants': 83, 'picked': 84, 'pulled': 156, 'enemy': 166, 'bob': 39, 'mall': 15, 'disco': 77, 'ladies': 98, 'sounds': 210, 'spring': 127, 'strangers': 121, 'angry': 119, 'washed': 87, 'killer': 117, 'uptown': 23, 'denied': 80, 'dos': 56, 'tengo': 103, 'mil': 19, 'mis': 85, 'ese': 41, 'siento': 52, 'eres': 56, 'eso': 32, 'q': 79, 'fortune': 93, 'base': 15, 'puff': 11, 'dash': 15, 'ahora': 70, 'esto': 34, 'bien': 98, 'voy': 68, 'gente': 58, 'staying': 73, 'paid': 161, 'crystal': 65, 'falls': 257, 'drift': 90, 'melody': 67, 'camera': 49, 'weekend': 88, 'sittin': 85, 'mack': 7, 'shades': 60, 'treasure': 53, 'worst': 132, 'microphone': 21, 'size': 74, 'hmm': 77, 'heavens': 89, 'texas': 53, 'moonlight': 117, 'callin': 104, 'suffering': 99, 'tick': 87, 'gibt': 50, 'seh': 16, 'oder': 64, 'choke': 63, 'court': 48, 'putting': 71, 'au': 72, 'flash': 62, 'hip': 112, 'refuse': 120, 'fact': 125, 'natural': 97, 'beg': 95, 'diamond': 126, 'brand': 202, 'label': 14, 'laying': 54, 'desire': 233, 'counting': 146, 'raging': 49, 'early': 163, 'ballin': 2, 'shout': 200, 'nasty': 60, 'risk': 59, 'hittin': 10, 'finger': 123, 'whistle': 41, 'master': 85, 'insanity': 46, 'victims': 39, 'west': 173, 'satisfy': 75, 'hace': 44, 'coraz': 61, 'troubles': 146, 'pot': 30, 'anywhere': 182, 'circle': 89, 'flood': 70, 'waters': 91, 'dans': 47, 'ce': 48, 'mes': 52, 'moi': 62, 'toi': 115, 'ton': 39, 'une': 78, 'tout': 40, 'il': 232, 'qui': 109, 'homes': 30, 'bang': 256, 'visions': 44, 'draw': 113, 'chains': 147, 'louder': 51, 'slap': 40, 'cotton': 36, 'religion': 96, 'blessed': 83, 'george': 43, 'rip': 91, 'bible': 54, 'uncle': 49, 'sam': 52, 'healing': 75, 'test': 108, 'bomb': 80, 'bury': 114, 'lamb': 45, 'dim': 58, 'credit': 32, 'burnt': 52, 'ooo': 179, 'tail': 66, 'trick': 69, 'careful': 61, 'victim': 71, 'type': 58, 'numb': 137, 'hollywood': 68, 'bird': 145, 'sweetest': 63, 'ye': 52, 'hurry': 109, 'lots': 106, 'rid': 28, 'shared': 71, 'prepare': 24, 'release': 77, 'tempo': 27, 'che': 172, 'quando': 52, 'io': 44, 'criminal': 38, 'cares': 166, 'sober': 32, 'forty': 85, 'gather': 92, 'serious': 33, 'cream': 45, 'winner': 48, 'blew': 77, 'deeper': 98, 'ad': 31, 'sunrise': 57, 'wanting': 134, 'direction': 100, 'worship': 70, 'fucker': 32, 'mon': 251, 'bag': 117, 'records': 58, 'glad': 231, 'hail': 57, 'brooklyn': 19, 'joe': 97, 'gang': 36, 'hustle': 18, 'block': 80, 'knocked': 101, 'knee': 49, 'yall': 6, 'holler': 32, 'daughter': 77, 'believing': 112, 'pound': 46, 'amour': 54, 'dove': 46, 'plays': 97, 'helpless': 50, 'worried': 107, 'cake': 29, 'solid': 46, 'float': 51, 'mill': 33, 'miracle': 124, 'tape': 64, 'square': 89, 'history': 174, 'excuse': 76, 'boss': 40, 'toes': 72, 'lake': 68, 'emptiness': 83, 'sunlight': 76, 'non': 236, 'amore': 34, 'mai': 52, 'mio': 21, 'pi': 62, 'hai': 25, 'suffer': 102, 'letting': 169, 'ol': 88, 'seasons': 64, 'corpse': 16, 'pace': 67, 'struggle': 57, 'chrome': 16, 'ba': 148, 'hits': 74, 'kissin': 64, 'numbers': 70, 'difference': 121, 'fame': 77, 'pool': 60, 'sixteen': 68, 'often': 118, 'babies': 51, 'fifty': 50, 'doll': 89, 'pocket': 97, 'kills': 73, 'beep': 38, 'bop': 254, 'post': 32, 'hush': 47, 'cha': 47, 'momma': 66, 'weary': 91, 'amazing': 83, 'plus': 40, 'senses': 72, 'nose': 102, 'enjoy': 58, 'sippin': 18, 'actin': 12, 'coke': 20, 'strap': 32, 'dangerous': 79, 'mixed': 39, 'eatin': 14, 'chicken': 142, 'po': 51, 'ci': 40, 'sh': 59, 'march': 100, 'mmm': 63, 'main': 54, 'motherfucker': 55, 'goddamn': 82, 'motherfuckers': 6, 'eh': 88, 'panic': 37, 'followed': 60, 'dropped': 80, 'bills': 47, 'violence': 83, 'meat': 43, 'rent': 56, 'liquor': 26, 'government': 67, 'echo': 68, 'allow': 52, 'waking': 104, 'sides': 74, 'shoe': 49, 'whispers': 45, 'dreamed': 98, 'bein': 39, 'knowin': 21, 'shooting': 108, 'coz': 63, 'smash': 52, 'paul': 32, 'estas': 38, 'nerve': 33, 'grind': 64, 'agree': 72, 'jam': 51, 'eight': 105, 'dope': 45, 'juice': 27, 'punch': 35, 'stomach': 45, 'shinin': 37, 'jumpin': 25, 'shes': 53, 'outta': 125, 'riot': 77, 'affair': 44, 'favor': 54, 'quickly': 58, 'purple': 43, 'slipping': 77, 'refrain': 57, 'sean': 45, 'player': 45, 'swing': 85, 'sunset': 58, 'z': 58, 'wit': 35, 'shorty': 8, 'sip': 42, 'public': 37, 'smokin': 24, 'joint': 34, 'chicks': 21, 'mix': 58, 'parts': 48, 'major': 26, 'steppin': 10, 'cost': 99, 'impossible': 67, 'busy': 115, 'leg': 65, 'bro': 39, 'betta': 2, 'wow': 78, 'puedo': 92, 'vez': 104, 'quien': 37, 'dice': 82, 'sabes': 19, 'esa': 28, 'par': 28, 'lungs': 70, 'southern': 60, 'millions': 40, 'pink': 45, 'rolled': 73, 'shakin': 88, 'nah': 165, 'ay': 111, 'bullets': 55, 'mist': 41, 'seconds': 51, 'spit': 92, 'pill': 66, 'hook': 54, 'snake': 67, 'shoulders': 67, 'fought': 78, 'iron': 56, 'metal': 87, 'shock': 69, 'pimp': 11, 'following': 63, 'thee': 80, 'boots': 87, 'loneliness': 98, 'indeed': 34, 'quick': 142, 'void': 57, 'greater': 88, 'finished': 34, 'letter': 173, 'flag': 100, 'seek': 82, 'girlfriend': 77, 'diamonds': 104, 'deck': 28, 'complete': 74, 'underground': 140, 'waitin': 136, 'slick': 23, 'enter': 36, 'hab': 110, 'super': 92, 'schon': 77, 'wei': 59, 'lee': 82, 'horses': 56, 'cup': 116, 'serve': 49, 'jealous': 40, 'selfish': 57, 'explode': 62, 'rum': 115, 'pum': 231, 'suis': 26, 'les': 125, 'quand': 17, 'sans': 19, 'vie': 45, 'comme': 15, 'tes': 13, 'nous': 38, 'dis': 24, 'hacer': 44, 'conmigo': 27, 'noche': 63, 'vamos': 42, 'ella': 58, 'porque': 112, 'mujer': 23, 'bliss': 58, 'whether': 49, 'squad': 13, 'sweetheart': 40, 'cada': 53, 'knockin': 64, 'pissed': 27, 'violent': 38, 'prayers': 70, 'popping': 3, 'traffic': 51, 'doo': 349, 'funeral': 42, 'mister': 70, 'laws': 59, 'ca': 29, 'thou': 28, 'ai': 81, 'bum': 45, 'note': 78, 'grill': 11, 'fresh': 47, 'empire': 32, 'sword': 49, 'lame': 33, 'bond': 16, 'vibe': 17, 'kicks': 62, 'denn': 90, 'ck': 15, 'wieder': 51, 'success': 29, 'spare': 64, 'ou': 53, 'rien': 20, 'agony': 52, 'heartbeat': 72, 'emotions': 55, 'science': 73, 'brains': 63, 'temptation': 42, 'shots': 75, 'sexy': 70, 'original': 32, 'drank': 43, 'mail': 30, 'blowin': 39, 'ven': 24, 'siempre': 121, 'gucci': 32, 'lado': 39, 'poco': 28, 'mami': 28, 'loco': 7, 'outro': 15, 'welt': 44, 'total': 54, 'tha': 12, 'tore': 62, 'stories': 131, 'strapped': 13, 'puede': 34, 'cosa': 35, 'mud': 70, 'forced': 37, 'pistol': 45, 'dome': 6, 'seats': 52, 'og': 65, 'surrounded': 42, 'seein': 19, 'ecstasy': 30, 'buck': 24, 'jones': 61, 'tales': 54, 'ka': 82, 'ko': 66, 'ang': 49, 'stacks': 7, 'autumn': 71, 'sale': 70, 'cadillac': 53, 'dollars': 45, 'chasin': 25, 'bitches': 24, 'hoe': 15, 'compton': 5, 'butt': 19, 'wrist': 35, 'powers': 19, 'tanto': 58, 'aah': 71, 'intro': 26, 'sudden': 38, 'video': 39, 'saint': 81, 'bom': 40, 'nae': 37, 'clap': 33, 'ow': 66, 'hotter': 18, 'tattoo': 74, 'wealth': 32, 'shattered': 62, 'chose': 70, 'whats': 58, 'hatin': 1, 'fellas': 17, 'chips': 22, 'pues': 17, 'flex': 4, 'thats': 129, 'college': 38, 'jet': 100, 'celebrate': 48, 'otra': 60, 'inner': 29, 'makin': 138, 'ey': 24, 'cap': 15, 'jewels': 20, 'heading': 87, 'shower': 42, 'horror': 53, 'nature': 83, 'flip': 27, 'mommy': 23, 'false': 76, 'pullin': 23, 'queens': 42, 'marry': 56, 'platinum': 16, 'homies': 4, 'lil': 32, 'flavor': 21, 'rub': 51, 'killa': 4, 'aye': 21, 'funk': 24, 'slaughter': 27, 'honky': 31, 'poppin': 10, 'tus': 72, 'spirits': 49, 'visit': 39, 'important': 50, 'sentir': 47, 'cielo': 65, 'luna': 28, 'havin': 41, 'killin': 38, 'stack': 37, 'slippin': 33, 'victory': 56, 'click': 17, 'shop': 54, 'mc': 20, 'terror': 52, 'signed': 21, 'vous': 32, 'ch': 28, 'thugs': 6, 'mental': 41, 'rewind': 33, 'triple': 14, 'bottles': 29, 'chris': 13, 'core': 38, 'boom': 87, 'spending': 25, 'ki': 48, 'travel': 80, 'granted': 45, 'meine': 42, 'everlasting': 30, 'summertime': 45, 'deine': 30, 'nacht': 44, 'ik': 228, 'dat': 117, 'booty': 7, 'bumpin': 8, 'rocky': 44, 'focus': 44, 'nd': 25, 'rhymes': 26, 'stress': 34, 'mike': 22, 'bail': 21, 'command': 59, 'code': 41, 'blast': 45, 'dub': 18, 'dee': 106, 'blunt': 2, 'holdin': 37, 'clown': 74, 'getcha': 16, 'dia': 24, 'gots': 1, 'bling': 4, 'nut': 13, 'sag': 42, 'durch': 22, 'nach': 42, 'dentro': 54, 'roots': 52, 'fo': 19, 'puttin': 41, 'nuts': 11, 'blocks': 24, 'limit': 33, 'slim': 12, 'showin': 17, 'sellin': 19, 'kickin': 45, 'wah': 66, 'hardcore': 16, 'blaze': 22, 'bounce': 27, 'tony': 30, 'rap': 40, 'lyrical': 3, 'snatch': 19, 'rappin': 4, 'rappers': 4, 'slang': 18, 'automatic': 21, 'represent': 10, 'weh': 4, 'industry': 19, 'bo': 34, 'jingle': 61, 'text': 11, 'sack': 28, 'creepin': 12, 'missin': 31, 'muthafucka': 30, 'presence': 43, 'imma': 2, 'claus': 94, 'ur': 10, 'fiend': 6, 'ojos': 38, 'wack': 5, 'jeg': 160, 'chillin': 16, 'ole': 43, 'sho': 13, 'nuff': 1, 'mia': 20, 'fans': 21, 'behold': 40, 'hah': 13, 'freaky': 8, 'boogie': 62, 'range': 32, 'dah': 26, 'haha': 6, 'wrath': 11, 'frontin': 7, 'tee': 7, 'spray': 11, 'bringin': 16, 'mira': 8, 'drip': 75, 'michael': 19, 'fam': 7, 'mma': 4, 'duck': 28, 'couch': 30, 'pussy': 24, 'stash': 4, 'li': 41, 'dass': 25, 'dot': 9, 'homie': 8, 'gangsta': 6, 'jay': 4, 'rapper': 7, 'gusta': 14, 'mac': 11, 'shady': 20, 'grindin': 5, 'slay': 8, 'zum': 16, 'sabe': 19, 'skills': 10, 'warriors': 23, 'biz': 9, 'elle': 42, 'voc': 109, 'smack': 11, 'lemme': 10, 'vest': 9, 'benz': 6, 'dropping': 16, 'flo': 8, 'motherfuckin': 2, 'raps': 3, 'pon': 3, 'cheese': 18, 'nuh': 10, 'thang': 10, 'thangs': 1, 'nigga': 19, 'pimpin': 1, 'cherry': 61, 'playa': 3, 'hype': 7, 'clip': 8, 'thug': 4, 'pac': 2, 'cali': 5, 'nuttin': 4, 'throwin': 6, 'def': 11, 'biggie': 5, 'hoes': 10, 'gat': 1, 'versace': 1, 'ak': 5, 'bu': 46, 'wid': 5, 'yuh': 1, 'mek': 1, 'moms': 4, 'spittin': 2, 'naw': 5, 'bustin': 7, 'niggaz': 2, 'haters': 2, 'hustler': 6, 'dawg': 3, 'niggas': 7, 'dre': 1, 'clique': 3, 'hater': 6, 'rep': 1, 'inna': 1, 'yup': 1}\n"
          ]
        },
        {
          "name": "stderr",
          "output_type": "stream",
          "text": [
            "100%|██████████| 8274/8274 [00:12<00:00, 658.76it/s]\n"
          ]
        },
        {
          "name": "stdout",
          "output_type": "stream",
          "text": [
            "{'dont': 197, 'get': 4261, 'much': 1702, 'feels': 355, 'like': 7504, 'sky': 726, 'clear': 228, 'sun': 1220, 'bright': 418, 'aint': 79, 'looking': 611, 'forward': 30, 'night': 3526, 'cuz': 65, 'cold': 919, 'chill': 42, 'im': 182, 'gonna': 3660, 'feel': 1872, 'sorry': 285, 'know': 7305, 'fault': 65, 'mine': 1391, 'guess': 869, 'theres': 63, 'nothing': 1174, 'left': 1602, 'try': 917, 'pack': 146, 'bags': 35, 'cannot': 176, 'deny': 44, 'last': 1502, 'goodbye': 836, 'always': 2245, 'tough': 156, 'times': 860, 'without': 968, 'getting': 408, 'burned': 167, 'took': 963, 'granted': 50, 'said': 2760, 'never': 4894, 'leave': 1393, 'turned': 525, 'walk': 1108, 'away': 2967, 'told': 854, 'loved': 806, 'time': 5523, 'late': 607, 'close': 796, 'door': 991, 'begin': 97, 'cry': 1207, 'think': 2288, 'found': 1100, 'way': 4572, 'back': 4489, 'home': 3000, 'loose': 120, 'many': 854, 'things': 1642, 'love': 12111, 'grow': 429, 'missed': 153, 'days': 960, 'kid': 210, 'fear': 183, 'became': 65, 'shadow': 81, 'swear': 174, 'wherever': 139, 'heart': 4391, 'call': 1192, 'though': 662, 'feet': 471, 'may': 911, 'take': 3155, 'far': 937, 'made': 1424, 'falling': 423, 'place': 1267, 'land': 465, 'somewhere': 483, 'distance': 80, 'heard': 715, 'calling': 260, 'oh': 5442, 'hurts': 186, 'bad': 790, 'let': 3798, 'go': 5089, 'hand': 1313, 'even': 1271, 'high': 784, 'low': 437, 'friends': 652, 'still': 2673, 'alone': 1490, 'find': 1947, 'darkest': 46, 'god': 1208, 'forgive': 185, 'minds': 73, 'born': 501, 'roam': 110, 'mind': 2170, 'come': 3809, 'road': 1029, 'long': 3062, 'tree': 365, 'inside': 673, 'knife': 63, 'half': 365, 'day': 3139, 'michael': 18, 'loves': 431, 'ten': 259, 'nine': 125, 'summer': 416, 'sweet': 1603, 'sixteen': 49, 'finally': 316, 'nerve': 27, 'see': 4163, 'saw': 715, 'tears': 884, 'seven': 152, 'hearts': 517, 'years': 905, 'chorus': 1940, 'stood': 240, 'beneath': 178, 'watch': 540, 'feelings': 145, 'apart': 358, 'true': 1389, 'mark': 77, 'names': 68, 'dad': 200, 'giving': 130, 'shelter': 43, 'four': 299, 'brought': 234, 'first': 878, 'two': 1409, 'played': 226, 'watched': 179, 'children': 346, 'bridge': 169, 'eye': 392, 'somehow': 271, 'fifty': 47, 'flew': 63, 'eight': 122, 'one': 5806, 'knew': 973, 'lay': 725, 'leaving': 350, 'reason': 402, 'lived': 205, 'stay': 1015, 'promises': 89, 'keep': 1868, 'sometimes': 768, 'enough': 897, 'bleed': 43, 'hurry': 128, 'please': 880, 'really': 1067, 'going': 991, 'hundred': 198, 'step': 234, 'forget': 785, 'look': 1691, 'behind': 709, 'lights': 569, 'signs': 104, 'fall': 968, 'everything': 1114, 'break': 657, 'everybody': 556, 'talking': 195, 'want': 2832, 'say': 3762, 'piece': 128, 'leavin': 194, 'right': 2925, 'feeling': 631, 'ease': 115, 'telling': 220, 'la': 724, 'da': 327, 'yeah': 2621, 'simple': 171, 'life': 2886, 'dreams': 1000, 'die': 745, 'hard': 1349, 'em': 714, 'play': 714, 'hands': 706, 'lady': 264, 'luck': 187, 'someone': 1107, 'else': 612, 'palm': 31, 'read': 279, 'holding': 312, 'need': 1852, 'fell': 382, 'bottom': 128, 'list': 65, 'lookin': 420, 'crazy': 721, 'people': 763, 'barely': 115, 'gettin': 337, 'could': 3495, 'done': 1058, 'thing': 1383, 'fight': 408, 'sleep': 613, 'lyin': 95, 'next': 485, 'finding': 47, 'gave': 613, 'survive': 76, 'good': 2910, 'strong': 475, 'stuff': 143, 'takes': 415, 'fill': 221, 'man': 2993, 'shoes': 316, 'put': 1140, 'blood': 271, 'veins': 39, 'swing': 116, 'pound': 40, 'hammer': 93, 'beats': 55, 'belong': 221, 'cause': 3549, 'knows': 783, 'nothin': 493, 'flesh': 28, 'bones': 136, 'world': 2464, 'fool': 716, 'blind': 252, 'yes': 1057, 'picture': 292, 'since': 719, 'direction': 37, 'straight': 201, 'takin': 100, 'caught': 296, 'old': 3224, 'frame': 44, 'wish': 841, 'tear': 327, 'pieces': 128, 'tried': 582, 'might': 1099, 'sight': 264, 'got': 5525, 'george': 81, 'darling': 641, 'moment': 294, 'us': 1735, 'tell': 2492, 'little': 4103, 'words': 706, 'rainbow': 119, 'paint': 118, 'teach': 79, 'new': 1304, 'song': 1183, 'forever': 790, 'today': 766, 'hills': 175, 'scene': 87, 'mill': 55, 'used': 1075, 'ago': 365, 'green': 456, 'gone': 2501, 'young': 669, 'age': 76, 'steps': 76, 'face': 1016, 'well': 3710, 'written': 123, 'page': 69, 'pen': 51, 'songs': 343, 'fair': 196, 'nights': 380, 'mighty': 202, 'lonesome': 524, 'guitar': 588, 'thousand': 275, 'miles': 422, 'tonight': 1329, 'singin': 203, 'lord': 1440, 'nearly': 71, 'make': 2962, 'eyes': 2045, 'hear': 1601, 'cowboy': 423, 'favorite': 94, 'ride': 792, 'across': 408, 'everytime': 61, 'gets': 431, 'harder': 104, 'drive': 456, 'girls': 338, 'everyday': 152, 'closer': 161, 'goin': 507, 'lately': 126, 'acting': 46, 'strangers': 89, 'work': 620, 'busy': 107, 'important': 34, 'seems': 496, 'happen': 128, 'climb': 110, 'seem': 339, 'rough': 124, 'mountains': 154, 'steel': 371, 'must': 880, 'smile': 747, 'tender': 182, 'touch': 563, 'built': 132, 'dust': 214, 'dark': 549, 'skin': 180, 'santa': 246, 'wait': 597, 'till': 909, 'arms': 1026, 'held': 295, 'kissed': 191, 'cross': 417, 'mountain': 447, 'fortune': 67, 'win': 249, 'letter': 220, 'tells': 147, 'died': 237, 'fever': 93, 'sorrow': 305, 'storm': 173, 'remember': 911, 'curse': 42, 'treasure': 54, 'ever': 2469, 'fine': 419, 'flash': 26, 'fingers': 132, 'fire': 749, 'smell': 91, 'hair': 516, 'note': 86, 'cried': 341, 'weep': 66, 'behold': 33, 'sure': 980, 'stars': 610, 'rise': 172, 'evening': 167, 'shine': 544, 'upon': 451, 'calls': 113, 'shall': 256, 'end': 926, 'lonely': 1069, 'soul': 939, 'hold': 1514, 'imagine': 70, 'dirt': 158, 'full': 453, 'pot': 47, 'holes': 58, 'bank': 80, 'cat': 64, 'country': 798, 'small': 251, 'town': 1381, 'laying': 70, 'front': 293, 'court': 28, 'house': 586, 'men': 353, 'fat': 40, 'hat': 192, 'girl': 2050, 'kind': 752, 'games': 72, 'brick': 13, 'school': 153, 'zone': 17, 'doors': 87, 'locked': 64, 'track': 215, 'three': 381, 'others': 126, 'flat': 100, 'ring': 496, 'something': 1129, 'mean': 512, 'give': 1695, 'boy': 950, 'devil': 298, 'would': 2275, 'name': 980, 'sunday': 227, 'mama': 669, 'knees': 246, 'rock': 482, 'rocks': 83, 'grown': 148, 'snatch': 4, 'minute': 231, 'ball': 183, 'recall': 99, 'started': 475, 'drank': 76, 'blues': 519, 'losin': 95, 'morning': 852, 'tight': 329, 'knowin': 63, 'showin': 31, 'woke': 131, 'mornin': 185, 'underneath': 122, 'bed': 485, 'kitchen': 122, 'sink': 72, 'boots': 182, 'except': 92, 'head': 928, 'losing': 193, 'table': 139, 'somebody': 602, 'tore': 48, 'car': 420, 'hate': 293, 'knowing': 201, 'showing': 42, 'mouth': 124, 'shut': 61, 'punch': 21, 'bit': 433, 'biggest': 62, 'dog': 233, 'picked': 104, 'spent': 241, 'pride': 240, 'everyone': 232, 'whole': 594, 'lost': 1075, 'victory': 31, 'comes': 1005, 'gotta': 932, 'stands': 122, 'lick': 21, 'wounds': 32, 'live': 1357, 'scars': 65, 'lose': 567, 'either': 108, 'walls': 185, 'bare': 79, 'inch': 22, 'broken': 619, 'perfect': 258, 'better': 1299, 'worse': 108, 'went': 770, 'looked': 405, 'learned': 285, 'bet': 267, 'change': 905, 'best': 823, 'enemies': 7, 'hesitate': 18, 'guys': 85, 'meet': 459, 'someday': 439, 'dim': 51, 'clouds': 215, 'gather': 75, 'river': 667, 'cool': 218, 'stream': 76, 'rolling': 166, 'tide': 82, 'city': 529, 'rest': 411, 'side': 985, 'white': 561, 'trying': 388, 'image': 12, 'stand': 708, 'met': 463, 'window': 294, 'big': 1230, 'moon': 590, 'shinin': 63, 'remind': 83, 'ground': 517, 'slippin': 22, 'moonlight': 183, 'bedroom': 55, 'walkin': 251, 'spot': 92, 'began': 97, 'married': 200, 'slip': 132, 'around': 2319, 'buddy': 92, 'mmm': 93, 'along': 744, 'street': 366, 'kiss': 917, 'regret': 122, 'laugh': 252, 'tomorrow': 505, 'shattered': 55, 'wake': 345, 'wet': 62, 'walking': 423, 'joy': 216, 'sing': 978, 'dance': 536, 'known': 355, 'chosen': 28, 'surrounded': 24, 'closing': 49, 'searching': 113, 'thank': 239, 'loving': 760, 'sweetheart': 188, 'million': 273, 'precious': 153, 'moves': 74, 'jones': 145, 'color': 76, 'twelve': 61, 'southern': 135, 'tennessee': 279, 'sweat': 54, 'row': 112, 'cotton': 142, 'poor': 315, 'grass': 191, 'store': 123, 'hollow': 42, 'called': 511, 'gentle': 143, 'named': 68, 'brown': 179, 'credit': 33, 'wind': 791, 'snow': 368, 'walked': 469, 'fields': 167, 'working': 216, 'woman': 975, 'year': 321, 'death': 197, 'round': 817, 'lies': 349, 'asleep': 79, 'part': 440, 'grave': 149, 'beautiful': 486, 'flowers': 244, 'tired': 329, 'weary': 153, 'longing': 77, 'happy': 762, 'enjoy': 33, 'peace': 285, 'happiness': 231, 'skies': 190, 'heavy': 145, 'family': 291, 'dear': 627, 'maybe': 843, 'help': 623, 'waiting': 642, 'cost': 74, 'longer': 242, 'jesus': 550, 'sin': 191, 'ones': 249, 'fallin': 240, 'guy': 193, 'fit': 141, 'talkin': 215, 'sleepin': 81, 'job': 162, 'send': 232, 'defeat': 14, 'soon': 486, 'turnin': 61, 'red': 711, 'cryin': 174, 'stop': 771, 'rain': 890, 'free': 892, 'lifetime': 98, 'catch': 282, 'whenever': 83, 'together': 747, 'air': 271, 'loud': 221, 'easy': 554, 'near': 259, 'le': 56, 'va': 16, 'tout': 31, 'en': 34, 'et': 66, 'l': 101, 'c': 293, 'ur': 4, 'quand': 7, 'plus': 15, 'est': 44, 'pas': 9, 'bien': 9, 'qu': 11, 'au': 14, 'tour': 17, 'un': 19, 'entre': 11, 'les': 34, 'qui': 6, 'sa': 17, 'une': 8, 'de': 156, 'je': 29, 'dans': 25, 'pour': 109, 'rien': 3, 'du': 33, 'des': 36, 'e': 184, 'son': 507, 'se': 70, 'comme': 4, 'vous': 20, 'ne': 12, 'sent': 169, 'lit': 73, 'mais': 70, 'par': 3, 'es': 13, 'n': 230, 'lovers': 197, 'everywhere': 192, 'care': 819, 'hurt': 627, 'passed': 128, 'places': 158, 'earth': 293, 'instead': 140, 'bring': 570, 'match': 73, 'heaven': 957, 'probably': 155, 'exist': 28, 'bitter': 101, 'chances': 63, 'seen': 702, 'thought': 1161, 'jumpin': 29, 'starts': 206, 'callin': 141, 'worth': 313, 'kinda': 246, 'fast': 402, 'makes': 668, 'different': 250, 'real': 589, 'meant': 299, 'ask': 423, 'touching': 38, 'every': 2589, 'dream': 854, 'nice': 186, 'run': 965, 'black': 490, 'wall': 331, 'king': 251, 'dyin': 73, 'diamond': 119, 'ways': 276, 'breath': 221, 'body': 267, 'doubt': 230, 'anyone': 170, 'buried': 69, 'liked': 62, 'spoken': 64, 'wedding': 147, 'ringing': 70, 'ears': 75, 'bury': 60, 'demons': 34, 'hide': 397, 'shower': 20, 'rings': 100, 'cover': 100, 'sheets': 38, 'warm': 385, 'wrapped': 142, 'beyond': 169, 'reach': 270, 'promise': 273, 'money': 636, 'repeat': 209, 'standing': 371, 'blowing': 84, 'beginning': 79, 'ran': 220, 'dry': 243, 'scared': 98, 'pick': 245, 'phone': 225, 'outside': 263, 'bells': 193, 'bringing': 76, 'ruin': 17, 'answer': 200, 'babies': 56, 'blue': 1535, 'living': 506, 'came': 1072, 'party': 239, 'child': 347, 'troubles': 171, 'news': 145, 'pull': 242, 'plug': 17, 'tie': 118, 'hang': 292, 'cut': 215, 'hey': 957, 'daddy': 833, 'boys': 386, 'burn': 316, 'grab': 72, 'unto': 62, 'midnight': 261, 'magic': 114, 'happens': 81, 'join': 66, 'fun': 336, 'shout': 85, 'throw': 280, 'prison': 77, 'wonder': 621, 'hope': 677, 'past': 479, 'knock': 103, 'goes': 674, 'pain': 527, 'pretend': 155, 'false': 31, 'another': 1326, 'dreaming': 195, 'short': 145, 'sitting': 223, 'watchin': 105, 'tv': 108, 'model': 17, 'sand': 222, 'lucky': 250, 'changes': 65, 'suit': 42, 'shots': 20, 'shoot': 74, 'holdin': 138, 'figured': 63, 'spend': 317, 'lives': 299, 'pro': 16, 'waking': 49, 'hour': 186, 'master': 78, 'game': 235, 'clothes': 175, 'beach': 79, 'ocean': 170, 'jack': 109, 'changing': 65, 'foreign': 18, 'yea': 123, 'great': 449, 'truth': 372, 'handle': 49, 'packed': 88, 'drove': 132, 'brand': 205, 'bought': 168, 'texas': 264, 'move': 349, 'east': 80, 'gold': 448, 'band': 233, 'serve': 34, 'common': 53, 'quiet': 100, 'tales': 34, 'anymore': 496, 'dead': 299, 'waitin': 219, 'baby': 3492, 'train': 615, 'rollin': 236, 'jumped': 39, 'sadness': 90, 'cruel': 58, 'fools': 76, 'kept': 213, 'movin': 147, 'faster': 27, 'turn': 1162, 'taken': 122, 'line': 784, 'thunder': 89, 'slowly': 207, 'tied': 110, 'taste': 196, 'somethin': 170, 'teeth': 44, 'animal': 17, 'lust': 26, 'wanna': 1374, 'shootin': 36, 'neck': 92, 'pit': 9, 'chest': 60, 'keepin': 64, 'hunger': 61, 'slow': 400, 'start': 721, 'share': 274, 'shining': 229, 'faces': 74, 'eternal': 34, 'spirit': 116, 'flames': 68, 'matter': 555, 'hungry': 122, 'harm': 53, 'bein': 74, 'shake': 150, 'standin': 105, 'worry': 259, 'means': 179, 'clock': 161, 'quarter': 63, 'snap': 23, 'finger': 107, 'learn': 274, 'eternity': 65, 'sacred': 42, 'room': 452, 'yet': 334, 'pass': 233, 'darkness': 223, 'light': 1251, 'lead': 245, 'turns': 228, 'stone': 247, 'shadows': 157, 'silence': 129, 'voice': 333, 'mercy': 95, 'follow': 218, 'turning': 183, 'po': 47, 'music': 530, 'ya': 411, 'mail': 77, 'ed': 24, 'open': 410, 'quit': 114, 'sit': 410, 'friend': 633, 'week': 153, 'numbers': 16, 'likes': 114, 'tryin': 281, 'uh': 149, 'gun': 215, 'already': 197, 'kids': 307, 'fed': 38, 'believed': 103, 'promised': 137, 'wealth': 29, 'check': 66, 'til': 635, 'order': 43, 'star': 363, 'search': 99, 'thinkin': 323, 'month': 51, 'complain': 32, 'least': 149, 'early': 175, 'fan': 28, 'ye': 72, 'bite': 71, 'steal': 120, 'hidden': 44, 'soft': 213, 'taking': 230, 'wrong': 1112, 'understand': 475, 'yesterday': 294, 'sad': 504, 'strings': 96, 'brain': 66, 'running': 337, 'burning': 205, 'bridges': 59, 'ignore': 27, 'listen': 365, 'broke': 339, 'single': 203, 'rule': 51, 'twisted': 38, 'dancing': 196, 'bye': 245, 'station': 72, 'ticket': 79, 'planned': 84, 'bound': 234, 'playing': 178, 'endless': 75, 'looks': 329, 'stranger': 212, 'shades': 48, 'emptiness': 33, 'harmony': 20, 'comfort': 84, 'buy': 297, 'pretty': 638, 'honey': 710, 'offer': 77, 'chance': 447, 'destiny': 36, 'carry': 263, 'marry': 111, 'agree': 70, 'wrote': 193, 'write': 170, 'hanging': 220, 'realize': 114, 'warning': 53, 'dollars': 83, 'certain': 100, 'singing': 329, 'deep': 624, 'within': 118, 'melody': 95, 'san': 111, 'memory': 541, 'beside': 308, 'strange': 142, 'rose': 361, 'lips': 506, 'speak': 179, 'empty': 322, 'show': 587, 'suppose': 61, 'holds': 129, 'shows': 76, 'sign': 220, 'asked': 216, 'lovin': 544, 'rains': 75, 'shines': 123, 'faithful': 84, 'thinks': 110, 'nails': 35, 'weight': 86, 'bear': 155, 'lean': 122, 'given': 138, 'dying': 183, 'letting': 100, 'answers': 52, 'believing': 62, 'anything': 430, 'glad': 254, 'thinking': 421, 'crossed': 87, 'nobody': 508, 'thrill': 102, 'wonderful': 144, 'uptown': 17, 'bar': 264, 'needs': 373, 'space': 81, 'x': 153, 'funeral': 15, 'float': 35, 'frozen': 38, 'top': 344, 'clean': 127, 'forgot': 97, 'final': 67, 'changed': 231, 'sense': 139, 'wasting': 47, 'pretending': 49, 'shoulder': 167, 'load': 135, 'watching': 168, 'fly': 617, 'brave': 53, 'soldier': 62, 'ended': 78, 'livin': 329, 'telephone': 97, 'couple': 136, 'count': 184, 'lot': 660, 'pockets': 28, 'kisses': 166, 'ghost': 106, 'miss': 745, 'breaking': 172, 'tale': 70, 'hangin': 139, 'dime': 132, 'says': 481, 'none': 117, 'ridin': 123, 'wild': 604, 'middle': 279, 'rode': 115, 'horse': 169, 'legs': 37, 'toes': 37, 'pair': 101, 'nose': 92, 'split': 20, 'tip': 61, 'forty': 141, 'hip': 62, 'shore': 171, 'broad': 23, 'sigh': 69, 'wings': 290, 'range': 39, 'conscience': 59, 'problem': 81, 'mr': 111, 'dj': 21, 'grew': 129, 'w': 30, 'bone': 96, 'stories': 83, 'bob': 55, 'quick': 73, 'among': 53, 'mom': 135, 'pop': 73, 'plays': 71, 'k': 21, 'windows': 123, 'filled': 244, 'laughter': 108, 'sunshine': 354, 'dreamed': 154, 'book': 150, 'raging': 50, 'anger': 35, 'tiny': 81, 'drops': 60, 'almost': 316, 'trace': 41, 'hurtin': 121, 'lyrical': 2, 'mommy': 61, 'boogie': 39, 'awake': 114, 'cake': 37, 'ok': 53, 'cute': 39, 'ha': 123, 'oooh': 71, 'crying': 339, 'sittin': 196, 'rockin': 133, 'twice': 153, 'father': 224, 'rhymes': 25, 'momma': 219, 'huh': 77, 'threw': 98, 'cha': 47, 'screamin': 41, 'bottle': 235, 'slide': 47, 'path': 82, 'bubble': 16, 'mad': 140, 'eat': 134, 'box': 93, 'feelin': 335, 'healing': 26, 'lines': 191, 'sat': 180, 'word': 412, 'folks': 342, 'sake': 69, 'admit': 106, 'afraid': 311, 'wear': 197, 'makin': 162, 'rules': 55, 'rebel': 30, 'runnin': 279, 'building': 64, 'smart': 57, 'havin': 71, 'strength': 112, 'point': 99, 'view': 96, 'worried': 82, 'swim': 65, 'buck': 55, 'system': 17, 'deck': 22, 'bunch': 86, 'sheep': 64, 'bustin': 7, 'john': 179, 'become': 80, 'wanting': 82, 'nervous': 33, 'funny': 260, 'mirror': 118, 'weather': 167, 'coming': 493, 'pink': 31, 'flip': 29, 'painted': 58, 'spring': 145, 'tan': 57, 'v': 33, 'whistle': 130, 'spit': 48, 'roll': 692, 'fresh': 41, 'shy': 46, 'machine': 67, 'believe': 1038, 'drop': 156, 'falls': 148, 'flower': 105, 'grows': 167, 'candle': 80, 'prayer': 208, 'use': 279, 'asking': 122, 'anyway': 135, 'miracle': 48, 'sees': 89, 'talk': 587, 'cheap': 78, 'givin': 87, 'learning': 60, 'swallow': 31, 'pay': 364, 'attention': 52, 'loneliness': 131, 'mention': 49, 'salvation': 50, 'army': 36, 'playin': 114, 'questions': 56, 'york': 68, 'sell': 78, 'afford': 61, 'romance': 85, 'wondering': 132, 'push': 74, 'praying': 85, 'divine': 56, 'birds': 131, 'rocky': 107, 'owe': 36, 'record': 61, 'sold': 82, 'uncle': 65, 'sam': 47, 'knocking': 19, 'stress': 7, 'mess': 127, 'pray': 423, 'blew': 68, 'ends': 132, 'radio': 248, 'keeps': 389, 'hell': 502, 'sale': 56, 'vain': 95, 'extra': 37, 'joke': 41, 'cuts': 26, 'bang': 124, 'ashamed': 80, 'super': 13, 'return': 118, 'souls': 62, 'waves': 65, 'wheels': 154, 'thoughts': 147, 'deal': 91, 'beauty': 149, 'screen': 47, 'hips': 41, 'torn': 78, 'evil': 57, 'kingdom': 42, 'battle': 59, 'number': 204, 'lover': 200, 'mother': 411, 'doctor': 52, 'forgotten': 138, 'memories': 472, 'hit': 336, 'mistakes': 72, 'exactly': 76, 'laid': 218, 'comin': 508, 'saturday': 160, 'killed': 84, 'jail': 98, 'wanted': 485, 'women': 199, 'truck': 321, 'drivin': 122, 'gal': 100, 'st': 57, 'ole': 177, 'figure': 89, 'joe': 165, 'flyin': 71, 'making': 309, 'jimmy': 62, 'steady': 64, 'six': 231, 'hotel': 56, 'ancient': 32, 'hail': 30, 'hill': 247, 'mary': 142, 'kissing': 74, 'breeze': 146, 'plain': 115, 'birth': 56, 'papa': 102, 'raised': 135, 'tall': 204, 'ready': 372, 'headed': 157, 'fish': 84, 'set': 431, 'hot': 288, 'mon': 42, 'brother': 317, 'floor': 395, 'mac': 8, 'boat': 109, 'hardly': 74, 'softly': 93, 'sea': 419, 'beat': 284, 'sleeping': 126, 'bout': 603, 'secrets': 86, 'keeping': 79, 'dawn': 230, 'followed': 55, 'echo': 27, 'tongue': 78, 'tune': 123, 'clip': 4, 'prove': 111, 'size': 50, 'kill': 151, 'shooting': 45, 'thanks': 100, 'spinning': 56, 'smiling': 114, 'stupid': 31, 'waited': 107, 'thin': 85, 'pulled': 164, 'alright': 450, 'story': 307, 'tail': 84, 'cell': 39, 'sunrise': 55, 'knee': 88, 'judge': 71, 'lee': 36, 'begins': 66, 'georgia': 128, 'water': 488, 'blessed': 113, 'whispers': 51, 'chasing': 51, 'sister': 146, 'porch': 140, 'cars': 118, 'yard': 105, 'anywhere': 122, 'rather': 176, 'raining': 67, 'voices': 53, 'dick': 24, 'bigger': 69, 'motherfucker': 5, 'ate': 40, 'pussy': 9, 'fuck': 30, 'queen': 132, 'quite': 142, 'damn': 234, 'wore': 104, 'ill': 85, 'shot': 193, 'onto': 75, 'lock': 89, 'build': 158, 'beating': 75, 'paid': 126, 'highway': 295, 'whoa': 215, 'ho': 151, 'also': 28, 'missing': 192, 'foolish': 85, 'often': 123, 'reaching': 89, 'hall': 89, 'reflection': 29, 'fading': 48, 'quickly': 37, 'hardest': 42, 'whose': 77, 'blame': 315, 'seeing': 77, 'pleasure': 55, 'hoe': 17, 'favor': 19, 'situation': 55, 'bird': 165, 'conversation': 31, 'hung': 103, 'christmas': 602, 'valley': 191, 'simply': 34, 'stick': 74, 'spin': 66, 'type': 21, 'pocket': 97, 'dice': 39, 'snake': 18, 'al': 28, 'twenty': 150, 'heads': 60, 'spell': 75, 'bill': 260, 'fist': 29, 'careful': 48, 'diamonds': 80, 'facts': 8, 'streets': 162, 'nos': 10, 'ear': 71, 'recognize': 29, 'future': 160, 'tag': 36, 'angel': 359, 'glory': 263, 'mankind': 10, 'david': 41, 'christ': 144, 'heavenly': 95, 'babe': 246, 'human': 41, 'bands': 13, 'class': 50, 'burnin': 112, 'cadillac': 53, 'belly': 29, 'west': 202, 'winter': 244, 'dogs': 65, 'fantasy': 34, 'backwards': 26, 'wave': 77, 'hello': 164, 'silent': 91, 'holy': 227, 'calm': 39, 'pure': 66, 'thy': 127, 'grace': 130, 'finished': 29, 'letters': 94, 'felt': 339, 'completely': 64, 'drift': 47, 'sounds': 147, 'sayin': 140, 'stare': 87, 'winds': 148, 'case': 104, 'honky': 229, 'fate': 134, 'saved': 109, 'ol': 333, 'driving': 121, 'card': 58, 'merry': 133, 'awhile': 113, 'fact': 94, 'worst': 67, 'mistake': 54, 'speed': 47, 'smooth': 42, 'coast': 43, 'adore': 51, 'breakin': 54, 'upside': 50, 'edge': 75, 'sharp': 15, 'advice': 66, 'blade': 22, 'ay': 28, 'aim': 16, 'iron': 40, 'fires': 28, 'glass': 185, 'runs': 143, 'sound': 438, 'familiar': 52, 'glow': 86, 'smoke': 254, 'lie': 482, 'whisper': 172, 'cup': 148, 'constantly': 19, 'moments': 101, 'notice': 48, 'sunlight': 51, 'regrets': 44, 'cards': 74, 'flag': 57, 'drag': 56, 'outta': 137, 'attack': 18, 'nowhere': 217, 'breaks': 113, 'crash': 32, 'map': 35, 'rip': 17, 'sunny': 62, 'season': 69, 'wishin': 58, 'leaves': 212, 'riding': 137, 'wide': 292, 'growing': 129, 'grey': 67, 'fame': 85, 'proud': 180, 'stayed': 92, 'breathing': 38, 'lesson': 56, 'whispering': 52, 'welcome': 159, 'blows': 134, 'safe': 123, 'guide': 89, 'washed': 69, 'waters': 107, 'flow': 76, 'neon': 109, 'worked': 105, 'escape': 39, 'laws': 12, 'horses': 105, 'taught': 141, 'art': 102, 'although': 84, 'yellow': 124, 'sick': 104, 'hits': 57, 'whiskey': 299, 'drinks': 51, 'sets': 43, 'hunt': 19, 'damned': 49, 'hole': 174, 'rope': 72, 'gut': 7, 'weakness': 40, 'expect': 50, 'fallen': 96, 'victim': 20, 'hopeless': 28, 'war': 166, 'add': 49, 'second': 200, 'chase': 79, 'prayers': 61, 'ought': 109, 'ahead': 173, 'dare': 67, 'feed': 65, 'fears': 83, 'poison': 30, 'silly': 55, 'wearing': 74, 'freaky': 6, 'club': 43, 'downtown': 84, 'angels': 282, 'thee': 206, 'fellas': 11, 'sudden': 31, 'honest': 58, 'moving': 142, 'fix': 105, 'drum': 60, 'seemed': 128, 'field': 98, 'paper': 151, 'stuck': 201, 'score': 51, 'laughed': 93, 'stole': 97, 'heal': 73, 'pie': 56, 'dancin': 90, 'dirty': 122, 'dressed': 87, 'ladies': 62, 'backs': 23, 'trust': 193, 'cook': 39, 'tattoo': 42, 'coffee': 191, 'jeans': 105, 'ceiling': 30, 'corner': 182, 'wants': 302, 'dollar': 191, 'fade': 148, 'dreamin': 106, 'seat': 106, 'puttin': 56, 'rich': 120, 'smiles': 108, 'price': 156, 'five': 261, 'kicked': 36, 'finish': 32, 'claim': 69, 'rat': 24, 'race': 83, 'sack': 39, 'yup': 14, 'saying': 222, 'drink': 412, 'staying': 37, 'trip': 90, 'bus': 105, 'sellin': 7, 'disco': 7, 'friday': 164, 'lane': 102, 'brighter': 63, 'ahh': 14, 'flies': 72, 'writing': 40, 'square': 43, 'biz': 2, 'smoking': 27, 'higher': 161, 'wire': 83, 'created': 15, 'private': 25, 'shirt': 89, 'ive': 47, 'breathe': 118, 'hoping': 92, 'lyrics': 90, 'surely': 132, 'distant': 57, 'pistol': 25, 'grabbed': 41, 'stepped': 45, 'sir': 43, 'bail': 28, 'led': 90, 'faded': 104, 'trees': 189, 'shade': 104, 'fills': 36, 'journey': 91, 'squeeze': 21, 'draw': 66, 'roses': 244, 'trouble': 300, 'destroy': 10, 'killin': 51, 'surprise': 83, 'shoe': 39, 'gives': 108, 'golden': 226, 'sweetest': 91, 'cared': 60, 'main': 65, 'respect': 23, 'brings': 131, 'walks': 113, 'ship': 99, 'juice': 17, 'crawl': 72, 'mile': 164, 'waits': 70, 'foot': 148, 'worship': 37, 'saving': 41, 'blow': 266, 'dove': 123, 'roof': 50, 'power': 155, 'plans': 189, 'hopes': 77, 'restless': 98, 'album': 24, 'waste': 131, 'question': 59, 'freedom': 122, 'faith': 235, 'rising': 61, 'amazing': 62, 'famous': 40, 'style': 130, 'blowin': 89, 'company': 94, 'b': 123, 'jam': 18, 'cap': 36, 'rhythm': 95, 'unless': 53, 'bass': 24, 'jump': 122, 'clap': 13, 'woah': 130, 'alive': 202, 'sail': 118, 'stopped': 177, 'greatest': 87, 'gift': 81, 'special': 186, 'choose': 99, 'greater': 21, 'er': 101, 'complete': 39, 'county': 161, 'knocked': 44, 'problems': 39, 'team': 31, 'college': 41, 'flying': 106, 'heels': 64, 'wood': 49, 'crawling': 31, 'rub': 13, 'flame': 157, 'guilty': 65, 'shell': 25, 'ace': 27, 'lots': 127, 'chain': 77, 'bobby': 58, 'circle': 58, 'wheel': 200, 'flight': 37, 'crack': 55, 'passion': 75, 'closed': 102, 'sang': 184, 'hurting': 64, 'heartache': 206, 'misery': 114, 'flowing': 48, 'attitude': 17, 'rubber': 44, 'kickin': 58, 'spinnin': 49, 'thang': 17, 'drug': 43, 'shame': 237, 'insane': 76, 'laughing': 90, 'trunk': 22, 'weeks': 53, 'refuse': 23, 'weak': 130, 'resist': 41, 'temptation': 60, 'guard': 52, 'ass': 57, 'feeding': 13, 'kings': 33, 'following': 32, 'rush': 81, 'coat': 71, 'covered': 70, 'decide': 47, 'chicken': 49, 'reached': 86, 'shook': 56, 'bend': 120, 'wife': 346, 'settle': 108, 'kicking': 20, 'ice': 112, 'seein': 36, 'staring': 92, 'clue': 31, 'desert': 68, 'wipe': 35, 'fail': 63, 'cares': 108, 'tellin': 119, 'cries': 108, 'ending': 71, 'heading': 34, 'park': 113, 'wine': 402, 'rocking': 52, 'stopping': 28, 'daughter': 120, 'blaze': 9, 'passing': 96, 'pages': 56, 'reality': 33, 'less': 171, 'eyed': 87, 'key': 141, 'loco': 21, 'motion': 53, 'wow': 9, 'control': 165, 'pictures': 74, 'visit': 35, 'wont': 65, 'dale': 22, 'wrap': 43, 'california': 127, 'dress': 174, 'release': 37, 'ninety': 44, 'darlin': 294, 'whip': 18, 'angry': 77, 'crowd': 173, 'bell': 57, 'chains': 76, 'erase': 49, 'praise': 128, 'gain': 51, 'bloody': 22, 'screaming': 34, 'leader': 14, 'fought': 67, 'okay': 167, 'ooh': 386, 'plate': 26, 'spill': 15, 'state': 128, 'plastic': 18, 'strip': 26, 'disguise': 48, 'bow': 99, 'lying': 165, 'helpless': 37, 'heat': 76, 'pressure': 10, 'easily': 36, 'desire': 118, 'powers': 6, 'sore': 30, 'deeper': 101, 'cast': 55, 'melt': 45, 'hearted': 71, 'beer': 303, 'billy': 109, 'toe': 35, 'cop': 13, 'monday': 60, 'rolls': 78, 'lied': 58, 'guilt': 16, 'able': 41, 'pullin': 24, 'island': 48, 'pump': 15, 'shop': 36, 'self': 61, 'gas': 124, 'third': 46, 'generation': 9, 'church': 190, 'garden': 107, 'roads': 128, 'chose': 45, 'whether': 32, 'whatever': 186, 'thats': 43, 'pole': 36, 'gay': 62, 'later': 145, 'leads': 85, 'treat': 153, 'kissin': 36, 'spark': 46, 'mexico': 131, 'sugar': 100, 'shoulda': 54, 'cruise': 36, 'candy': 82, 'arm': 111, 'shared': 67, 'tracks': 76, 'sings': 116, 'shady': 25, 'summertime': 43, 'seeds': 29, 'rolled': 72, 'matters': 61, 'opened': 94, 'creation': 15, 'cash': 74, 'fancy': 101, 'pool': 48, 'woods': 58, 'hop': 28, 'hug': 45, 'innocent': 32, 'burns': 112, 'becomes': 25, 'goddamn': 7, 'leather': 37, 'wash': 114, 'drinkin': 209, 'couch': 32, 'parents': 32, 'spoke': 71, 'understood': 27, 'weed': 24, 'doin': 246, 'indeed': 11, 'course': 48, 'stash': 4, 'johnny': 114, 'kick': 117, 'bomb': 12, 'smack': 23, 'dope': 10, 'forth': 27, 'lungs': 17, 'prepare': 15, 'h': 19, 'bag': 53, 'danger': 72, 'happened': 143, 'hoo': 70, 'despair': 22, 'command': 26, 'fighting': 76, 'loaded': 64, 'travel': 123, 'knockin': 37, 'talks': 40, 'moved': 92, 'keys': 78, 'explain': 82, 'drives': 37, 'crystal': 44, 'worlds': 43, 'silver': 236, 'flows': 32, 'rivers': 86, 'stones': 51, 'id': 33, 'youre': 84, 'hatred': 10, 'spine': 14, 'switch': 22, 'supposed': 101, 'affair': 50, 'message': 68, 'tearing': 21, 'needed': 169, 'history': 60, 'disappear': 75, 'books': 28, 'french': 17, 'save': 245, 'fifth': 22, 'salt': 53, 'lake': 67, 'sins': 67, 'beg': 88, 'reasons': 78, 'seasons': 35, 'autumn': 41, 'witness': 42, 'drunk': 169, 'bottles': 44, 'aware': 12, 'savior': 99, 'selling': 10, 'american': 88, 'dreamer': 39, 'honor': 26, 'gods': 29, 'allow': 25, 'major': 10, 'liar': 55, 'spread': 61, 'lion': 28, 'shed': 102, 'carried': 75, 'begun': 65, 'crooked': 29, 'wrath': 5, 'thick': 38, 'slave': 17, 'drowning': 37, 'secret': 115, 'works': 48, 'aching': 61, 'illusion': 9, 'lift': 88, 'naked': 31, 'forced': 13, 'bodies': 23, 'punk': 2, 'cops': 20, 'tricks': 67, 'dumb': 30, 'drown': 86, 'smiled': 107, 'raise': 141, 'sip': 56, 'rap': 8, 'wasted': 73, 'usually': 29, 'eve': 58, 'shes': 50, 'surprised': 49, 'chair': 133, 'pity': 41, 'mall': 17, 'cant': 102, 'lets': 120, 'mortal': 9, 'showed': 94, 'flood': 41, 'paul': 33, 'trail': 87, 'block': 48, 'happening': 39, 'dive': 19, 'purpose': 38, 'thou': 92, 'satan': 52, 'bliss': 30, 'trap': 13, 'gate': 84, 'stronger': 124, 'deserve': 56, 'mystery': 75, 'lack': 18, 'nasty': 10, 'seas': 25, 'surrender': 52, 'daylight': 63, 'workin': 165, 'minutes': 55, 'double': 147, 'drinking': 130, 'natural': 54, 'lotta': 103, 'jane': 70, 'risk': 29, 'strike': 47, 'plane': 87, 'bread': 61, 'wander': 86, 'noise': 54, 'roots': 65, 'mud': 72, 'desperate': 22, 'rid': 13, 'gray': 124, 'shock': 13, 'blown': 20, 'celebrate': 24, 'slipping': 22, 'holler': 50, 'hooked': 37, 'kills': 17, 'stays': 73, 'sacrifice': 15, 'person': 24, 'didnt': 21, 'sunset': 96, 'groove': 19, 'difference': 89, 'lip': 22, 'cock': 2, 'bounce': 8, 'pissed': 9, 'dip': 19, 'girlfriend': 19, 'puff': 20, 'hallelujah': 159, 'na': 169, 'hiding': 46, 'preacher': 110, 'mister': 74, 'sinking': 43, 'lazy': 49, 'grand': 68, 'hours': 162, 'food': 50, 'bars': 75, 'butt': 29, 'eatin': 37, 'booty': 1, 'throne': 40, 'cheese': 7, 'seats': 18, 'milk': 37, 'damage': 38, 'meaning': 42, 'cream': 34, 'loss': 36, 'ding': 7, 'insanity': 4, 'hood': 42, 'counting': 66, 'fence': 79, 'thirty': 84, 'act': 136, 'heavens': 58, 'rape': 1, 'beware': 11, 'rage': 44, 'suffer': 26, 'choice': 75, 'cherry': 31, 'form': 11, 'prince': 23, 'benz': 4, 'chicks': 23, 'anybody': 120, 'bible': 80, 'saint': 44, 'plenty': 59, 'solid': 45, 'daily': 25, 'castle': 41, 'youth': 47, 'wars': 16, 'date': 69, 'scream': 56, 'law': 69, 'suddenly': 81, 'protect': 33, 'electric': 18, 'ah': 260, 'crown': 96, 'ashes': 54, 'smash': 7, 'ti': 17, 'selfish': 18, 'solo': 24, 'li': 24, 'dropped': 58, 'remains': 24, 'satisfied': 151, 'trade': 67, 'toys': 48, 'sipping': 28, 'champagne': 37, 'talked': 93, 'failed': 26, 'goodnight': 123, 'throwing': 36, 'monkey': 28, 'funky': 28, 'hero': 66, 'zero': 13, 'missin': 53, 'aside': 65, 'plan': 97, 'colors': 49, 'fashion': 22, 'thrown': 17, 'hopin': 50, 'choke': 17, 'ad': 10, 'bills': 62, 'older': 95, 'touched': 100, 'dangerous': 36, 'imagination': 18, 'screams': 11, 'appear': 45, 'force': 22, 'bay': 53, 'mist': 26, 'vision': 52, 'mission': 31, 'pouring': 58, 'lightning': 60, 'revolution': 10, 'crime': 47, 'bless': 63, 'killer': 26, 'wolf': 27, 'hollywood': 32, 'trash': 28, 'prey': 11, 'actin': 24, 'ex': 29, 'dies': 69, 'grip': 25, 'sober': 41, 'struggle': 22, 'denied': 19, 'louder': 28, 'spending': 33, 'stage': 71, 'london': 18, 'south': 178, 'horizon': 30, 'willing': 47, 'strap': 6, 'dinner': 51, 'steppin': 74, 'bump': 12, 'starting': 50, 'grief': 31, 'underground': 22, 'rent': 51, 'listening': 86, 'clown': 47, 'visions': 15, 'purple': 46, 'drifting': 76, 'spare': 39, 'ecstasy': 11, 'mask': 12, 'planet': 21, 'boom': 56, 'stops': 38, 'shit': 36, 'metal': 14, 'whats': 15, 'dig': 136, 'ray': 45, 'heartbeat': 71, 'sippin': 43, 'bringin': 27, 'pulling': 21, 'gon': 19, 'chasin': 34, 'u': 84, 'sexy': 55, 'tony': 8, 'cigarette': 63, 'concrete': 29, 'smokin': 40, 'due': 33, 'layin': 47, 'pa': 22, 'dropping': 17, 'bullet': 41, 'proof': 47, 'balls': 24, 'parts': 32, 'hook': 25, 'verse': 116, 'per': 6, 'months': 60, 'cloud': 105, 'lovely': 122, 'mm': 55, 'wreck': 58, 'unknown': 52, 'killing': 61, 'government': 12, 'drugs': 16, 'fans': 22, 'business': 95, 'sons': 33, 'brothers': 47, 'guns': 85, 'sex': 21, 'north': 133, 'cage': 34, 'cent': 8, 'nature': 48, 'doom': 11, 'pillow': 116, 'birthday': 46, 'wishing': 87, 'fore': 57, 'yah': 13, 'numb': 26, 'emotions': 30, 'grin': 42, 'compare': 28, 'constant': 27, 'floating': 26, 'gates': 36, 'gimme': 47, 'blinded': 19, 'records': 34, 'aw': 46, 'pills': 18, 'pushed': 34, 'remain': 55, 'accept': 18, 'shoulders': 47, 'wise': 61, 'video': 9, 'holiday': 63, 'throwin': 11, 'serious': 20, 'fo': 4, 'kicks': 14, 'idea': 37, 'shallow': 49, 'bother': 64, 'dude': 24, 'hotter': 43, 'pale': 59, 'worries': 63, 'stack': 32, 'undone': 33, 'toast': 28, 'th': 31, 'ms': 4, 'p': 25, 'soldiers': 21, 'jay': 2, 'winner': 29, 'hush': 64, 'mis': 14, 'movie': 92, 'senses': 22, 'sue': 42, 'string': 80, 'neighborhood': 15, 'enemy': 18, 'winning': 24, 'bitch': 17, 'ohh': 49, 'trick': 27, 'putting': 37, 'bond': 9, 'twist': 33, 'march': 17, 'reign': 5, 'deadly': 12, 'wicked': 32, 'begging': 55, 'mental': 16, 'spittin': 10, 'demon': 8, 'forgiveness': 38, 'hearing': 23, 'revenge': 12, 'innocence': 23, 'towards': 21, 'cats': 21, 'total': 11, 'mix': 26, 'coke': 34, 'ta': 31, 'press': 28, 'gang': 23, 'police': 18, 'trill': 1, 'chick': 14, 'ton': 27, 'dee': 30, 'rotten': 40, 'pushing': 23, 'refrain': 24, 'madness': 13, 'lamb': 73, 'droppin': 10, 'dough': 18, 'ka': 3, 'rhyme': 45, 'trapped': 20, 'cos': 25, 'scratch': 33, 'cum': 11, 'tick': 14, 'label': 10, 'murder': 26, 'mob': 3, 'patience': 26, 'text': 3, 'el': 32, 'setting': 38, 'prepared': 20, 'embrace': 77, 'den': 15, 'shape': 31, 'freeze': 13, 'oo': 39, 'realized': 40, 'test': 43, 'impossible': 24, 'fucker': 4, 'jungle': 13, 'shaking': 35, 'satisfy': 35, 'throat': 24, 'raw': 9, 'paradise': 102, 'creep': 17, 'bust': 21, 'claus': 134, 'toy': 64, 'drums': 24, 'millions': 20, 'universe': 18, 'hay': 76, 'doll': 51, 'slick': 8, 'eh': 11, 'jealous': 75, 'drama': 10, 'del': 5, 'relax': 16, 'moms': 7, 'nation': 42, 'speaking': 26, 'level': 8, 'funk': 4, 'suffering': 18, 'fi': 5, 'nd': 11, 'base': 7, 'stacks': 5, 'twilight': 25, 'hi': 46, 'colder': 35, 'haze': 20, 'lands': 10, 'joint': 27, 'leg': 35, 'eating': 12, 'existence': 11, 'bricks': 10, 'jet': 16, 'sh': 1, 'pounds': 20, 'pants': 28, 'jingle': 79, 'spirits': 25, 'mood': 56, 'excuse': 45, 'dash': 29, 'weekend': 64, 'crew': 13, 'apple': 43, 'nah': 32, 'sides': 27, 'dr': 20, 'pre': 6, 'enter': 17, 'z': 7, 'emotion': 33, 'microphone': 9, 'r': 35, 'j': 70, 'james': 38, 'homes': 16, 'que': 227, 'eu': 211, 'ver': 11, 'pra': 47, 'mas': 59, 'um': 56, 'dia': 29, 'por': 17, 'ou': 50, 'tempo': 12, 'gente': 8, 'vida': 24, 'como': 17, 'era': 3, 'mundo': 3, 'porque': 7, 'com': 39, 'voc': 68, 'lado': 4, 'role': 6, 'leading': 32, 'grind': 18, 'fucking': 6, 'toss': 42, 'signed': 39, 'rob': 15, 'decay': 5, 'forest': 23, 'guts': 12, 'heroes': 42, 'woo': 16, 'fam': 6, 'thru': 55, 'gravity': 29, 'askin': 33, 'poppin': 12, 'chop': 5, 'fake': 25, 'boss': 82, 'chrome': 18, 'si': 11, 'bent': 30, 'wit': 20, 'thug': 1, 'uns': 3, 'beef': 8, 'hmm': 57, 'decision': 14, 'ooo': 65, 'circles': 35, 'duck': 14, 'bo': 8, 'breed': 15, 'truly': 37, 'violent': 4, 'queens': 20, 'position': 4, 'strapped': 3, 'yo': 61, 'imma': 1, 'las': 36, 'g': 207, 'jewels': 9, 'competition': 5, 'tape': 21, 'chris': 24, 'confused': 33, 'bleeding': 11, 'bullets': 28, 'esta': 16, 'aqui': 20, 'nada': 9, 'uno': 2, 'vest': 9, 'success': 14, 'anytime': 66, 'burnt': 16, 'nightmare': 7, 'large': 12, 'di': 30, 'disease': 6, 'liquor': 37, 'wisdom': 33, 'seek': 40, 'lame': 16, 'doe': 4, 'religion': 12, 'sisters': 20, 'brains': 10, 'seed': 31, 'code': 7, 'ohhh': 14, 'present': 23, 'slim': 8, 'incomprehensible': 18, 'pace': 19, 'post': 10, 'todo': 6, 'mal': 8, 'tanto': 3, 'vez': 5, 'wound': 37, 'core': 8, 'alles': 5, 'terror': 11, 'action': 13, 'victims': 28, 'weird': 22, 'ra': 72, 'tu': 39, 'para': 15, 'sucker': 11, 'greed': 16, 'drawn': 37, 'panic': 7, 'stomach': 9, 'hatin': 8, 'knowledge': 7, 'fold': 21, 'van': 16, 'violence': 4, 'suicide': 7, 'pill': 18, 'pimp': 4, 'cocaine': 28, 'cure': 30, 'te': 82, 'casa': 8, 'ku': 6, 'weapon': 6, 'void': 5, 'fuckin': 16, 'von': 2, 'explode': 10, 'justice': 22, 'addicted': 17, 'traffic': 45, 'torture': 7, 'wrist': 5, 'agony': 7, 'hittin': 7, 'f': 59, 'jag': 1, 'gangsta': 11, 'killa': 1, 'los': 8, 'meat': 14, 'tone': 7, 'limit': 28, 'sho': 4, 'nuff': 8, 'beast': 18, 'ignorance': 9, 'click': 17, 'rum': 18, 'monster': 8, 'mixed': 11, 'everlasting': 31, 'represent': 3, 'dawg': 2, 'tryna': 2, 'dan': 22, 'presence': 19, 'bastard': 6, 'q': 6, 'wo': 26, 'ba': 21, 'dame': 7, 'nuts': 7, 'confusion': 9, 'suck': 9, 'crush': 11, 'rot': 4, 'bin': 4, 'dome': 5, 'alma': 3, 'bullshit': 2, 'whore': 12, 'ugly': 15, 'sol': 4, 'flavor': 10, 'mo': 5, 'chi': 2, 'bum': 31, 'shakin': 14, 'chillin': 31, 'chaos': 3, 'spray': 10, 'inner': 6, 'freak': 7, 'player': 12, 'destruction': 9, 'fades': 35, 'trippin': 4, 'fin': 6, 'criminal': 5, 'bam': 8, 'chips': 21, 'ca': 5, 'dudes': 1, 'lo': 27, 'bumpin': 10, 'intro': 5, 'han': 1, 'mack': 3, 'public': 7, 'empire': 3, 'lil': 3, 'naw': 10, 'creepin': 35, 'platinum': 3, 'trigger': 32, 'society': 3, 'mma': 6, 'mami': 3, 'crib': 8, 'mi': 6, 'su': 1, 'contigo': 1, 'boyfriend': 18, 'peep': 2, 'mike': 9, 'blocks': 6, 'seconds': 21, 'doo': 48, 'wah': 22, 'hah': 4, 'focus': 3, 'wack': 1, 'cali': 4, 'sei': 4, 'cada': 2, 'una': 6, 'noche': 1, 'hasta': 1, 'amor': 23, 'esto': 1, 'fue': 1, 'grill': 7, 'sword': 5, 'ow': 4, 'whatcha': 28, 'beep': 5, 'der': 5, 'blast': 8, 'popping': 7, 'original': 5, 'america': 42, 'drip': 4, 'pi': 12, 'piss': 5, 'gots': 1, 'energy': 1, 'riot': 4, 'hai': 3, 'bu': 4, 'ni': 4, 'fa': 14, 'non': 11, 'mai': 4, 'sur': 9, 'sans': 6, 'elle': 13, 'il': 17, 'vie': 11, 'bitches': 4, 'rapper': 2, 'bop': 26, 'vibe': 1, 'create': 3, 'horror': 2, 'che': 1, 'tragedy': 21, 'moi': 21, 'ai': 52, 'slap': 9, 'ego': 6, 'brooklyn': 18, 'ghetto': 7, 'boo': 19, 'quando': 26, 'ir': 2, 'nunca': 2, 'sempre': 2, 'ser': 27, 'hustle': 3, 'todos': 1, 'os': 9, 'mass': 6, 'wie': 11, 'nach': 1, 'dem': 1, 'nur': 2, 'ein': 1, 'hab': 1, 'ich': 9, 'und': 18, 'mir': 10, 'deine': 6, 'sie': 8, 'sich': 3, 'mich': 10, 'zu': 4, 'dass': 5, 'kann': 1, 'jetzt': 1, 'auch': 2, 'doch': 1, 'wenn': 2, 'mehr': 1, 'durch': 1, 'ist': 2, 'auf': 3, 'weh': 3, 'dir': 2, 'nicht': 3, 'mein': 1, 'kein': 1, 'bis': 6, 'das': 12, 'ja': 1, 'denn': 1, 'ch': 5, 'hating': 2, 'raps': 5, 'eminem': 2, 'camera': 7, 'suckers': 1, 'ballin': 1, 'ripped': 6, 'haters': 5, 'thugs': 2, 'ci': 2, 'mes': 4, 'dos': 6, 'toi': 11, 'bro': 1, 'warriors': 1, 'bom': 7, 'gucci': 1, 'mia': 1, 'vamos': 1, 'lemme': 4, 'sabe': 5, 'pac': 3, 'dis': 19, 'nous': 6, 'ce': 6, 'skills': 2, 'motherfucking': 3, 'dum': 25, 'ella': 10, 'weil': 1, 'coz': 2, 'tee': 3, 'hoy': 2, 'dot': 5, 'shawty': 1, 'tes': 5, 'bling': 2, 'hoes': 2, 'motherfuckers': 1, 'dogg': 1, 'dre': 2, 'fucked': 1, 'compton': 1, 'nut': 3, 'fiend': 4, 'con': 3, 'slaughter': 1, 'rewind': 8, 'dat': 1, 'tha': 2, 'rappin': 2, 'holla': 2, 'automatic': 2, 'donde': 1, 'voy': 1, 'hacer': 1, 'tus': 1, 'wa': 2, 'mil': 3, 'som': 2, 'hardcore': 1, 'flo': 1, 'versace': 1, 'haha': 1, 'mayne': 1, 'vi': 2, 'triple': 1, 'alle': 4, 'nan': 1, 'amour': 2, 'hype': 2, 'flex': 1, 'dentro': 1, 'ki': 3, 'getcha': 1, 'busta': 1, 'biggie': 1, 'estar': 4, 'sentir': 1, 'ang': 1, 'aah': 28, 'dub': 2, 'science': 1, 'soy': 5, 'dah': 6}\n"
          ]
        },
        {
          "name": "stderr",
          "output_type": "stream",
          "text": [
            "100%|██████████| 9439/9439 [00:26<00:00, 354.24it/s]\n"
          ]
        },
        {
          "name": "stdout",
          "output_type": "stream",
          "text": [
            "{'found': 634, 'yet': 602, 'look': 1572, 'glass': 185, 'turn': 1156, 'head': 1318, 'moving': 195, 'lane': 32, 'inside': 2229, 'town': 185, 'london': 14, 'crowd': 120, 'much': 873, 'top': 224, 'mental': 136, 'saw': 432, 'simple': 113, 'fact': 128, 'seemed': 74, 'clear': 357, 'bed': 271, 'dark': 1757, 'legs': 104, 'dead': 2383, 'pen': 48, 'going': 678, 'get': 2698, 'dying': 673, 'still': 2174, 'warm': 189, 'put': 715, 'writing': 52, 'spit': 160, 'breath': 685, 'dear': 170, 'destiny': 411, 'mill': 10, 'shall': 1121, 'make': 2384, 'us': 2998, 'strong': 598, 'l': 294, 'lado': 10, 'el': 739, 'dame': 42, 'ya': 518, 'tengo': 54, 'ese': 25, 'del': 208, 'los': 227, 'son': 540, 'mis': 60, 'de': 1193, 'soy': 71, 'tu': 366, 'c': 192, 'mo': 89, 'que': 962, 'hay': 80, 'pero': 65, 'una': 137, 'tiene': 19, 'bien': 44, 'porque': 38, 'te': 349, 'say': 2039, 'march': 218, 'tune': 68, 'right': 1689, 'rules': 239, 'name': 1002, 'christ': 292, 'leader': 86, 'hotel': 18, 'room': 291, 'smoking': 36, 'cock': 57, 'guilty': 104, 'sin': 667, 'innocence': 204, 'talk': 331, 'soldiers': 82, 'war': 1358, 'behind': 1115, 'cross': 427, 'jesus': 200, 'chorus': 1750, 'time': 5490, 'rhythm': 46, 'come': 3338, 'sheep': 100, 'everybody': 272, 'loves': 97, 'claim': 131, 'know': 4369, 'wrong': 714, 'mob': 35, 'led': 119, 'believe': 1165, 'easily': 47, 'like': 5153, 'light': 2270, 'pro': 24, 'life': 5978, 'mind': 2485, 'read': 172, 'see': 5175, 'hear': 1566, 'leading': 103, 'blind': 690, 'brain': 382, 'round': 353, 'bible': 76, 'flag': 77, 'small': 140, 'one': 5744, 'nation': 137, 'god': 2080, 'beat': 282, 'different': 286, 'kind': 377, 'drum': 42, 'hall': 124, 'cry': 855, 'justice': 142, 'end': 2404, 'world': 3734, 'raw': 59, 'meat': 158, 'fed': 151, 'mother': 403, 'lies': 1504, 'suck': 116, 'straight': 280, 'brought': 251, 'stars': 569, 'burn': 1253, 'thought': 659, 'beauty': 378, 'would': 1463, 'around': 1319, 'state': 263, 'chaos': 388, 'got': 2188, 'crush': 158, 'command': 107, 'erase': 106, 'words': 1171, 'save': 647, 'fears': 249, 'wait': 575, 'cure': 104, 'wear': 138, 'scars': 205, 'bitter': 231, 'disease': 263, 'rage': 398, 'ruin': 93, 'without': 1159, 'clean': 148, 'never': 4846, 'eyes': 3507, 'cause': 1842, 'soon': 635, 'gone': 1282, 'queen': 154, 'built': 235, 'two': 699, 'death': 2870, 'baby': 731, 'please': 593, 'fresh': 173, 'hope': 1026, 'riding': 127, 'bullet': 76, 'alive': 812, 'tonight': 673, 'try': 1184, 'swim': 72, 'shore': 111, 'go': 2785, 'back': 2887, 'three': 267, 'last': 1573, 'speak': 365, 'drop': 171, 'heaven': 598, 'another': 1407, 'watching': 279, 'fly': 658, 'walking': 347, 'stands': 160, 'love': 3432, 'kills': 97, 'dropping': 31, 'existence': 320, 'nothing': 2289, 'fucked': 157, 'release': 230, 'fuck': 982, 'let': 3204, 'passing': 152, 'lands': 182, 'journey': 262, 'passed': 201, 'lost': 1801, 'home': 861, 'within': 989, 'sky': 1465, 'behold': 203, 'dawn': 476, 'morning': 296, 'star': 377, 'moon': 627, 'sun': 1235, 'return': 478, 'night': 2730, 'shadows': 655, 'underneath': 92, 'mighty': 219, 'old': 743, 'could': 1726, 'ears': 145, 'sound': 522, 'senses': 129, 'ring': 118, 'unto': 142, 'waves': 230, 'leave': 1154, 'long': 1296, 'fade': 431, 'ever': 1428, 'take': 3445, 'find': 1642, 'true': 776, 'pain': 2457, 'sorrow': 418, 'joy': 198, 'hands': 1123, 'strangers': 22, 'walk': 798, 'horizon': 157, 'bloody': 262, 'bleed': 447, 'upon': 1025, 'wind': 700, 'fall': 1598, 'sleep': 752, 'walked': 166, 'sea': 552, 'burning': 970, 'show': 788, 'songs': 115, 'dreams': 1317, 'pass': 361, 'oh': 2117, 'hollow': 181, 'thousand': 402, 'age': 264, 'season': 68, 'ready': 404, 'load': 68, 'body': 993, 'month': 16, 'grave': 512, 'twisted': 228, 'half': 227, 'turned': 350, 'yellow': 48, 'pissed': 36, 'filled': 334, 'fucking': 886, 'bleeding': 399, 'smell': 247, 'decay': 274, 'cum': 59, 'blood': 2834, 'feel': 2999, 'run': 1043, 'throat': 200, 'swallow': 142, 'play': 465, 'skin': 703, 'naked': 157, 'need': 1664, 'live': 1871, 'woman': 152, 'fill': 239, 'girl': 432, 'kill': 1172, 'wanted': 283, 'came': 583, 'mouth': 339, 'buried': 283, 'shallow': 93, 'none': 253, 'left': 1723, 'greatest': 89, 'thrill': 65, 'knife': 251, 'violent': 140, 'fear': 1693, 'destruction': 268, 'suffering': 320, 'fight': 1244, 'victory': 240, 'spirit': 441, 'evil': 1013, 'river': 208, 'flows': 137, 'water': 369, 'years': 723, 'devil': 409, 'deep': 1102, 'blue': 285, 'comfort': 123, 'beyond': 819, 'call': 932, 'forth': 255, 'spirits': 196, 'tell': 1414, 'place': 1164, 'stay': 789, 'universe': 163, 'paradise': 208, 'far': 1090, 'away': 3698, 'doom': 202, 'unknown': 274, 'side': 841, 'sent': 157, 'ahead': 168, 'darkest': 176, 'times': 616, 'tales': 101, 'prove': 123, 'setting': 72, 'hour': 231, 'hopeless': 78, 'always': 1414, 'rise': 926, 'stand': 1185, 'stream': 113, 'think': 1330, 'men': 583, 'gods': 579, 'truth': 1091, 'enough': 479, 'anyone': 162, 'reach': 507, 'mountain': 160, 'ashes': 286, 'ancient': 363, 'wisdom': 219, 'children': 389, 'thunder': 268, 'ones': 468, 'brave': 148, 'free': 1301, 'screams': 320, 'echo': 70, 'goes': 390, 'shed': 179, 'vain': 255, 'sign': 340, 'throne': 241, 'asked': 81, 'give': 1677, 'stop': 951, 'madness': 277, 'storm': 479, 'sons': 124, 'gather': 125, 'greed': 222, 'rule': 267, 'reign': 212, 'man': 1998, 'cannot': 671, 'used': 344, 'mirror': 258, 'fading': 205, 'memory': 259, 'cold': 1325, 'tomorrow': 414, 'yesterday': 165, 'broken': 820, 'dream': 1176, 'line': 500, 'emptiness': 173, 'sight': 496, 'new': 1507, 'cage': 116, 'among': 263, 'many': 779, 'knew': 374, 'living': 945, 'front': 245, 'faces': 242, 'mistakes': 105, 'secrets': 195, 'laws': 102, 'although': 77, 'shut': 255, 'rain': 642, 'falls': 297, 'together': 478, 'runs': 180, 'drink': 339, 'tears': 1011, 'heart': 2436, 'sad': 202, 'falling': 646, 'clouds': 336, 'ends': 236, 'vision': 306, 'land': 958, 'build': 151, 'start': 548, 'holy': 460, 'treasure': 52, 'visions': 216, 'bring': 867, 'sand': 216, 'kiss': 350, 'bliss': 111, 'cast': 316, 'made': 1135, 'bodies': 332, 'fighting': 286, 'towards': 283, 'lives': 620, 'somewhere': 149, 'beats': 76, 'silence': 774, 'way': 3166, 'violence': 215, 'nobody': 292, 'forever': 1470, 'shame': 259, 'endless': 504, 'since': 263, 'creation': 214, 'ich': 793, 'hab': 51, 'die': 3479, 'auf': 208, 'dem': 191, 'mich': 313, 'vor': 80, 'dir': 165, 'da': 418, 'ist': 363, 'das': 549, 'wieder': 37, 'es': 592, 'mir': 317, 'weg': 53, 'zu': 275, 'dein': 168, 'sein': 120, 'bin': 103, 'ein': 404, 'den': 507, 'nacht': 112, 'dich': 172, 'nach': 70, 'du': 461, 'hast': 62, 'von': 172, 'und': 855, 'deine': 79, 'er': 337, 'vi': 92, 'til': 392, 'som': 149, 'og': 177, 'dog': 165, 'ta': 103, 'alle': 63, 'en': 747, 'det': 117, 'ser': 138, 'et': 212, 'der': 912, 'n': 461, 'han': 106, 'either': 59, 'darling': 44, 'laugh': 210, 'every': 1579, 'knows': 268, 'serious': 23, 'smile': 446, 'looking': 454, 'tired': 259, 'change': 698, 'hand': 1138, 'mmm': 36, 'catch': 195, 'train': 85, 'style': 81, 'day': 2446, 'hair': 180, 'excuse': 68, 'enjoy': 91, 'accept': 113, 'drift': 71, 'comes': 710, 'fire': 1710, 'standing': 379, 'window': 117, 'hoping': 84, 'memories': 439, 'dies': 335, 'calm': 134, 'set': 724, 'jeg': 75, 'har': 74, 'dig': 117, 'p': 206, 'mine': 717, 'grief': 237, 'face': 1818, 'cell': 80, 'black': 1798, 'angel': 440, 'ice': 351, 'tiny': 37, 'eternity': 373, 'slowly': 376, 'feeling': 547, 'dancing': 178, 'remind': 62, 'little': 733, 'figure': 106, 'sudden': 62, 'breeze': 100, 'sleeping': 135, 'darkness': 1285, 'scream': 490, 'forgive': 198, 'wipe': 84, 'hurt': 298, 'hate': 1450, 'wall': 280, 'fist': 106, 'feelings': 259, 'starts': 201, 'twist': 84, 'big': 291, 'mess': 120, 'anger': 304, 'first': 569, 'blow': 234, 'hits': 54, 'flying': 177, 'concrete': 85, 'bones': 287, 'crack': 131, 'raise': 278, 'cos': 87, 'scared': 170, 'despair': 237, 'next': 322, 'second': 249, 'hit': 375, 'gonna': 975, 'arms': 376, 'fingers': 177, 'tight': 161, 'victim': 248, 'learn': 290, 'point': 293, 'turning': 302, 'bridges': 55, 'instead': 141, 'everything': 1200, 'learned': 160, 'shaking': 52, 'ground': 758, 'keep': 1269, 'late': 387, 'third': 79, 'final': 644, 'even': 873, 'care': 609, 'sink': 110, 'low': 196, 'blaze': 101, 'control': 696, 'thoughts': 694, 'air': 610, 'meaning': 173, 'lay': 342, 'screaming': 338, 'awake': 270, 'edge': 262, 'watch': 792, 'shake': 200, 'meet': 318, 'weak': 418, 'sounds': 154, 'heads': 166, 'hearts': 419, 'surely': 69, 'shine': 378, 'single': 191, 'began': 98, 'east': 68, 'growing': 245, 'west': 62, 'poor': 140, 'whatever': 161, 'means': 246, 'king': 543, 'golden': 203, 'full': 562, 'hundred': 93, 'seems': 528, 'important': 31, 'longer': 367, 'beast': 321, 'winds': 320, 'chill': 64, 'lord': 512, 'mist': 163, 'begin': 282, 'secret': 203, 'seek': 248, 'near': 379, 'strike': 190, 'answer': 324, 'breaks': 148, 'word': 427, 'leaves': 245, 'brother': 170, 'wherever': 55, 'se': 404, 'ton': 19, 'oo': 32, 'mit': 247, 'ja': 147, 'false': 241, 'smiles': 80, 'garden': 123, 'close': 734, 'felt': 330, 'realize': 273, 'blade': 242, 'cuts': 85, 'soul': 2417, 'prison': 81, 'something': 911, 'stole': 79, 'poison': 218, 'hatred': 316, 'burns': 340, 'telling': 96, 'drove': 26, 'apart': 498, 'candy': 24, 'sweet': 450, 'wings': 513, 'closed': 172, 'alone': 1444, 'loss': 199, 'must': 1193, 'bear': 172, 'tag': 62, 'als': 122, 'f': 126, 'des': 229, 'aus': 126, 'im': 464, 'noch': 114, 'ihr': 99, 'lied': 68, 'qu': 60, 'sei': 39, 'durch': 65, 'st': 63, 'b': 92, 'sich': 170, 'macht': 32, 'doch': 184, 'g': 154, 'zum': 70, 'v': 124, 'sind': 117, 'zeit': 110, 'h': 106, 'hat': 115, 'eine': 81, 'seh': 9, 'schon': 62, 'um': 102, 'hidden': 229, 'track': 101, 'missing': 93, 'cries': 381, 'listening': 54, 'killed': 192, 'spark': 81, 'kingdom': 322, 'want': 2453, 'judge': 136, 'honor': 112, 'law': 196, 'locked': 137, 'sell': 106, 'finally': 291, 'system': 168, 'terror': 291, 'supposed': 102, 'beneath': 376, 'chance': 506, 'wants': 186, 'feels': 262, 'dirt': 137, 'az': 1, 'waits': 74, 'peace': 485, 'music': 495, 'sa': 51, 'ga': 45, 'hell': 1547, 'ha': 149, 'list': 27, 'mein': 275, 'elle': 15, 'sure': 326, 'dirty': 131, 'crown': 184, 'sit': 219, 'flesh': 1091, 'earth': 981, 'funny': 48, 'tattoo': 5, 'trying': 378, 'escape': 457, 'human': 792, 'failed': 172, 'lead': 621, 'table': 85, 'fit': 97, 'emotions': 146, 'spent': 116, 'bent': 52, 'lines': 171, 'quickly': 47, 'sins': 281, 'act': 224, 'held': 215, 'though': 456, 'distant': 198, 'seen': 760, 'pull': 268, 'anything': 346, 'else': 348, 'written': 177, 'story': 239, 'told': 463, 'become': 605, 'reality': 587, 'fades': 116, 'grip': 127, 'dangerous': 44, 'leaving': 303, 'suffer': 299, 'survive': 318, 'destroy': 358, 'drifting': 82, 'tide': 99, 'searching': 298, 'finding': 72, 'better': 837, 'box': 112, 'matter': 322, 'frame': 51, 'really': 564, 'message': 112, 'tongue': 233, 'making': 238, 'clue': 31, 'exactly': 41, 'promise': 234, 'break': 1033, 'admit': 45, 'mistake': 100, 'thing': 585, 'mean': 250, 'wealth': 67, 'power': 886, 'born': 774, 'order': 152, 'everyday': 125, 'innocent': 185, 'boy': 257, 'teach': 73, 'search': 264, 'protect': 91, 'serve': 144, 'pride': 490, 'biggest': 44, 'lie': 847, 'anymore': 331, 'blame': 348, 'weapon': 74, 'driving': 85, 'insane': 334, 'enemy': 348, 'game': 558, 'glory': 335, 'gold': 260, 'freedom': 365, 'com': 86, 'may': 587, 'along': 267, 'mark': 166, 'follow': 591, 'dreaming': 185, 'crawling': 156, 'exist': 156, 'insanity': 187, 'constant': 112, 'religion': 123, 'fools': 168, 'familiar': 47, 'voices': 243, 'pale': 209, 'ghost': 136, 'veins': 364, 'generation': 92, 'mercy': 248, 'road': 343, 'following': 83, 'direction': 76, 'empty': 533, 'fields': 195, 'chains': 241, 'force': 472, 'forced': 211, 'decide': 122, 'rid': 55, 'pressure': 102, 'wont': 101, 'able': 84, 'outside': 256, 'certain': 91, 'given': 287, 'birth': 232, 'needs': 191, 'hard': 776, 'fail': 186, 'drown': 270, 'stone': 394, 'nice': 91, 'forget': 582, 'names': 88, 'sold': 130, 'makes': 603, 'snake': 79, 'getting': 433, 'rape': 169, 'stronger': 217, 'frozen': 264, 'moment': 405, 'staring': 159, 'pleasure': 231, 'pray': 483, 'dust': 341, 'funeral': 100, 'bells': 47, 'loaded': 41, 'revolution': 112, 'powers': 160, 'cut': 452, 'knees': 365, 'grab': 85, 'tie': 62, 'shoot': 144, 'shit': 726, 'selling': 53, 'tear': 450, 'smiling': 64, 'hanging': 89, 'high': 836, 'dry': 210, 'taken': 309, 'giving': 215, 'steal': 157, 'minds': 433, 'brings': 182, 'best': 453, 'demons': 349, 'calling': 422, 'worlds': 208, 'shattered': 175, 'stuck': 132, 'sometimes': 265, 'somehow': 100, 'wake': 561, 'opened': 117, 'wearing': 61, 'disguise': 145, 'luck': 81, 'happy': 146, 'clown': 34, 'prey': 181, 'bar': 58, 'gets': 189, 'drunk': 102, 'car': 76, 'drives': 65, 'murder': 269, 'killer': 125, 'bop': 15, 'city': 339, 'streets': 239, 'victims': 212, 'piece': 205, 'spoke': 77, 'john': 40, 'fine': 159, 'comin': 78, 'moonlight': 144, 'winter': 309, 'skies': 428, 'steel': 343, 'white': 521, 'flames': 566, 'snow': 244, 'whispering': 90, 'midnight': 130, 'kisses': 29, 'shades': 113, 'kings': 168, 'crystal': 115, 'wine': 152, 'battle': 404, 'waters': 109, 'sword': 381, 'past': 858, 'self': 566, 'present': 86, 'rush': 76, 'future': 609, 'circle': 220, 'grow': 292, 'join': 222, 'flew': 39, 'form': 269, 'split': 101, 'strength': 341, 'backwards': 40, 'days': 771, 'trees': 192, 'candle': 66, 'taste': 411, 'disappear': 117, 'bridge': 223, 'facts': 48, 'lonely': 294, 'real': 681, 'hurts': 146, 'carry': 355, 'song': 498, 'sorry': 152, 'hardest': 32, 'said': 810, 'done': 896, 'imagine': 79, 'breathing': 167, 'loved': 168, 'lived': 162, 'gain': 146, 'wenn': 138, 'wird': 94, 'nicht': 236, 'satan': 336, 'promised': 73, 'master': 337, 'gave': 417, 'changed': 155, 'send': 157, 'listen': 354, 'door': 408, 'key': 209, 'shout': 132, 'somebody': 169, 'impossible': 48, 'mission': 118, 'press': 36, 'rewind': 34, 'took': 443, 'misery': 317, 'cheap': 59, 'blessed': 151, 'started': 189, 'hearted': 41, 'weakness': 124, 'success': 50, 'tracks': 81, 'wicked': 211, 'mom': 69, 'covered': 134, 'stomach': 55, 'turns': 275, 'dare': 209, 'hide': 676, 'gun': 266, 'trigger': 84, 'aside': 125, 'rings': 44, 'blast': 83, 'blown': 55, 'goddamn': 64, 'wounds': 281, 'promises': 102, 'saying': 92, 'praying': 95, 'good': 843, 'unless': 38, 'understood': 41, 'lights': 254, 'sick': 420, 'went': 233, 'waiting': 696, 'forgotten': 346, 'desperate': 91, 'plastic': 60, 'mask': 100, 'heard': 404, 'quick': 114, 'fix': 83, 'easy': 270, 'someday': 84, 'switch': 42, 'touch': 503, 'whisper': 144, 'moments': 122, 'birds': 108, 'sittin': 14, 'father': 357, 'died': 315, 'eyed': 79, 'gates': 301, 'open': 1038, 'wide': 272, 'bastard': 101, 'breed': 165, 'food': 102, 'regret': 245, 'thy': 407, 'guide': 190, 'feed': 335, 'rest': 537, 'waste': 291, 'race': 334, 'lyrics': 464, 'hill': 103, 'sadness': 163, 'castle': 84, 'mass': 196, 'rose': 165, 'presence': 134, 'beginning': 203, 'followed': 75, 'shape': 122, 'course': 133, 'ocean': 176, 'heading': 98, 'putting': 37, 'fate': 648, 'precious': 131, 'blinded': 169, 'spell': 226, 'write': 122, 'coming': 824, 'wonder': 240, 'everyone': 328, 'guitar': 29, 'bout': 126, 'metal': 298, 'pre': 126, 'spread': 271, 'create': 150, 'hey': 433, 'mr': 63, 'wanna': 719, 'bullshit': 97, 'fake': 165, 'em': 462, 'core': 130, 'damn': 204, 'fool': 288, 'machine': 164, 'scene': 142, 'band': 59, 'grind': 50, 'plan': 142, 'solo': 327, 'heavy': 208, 'weil': 24, 'lust': 418, 'denn': 70, 'fr': 159, 'un': 494, 'trust': 399, 'ask': 343, 'path': 545, 'souls': 658, 'zone': 81, 'plain': 62, 'spend': 73, 'others': 249, 'job': 81, 'reason': 509, 'case': 80, 'pimpin': 6, 'ass': 244, 'floating': 81, 'chair': 42, 'j': 106, 'anyway': 109, 'gotta': 480, 'belong': 197, 'cool': 98, 'relax': 29, 'known': 216, 'family': 134, 'afraid': 328, 'someone': 506, 'pushed': 104, 'suppose': 19, 'lose': 413, 'remember': 681, 'breathe': 418, 'share': 158, 'respect': 136, 'hold': 1013, 'pay': 430, 'visit': 26, 'waitin': 28, 'nothin': 51, 'special': 65, 'knockin': 8, 'peep': 13, 'bitch': 383, 'gang': 94, 'kids': 98, 'maybe': 340, 'people': 838, 'later': 68, 'lying': 214, 'question': 198, 'lesson': 73, 'needed': 114, 'fuckin': 276, 'places': 86, 'holding': 240, 'pieces': 220, 'total': 154, 'taking': 380, 'win': 289, 'ways': 383, 'taught': 86, 'nature': 264, 'draw': 89, 'enemies': 172, 'knowing': 159, 'trail': 87, 'stood': 113, 'quite': 93, 'beg': 148, 'enter': 209, 'boat': 37, 'hunt': 106, 'lets': 109, 'proud': 178, 'killing': 457, 'red': 650, 'cruel': 180, 'anybody': 114, 'cares': 104, 'babies': 28, 'slaughter': 153, 'torture': 177, 'ending': 216, 'nights': 252, 'desert': 99, 'heroes': 100, 'happen': 114, 'speed': 128, 'dogs': 91, 'pa': 97, 'le': 179, 'dans': 61, 'mon': 108, 'void': 218, 'addicted': 34, 'ran': 84, 'hot': 258, 'les': 129, 'army': 133, 'confusion': 126, 'selfish': 81, 'prince': 49, 'agony': 210, 'wander': 84, 'yes': 294, 'gate': 177, 'greater': 66, 'knowledge': 185, 'tried': 379, 'chosen': 201, 'leads': 117, 'x': 616, 'works': 37, 'drums': 28, 'sacrifice': 285, 'wrath': 200, 'spill': 87, 'signs': 174, 'fires': 176, 'smoke': 163, 'fills': 108, 'ride': 550, 'desire': 458, 'shared': 51, 'looked': 119, 'harmony': 68, 'played': 89, 'games': 81, 'choose': 244, 'work': 279, 'sweat': 103, 'push': 241, 'test': 123, 'looks': 151, 'guess': 227, 'strapped': 25, 'million': 131, 'kann': 54, 'leben': 140, 'meine': 150, 'sie': 233, 'je': 99, 'fallen': 402, 'view': 137, 'remains': 346, 'sinking': 80, 'walls': 477, 'pure': 294, 'washed': 53, 'stayed': 26, 'laid': 148, 'kid': 108, 'alright': 151, 'drive': 144, 'well': 773, 'birthday': 20, 'grown': 96, 'four': 203, 'stopping': 40, 'tied': 122, 'ceiling': 31, 'private': 34, 'uh': 118, 'thinking': 238, 'rope': 63, 'pair': 30, 'kept': 128, 'talking': 157, 'clock': 89, 'dope': 62, 'ten': 167, 'rolls': 18, 'slow': 204, 'picture': 106, 'dance': 459, 'palm': 41, 'minute': 97, 'level': 35, 'flow': 254, 'eh': 43, 'bow': 183, 'muthafuckin': 38, 'punk': 20, 'flight': 109, 'class': 47, 'green': 139, 'smooth': 22, 'feelin': 58, 'step': 512, 'danger': 98, 'suicide': 197, 'yeah': 1063, 'gusta': 7, 'microphone': 16, 'con': 235, 'este': 69, 'estas': 29, 'mio': 8, 'things': 1035, 'cosa': 7, 'weight': 157, 'called': 236, 'satisfy': 63, 'animal': 65, 'seeds': 97, 'pushing': 100, 'bury': 156, 'verse': 164, 'club': 57, 'chose': 90, 'embrace': 341, 'chase': 87, 'trace': 89, 'helpless': 70, 'guard': 49, 'fell': 275, 'whats': 42, 'trip': 114, 'drinks': 40, 'mad': 220, 'bottle': 82, 'loose': 153, 'minutes': 52, 'willing': 73, 'playa': 9, 'beer': 47, 'jack': 50, 'floor': 252, 'hustle': 15, 'liquor': 19, 'beautiful': 340, 'lady': 103, 'pictures': 93, 'party': 129, 'freak': 50, 'sheets': 36, 'repeat': 258, 'idea': 54, 'seem': 284, 'defeat': 140, 'allow': 53, 'short': 131, 'ticket': 30, 'lot': 170, 'hiding': 167, 'understand': 522, 'attention': 56, 'eye': 550, 'brains': 85, 'natural': 56, 'created': 183, 'bend': 80, 'common': 72, 'house': 308, 'part': 458, 'great': 533, 'numb': 138, 'help': 558, 'parents': 33, 'school': 72, 'already': 290, 'lips': 280, 'crime': 189, 'perfect': 260, 'wolf': 105, 'lamb': 35, 'silly': 25, 'grace': 241, 'chain': 82, 'iron': 108, 'higher': 264, 'hole': 216, 'running': 558, 'damned': 261, 'whole': 381, 'silent': 427, 'friends': 303, 'stupid': 88, 'strange': 183, 'surprise': 66, 'gives': 138, 'incomprehensible': 68, 'choice': 282, 'today': 417, 'money': 307, 'r': 285, 'welcome': 321, 'gettin': 67, 'paper': 116, 'drugs': 67, 'aint': 46, 'niggaz': 95, 'move': 403, 'check': 140, 'hoes': 40, 'pockets': 26, 'zero': 49, 'e': 303, 'tryin': 79, 'dough': 15, 'runnin': 31, 'young': 325, 'knocked': 19, 'lil': 30, 'pimp': 16, 'questions': 136, 'slip': 114, 'hush': 8, 'askin': 7, 'paid': 113, 'cop': 51, 'shade': 97, 'mall': 9, 'lo': 233, 'ak': 17, 'wit': 131, 'dub': 14, 'puttin': 5, 'rollin': 55, 'steppin': 12, 'outta': 60, 'slippin': 9, 'crossed': 67, 'double': 91, 'thats': 48, 'playin': 21, 'pump': 39, 'sean': 26, 'heat': 189, 'seat': 49, 'clip': 24, 'owe': 19, 'boys': 111, 'block': 96, 'everywhere': 167, 'thangs': 8, 'cats': 17, 'bang': 111, 'na': 233, 'yea': 60, 'kinda': 35, 'chi': 27, 'hesitate': 34, 'bullets': 59, 'met': 134, 'lookin': 52, 'honey': 63, 'decision': 57, 'walkin': 23, 'wow': 14, 'blew': 40, 'starting': 91, 'beside': 113, 'feet': 385, 'eat': 285, 'woah': 58, 'neck': 210, 'granted': 56, 'divine': 260, 'voice': 546, 'thee': 282, 'angels': 415, 'rebel': 59, 'ye': 85, 'south': 76, 'thou': 220, 'price': 246, 'demon': 209, 'stare': 202, 'flat': 32, 'valley': 80, 'float': 68, 'salvation': 228, 'grows': 167, 'year': 140, 'showing': 68, 'page': 62, 'rather': 186, 'offer': 93, 'child': 448, 'raised': 118, 'doubt': 179, 'deadly': 157, 'crawl': 190, 'action': 92, 'bomb': 69, 'history': 161, 'roads': 42, 'paint': 113, 'adore': 44, 'lake': 113, 'burned': 194, 'denied': 131, 'ago': 187, 'lonesome': 33, 'surrender': 122, 'guilt': 147, 'conscience': 104, 'seas': 181, 'horror': 169, 'bare': 108, 'rising': 306, 'pace': 41, 'fast': 339, 'society': 143, 'losing': 216, 'drowning': 149, 'shadow': 378, 'answers': 188, 'image': 124, 'threw': 64, 'named': 31, 'numbers': 79, 'lit': 45, 'book': 139, 'lightning': 130, 'caught': 250, 'wish': 588, 'heal': 206, 'struggle': 117, 'slave': 177, 'passion': 197, 'doll': 34, 'shelter': 142, 'weep': 94, 'daughter': 46, 'field': 109, 'drug': 57, 'wave': 100, 'flood': 100, 'lick': 75, 'meant': 245, 'pretty': 171, 'folks': 16, 'bought': 56, 'bit': 125, 'bless': 65, 'feeding': 142, 'jungle': 23, 'stepped': 26, 'shining': 193, 'reasons': 122, 'grand': 67, 'explode': 55, 'calls': 139, 'sol': 32, 'vest': 21, 'flower': 82, 'illusion': 128, 'sacred': 213, 'till': 499, 'fat': 96, 'chest': 148, 'bone': 236, 'pocket': 30, 'momma': 19, 'dressed': 77, 'bitches': 62, 'dip': 14, 'knee': 36, 'painted': 102, 'begins': 229, 'friend': 375, 'plans': 84, 'sail': 165, 'toast': 25, 'seven': 195, 'recall': 64, 'haze': 74, 'less': 182, 'cost': 75, 'singing': 121, 'id': 26, 'youre': 41, 'pour': 129, 'regrets': 102, 'shoulders': 43, 'shes': 8, 'ignore': 78, 'hurry': 55, 'across': 402, 'magic': 248, 'blows': 77, 'kissed': 46, 'resist': 119, 'grey': 257, 'eternal': 631, 'rivers': 92, 'travel': 66, 'bright': 273, 'flowers': 126, 'witness': 115, 'stories': 97, 'sense': 353, 'sigh': 52, 'worst': 119, 'hopes': 109, 'torn': 328, 'smash': 51, 'seed': 171, 'news': 65, 'whether': 28, 'bad': 450, 'sides': 58, 'shows': 90, 'code': 50, 'aware': 80, 'base': 12, 'sets': 87, 'bars': 61, 'wondering': 52, 'police': 91, 'brothers': 153, 'country': 60, 'bound': 214, 'surrounded': 94, 'ver': 70, 'cops': 39, 'eating': 100, 'twelve': 47, 'dollar': 65, 'criminal': 79, 'pussy': 43, 'throw': 224, 'joint': 14, 'picked': 34, 'motherfucker': 83, 'hammer': 155, 'remain': 269, 'treat': 72, 'number': 113, 'youth': 104, 'angry': 41, 'forward': 138, 'tearing': 106, 'problems': 81, 'staying': 29, 'inner': 182, 'motion': 60, 'ego': 39, 'ce': 29, 'qui': 54, 'si': 214, 'est': 93, 'pas': 41, 'sur': 24, 'sans': 29, 'u': 105, 'par': 38, 'suis': 4, 'mal': 57, 'imagination': 64, 'tout': 9, 'nous': 23, 'uns': 91, 'mais': 14, 'la': 1138, 'ne': 111, 'nos': 45, 'au': 35, 'il': 71, 'fa': 6, 'ir': 71, 'une': 52, 'bringing': 79, 'kissing': 37, 'twilight': 154, 'empire': 139, 'sing': 371, 'whose': 121, 'woods': 128, 'burnt': 130, 'horse': 92, 'quiet': 95, 'mystery': 93, 'wife': 72, 'corpse': 217, 'might': 497, 'breaking': 227, 'happened': 103, 'north': 166, 'forest': 146, 'flash': 75, 'curse': 256, 'truly': 100, 'hero': 82, 'winning': 22, 'whenever': 41, 'fun': 106, 'cloud': 79, 'temptation': 98, 'happening': 36, 'pick': 147, 'faith': 585, 'almost': 137, 'laughter': 118, 'loneliness': 113, 'nails': 83, 'worth': 283, 'reaching': 145, 'closing': 83, 'stage': 115, 'ill': 155, 'bigger': 33, 'space': 294, 'huh': 56, 'lungs': 122, 'tall': 106, 'ok': 202, 'ra': 28, 'comme': 16, 'nie': 49, 'tes': 6, 'plus': 72, 'ou': 13, 'toi': 10, 'street': 154, 'wild': 229, 'bag': 58, 'sharp': 83, 'laughing': 122, 'nuts': 8, 'keeps': 196, 'rot': 225, 'drag': 98, 'lifetime': 93, 'clothes': 70, 'dick': 81, 'rolling': 80, 'holes': 83, 'stick': 125, 'swear': 141, 'walks': 92, 'thrown': 104, 'loud': 142, 'grin': 59, 'chasing': 85, 'believed': 66, 'dropped': 37, 'lover': 73, 'post': 47, 'coast': 26, 'count': 202, 'twice': 87, 'crying': 262, 'grass': 64, 'wonderful': 48, 'pulled': 70, 'mortal': 214, 'art': 194, 'sam': 19, 'ku': 52, 'ashamed': 39, 'rich': 72, 'card': 16, 'millions': 63, 'crazy': 153, 'stuff': 69, 'yo': 379, 'kick': 122, 'kickin': 16, 'layin': 9, 'joke': 74, 'goin': 77, 'american': 70, 'rat': 38, 'attack': 242, 'brown': 61, 'tv': 94, 'screen': 53, 'hype': 8, 'becomes': 135, 'nightmare': 200, 'use': 276, 'constantly': 54, 'revenge': 220, 'wound': 111, 'planet': 129, 'ease': 100, 'panic': 86, 'underground': 80, 'weed': 33, 'hardly': 53, 'focus': 72, 'bell': 71, 'hungry': 113, 'playing': 126, 'ripped': 105, 'wreck': 59, 'science': 67, 'non': 100, 'deny': 243, 'trouble': 43, 'seeing': 126, 'roses': 107, 'closer': 235, 'pound': 68, 'wood': 67, 'whip': 52, 'rainbow': 57, 'shines': 123, 'nowhere': 223, 'bond': 52, 'holds': 92, 'industry': 16, 'vamos': 21, 'hasta': 34, 'quien': 47, 'sabe': 12, 'tus': 52, 'marry': 8, 'hoy': 77, 'quiero': 56, 'nada': 64, 'ti': 93, 'ni': 133, 'amor': 90, 'para': 135, 'mi': 305, 'eres': 14, 'nadie': 35, 'como': 95, 'todo': 71, 'por': 270, 'cuerpo': 23, 'conmigo': 21, 'summer': 148, 'fan': 28, 'silver': 174, 'melt': 51, 'ive': 62, 'coffee': 24, 'apple': 11, 'harder': 96, 'pit': 100, 'lift': 84, 'fold': 51, 'wishing': 71, 'position': 37, 'pack': 64, 'flame': 337, 'worse': 100, 'forgot': 50, 'wrapped': 82, 'cried': 114, 'shoulder': 51, 'gift': 148, 'ignorance': 153, 'bird': 77, 'hooked': 14, 'tough': 36, 'gray': 94, 'cared': 34, 'original': 21, 'saved': 100, 'nur': 137, 'kein': 45, 'immer': 45, 'wie': 182, 'welt': 45, 'hier': 40, 'monster': 87, 'tragedy': 126, 'reached': 87, 'ear': 88, 'bite': 104, 'arm': 71, 'teeth': 143, 'showed': 49, 'trap': 49, 'five': 165, 'warriors': 136, 'pounds': 16, 'horses': 48, 'headed': 46, 'fought': 107, 'women': 97, 'church': 124, 'sings': 41, 'ringing': 32, 'wars': 113, 'asking': 68, 'sees': 93, 'sat': 57, 'mia': 6, 'wasting': 80, 'jumped': 15, 'hating': 26, 'okay': 64, 'whiskey': 15, 'drivin': 16, 'takes': 312, 'anywhere': 96, 'realized': 56, 'guy': 56, 'changes': 76, 'thick': 60, 'thank': 71, 'eve': 74, 'heavenly': 37, 'lovers': 73, 'weary': 68, 'sunset': 68, 'ended': 63, 'butt': 21, 'trapped': 222, 'prayer': 78, 'longing': 115, 'letting': 75, 'favor': 28, 'deserve': 109, 'shot': 189, 'person': 88, 'miracle': 40, 'building': 88, 'thin': 104, 'wasted': 154, 'prayers': 107, 'doors': 123, 'refuse': 121, 'missed': 54, 'also': 71, 'faithful': 51, 'hail': 261, 'spoken': 114, 'melody': 56, 'sang': 63, 'string': 33, 'leg': 23, 'mama': 65, 'jewels': 17, 'glow': 60, 'louder': 49, 'whispers': 134, 'became': 134, 'drama': 67, 'stress': 29, 'america': 31, 'savior': 82, 'lucky': 58, 'spring': 58, 'autumn': 115, 'sex': 218, 'fair': 108, 'wash': 137, 'daylight': 73, 'rock': 395, 'dove': 28, 'evening': 70, 'lock': 92, 'steps': 97, 'upside': 31, 'team': 32, 'emotion': 59, 'confused': 77, 'michael': 25, 'finished': 37, 'lovely': 72, 'stays': 48, 'heavens': 155, 'praise': 143, 'dah': 7, 'k': 115, 'healing': 63, 'cover': 189, 'aye': 24, 'sunrise': 95, 'indeed': 41, 'sexy': 30, 'electric': 47, 'begun': 192, 'stones': 127, 'suddenly': 93, 'hung': 58, 'dash': 7, 'bet': 63, 'gut': 40, 'hang': 138, 'size': 38, 'flowing': 99, 'drinking': 57, 'guts': 95, 'seasons': 57, 'keeping': 72, 'sisters': 36, 'mountains': 181, 'mud': 58, 'toy': 26, 'tone': 27, 'shock': 60, 'nine': 163, 'rent': 31, 'spine': 87, 'except': 57, 'stranger': 123, 'shell': 151, 'flies': 133, 'trash': 43, 'hearing': 65, 'ooh': 97, 'christmas': 32, 'holiday': 13, 'everytime': 25, 'roof': 34, 'spending': 22, 'tree': 117, 'nd': 22, 'dis': 17, 'dont': 107, 'shawty': 2, 'patience': 45, 'slay': 78, 'woke': 55, 'thinkin': 29, 'letter': 58, 'nearly': 34, 'sunshine': 48, 'homie': 26, 'blues': 20, 'worry': 79, 'backs': 51, 'shady': 11, 'homies': 9, 'jet': 52, 'crew': 42, 'due': 52, 'moved': 49, 'everlasting': 119, 'speaking': 52, 'babe': 46, 'trunk': 22, 'steady': 55, 'climb': 79, 'shots': 36, 'roll': 157, 'middle': 110, 'gimme': 73, 'watched': 114, 'broke': 118, 'thru': 66, 'least': 97, 'liar': 115, 'explain': 91, 'buy': 95, 'difference': 96, 'riot': 39, 'worship': 106, 'nervous': 27, 'intro': 34, 'billy': 11, 'rip': 163, 'touching': 62, 'letters': 31, 'dive': 73, 'foot': 66, 'anytime': 24, 'prepared': 79, 'vez': 59, 'fue': 29, 'tanto': 13, 'sentir': 18, 'vivir': 29, 'donde': 35, 'estoy': 46, 'worried': 17, 'roots': 74, 'kicked': 25, 'reflection': 121, 'saving': 45, 'nerve': 33, 'seconds': 50, 'hours': 130, 'map': 27, 'purpose': 114, 'pretend': 90, 'mankind': 266, 'aim': 112, 'limit': 32, 'restless': 94, 'miss': 205, 'moves': 81, 'energy': 107, 'week': 45, 'tick': 41, 'stops': 64, 'downtown': 20, 'radio': 56, 'planned': 34, 'bedroom': 30, 'dreamer': 44, 'bei': 49, 'w': 57, 'nichts': 51, 'station': 15, 'wo': 153, 'viel': 38, 'fish': 34, 'pity': 92, 'sake': 49, 'talkin': 45, 'pulling': 52, 'och': 152, 'situation': 55, 'wise': 89, 'acting': 42, 'faster': 119, 'score': 64, 'begging': 107, 'forgiveness': 82, 'foreign': 62, 'blowing': 77, 'ang': 2, 'row': 41, 'ugly': 62, 'drawn': 109, 'swing': 42, 'attitude': 27, 'piss': 58, 'pills': 32, 'miles': 139, 'sitting': 75, 'soft': 86, 'wir': 143, 'rotten': 147, 'dass': 35, 'tat': 21, 'weh': 10, 'spare': 59, 'prepare': 95, 'shooting': 49, 'often': 53, 'fortune': 48, 'island': 47, 'range': 14, 'bye': 63, 'matters': 53, 'recognize': 52, 'finger': 88, 'video': 15, 'laying': 41, 'raining': 38, 'complete': 144, 'laughed': 28, 'tryna': 14, 'deal': 105, 'believing': 73, 'lately': 19, 'studio': 6, 'working': 71, 'lack': 88, 'fantasy': 103, 'tail': 22, 'undone': 91, 'color': 90, 'punch': 24, 'di': 112, 'dia': 25, 'dan': 28, 'mm': 10, 'balls': 31, 'roam': 61, 'ad': 31, 'proof': 61, 'pouring': 46, 'wire': 87, 'belly': 30, 'strings': 38, 'ball': 73, 'hoe': 16, 'tape': 17, 'phone': 64, 'corner': 96, 'sippin': 11, 'cuz': 21, 'wet': 85, 'rum': 27, 'colors': 79, 'po': 32, 'wrap': 37, 'dome': 22, 'six': 195, 'slim': 15, 'pillow': 27, 'forty': 23, 'cream': 27, 'beef': 23, 'guns': 91, 'hips': 18, 'shoes': 45, 'squad': 12, 'shootin': 8, 'problem': 59, 'automatic': 14, 'business': 47, 'toys': 20, 'rocks': 81, 'santa': 13, 'pole': 27, 'bust': 61, 'nut': 9, 'fucker': 40, 'drank': 46, 'gas': 58, 'tan': 36, 'learning': 46, 'eight': 33, 'daily': 50, 'hunger': 152, 'safe': 164, 'monkey': 26, 'ray': 35, 'expect': 84, 'va': 59, 'model': 23, 'fashion': 39, 'dress': 51, 'rhyme': 52, 'lip': 11, 'bottom': 104, 'pot': 28, 'weird': 37, 'spinning': 80, 'beating': 122, 'waited': 49, 'pretending': 32, 'sore': 29, 'windows': 52, 'finish': 52, 'touched': 74, 'ecstasy': 69, 'al': 170, 'thanks': 31, 'worries': 30, 'favorite': 26, 'major': 14, 'ninety': 14, 'park': 45, 'feds': 3, 'appear': 100, 'sixteen': 13, 'bags': 41, 'album': 16, 'rapper': 11, 'ed': 12, 'standin': 9, 'bein': 15, 'girls': 134, 'mixed': 31, 'truck': 23, 'distance': 144, 'glad': 73, 'foolish': 35, 'probably': 44, 'hook': 46, 'hills': 78, 'bay': 37, 'fame': 112, 'company': 54, 'weeks': 22, 'circles': 90, 'loving': 88, 'honest': 44, 'drops': 60, 'counting': 65, 'tender': 58, 'plays': 37, 'nigga': 292, 'bass': 32, 'main': 31, 'muthafucka': 11, 'noise': 89, 'brick': 45, 'trick': 35, 'jail': 38, 'choke': 94, 'text': 30, 'snap': 43, 'brand': 54, 'onto': 127, 'books': 60, 'dumb': 42, 'goodbye': 277, 'asleep': 127, 'happiness': 76, 'wei': 21, 'mehr': 76, 'gibt': 25, 'entre': 31, 'ms': 63, 'pues': 23, 'ahh': 43, 'niggas': 146, 'jump': 81, 'gots': 9, 'gon': 59, 'fifth': 22, 'slap': 22, 'hater': 15, 'busta': 15, 'rhymes': 59, 'daddy': 84, 'toe': 31, 'faded': 79, 'haters': 16, 'cha': 39, 'doin': 39, 'type': 46, 'rap': 82, 'lean': 24, 'seein': 5, 'hip': 48, 'hop': 26, 'texas': 8, 'bricks': 27, 'mc': 77, 'las': 124, 'rappers': 9, 'stacks': 10, 'keepin': 10, 'bustin': 16, 'watchin': 20, 'lyrical': 14, 'pie': 14, 'freeze': 75, 'skills': 30, 'spot': 59, 'drinkin': 10, 'raps': 13, 'nasty': 22, 'represent': 30, 'biz': 9, 'knock': 85, 'beware': 143, 'troubles': 21, 'fence': 15, 'twenty': 48, 'shy': 21, 'dreamed': 35, 'hug': 13, 'camera': 10, 'aching': 42, 'era': 53, 'grew': 77, 'record': 30, 'tale': 98, 'q': 26, 'su': 169, 'aqui': 14, 'ahora': 38, 'algo': 33, 'puedo': 36, 'contigo': 16, 'sue': 12, 'ojos': 31, 'esa': 14, 'todos': 28, 'mundo': 42, 'tells': 73, 'colder': 44, 'bail': 9, 'warning': 95, 'deeper': 197, 'heartache': 28, 'barely': 60, 'gentle': 40, 'satisfied': 97, 'fever': 94, 'johnny': 18, 'tricks': 36, 'harm': 56, 'wore': 17, 'neighborhood': 38, 'saturday': 158, 'happens': 65, 'purple': 49, 'heartbeat': 42, 'crooked': 32, 'store': 48, 'leather': 61, 'kicks': 19, 'quit': 68, 'suit': 43, 'plane': 31, 'nose': 54, 'completely': 51, 'woo': 33, 'dum': 7, 'rode': 45, 'cant': 99, 'hah': 11, 'uhh': 10, 'dat': 33, 'deck': 21, 'mic': 54, 'def': 9, 'boom': 19, 'droppin': 7, 'risk': 46, 'cat': 48, 'bands': 18, 'wack': 21, 'match': 39, 'funk': 30, 'milk': 36, 'hood': 82, 'slang': 16, 'sleepin': 9, 'competition': 22, 'lame': 15, 'romance': 40, 'knocking': 24, 'nah': 17, 'bis': 38, 'geht': 25, 'slipping': 48, 'simply': 61, 'sack': 13, 'oooh': 46, 'compare': 27, 'salt': 82, 'scratch': 33, 'plenty': 28, 'cash': 62, 'careful': 28, 'stopped': 102, 'says': 155, 'bubble': 10, 'changing': 95, 'wheels': 39, 'mood': 20, 'suckers': 22, 'th': 40, 'bank': 13, 'public': 45, 'parts': 74, 'rolled': 30, 'dim': 50, 'tip': 33, 'cards': 26, 'ate': 16, 'agree': 32, 'givin': 43, 'os': 37, 'clique': 4, 'rep': 9, 'cocaine': 14, 'pop': 60, 'hi': 34, 'callin': 14, 'creep': 56, 'killa': 20, 'sayin': 17, 'fault': 68, 'whore': 184, 'chances': 67, 'thinks': 36, 'duck': 18, 'refrain': 33, 'jetzt': 51, 'sag': 25, 'celebrate': 41, 'strap': 14, 'dad': 48, 'hurting': 41, 'spin': 45, 'wheel': 92, 'sunlight': 75, 'dice': 53, 'kicking': 33, 'damage': 72, 'raging': 137, 'shook': 14, 'keys': 46, 'girlfriend': 16, 'wrist': 29, 'heels': 23, 'rains': 33, 'fore': 22, 'dot': 96, 'amazing': 15, 'super': 27, 'date': 21, 'chicks': 7, 'county': 8, 'georgia': 2, 'ghetto': 63, 'pool': 43, 'san': 22, 'stash': 8, 'brooklyn': 10, 'hello': 24, 'brighter': 63, 'settle': 31, 'wanting': 39, 'conversation': 22, 'diamond': 41, 'plug': 11, 'doctor': 33, 'diamonds': 41, 'worked': 29, 'ah': 180, 'waking': 54, 'usually': 4, 'sunny': 47, 'friday': 17, 'softly': 44, 'notice': 35, 'lion': 38, 'tore': 56, 'bottles': 13, 'slide': 44, 'ship': 115, 'fallin': 36, 'esta': 86, 'cielo': 44, 'vida': 85, 'nunca': 44, 'dime': 34, 'rub': 15, 'bounce': 17, 'preacher': 31, 'records': 20, 'fiend': 64, 'trade': 63, 'boots': 24, 'role': 47, 'ka': 39, 'wa': 71, 'ima': 15, 'alles': 50, 'auch': 64, 'oder': 16, 'ridin': 22, 'handle': 49, 'drip': 28, 'neon': 16, 'pill': 11, 'motherfuckers': 35, 'government': 49, 'cheese': 22, 'groove': 20, 'merry': 22, 'tour': 11, 'piel': 16, 'dentro': 12, 'dolor': 40, 'siento': 26, 'noche': 28, 'cuando': 60, 'ole': 6, 'rockin': 45, 'movin': 30, 'older': 53, 'ci': 2, 'quand': 1, 'cadillac': 3, 'cars': 39, 'bread': 50, 'workin': 10, 'trippin': 15, 'dinner': 32, 'talked': 16, 'throwing': 45, 'sucker': 31, 'cup': 52, 'early': 72, 'bills': 40, 'hurtin': 5, 'lemme': 3, 'livin': 40, 'couple': 33, 'dollars': 14, 'holla': 7, 'soldier': 71, 'vas': 25, 'jam': 38, 'alma': 34, 'siempre': 47, 'cada': 27, 'voy': 28, 'otra': 35, 'mujer': 17, 'quieres': 28, 'homes': 29, 'sweetest': 25, 'killin': 25, 'chrome': 14, 'compton': 3, 'lee': 8, 'married': 11, 'tee': 4, 'cali': 2, 'york': 16, 'spinnin': 4, 'inch': 42, 'highway': 31, 'signed': 20, 'crib': 13, 'slick': 28, 'dre': 1, 'ex': 23, 'mail': 10, 'betta': 10, 'nuttin': 2, 'toes': 15, 'add': 42, 'ladies': 37, 'finna': 4, 'jag': 83, 'bo': 15, 'z': 31, 'sh': 4, 'wedding': 25, 'hollywood': 24, 'click': 18, 'benz': 9, 'bother': 47, 'sipping': 12, 'toss': 19, 'complain': 34, 'mac': 16, 'rough': 35, 'aw': 2, 'somethin': 33, 'eatin': 3, 'pants': 15, 'squeeze': 21, 'winner': 25, 'note': 31, 'plate': 42, 'carried': 83, 'pages': 52, 'likes': 21, 'rob': 18, 'sister': 72, 'kitchen': 15, 'talks': 28, 'lots': 30, 'buck': 25, 'sober': 29, 'papa': 8, 'pink': 28, 'mas': 80, 'eso': 29, 'ol': 27, 'famous': 17, 'david': 11, 'rubber': 22, 'bringin': 20, 'mix': 29, 'smokin': 18, 'dj': 18, 'burnin': 23, 'makin': 30, 'college': 8, 'square': 25, 'court': 37, 'cook': 12, 'ai': 9, 'blowin': 10, 'tellin': 18, 'lovin': 21, 'singin': 2, 'jeans': 18, 'movie': 27, 'dann': 75, 'yard': 16, 'sale': 38, 'pullin': 7, 'bobby': 21, 'wrote': 55, 'pistol': 10, 'outro': 14, 'ch': 10, 'ought': 12, 'spittin': 10, 'ballin': 8, 'dee': 10, 'blocks': 26, 'per': 43, 'crash': 91, 'weather': 34, 'creepin': 2, 'showin': 11, 'boogie': 9, 'spray': 21, 'missin': 8, 'takin': 22, 'mile': 23, 'knowin': 4, 'rappin': 9, 'gente': 18, 'aqu': 56, 'dos': 33, 'mejor': 21, 'advice': 24, 'saint': 81, 'hangin': 13, 'figured': 12, 'losin': 13, 'doe': 5, 'mister': 20, 'bus': 22, 'ho': 50, 'player': 15, 'theres': 61, 'tha': 34, 'mommy': 18, 'broad': 9, 'flex': 14, 'disco': 14, 'gangsta': 4, 'bill': 24, 'ding': 10, 'sunday': 27, 'amour': 14, 'fifty': 27, 'southern': 22, 'sho': 4, 'summertime': 9, 'mary': 13, 'bam': 3, 'ba': 107, 'monday': 14, 'holler': 8, 'flip': 33, 'blunt': 40, 'hatin': 4, 'chick': 14, 'booty': 14, 'gucci': 6, 'months': 29, 'flavor': 10, 'bom': 2, 'aight': 2, 'platinum': 9, 'tony': 7, 'extra': 15, 'throwin': 8, 'breakin': 10, 'ca': 7, 'queens': 23, 'thugs': 20, 'dyin': 40, 'leavin': 17, 'fancy': 21, 'grill': 9, 'cotton': 3, 'lotta': 10, 'didnt': 11, 'beach': 18, 'yup': 3, 'esto': 10, 'aunque': 30, 'van': 29, 'mexico': 12, 'bunch': 13, 'triple': 15, 'glock': 16, 'sus': 35, 'juice': 13, 'sip': 26, 'snatch': 18, 'dr': 21, 'french': 18, 'sir': 10, 'fi': 11, 'ay': 64, 'gravity': 24, 'strip': 42, 'thirty': 17, 'telephone': 10, 'gay': 9, 'casa': 8, 'mira': 3, 'tiempo': 32, 'shower': 20, 'shirt': 18, 'ven': 15, 'ella': 16, 'uno': 22, 'surprised': 28, 'guys': 31, 'claus': 1, 'li': 7, 'cute': 9, 'solid': 43, 'jealous': 17, 'moi': 6, 'smiled': 37, 'aah': 8, 'fo': 26, 'cigarette': 19, 'busy': 31, 'yah': 7, 'george': 8, 'cryin': 7, 'boss': 17, 'mention': 10, 'ace': 13, 'doo': 3, 'jones': 11, 'whoa': 34, 'chicken': 12, 'mma': 1, 'sabes': 15, 'fin': 33, 'liked': 10, 'jimmy': 8, 'large': 25, 'credit': 13, 'ki': 15, 'mai': 18, 'kimi': 7, 'jumpin': 5, 'che': 57, 'muy': 25, 'motherfucking': 33, 'bist': 42, 'goodnight': 26, 'sono': 23, 'io': 19, 'hacer': 27, 'holdin': 9, 'hotter': 11, 'smack': 10, 'bum': 9, 'tennessee': 3, 'champagne': 7, 'mornin': 3, 'hmm': 10, 'dancin': 4, 'chris': 7, 'ooo': 3, 'yuh': 6, 'seats': 15, 'lazy': 14, 'coat': 18, 'bump': 6, 'cake': 15, 'cap': 7, 'luna': 7, 'weekend': 10, 'nan': 6, 'fam': 6, 'grindin': 2, 'aber': 16, 'ur': 25, 'actin': 11, 'sellin': 6, 'hustler': 4, 'thug': 17, 'shop': 18, 'gat': 17, 'screamin': 13, 'coz': 36, 'boyfriend': 3, 'grabbed': 16, 'rocking': 11, 'awhile': 5, 'puede': 15, 'ck': 18, 'sweetheart': 4, 'hopin': 4, 'vous': 3, 'mes': 27, 'vie': 16, 'dale': 7, 'quarter': 10, 'cruise': 15, 'dude': 15, 'hittin': 12, 'afford': 19, 'vibe': 15, 'smart': 20, 'pon': 4, 'shoulda': 6, 'uptown': 2, 'jane': 13, 'loco': 5, 'mike': 18, 'chasin': 1, 'mack': 8, 'bling': 2, 'chips': 10, 'bro': 1, 'rocky': 12, 'dudes': 2, 'fans': 11, 'popping': 6, 'james': 7, 'darlin': 3, 'california': 12, 'shoe': 8, 'amore': 7, 'sempre': 12, 'pi': 3, 'chop': 28, 'poco': 15, 'haha': 7, 'whistle': 7, 'affair': 10, 'rien': 6, 'funky': 11, 'buddy': 10, 'flyin': 18, 'shinin': 16, 'coraz': 8, 'havin': 7, 'ohh': 39, 'dogg': 3, 'sugar': 23, 'fellas': 4, 'estar': 27, 'porch': 6, 'bumpin': 9, 'stack': 15, 'packed': 13, 'ohhh': 10, 'clap': 17, 'ow': 14, 'wah': 27, 'paul': 6, 'mil': 27, 'tempo': 21, 'freaky': 7, 'nae': 2, 'bob': 6, 'shorty': 6, 'nuh': 1, 'kissin': 7, 'bu': 2, 'lyin': 3, 'jay': 7, 'coke': 6, 'hardcore': 7, 'whatcha': 8, 'puff': 13, 'hace': 19, 'hallelujah': 64, 'ik': 11, 'label': 8, 'traffic': 6, 'chillin': 2, 'shakin': 5, 'ko': 5, 'uncle': 10, 'ey': 9, 'quando': 5, 'poppin': 3, 'couch': 8, 'gal': 13, 'dreamin': 8, 'cowboy': 6, 'rims': 1, 'joe': 3, 'thang': 6, 'naw': 1, 'moms': 3, 'motherfuckin': 16, 'turnin': 3, 'hai': 9, 'boo': 3, 'trill': 2, 'yall': 7, 'wishin': 2, 'eu': 1, 'biggie': 3, 'pac': 2, 'eminem': 1, 'cherry': 2, 'mami': 1, 'beep': 5, 'nuff': 2, 'flo': 1, 'dawg': 1, 'frontin': 3, 'inna': 1, 'swag': 1, 'cent': 2, 'hoo': 1, 'jingle': 27}\n"
          ]
        }
      ],
      "source": [
        "genres = songs_df['genre'].unique()\n",
        "geners_counts_occure_words = {}\n",
        "words_in_lyrics = {}\n",
        "\n",
        "for genre in genres:\n",
        "  count_words_genre = words_occure_by_genre(genre)\n",
        "  print(count_words_genre)\n",
        "  geners_counts_occure_words[genre] = calc_proportion_word_genre(genre, count_words_genre) "
      ]
    },
    {
      "cell_type": "code",
      "execution_count": null,
      "metadata": {
        "id": "lCHTBZB2zu9X"
      },
      "outputs": [],
      "source": [
        "text_counts_occure_words = {}\n",
        "total_words = sum(songs_df['num_words'])\n",
        "for word, counts in most_occure_dict.items():\n",
        "  text_counts_occure_words[word] = counts/total_words"
      ]
    },
    {
      "cell_type": "code",
      "execution_count": null,
      "metadata": {
        "id": "oG3gcbSlwPf9"
      },
      "outputs": [],
      "source": [
        "proportional_words = {}\n",
        "for genre in genres:\n",
        "  proportional_words[genre] = {}\n",
        "  for word, genre_prop in geners_counts_occure_words[genre].items():\n",
        "    text_prop = text_counts_occure_words[word]\n",
        "    proportion = genre_prop/text_prop\n",
        "    proportional_words[genre][word] = proportion\n",
        "  sorted_genre = [word for word, val in sorted(proportional_words[genre].items(), key=lambda item: item[1])]\n",
        "  proportional_words[genre] = sorted_genre[-50:]"
      ]
    },
    {
      "cell_type": "code",
      "execution_count": null,
      "metadata": {
        "id": "N99zpLkV0zY3"
      },
      "outputs": [],
      "source": [
        "words_list = []\n",
        "\n",
        "for genre in genres:\n",
        "  words_list += proportional_words[genre]\n",
        "\n",
        "top_significant_words = list(set(words_list))"
      ]
    },
    {
      "cell_type": "code",
      "execution_count": null,
      "metadata": {
        "id": "b1NG9ghEnd6E"
      },
      "outputs": [],
      "source": [
        "from gensim.utils import dict_from_corpus\n",
        "import seaborn as sns\n",
        "from sklearn.manifold import TSNE\n",
        "from sklearn.decomposition import PCA\n",
        "import matplotlib.pyplot as plt\n",
        "\n",
        "def tsnescatterplot(model, proportional_words):\n",
        "    arrays = np.empty((0, 300), dtype='f')\n",
        "    colors = {'Pop': 'purple', \n",
        "              'Hip-Hop': 'blue', \n",
        "              'Rock': 'black', \n",
        "              'Country': 'green', \n",
        "              'Metal': 'red'}\n",
        "    word_labels = []\n",
        "    color_list = []\n",
        "    frames = []\n",
        "    y_df = None\n",
        "\n",
        "    for genre in genres:\n",
        "      list_words = proportional_words[genre]\n",
        "      color_name = colors[genre]\n",
        "      # adds the vector for each of the words from list_names to the array\n",
        "      for word in list_words:\n",
        "          wrd_vector = model.wv.__getitem__([word])\n",
        "          word_labels.append(word)\n",
        "          color_list.append(color_name)\n",
        "          arrays = np.append(arrays, wrd_vector, axis=0)\n",
        "        \n",
        "      # Reduces the dimensionality from 300 to 50 dimensions with PCA\n",
        "      reduc = PCA(n_components=50).fit_transform(arrays)\n",
        "      \n",
        "      # Finds t-SNE coordinates for 2 dimensions\n",
        "      np.set_printoptions(suppress=True)\n",
        "      \n",
        "      Y = TSNE(n_components=2, random_state=0, perplexity=15).fit_transform(reduc)\n",
        "\n",
        "      if y_df is None:\n",
        "        y_df = Y\n",
        "      else:\n",
        "        np.concatenate((y_df, Y), axis=0)\n",
        "\n",
        "      # Sets everything up to plot\n",
        "    df = pd.DataFrame({'x': [x for x in Y[:, 0]],\n",
        "                              'y': [y for y in Y[:, 1]],\n",
        "                              'words': word_labels,\n",
        "                              'color': color_list})\n",
        "    \n",
        "    fig, _ = plt.subplots()\n",
        "    fig.set_size_inches(12, 12)\n",
        "    \n",
        "    # Basic plot\n",
        "    p1 = sns.regplot(data=df, x=\"x\", y=\"y\", fit_reg=False, marker=\"o\",\n",
        "                     scatter_kws={'s': 40, 'facecolors': df['color']})\n",
        "    \n",
        "    # Adds annotations one by one with a loop\n",
        "    for line in range(0, df.shape[0]):\n",
        "         p1.text(df[\"x\"][line],\n",
        "                 df['y'][line],\n",
        "                 '  ' + df[\"words\"][line],\n",
        "                 horizontalalignment='left',\n",
        "                 verticalalignment='bottom', size='medium',\n",
        "                 color=df['color'][line],\n",
        "                 weight='normal'\n",
        "                ).set_size(12)\n",
        "\n",
        "    \n",
        "    plt.xlim(Y[:, 0].min()-1, Y[:, 0].max()+1)\n",
        "    plt.ylim(Y[:, 1].min()-1, Y[:, 1].max()+1)\n",
        "            \n",
        "    plt.title('t-SNE visualization for songs')\n",
        "    return df"
      ]
    },
    {
      "cell_type": "code",
      "execution_count": null,
      "metadata": {
        "colab": {
          "base_uri": "https://localhost:8080/",
          "height": 730
        },
        "id": "WlduiGdvBOF9",
        "outputId": "24a6fcac-d96a-40e8-d26b-d374956a4b52"
      },
      "outputs": [
        {
          "data": {
            "image/png": "[encoded data removed]",
            "text/plain": [
              "<Figure size 864x864 with 1 Axes>"
            ]
          },
          "metadata": {},
          "output_type": "display_data"
        }
      ],
      "source": [
        "df = tsnescatterplot(w2v_model, proportional_words)"
      ]
    },
    {
      "cell_type": "markdown",
      "metadata": {
        "id": "Zdm3Pe37I4ix"
      },
      "source": [
        "#### Analyze the results\n",
        "As we can see from the graph most of the words from the same genre are in the same area and there are some overlapping in areas, we can see that the rock genre represent in area that is between the country and the metal music. In difference we can see that the pop and hip hop are not overlapping with other genres at all. There are some words mostly from the rock music that we can find in other genres, some of those words represent the tune of the music for example: \"ooo\" those words can be found in each genre.\n",
        "But some of those words are more common on other genre for example the words poisen and crawling that are more negative sentiment as the other words that we can find in metal music."
      ]
    },
    {
      "cell_type": "markdown",
      "metadata": {
        "id": "XF1KZ6N0Nzrk"
      },
      "source": [
        "## Text Classification\n",
        "In this section, you'll build a text classifier, determining the genre of a song based on its lyrics."
      ]
    },
    {
      "cell_type": "markdown",
      "metadata": {
        "id": "api4_K-yNzrk"
      },
      "source": [
        "### Text classification using Bag-of-Words\n",
        "Build a Naive Bayes classifier based on the bag of Words.  \n",
        "You will need to divide your dataset into a train and test sets."
      ]
    },
    {
      "cell_type": "code",
      "execution_count": null,
      "metadata": {
        "id": "eqC5wqE5G8Es"
      },
      "outputs": [],
      "source": [
        "# Clean data\n",
        "songs_df['clean_lyrics'] = songs_df['lyrics'].apply(lambda x: TreebankWordDetokenizer().detokenize(lyrics_to_wordlist(x)))"
      ]
    },
    {
      "cell_type": "code",
      "execution_count": null,
      "metadata": {
        "id": "1D3o94AQXfYL"
      },
      "outputs": [],
      "source": [
        "# Split train test\n",
        "X = songs_df['clean_lyrics'].to_numpy()\n",
        "y = songs_df['genre'].to_numpy()\n",
        "\n",
        "X_train, X_test, y_train, y_test = train_test_split(X, y, random_state=42)"
      ]
    },
    {
      "cell_type": "code",
      "execution_count": null,
      "metadata": {
        "id": "bVr0K0_bXEKG"
      },
      "outputs": [],
      "source": [
        "# Fit the bag-of-words model\n",
        "vectorizer = CountVectorizer()\n",
        "bag = vectorizer.fit(X_train)\n",
        "messages_bow_train = bag.transform(X_train)\n",
        "messages_bow_test = bag.transform(X_test)"
      ]
    },
    {
      "cell_type": "code",
      "execution_count": null,
      "metadata": {
        "id": "g9LewgaCZE1o"
      },
      "outputs": [],
      "source": [
        "# Naive Bayes model\n",
        "nb_genere = MultinomialNB().fit(messages_bow_train, y_train)\n",
        "class_names = nb_genere.classes_\n",
        "y_predict = nb_genere.predict(messages_bow_test)"
      ]
    },
    {
      "cell_type": "code",
      "execution_count": null,
      "metadata": {
        "colab": {
          "base_uri": "https://localhost:8080/"
        },
        "id": "H1aRlDzZZpQk",
        "outputId": "165e3d2a-621b-41ec-a2ec-0ab0e3bd009f"
      },
      "outputs": [
        {
          "name": "stdout",
          "output_type": "stream",
          "text": [
            "accuracy 0.6001280614695054\n"
          ]
        }
      ],
      "source": [
        "print('accuracy', accuracy_score(y_test, y_predict))"
      ]
    },
    {
      "cell_type": "markdown",
      "metadata": {
        "id": "fKaxmqlLNzrl"
      },
      "source": [
        "Show the confusion matrix."
      ]
    },
    {
      "cell_type": "code",
      "execution_count": null,
      "metadata": {
        "colab": {
          "base_uri": "https://localhost:8080/",
          "height": 265
        },
        "id": "hkMZdaDxNzrm",
        "outputId": "5743a2e7-e91d-4148-dffb-22263438de14"
      },
      "outputs": [
        {
          "data": {
            "image/png": "[encoded data removed]",
            "text/plain": [
              "<Figure size 432x288 with 2 Axes>"
            ]
          },
          "metadata": {},
          "output_type": "display_data"
        }
      ],
      "source": [
        "conf_matrix = confusion_matrix(y_test, y_predict)\n",
        "num_of_val_examples = sum(conf_matrix, 0)\n",
        "confusion_matrix_norm = conf_matrix / num_of_val_examples\n",
        "\n",
        "sns.heatmap(confusion_matrix_norm, xticklabels=class_names, yticklabels=class_names)\n",
        "plt.show()"
      ]
    },
    {
      "cell_type": "markdown",
      "metadata": {
        "id": "EVKGxh0eNzrm"
      },
      "source": [
        "Show the classification report - precision, recall, f1 for each class."
      ]
    },
    {
      "cell_type": "code",
      "execution_count": null,
      "metadata": {
        "colab": {
          "base_uri": "https://localhost:8080/"
        },
        "id": "ym8EHq0FNzrm",
        "outputId": "5fe9583a-f0d2-45b6-9441-659f97e6c811"
      },
      "outputs": [
        {
          "name": "stdout",
          "output_type": "stream",
          "text": [
            "              precision    recall  f1-score   support\n",
            "\n",
            "     Country       0.52      0.82      0.63      2069\n",
            "     Hip-Hop       0.76      0.77      0.77      2417\n",
            "       Metal       0.74      0.73      0.73      2294\n",
            "         Pop       0.58      0.33      0.42      2745\n",
            "        Rock       0.46      0.45      0.46      2969\n",
            "\n",
            "    accuracy                           0.60     12494\n",
            "   macro avg       0.61      0.62      0.60     12494\n",
            "weighted avg       0.61      0.60      0.59     12494\n",
            "\n"
          ]
        }
      ],
      "source": [
        "print(classification_report(y_test, y_predict))"
      ]
    },
    {
      "cell_type": "markdown",
      "metadata": {
        "id": "SzA2cWqHNzrn"
      },
      "source": [
        "### Text classification using Word Vectors\n",
        "#### Average word vectors\n",
        "Do the same, using a classifier that averages the word vectors of words in the document."
      ]
    },
    {
      "cell_type": "code",
      "execution_count": null,
      "metadata": {
        "id": "YVkChoM48WKK"
      },
      "outputs": [],
      "source": [
        "# Clean data\n",
        "songs_df['clean_lyrics'] = songs_df['lyrics'].apply(lambda x: TreebankWordDetokenizer().detokenize(lyrics_to_wordlist(x)))"
      ]
    },
    {
      "cell_type": "code",
      "execution_count": null,
      "metadata": {
        "id": "AJUhqBCrNzrn"
      },
      "outputs": [],
      "source": [
        "def get_mean_vector(model, text):\n",
        "    words = text.lower().split() \n",
        "    words = [word for word in words if word in model.wv.key_to_index]\n",
        "    if len(words) >= 1:\n",
        "        return np.mean(model.wv[words], axis=0)\n",
        "    else:\n",
        "        return []"
      ]
    },
    {
      "cell_type": "code",
      "execution_count": null,
      "metadata": {
        "colab": {
          "base_uri": "https://localhost:8080/"
        },
        "id": "pX0d3WFehX7g",
        "outputId": "3c46a3c7-0800-49ad-9c7e-103cd0a538dd"
      },
      "outputs": [
        {
          "name": "stderr",
          "output_type": "stream",
          "text": [
            "100%|██████████| 49976/49976 [00:20<00:00, 2386.72it/s]\n"
          ]
        }
      ],
      "source": [
        "mean_vectors = []\n",
        "\n",
        "for lyrics in tqdm(songs_df['clean_lyrics']):\n",
        "    vec = get_mean_vector(w2v_model, lyrics)\n",
        "    mean_vectors.append(vec)\n",
        "\n",
        "songs_df['mean_vector'] = mean_vectors"
      ]
    },
    {
      "cell_type": "code",
      "execution_count": null,
      "metadata": {
        "id": "DREOYBlsk2pI"
      },
      "outputs": [],
      "source": [
        "# Split train test\n",
        "X = songs_df['mean_vector'].to_list()\n",
        "y = songs_df['genre'].to_numpy()\n",
        "\n",
        "X_train, X_test, y_train, y_test = train_test_split(X, y, random_state=42)"
      ]
    },
    {
      "cell_type": "code",
      "execution_count": null,
      "metadata": {
        "id": "WBKZGNP58nC_"
      },
      "outputs": [],
      "source": [
        "scaler = MinMaxScaler()\n",
        "X_train = scaler.fit_transform(X_train)\n",
        "X_test = scaler.transform(X_test)"
      ]
    },
    {
      "cell_type": "code",
      "execution_count": null,
      "metadata": {
        "colab": {
          "base_uri": "https://localhost:8080/"
        },
        "id": "4lM3hnSqlAbY",
        "outputId": "43ce69d2-0245-4b1c-fe65-3e5b15fe9dd4"
      },
      "outputs": [
        {
          "name": "stdout",
          "output_type": "stream",
          "text": [
            "accuracy 0.47326716824075554\n"
          ]
        }
      ],
      "source": [
        "# Naive Bayes model\n",
        "nb_genere_avg_vec = MultinomialNB().fit(X_train, y_train)\n",
        "class_names = nb_genere_avg_vec.classes_\n",
        "y_predict = nb_genere_avg_vec.predict(X_test)\n",
        "print('accuracy', accuracy_score(y_test, y_predict))"
      ]
    },
    {
      "cell_type": "code",
      "execution_count": null,
      "metadata": {
        "colab": {
          "base_uri": "https://localhost:8080/",
          "height": 267
        },
        "id": "o2HxPnsFqFnv",
        "outputId": "e1d73481-6cd4-401a-f6c7-619ba1caacea"
      },
      "outputs": [
        {
          "data": {
            "image/png": "[encoded data removed]",
            "text/plain": [
              "<Figure size 432x288 with 2 Axes>"
            ]
          },
          "metadata": {},
          "output_type": "display_data"
        }
      ],
      "source": [
        "conf_matrix = confusion_matrix(y_test, y_predict)\n",
        "num_of_val_examples = sum(conf_matrix, 0)\n",
        "confusion_matrix_norm = conf_matrix / num_of_val_examples\n",
        "\n",
        "sns.heatmap(confusion_matrix_norm, xticklabels=class_names, yticklabels=class_names)\n",
        "plt.show()"
      ]
    },
    {
      "cell_type": "code",
      "execution_count": null,
      "metadata": {
        "colab": {
          "base_uri": "https://localhost:8080/"
        },
        "id": "tgFrlbymqGNP",
        "outputId": "496bd0f8-d03b-4a34-9592-1722da29980f"
      },
      "outputs": [
        {
          "name": "stdout",
          "output_type": "stream",
          "text": [
            "              precision    recall  f1-score   support\n",
            "\n",
            "     Country       0.51      0.08      0.14      2069\n",
            "     Hip-Hop       0.65      0.73      0.69      2417\n",
            "       Metal       0.71      0.60      0.65      2294\n",
            "         Pop       0.54      0.16      0.25      2745\n",
            "        Rock       0.32      0.73      0.45      2969\n",
            "\n",
            "    accuracy                           0.47     12494\n",
            "   macro avg       0.55      0.46      0.44     12494\n",
            "weighted avg       0.54      0.47      0.44     12494\n",
            "\n"
          ]
        }
      ],
      "source": [
        "print(classification_report(y_test, y_predict))"
      ]
    },
    {
      "cell_type": "markdown",
      "metadata": {
        "id": "kZt5wAPWNzrn"
      },
      "source": [
        "#### TfIdf Weighting\n",
        "Do the same, using a classifier that averages the word vectors of words in the document, weighting each word by its TfIdf.\n"
      ]
    },
    {
      "cell_type": "code",
      "execution_count": null,
      "metadata": {
        "id": "HRSBoK7qKQAh"
      },
      "outputs": [],
      "source": [
        "vectorizer = TfidfVectorizer(min_df=10)\n",
        "tfidf = vectorizer.fit_transform(songs_df['clean_lyrics'])\n",
        "train_feature_names = vectorizer.get_feature_names()\n",
        "tfidf_dict = dict(zip(vectorizer.get_feature_names(), list(vectorizer.idf_)))"
      ]
    },
    {
      "cell_type": "code",
      "execution_count": null,
      "metadata": {
        "colab": {
          "base_uri": "https://localhost:8080/"
        },
        "id": "Xh3909QVqie_",
        "outputId": "91ed9b0e-4509-458b-da39-0586bddc0f5d"
      },
      "outputs": [
        {
          "name": "stderr",
          "output_type": "stream",
          "text": [
            "100%|██████████| 49976/49976 [37:23<00:00, 22.28it/s]\n"
          ]
        }
      ],
      "source": [
        "mean_vectors = []\n",
        "\n",
        "for lyrics in tqdm(songs_df['clean_lyrics']):\n",
        "  sent_vec = np.zeros(300)\n",
        "  weight_sum = 0\n",
        "  words = lyrics.lower().split()\n",
        "  for word in words:\n",
        "    if word in w2v_model.wv.key_to_index and word in train_feature_names:\n",
        "      vec = w2v_model.wv[word]\n",
        "      tf_idf = tfidf_dict[word]*(words.count(word)/len(words))\n",
        "      sent_vec += (vec*tf_idf)\n",
        "      weight_sum += tf_idf\n",
        "  if weight_sum != 0:\n",
        "    sent_vec /= weight_sum\n",
        "  mean_vectors.append(sent_vec)\n",
        "\n",
        "songs_df['mean_vector'] = mean_vectors"
      ]
    },
    {
      "cell_type": "code",
      "execution_count": null,
      "metadata": {
        "id": "FGyfcgXsowUB"
      },
      "outputs": [],
      "source": [
        "# Split train test\n",
        "X = songs_df['mean_vector'].to_list()\n",
        "y = songs_df['genre'].to_numpy()\n",
        "\n",
        "X_train, X_test, y_train, y_test = train_test_split(X, y, random_state=42)"
      ]
    },
    {
      "cell_type": "code",
      "execution_count": null,
      "metadata": {
        "id": "JmFtAei3rYxa"
      },
      "outputs": [],
      "source": [
        "scaler = MinMaxScaler()\n",
        "X_train_tfidf = scaler.fit_transform(X_train)\n",
        "X_test_tfidf = scaler.transform(X_test)"
      ]
    },
    {
      "cell_type": "code",
      "execution_count": null,
      "metadata": {
        "id": "41rmNrxqdoet"
      },
      "outputs": [],
      "source": [
        "# Naive Bayes model\n",
        "nb_genere_tfidf = MultinomialNB().fit(X_train_tfidf, y_train)\n",
        "class_names = nb_genere_tfidf.classes_\n",
        "y_predict = nb_genere_tfidf.predict(X_test_tfidf)"
      ]
    },
    {
      "cell_type": "code",
      "execution_count": null,
      "metadata": {
        "colab": {
          "base_uri": "https://localhost:8080/"
        },
        "id": "ioEb1Hogf8xn",
        "outputId": "0e94d2c3-fcdc-46e3-ee52-bf2746ada032"
      },
      "outputs": [
        {
          "name": "stdout",
          "output_type": "stream",
          "text": [
            "accuracy 0.4466944133183928\n"
          ]
        }
      ],
      "source": [
        "print('accuracy', accuracy_score(y_test, y_predict))"
      ]
    },
    {
      "cell_type": "code",
      "execution_count": null,
      "metadata": {
        "colab": {
          "base_uri": "https://localhost:8080/",
          "height": 265
        },
        "id": "ANyJRLy1f_5w",
        "outputId": "ac74eb68-c12c-4db7-d072-b1bd9aea0e0f"
      },
      "outputs": [
        {
          "data": {
            "image/png": "[encoded data removed]",
            "text/plain": [
              "<Figure size 432x288 with 2 Axes>"
            ]
          },
          "metadata": {},
          "output_type": "display_data"
        }
      ],
      "source": [
        "conf_matrix = confusion_matrix(y_test, y_predict)\n",
        "num_of_val_examples = sum(conf_matrix, 0)\n",
        "confusion_matrix_norm = conf_matrix / num_of_val_examples\n",
        "\n",
        "sns.heatmap(confusion_matrix_norm, xticklabels=class_names, yticklabels=class_names)\n",
        "plt.show()"
      ]
    },
    {
      "cell_type": "code",
      "execution_count": null,
      "metadata": {
        "colab": {
          "base_uri": "https://localhost:8080/"
        },
        "id": "rKD8ARZPgD4W",
        "outputId": "a5f0f84a-f4e4-4855-c338-caece54bf5cc"
      },
      "outputs": [
        {
          "name": "stdout",
          "output_type": "stream",
          "text": [
            "              precision    recall  f1-score   support\n",
            "\n",
            "     Country       0.35      0.01      0.02      2069\n",
            "     Hip-Hop       0.66      0.63      0.65      2417\n",
            "       Metal       0.66      0.55      0.60      2294\n",
            "         Pop       0.49      0.21      0.30      2745\n",
            "        Rock       0.31      0.74      0.44      2969\n",
            "\n",
            "    accuracy                           0.45     12494\n",
            "   macro avg       0.50      0.43      0.40     12494\n",
            "weighted avg       0.49      0.45      0.41     12494\n",
            "\n"
          ]
        }
      ],
      "source": [
        "print(classification_report(y_test, y_predict))"
      ]
    },
    {
      "cell_type": "markdown",
      "metadata": {
        "id": "J-DZ90j_Nzro"
      },
      "source": [
        "### Text classification using ConvNet\n",
        "Do the same, using a ConvNet.  \n",
        "The ConvNet should get as input a 2D matrix where each column is an embedding vector of a single word, and words are in order. Use zero padding so that all matrices have a similar length.  \n",
        "Some songs might be very long. Trim them so you keep a maximum of 128 words (after cleaning stop words and rare words).  \n",
        "Initialize the embedding layer using the word vectors that you've trained before, but allow them to change during training.  \n",
        "\n",
        "Extra: Try training the ConvNet with 2 slight modifications:\n",
        "1. freezing the the weights trained using Word2vec (preventing it from updating)\n",
        "1. random initialization of the embedding layer"
      ]
    },
    {
      "cell_type": "markdown",
      "metadata": {
        "id": "d5uFIgOKNzrp"
      },
      "source": [
        "You are encouraged to try to answer this question without using papers or code examples.  \n",
        "\n",
        "You might prefer to get ideas from the paper \"Convolutional Neural Networks for Sentence Classification\" (Kim 2014, [link](https://arxiv.org/abs/1408.5882)).\n",
        "\n",
        "There are several implementations of the paper's code in PyTorch online (see for example [this repo](https://github.com/prakashpandey9/Text-Classification-Pytorch) for a PyTorch implementation of CNN and other architectures for text classification). If you get stuck, they might point you in the right direction for your own code solution."
      ]
    },
    {
      "cell_type": "code",
      "execution_count": null,
      "metadata": {
        "id": "Ad5AzzP88FhD"
      },
      "outputs": [],
      "source": [
        "# Clean data\n",
        "songs_df['clean_lyrics'] = songs_df['lyrics'].apply(lambda x: TreebankWordDetokenizer().detokenize(lyrics_to_wordlist(x)))"
      ]
    },
    {
      "cell_type": "code",
      "execution_count": null,
      "metadata": {
        "id": "vmVcs7m9LMWE"
      },
      "outputs": [],
      "source": [
        "#check mods common words\n",
        "def find_common_words(df):\n",
        "  fdist = nltk.FreqDist()\n",
        "  num_words = 0\n",
        "\n",
        "  for lyrics in tqdm(df['clean_lyrics']):\n",
        "    words = lyrics.split()\n",
        "    num_words += len(words)\n",
        "    for word in words:\n",
        "      fdist[word] += 1\n",
        "  common_words = fdist.most_common(num_words)\n",
        "\n",
        "  vocabulary = dict()\n",
        "  for idx, word in enumerate(common_words):\n",
        "      vocabulary[word[0]] = (idx+1) \n",
        "  return vocabulary"
      ]
    },
    {
      "cell_type": "code",
      "execution_count": null,
      "metadata": {
        "id": "7Odo8pGGRG0i"
      },
      "outputs": [],
      "source": [
        "def clean_rare_words(df, common_words_dict):\n",
        "  lyrics_without_rare = []\n",
        "  for lyrics in tqdm(df['clean_lyrics']):\n",
        "    clean_lyrics_dict = {}\n",
        "    words = lyrics.split()\n",
        "    for word in words:\n",
        "      if word in common_words_dict.keys() and word not in clean_lyrics_dict.keys():\n",
        "        clean_lyrics_dict[word] = common_words_dict[word]\n",
        "        sorted_common_lyrics = list(dict(sorted(clean_lyrics_dict.items(), \n",
        "                                             key=lambda item: item[1], reverse=True)).keys())\n",
        "    lyrics_without_rare.append(np.array(sorted_common_lyrics[:128]))\n",
        "  return lyrics_without_rare"
      ]
    },
    {
      "cell_type": "code",
      "execution_count": null,
      "metadata": {
        "colab": {
          "base_uri": "https://localhost:8080/"
        },
        "id": "LFvMcBjjNZ5h",
        "outputId": "1448f88c-fa54-41f3-f7d1-ce9b7cb5e51d"
      },
      "outputs": [
        {
          "output_type": "stream",
          "name": "stderr",
          "text": [
            "100%|██████████| 49976/49976 [00:04<00:00, 10966.98it/s]\n",
            "100%|██████████| 49976/49976 [00:57<00:00, 870.69it/s]\n"
          ]
        }
      ],
      "source": [
        "common_words_dict = find_common_words(songs_df)\n",
        "lyrics_without_rare = clean_rare_words(songs_df, common_words_dict)\n",
        "songs_df['lyrics_without_rare'] = lyrics_without_rare"
      ]
    },
    {
      "cell_type": "code",
      "execution_count": null,
      "metadata": {
        "colab": {
          "base_uri": "https://localhost:8080/"
        },
        "id": "mFiwDWj3vPyz",
        "outputId": "2930f97d-557f-4549-a996-b48a1b58e8ea"
      },
      "outputs": [
        {
          "output_type": "execute_result",
          "data": {
            "text/plain": [
              "{'Country': 3, 'Hip-Hop': 1, 'Metal': 4, 'Pop': 0, 'Rock': 2}"
            ]
          },
          "metadata": {},
          "execution_count": 13
        }
      ],
      "source": [
        "possible_labels = songs_df['genre'].unique()\n",
        "label_dict = {}\n",
        "for index, possible_label in enumerate(possible_labels):\n",
        "    label_dict[possible_label] = index\n",
        "label_dict"
      ]
    },
    {
      "cell_type": "code",
      "execution_count": null,
      "metadata": {
        "id": "dxdVywIbC0KD"
      },
      "outputs": [],
      "source": [
        "# Split train test\n",
        "X = songs_df['lyrics_without_rare'].to_numpy()\n",
        "y = torch.from_numpy(songs_df['genre'].replace(label_dict).to_numpy())\n",
        "\n",
        "X_train, X_test, y_train, y_test = train_test_split(X, y, random_state=42)"
      ]
    },
    {
      "cell_type": "code",
      "execution_count": null,
      "metadata": {
        "id": "16arQi81ph9c"
      },
      "outputs": [],
      "source": [
        "class MyDaatset(Dataset):\n",
        "    def __init__(self, songs_lyrics_list, w2v_model, labels):\n",
        "        self.songs_lyrics_list = songs_lyrics_list\n",
        "        self.w2v_model = w2v_model\n",
        "        self.labels = labels\n",
        "\n",
        "    def embedd_song(self, lyrics):\n",
        "        count_songs = 0\n",
        "        sent_vec = np.zeros((128))\n",
        "        count_words = 0\n",
        "\n",
        "        for word in lyrics:\n",
        "          if word in self.w2v_model.wv.key_to_index:\n",
        "            sent_vec[count_words] = self.w2v_model.wv.key_to_index[word]\n",
        "            count_words += 1\n",
        "        sent_vec[count_words:] = len(self.w2v_model.wv.vectors)\n",
        "        return sent_vec\n",
        "\n",
        "    def __getitem__(self, item):\n",
        "        lyrics = self.songs_lyrics_list[item]\n",
        "        label = self.labels[item]\n",
        "        vec_lyrics = torch.from_numpy(self.embedd_song(lyrics))\n",
        "        return vec_lyrics, label\n",
        "\n",
        "    def __len__(self):\n",
        "        return len(self.songs_lyrics_list)"
      ]
    },
    {
      "cell_type": "code",
      "execution_count": null,
      "metadata": {
        "id": "FvFftGlosFUy"
      },
      "outputs": [],
      "source": [
        "train_dataset = MyDaatset(X_train, w2v_model, y_train)\n",
        "test_dataset = MyDaatset(X_test, w2v_model, y_test)"
      ]
    },
    {
      "cell_type": "code",
      "execution_count": null,
      "metadata": {
        "id": "0htC0W7WqWu4"
      },
      "outputs": [],
      "source": [
        "dataloaders = {\n",
        "    'train': torch.utils.data.DataLoader(train_dataset, batch_size=32, shuffle=True, num_workers=2),\n",
        "    'val': torch.utils.data.DataLoader(test_dataset, batch_size=32, shuffle=False, num_workers=2)\n",
        "  }"
      ]
    },
    {
      "cell_type": "code",
      "execution_count": null,
      "metadata": {
        "colab": {
          "base_uri": "https://localhost:8080/"
        },
        "id": "gKfTiMtnqia7",
        "outputId": "d967c790-fb96-4af1-dcf6-29276a4d5a46"
      },
      "outputs": [
        {
          "output_type": "stream",
          "name": "stdout",
          "text": [
            "dataset_sizes:  {'train': 37482, 'val': 12494}\n"
          ]
        }
      ],
      "source": [
        "dataset_sizes = {x: len(dataloaders[x].dataset) for x in ['train', 'val']}\n",
        "print('dataset_sizes: ', dataset_sizes)"
      ]
    },
    {
      "cell_type": "code",
      "execution_count": null,
      "metadata": {
        "id": "U8GA3X7jaaXQ"
      },
      "outputs": [],
      "source": [
        "#extract embedding weights\n",
        "vector_size = w2v_model.vector_size\n",
        "embedding_weights = torch.zeros(len(w2v_model.wv.vectors)+1, vector_size)\n",
        "embedding_weights[:-1] = torch.FloatTensor(w2v_model.wv.vectors)\n",
        "embedding_weights[-1] = torch.zeros(vector_size,)"
      ]
    },
    {
      "cell_type": "markdown",
      "source": [
        "#### W2V embedding weights"
      ],
      "metadata": {
        "id": "mVdhB9cEoXwO"
      }
    },
    {
      "cell_type": "code",
      "execution_count": null,
      "metadata": {
        "id": "AYIqBuEWupVI"
      },
      "outputs": [],
      "source": [
        "torch.cuda.empty_cache()"
      ]
    },
    {
      "cell_type": "code",
      "execution_count": null,
      "metadata": {
        "id": "iYO1J_dSbo3j"
      },
      "outputs": [],
      "source": [
        "class CnnTextClassifier(nn.Module):\n",
        "    def __init__(self, embedding_weights, kernel_sizes,dim, num_classes=5, to_freeze=False, random_weights=False):\n",
        "        super(CnnTextClassifier, self).__init__()\n",
        "        if random_weights:\n",
        "          self.embedding = nn.Embedding(embedding_weights.size(0), embedding_weights.size(1))\n",
        "        else:\n",
        "          self.embedding = nn.Embedding.from_pretrained(embedding_weights, freeze=to_freeze, padding_idx=0)\n",
        "\n",
        "        self.conv_0 = nn.Conv2d(in_channels = 1, out_channels = 64, kernel_size = (kernel_sizes[0], dim))\n",
        "        self.conv_1 = nn.Conv2d(in_channels = 1, out_channels = 64, kernel_size = (kernel_sizes[1], dim))\n",
        "        self.conv_2 = nn.Conv2d(in_channels = 1, out_channels = 64, kernel_size = (kernel_sizes[2], dim))\n",
        "        self.fc = nn.Linear(len(kernel_sizes) * 64, num_classes)\n",
        "        \n",
        "        self.dropout = nn.Dropout(0.5)\n",
        "        \n",
        "    def forward(self, text): #input [B, Index]\n",
        "        embedded = self.embedding(text) # [B, T, E]\n",
        "        embedded = embedded.unsqueeze(1) # [B, C, T, E] Add a channel dim.\n",
        "        \n",
        "        conved_0 = F.relu(self.conv_0(embedded).squeeze(3)) # [B, F, T]\n",
        "        conved_1 = F.relu(self.conv_1(embedded).squeeze(3))\n",
        "        conved_2 = F.relu(self.conv_2(embedded).squeeze(3))\n",
        "        \n",
        "        pooled_0 = F.max_pool1d(conved_0, conved_0.shape[2]).squeeze(2) # [B, F, 1]\n",
        "        pooled_1 = F.max_pool1d(conved_1, conved_1.shape[2]).squeeze(2)\n",
        "        pooled_2 = F.max_pool1d(conved_2, conved_2.shape[2]).squeeze(2)\n",
        "        \n",
        "        cat_x = self.dropout(torch.cat((pooled_0, pooled_1, pooled_2), dim=1)) # [B, F, window]\n",
        "        fc = self.fc(cat_x) # [B, class]\n",
        "        logits = F.softmax(fc, dim=1) # [B]\n",
        "\n",
        "        return logits"
      ]
    },
    {
      "cell_type": "code",
      "execution_count": null,
      "metadata": {
        "colab": {
          "base_uri": "https://localhost:8080/"
        },
        "id": "quo0h-FffBwH",
        "outputId": "65c50909-8711-4cc8-a964-6de69bd3b3f3"
      },
      "outputs": [
        {
          "output_type": "execute_result",
          "data": {
            "text/plain": [
              "CnnTextClassifier(\n",
              "  (embedding): Embedding(11431, 300, padding_idx=0)\n",
              "  (conv_0): Conv2d(1, 64, kernel_size=(3, 300), stride=(1, 1))\n",
              "  (conv_1): Conv2d(1, 64, kernel_size=(4, 300), stride=(1, 1))\n",
              "  (conv_2): Conv2d(1, 64, kernel_size=(5, 300), stride=(1, 1))\n",
              "  (fc): Linear(in_features=192, out_features=5, bias=True)\n",
              "  (dropout): Dropout(p=0.5, inplace=False)\n",
              ")"
            ]
          },
          "metadata": {},
          "execution_count": 22
        }
      ],
      "source": [
        "device = 'cuda' if torch.cuda.is_available() else 'cpu'\n",
        "cnn_model = CnnTextClassifier(embedding_weights=embedding_weights, kernel_sizes=[3, 4, 5], dim=300, num_classes=5, to_freeze=False).to(device)\n",
        "cnn_model"
      ]
    },
    {
      "cell_type": "code",
      "execution_count": null,
      "metadata": {
        "id": "Toyy3DZnoAkD"
      },
      "outputs": [],
      "source": [
        "criterion = nn.CrossEntropyLoss()\n",
        "\n",
        "# Use Stochastic Gradient Descent as the optimizer, with a learning rate of 0.0001 and momentum\n",
        "optimizer_ft = torch.optim.Adam(cnn_model.parameters())\n",
        "\n",
        "# Decay LR by a factor of 0.1 every 7 epochs\n",
        "exp_lr_scheduler = lr_scheduler.StepLR(optimizer_ft, step_size=7, gamma=0.1)\n",
        "\n",
        "num_epochs = 10"
      ]
    },
    {
      "cell_type": "code",
      "execution_count": null,
      "metadata": {
        "id": "Jc3Uoa0Fp3IF"
      },
      "outputs": [],
      "source": [
        "def train_model(model, dataloaders, criterion, optimizer, scheduler, num_epochs=25):\n",
        "    since = time.time()\n",
        "\n",
        "    # Init variables that will save info about the best model\n",
        "    best_model_wts = copy.deepcopy(model.state_dict())\n",
        "    best_acc = 0.0\n",
        "    results = {'train_loss': [], 'test_loss': [],\n",
        "               'train_acc': [], 'test_acc': []}\n",
        "\n",
        "    for epoch in range(num_epochs):\n",
        "        print('Epoch {}/{}'.format(epoch, num_epochs - 1))\n",
        "        print('-' * 10)\n",
        "\n",
        "        # Each epoch has a training and validation phase\n",
        "        for phase in ['train', 'val']:\n",
        "            if phase == 'train':\n",
        "                # Set model to training mode. \n",
        "                model.train()\n",
        "            else:\n",
        "                # Set model to evaluate mode. In evaluate mode, we don't perform backprop and don't need to keep the gradients\n",
        "                model.eval()\n",
        "\n",
        "            running_loss = 0.0\n",
        "            running_corrects = 0\n",
        "\n",
        "            # Iterate over data\n",
        "            for inputs, labels in dataloaders[phase]:\n",
        "                # Prepare the inputs for GPU/CPU\n",
        "                inputs = inputs.long().to(device)\n",
        "                labels = labels.to(device)\n",
        "\n",
        "                # zero the parameter gradients\n",
        "                optimizer.zero_grad()\n",
        "\n",
        "                # ===== forward pass ======\n",
        "                with torch.set_grad_enabled(phase=='train'):\n",
        "                    # If we're in train mode, we'll track the gradients to allow back-propagation\n",
        "                    outputs = model(inputs) # apply the model to the inputs. The output is the softmax probability of each class\n",
        "                    _, preds = torch.max(outputs, 1) #the max probability from each row place \n",
        "                    loss = criterion(outputs, labels)\n",
        "\n",
        "                    # ==== backward pass + optimizer step ====\n",
        "                    # This runs only in the training phase\n",
        "                    if phase == 'train':\n",
        "                        loss.backward() # Perform a step in the opposite direction of the gradient\n",
        "                        optimizer.step() # Adapt the optimizer\n",
        "\n",
        "                # Collect statistics\n",
        "                running_loss += loss.item() * inputs.size(0)\n",
        "                running_corrects += torch.sum(preds == labels.data)\n",
        "\n",
        "            epoch_loss = running_loss / dataset_sizes[phase]\n",
        "            epoch_acc = running_corrects.double() / dataset_sizes[phase]\n",
        "\n",
        "            if phase == 'train':\n",
        "                # Adjust the learning rate based on the scheduler\n",
        "                scheduler.step()\n",
        "                results['train_loss'].append(epoch_loss)  \n",
        "                results['train_acc'].append(epoch_acc.item())\n",
        "            \n",
        "            else:\n",
        "              results['test_loss'].append(epoch_loss)\n",
        "              results['test_acc'].append(epoch_acc.item())\n",
        "\n",
        "            print(f'{phase} Loss: {epoch_loss:.4f} Acc: {epoch_acc:.4f}')\n",
        "\n",
        "            # Keep the results of the best model so far\n",
        "            if phase == 'val' and epoch_acc > best_acc:\n",
        "                best_acc = epoch_acc\n",
        "                # deepcopy the model\n",
        "                best_model_wts = copy.deepcopy(model.state_dict())\n",
        "        print()\n",
        "\n",
        "    time_elapsed = time.time() - since\n",
        "    print(f'Training complete in {(time_elapsed // 60):.0f}m {(time_elapsed % 60):.0f}s')\n",
        "    print(f'Best val Acc: {best_acc:4f}')\n",
        "\n",
        "    # load best model weights\n",
        "    model.load_state_dict(best_model_wts)\n",
        "    return model, results"
      ]
    },
    {
      "cell_type": "code",
      "execution_count": null,
      "metadata": {
        "colab": {
          "base_uri": "https://localhost:8080/"
        },
        "id": "bctSR8yDr6zA",
        "outputId": "fd3188a8-5f91-43f4-d6d9-f19a99346e47"
      },
      "outputs": [
        {
          "output_type": "stream",
          "name": "stdout",
          "text": [
            "Epoch 0/9\n",
            "----------\n",
            "train Loss: 1.3408 Acc: 0.5518\n",
            "val Loss: 1.3154 Acc: 0.5769\n",
            "\n",
            "Epoch 1/9\n",
            "----------\n",
            "train Loss: 1.2920 Acc: 0.6048\n",
            "val Loss: 1.2834 Acc: 0.6121\n",
            "\n",
            "Epoch 2/9\n",
            "----------\n",
            "train Loss: 1.2715 Acc: 0.6272\n",
            "val Loss: 1.2819 Acc: 0.6177\n",
            "\n",
            "Epoch 3/9\n",
            "----------\n",
            "train Loss: 1.2487 Acc: 0.6524\n",
            "val Loss: 1.2746 Acc: 0.6263\n",
            "\n",
            "Epoch 4/9\n",
            "----------\n",
            "train Loss: 1.2338 Acc: 0.6680\n",
            "val Loss: 1.2881 Acc: 0.6134\n",
            "\n",
            "Epoch 5/9\n",
            "----------\n",
            "train Loss: 1.2200 Acc: 0.6824\n",
            "val Loss: 1.2795 Acc: 0.6222\n",
            "\n",
            "Epoch 6/9\n",
            "----------\n",
            "train Loss: 1.2083 Acc: 0.6944\n",
            "val Loss: 1.2790 Acc: 0.6235\n",
            "\n",
            "Epoch 7/9\n",
            "----------\n",
            "train Loss: 1.1887 Acc: 0.7139\n",
            "val Loss: 1.2731 Acc: 0.6293\n",
            "\n",
            "Epoch 8/9\n",
            "----------\n",
            "train Loss: 1.1826 Acc: 0.7210\n",
            "val Loss: 1.2735 Acc: 0.6288\n",
            "\n",
            "Epoch 9/9\n",
            "----------\n",
            "train Loss: 1.1764 Acc: 0.7281\n",
            "val Loss: 1.2738 Acc: 0.6288\n",
            "\n",
            "Training complete in 1m 37s\n",
            "Best val Acc: 0.629342\n"
          ]
        }
      ],
      "source": [
        "cnn_model, results = train_model(cnn_model, dataloaders, criterion,optimizer_ft, \n",
        "                                 exp_lr_scheduler,num_epochs=num_epochs)"
      ]
    },
    {
      "cell_type": "code",
      "execution_count": null,
      "metadata": {
        "colab": {
          "base_uri": "https://localhost:8080/",
          "height": 281
        },
        "id": "5t5RbPh4Nvb8",
        "outputId": "a29586a9-6db0-40d3-e0e5-31940f3f45b9"
      },
      "outputs": [
        {
          "output_type": "display_data",
          "data": {
            "text/plain": [
              "<Figure size 432x288 with 1 Axes>"
            ],
            "image/png": "[encoded data removed]"
          },
          "metadata": {
            "needs_background": "light"
          }
        }
      ],
      "source": [
        "plt.plot(results['train_loss'], label=\"Train\")\n",
        "plt.plot(results['test_loss'], label= \"Validation\")\n",
        "plt.legend()\n",
        "plt.title('Loss- train, validation')\n",
        "plt.show()"
      ]
    },
    {
      "cell_type": "code",
      "execution_count": null,
      "metadata": {
        "colab": {
          "base_uri": "https://localhost:8080/",
          "height": 281
        },
        "id": "lP5AXWZBQDq6",
        "outputId": "4b288b8c-7214-4da0-e1b1-f30267c4e205"
      },
      "outputs": [
        {
          "output_type": "display_data",
          "data": {
            "text/plain": [
              "<Figure size 432x288 with 1 Axes>"
            ],
            "image/png": "[encoded data removed]"
          },
          "metadata": {
            "needs_background": "light"
          }
        }
      ],
      "source": [
        "plt.plot(results['train_acc'], label=\"Train\")\n",
        "plt.plot(results['test_acc'], label= \"Validation\")\n",
        "plt.legend()\n",
        "plt.title('Loss- train, validation')\n",
        "plt.show()"
      ]
    },
    {
      "cell_type": "markdown",
      "source": [
        "#### W2V embedding freeze weights"
      ],
      "metadata": {
        "id": "I58JRYDOncb4"
      }
    },
    {
      "cell_type": "code",
      "execution_count": null,
      "metadata": {
        "id": "101onci3nvQN"
      },
      "outputs": [],
      "source": [
        "torch.cuda.empty_cache()"
      ]
    },
    {
      "cell_type": "code",
      "execution_count": null,
      "metadata": {
        "colab": {
          "base_uri": "https://localhost:8080/"
        },
        "outputId": "d368d689-3cce-4341-acf5-251022021a2e",
        "id": "c7ZSUiXInvQp"
      },
      "outputs": [
        {
          "output_type": "execute_result",
          "data": {
            "text/plain": [
              "CnnTextClassifier(\n",
              "  (embedding): Embedding(11431, 300, padding_idx=0)\n",
              "  (conv_0): Conv2d(1, 64, kernel_size=(3, 300), stride=(1, 1))\n",
              "  (conv_1): Conv2d(1, 64, kernel_size=(4, 300), stride=(1, 1))\n",
              "  (conv_2): Conv2d(1, 64, kernel_size=(5, 300), stride=(1, 1))\n",
              "  (fc): Linear(in_features=192, out_features=5, bias=True)\n",
              "  (dropout): Dropout(p=0.5, inplace=False)\n",
              ")"
            ]
          },
          "metadata": {},
          "execution_count": 29
        }
      ],
      "source": [
        "device = 'cuda' if torch.cuda.is_available() else 'cpu'\n",
        "cnn_model_freeze = CnnTextClassifier(embedding_weights=embedding_weights, kernel_sizes=[3, 4, 5], dim=300, num_classes=5, to_freeze=True).to(device)\n",
        "cnn_model_freeze"
      ]
    },
    {
      "cell_type": "code",
      "execution_count": null,
      "metadata": {
        "id": "aVTy-lMOnvQq"
      },
      "outputs": [],
      "source": [
        "criterion = nn.CrossEntropyLoss()\n",
        "\n",
        "# Use Stochastic Gradient Descent as the optimizer, with a learning rate of 0.0001 and momentum\n",
        "optimizer_ft = torch.optim.Adam(cnn_model_freeze.parameters())\n",
        "\n",
        "# Decay LR by a factor of 0.1 every 7 epochs\n",
        "exp_lr_scheduler = lr_scheduler.StepLR(optimizer_ft, step_size=7, gamma=0.1)\n",
        "\n",
        "num_epochs = 10"
      ]
    },
    {
      "cell_type": "code",
      "execution_count": null,
      "metadata": {
        "colab": {
          "base_uri": "https://localhost:8080/"
        },
        "outputId": "ba30fc42-28d8-4033-99c0-fa8ab8b2f2bb",
        "id": "dtxVWwjgnvQr"
      },
      "outputs": [
        {
          "output_type": "stream",
          "name": "stdout",
          "text": [
            "Epoch 0/9\n",
            "----------\n",
            "train Loss: 1.3483 Acc: 0.5443\n",
            "val Loss: 1.3070 Acc: 0.5884\n",
            "\n",
            "Epoch 1/9\n",
            "----------\n",
            "train Loss: 1.3138 Acc: 0.5827\n",
            "val Loss: 1.3003 Acc: 0.5983\n",
            "\n",
            "Epoch 2/9\n",
            "----------\n",
            "train Loss: 1.3030 Acc: 0.5960\n",
            "val Loss: 1.2979 Acc: 0.6012\n",
            "\n",
            "Epoch 3/9\n",
            "----------\n",
            "train Loss: 1.2970 Acc: 0.6034\n",
            "val Loss: 1.2984 Acc: 0.6017\n",
            "\n",
            "Epoch 4/9\n",
            "----------\n",
            "train Loss: 1.2952 Acc: 0.6053\n",
            "val Loss: 1.2929 Acc: 0.6074\n",
            "\n",
            "Epoch 5/9\n",
            "----------\n",
            "train Loss: 1.2923 Acc: 0.6089\n",
            "val Loss: 1.2960 Acc: 0.6065\n",
            "\n",
            "Epoch 6/9\n",
            "----------\n",
            "train Loss: 1.2878 Acc: 0.6137\n",
            "val Loss: 1.2932 Acc: 0.6091\n",
            "\n",
            "Epoch 7/9\n",
            "----------\n",
            "train Loss: 1.2766 Acc: 0.6251\n",
            "val Loss: 1.2855 Acc: 0.6169\n",
            "\n",
            "Epoch 8/9\n",
            "----------\n",
            "train Loss: 1.2701 Acc: 0.6327\n",
            "val Loss: 1.2873 Acc: 0.6139\n",
            "\n",
            "Epoch 9/9\n",
            "----------\n",
            "train Loss: 1.2667 Acc: 0.6351\n",
            "val Loss: 1.2856 Acc: 0.6167\n",
            "\n",
            "Training complete in 1m 15s\n",
            "Best val Acc: 0.616936\n"
          ]
        }
      ],
      "source": [
        "cnn_model_freeze, results = train_model(cnn_model_freeze, dataloaders, criterion,optimizer_ft, \n",
        "                                 exp_lr_scheduler,num_epochs=num_epochs)"
      ]
    },
    {
      "cell_type": "code",
      "execution_count": null,
      "metadata": {
        "colab": {
          "base_uri": "https://localhost:8080/",
          "height": 281
        },
        "outputId": "200693c6-dbc5-4b7b-c5f0-4f3d6260c363",
        "id": "durRhkd1n9tF"
      },
      "outputs": [
        {
          "output_type": "display_data",
          "data": {
            "text/plain": [
              "<Figure size 432x288 with 1 Axes>"
            ],
            "image/png": "[encoded data removed]"
          },
          "metadata": {
            "needs_background": "light"
          }
        }
      ],
      "source": [
        "plt.plot(results['train_loss'], label=\"Train\")\n",
        "plt.plot(results['test_loss'], label= \"Validation\")\n",
        "plt.legend()\n",
        "plt.title('Loss- train, validation')\n",
        "plt.show()"
      ]
    },
    {
      "cell_type": "code",
      "execution_count": null,
      "metadata": {
        "colab": {
          "base_uri": "https://localhost:8080/",
          "height": 281
        },
        "outputId": "7574e241-700b-4d1a-be57-96fb2e550f90",
        "id": "z8BjJMsnn9tI"
      },
      "outputs": [
        {
          "output_type": "display_data",
          "data": {
            "text/plain": [
              "<Figure size 432x288 with 1 Axes>"
            ],
            "image/png": "[encoded data removed]"
          },
          "metadata": {
            "needs_background": "light"
          }
        }
      ],
      "source": [
        "plt.plot(results['train_acc'], label=\"Train\")\n",
        "plt.plot(results['test_acc'], label= \"Validation\")\n",
        "plt.legend()\n",
        "plt.title('Loss- train, validation')\n",
        "plt.show()"
      ]
    },
    {
      "cell_type": "markdown",
      "source": [
        "#### Embedding random weights"
      ],
      "metadata": {
        "id": "ggrDIvgapawP"
      }
    },
    {
      "cell_type": "code",
      "execution_count": null,
      "metadata": {
        "id": "eVzp1UfCpfK-"
      },
      "outputs": [],
      "source": [
        "torch.cuda.empty_cache()"
      ]
    },
    {
      "cell_type": "code",
      "execution_count": null,
      "metadata": {
        "colab": {
          "base_uri": "https://localhost:8080/"
        },
        "outputId": "734ff54e-31f1-4b3a-9e7b-8485d83380db",
        "id": "PM6HBQ3gpfK_"
      },
      "outputs": [
        {
          "output_type": "execute_result",
          "data": {
            "text/plain": [
              "CnnTextClassifier(\n",
              "  (embedding): Embedding(11431, 300)\n",
              "  (conv_0): Conv2d(1, 64, kernel_size=(3, 300), stride=(1, 1))\n",
              "  (conv_1): Conv2d(1, 64, kernel_size=(4, 300), stride=(1, 1))\n",
              "  (conv_2): Conv2d(1, 64, kernel_size=(5, 300), stride=(1, 1))\n",
              "  (fc): Linear(in_features=192, out_features=5, bias=True)\n",
              "  (dropout): Dropout(p=0.5, inplace=False)\n",
              ")"
            ]
          },
          "metadata": {},
          "execution_count": 37
        }
      ],
      "source": [
        "device = 'cuda' if torch.cuda.is_available() else 'cpu'\n",
        "cnn_model_random = CnnTextClassifier(embedding_weights=embedding_weights, kernel_sizes=[3, 4, 5], dim=300, num_classes=5, \n",
        "                                     to_freeze=False, random_weights=True).to(device)\n",
        "cnn_model_random"
      ]
    },
    {
      "cell_type": "code",
      "execution_count": null,
      "metadata": {
        "id": "28YRy05tpfLA"
      },
      "outputs": [],
      "source": [
        "criterion = nn.CrossEntropyLoss()\n",
        "\n",
        "# Use Stochastic Gradient Descent as the optimizer, with a learning rate of 0.0001 and momentum\n",
        "optimizer_ft = torch.optim.Adam(cnn_model_random.parameters())\n",
        "\n",
        "# Decay LR by a factor of 0.1 every 7 epochs\n",
        "exp_lr_scheduler = lr_scheduler.StepLR(optimizer_ft, step_size=7, gamma=0.1)\n",
        "\n",
        "num_epochs = 10"
      ]
    },
    {
      "cell_type": "code",
      "execution_count": null,
      "metadata": {
        "colab": {
          "base_uri": "https://localhost:8080/"
        },
        "outputId": "57b8fb84-500e-46ce-ea2c-267359af8640",
        "id": "Pke8jSE1pfLB"
      },
      "outputs": [
        {
          "output_type": "stream",
          "name": "stdout",
          "text": [
            "Epoch 0/9\n",
            "----------\n",
            "train Loss: 1.4424 Acc: 0.4439\n",
            "val Loss: 1.3922 Acc: 0.5024\n",
            "\n",
            "Epoch 1/9\n",
            "----------\n",
            "train Loss: 1.3889 Acc: 0.5058\n",
            "val Loss: 1.3636 Acc: 0.5341\n",
            "\n",
            "Epoch 2/9\n",
            "----------\n",
            "train Loss: 1.3675 Acc: 0.5296\n",
            "val Loss: 1.3498 Acc: 0.5479\n",
            "\n",
            "Epoch 3/9\n",
            "----------\n",
            "train Loss: 1.3500 Acc: 0.5489\n",
            "val Loss: 1.3276 Acc: 0.5704\n",
            "\n",
            "Epoch 4/9\n",
            "----------\n",
            "train Loss: 1.3393 Acc: 0.5605\n",
            "val Loss: 1.3272 Acc: 0.5732\n",
            "\n",
            "Epoch 5/9\n",
            "----------\n",
            "train Loss: 1.3305 Acc: 0.5699\n",
            "val Loss: 1.3231 Acc: 0.5777\n",
            "\n",
            "Epoch 6/9\n",
            "----------\n",
            "train Loss: 1.3167 Acc: 0.5845\n",
            "val Loss: 1.3184 Acc: 0.5832\n",
            "\n",
            "Epoch 7/9\n",
            "----------\n",
            "train Loss: 1.2980 Acc: 0.6026\n",
            "val Loss: 1.3060 Acc: 0.5958\n",
            "\n",
            "Epoch 8/9\n",
            "----------\n",
            "train Loss: 1.2914 Acc: 0.6101\n",
            "val Loss: 1.3056 Acc: 0.5956\n",
            "\n",
            "Epoch 9/9\n",
            "----------\n",
            "train Loss: 1.2905 Acc: 0.6107\n",
            "val Loss: 1.3029 Acc: 0.5976\n",
            "\n",
            "Training complete in 1m 38s\n",
            "Best val Acc: 0.597647\n"
          ]
        }
      ],
      "source": [
        "cnn_model_random, results = train_model(cnn_model_random, dataloaders, criterion,optimizer_ft, \n",
        "                                 exp_lr_scheduler,num_epochs=num_epochs)"
      ]
    },
    {
      "cell_type": "code",
      "execution_count": null,
      "metadata": {
        "colab": {
          "base_uri": "https://localhost:8080/",
          "height": 281
        },
        "outputId": "e61253ce-1c42-47cd-bc72-7010a6073110",
        "id": "7CqIPnn6pfLB"
      },
      "outputs": [
        {
          "output_type": "display_data",
          "data": {
            "text/plain": [
              "<Figure size 432x288 with 1 Axes>"
            ],
            "image/png": "[encoded data removed]"
          },
          "metadata": {
            "needs_background": "light"
          }
        }
      ],
      "source": [
        "plt.plot(results['train_loss'], label=\"Train\")\n",
        "plt.plot(results['test_loss'], label= \"Validation\")\n",
        "plt.legend()\n",
        "plt.title('Loss- train, validation')\n",
        "plt.show()"
      ]
    },
    {
      "cell_type": "code",
      "execution_count": null,
      "metadata": {
        "colab": {
          "base_uri": "https://localhost:8080/",
          "height": 281
        },
        "outputId": "c3fa60dd-8d8b-462d-829c-88cfc65ab41f",
        "id": "HOHjpTGupfLC"
      },
      "outputs": [
        {
          "output_type": "display_data",
          "data": {
            "text/plain": [
              "<Figure size 432x288 with 1 Axes>"
            ],
            "image/png": "[encoded data removed]"
          },
          "metadata": {
            "needs_background": "light"
          }
        }
      ],
      "source": [
        "plt.plot(results['train_acc'], label=\"Train\")\n",
        "plt.plot(results['test_acc'], label= \"Validation\")\n",
        "plt.legend()\n",
        "plt.title('Loss- train, validation')\n",
        "plt.show()"
      ]
    },
    {
      "cell_type": "code",
      "source": [
        ""
      ],
      "metadata": {
        "id": "5VswBmqEqI1i"
      },
      "execution_count": null,
      "outputs": []
    }
  ],
  "metadata": {
    "accelerator": "GPU",
    "colab": {
      "collapsed_sections": [
        "nF5qBH4XWSVk",
        "dySXdQqcjFtS",
        "Zdm3Pe37I4ix"
      ],
      "machine_shape": "hm",
      "name": "DL-ex8 word embedding assignment.ipynb",
      "provenance": [],
      "toc_visible": true
    },
    "kernelspec": {
      "display_name": "Python 3",
      "language": "python",
      "name": "python3"
    },
    "language_info": {
      "codemirror_mode": {
        "name": "ipython",
        "version": 3
      },
      "file_extension": ".py",
      "mimetype": "text/x-python",
      "name": "python",
      "nbconvert_exporter": "python",
      "pygments_lexer": "ipython3",
      "version": "3.7.0"
    }
  },
  "nbformat": 4,
  "nbformat_minor": 0
}
