{
 "cells": [
  {
   "cell_type": "markdown",
   "metadata": {
    "id": "chEqqJbLzFew"
   },
   "source": [
    "# Yandex Data Science School\n",
    "## Linear Regression & Regularization Exercise.\n",
    "\n",
    "\n",
    "## Outline\n",
    "In this exercise you will learn the following topics:\n",
    "\n",
    "1. Refresher on how linear regression is solved in batch and in Gradient Descent \n",
    "2. Implementation of Ridge Regression\n",
    "3. Comparing Ridge, Lasso and vanila Linear Regression on a dataset"
   ]
  },
  {
   "cell_type": "markdown",
   "metadata": {
    "id": "mR9UFmk2greT"
   },
   "source": [
    "## Refresher on Ordinary Least Square (OLS) aka Linear Regeression\n",
    "\n",
    "### Lecture Note\n",
    "\n",
    "In Matrix notation, the matrix $X$ is of dimensions $n \\times p$ where each row is an example and each column is a feature dimension. \n",
    "\n",
    "Similarily, $y$ is of dimension $n \\times 1$ and $w$ is of dimensions $p \\times 1$.\n",
    "\n",
    "The model is $\\hat{y}=X\\cdot w$ where we assume for simplicity that $X$'s first columns equals to 1 (one padding), to account for the bias term.\n",
    "\n",
    "Our objective is to optimize the loss $L$ defines as resiudal sum of squares (RSS): \n",
    "\n",
    "$L_{RSS}=\\frac{1}{N}\\left\\Vert Xw-y \\right\\Vert^2$ (notice that in matrix notation this means summing over all examples, so $L$ is scalar.)\n",
    "\n",
    "To find the optimal $w$ one needs to derive the loss with respect to $w$.\n",
    "\n",
    "$\\frac{\\partial{L_{RSS}}}{\\partial{w}}=\\frac{2}{N}X^T(Xw-y)$ (to see why, read about [matrix derivatives](http://www.gatsby.ucl.ac.uk/teaching/courses/sntn/sntn-2017/resources/Matrix_derivatives_cribsheet.pdf) or see class notes )\n",
    "\n",
    "Thus, the gardient descent solution is $w'=w-\\alpha \\frac{2}{N}X^T(Xw-y)$.\n",
    "\n",
    "Solving $\\frac{\\partial{L_{RSS}}}{\\partial{w}}=0$ for $w$ one can also get analytical solution:\n",
    "\n",
    "$w_{OLS}=(X^TX)^{-1}X^Ty$\n",
    "\n",
    "The first term, $(X^TX)^{-1}X^T$ is also called the pseudo inverse of $X$.\n",
    "\n",
    "See [lecture note from Stanford](https://web.stanford.edu/~mrosenfe/soc_meth_proj3/matrix_OLS_NYU_notes.pdf) for more details.\n"
   ]
  },
  {
   "cell_type": "markdown",
   "metadata": {
    "id": "JA3MEKz80vdy"
   },
   "source": [
    "## Exercise 1 - Ordinary Least Square\n",
    "* Get the boston housing dataset by using the scikit-learn package. hint: [load_boston](http://scikit-learn.org/stable/modules/generated/sklearn.datasets.load_boston.html)\n",
    "\n",
    "* What is $p$? what is $n$ in the above notation? hint: [shape](https://docs.scipy.org/doc/numpy-1.15.0/reference/generated/numpy.ndarray.shape.html)\n",
    "\n",
    "* write a model `OrdinaryLinearRegression` which has a propoery $w$ and 3 methods: `fit`, `predict` and `score` (which returns the MSE on a given sample set). Hint: use [numpy.linalg.pinv](https://docs.scipy.org/doc/numpy-1.15.1/reference/generated/numpy.linalg.pinv.html) to be more efficient.\n",
    "\n",
    "* Fit the model. What is the training MSE?\n",
    "\n",
    "* Plot a scatter plot where on x-axis plot $Y$ and in the y-axis $\\hat{Y}_{OLS}$\n",
    "\n",
    "* Split the data to 75% train and 25% test 20 times. What is the average MSE now for train and test? Hint: use [train_test_split](http://scikit-learn.org/stable/modules/generated/sklearn.model_selection.train_test_split.html) or [ShuffleSplit](http://scikit-learn.org/stable/modules/generated/sklearn.model_selection.ShuffleSplit.html).\n",
    "\n",
    "* Use a t-test to proove that the MSE for training is significantly smaller than for testing. What is the p-value? Hint: use [scipy.stats.ttest_rel](https://docs.scipy.org/doc/scipy-0.14.0/reference/generated/scipy.stats.ttest_rel.html). \n",
    "\n",
    "* Write a new class `OrdinaryLinearRegressionGradientDescent` which inherits from `OrdinaryLinearRegression` and solves the problem using gradinet descent. The class should get as a parameter the learning rate and number of iteration. Plot the class convergance. What is the effect of learning rate? How would you find number of iteration automatically? Note: Gradient Descent does not work well when features are not scaled evenly (why?!). Be sure to normalize your features first.\n",
    "\n",
    "* The following parameters are optional (not mandatory to use):\n",
    "    * early_stop - True / False boolean to indicate to stop running when loss stops decaying and False to continue.\n",
    "    * reset - True / False boolean to reset starting w values, relevant in gradient descent OlsCd and OlsGd. Usually its reseted to 0's\n",
    "    * verbose- True/False boolean to turn on / off logging, e.g. print details like iteration number and loss (https://en.wikipedia.org/wiki/Verbose_mode)\n",
    "    * track_loss - True / False boolean when to save loss results to present later in learning curve graphs"
   ]
  },
  {
   "cell_type": "code",
   "execution_count": 1,
   "metadata": {
    "scrolled": true
   },
   "outputs": [
    {
     "name": "stdout",
     "output_type": "stream",
     "text": [
      "(506, 13)\n",
      "(506,)\n"
     ]
    }
   ],
   "source": [
    "# boston housing dataset by using the scikit-learn package:\n",
    "from sklearn.datasets import load_boston\n",
    "import numpy as np\n",
    "\n",
    "X, y = load_boston(return_X_y=True)\n",
    "print(X.shape)\n",
    "print(y.shape)"
   ]
  },
  {
   "cell_type": "markdown",
   "metadata": {},
   "source": [
    "##### What is  p? what is n in the above notation?\n",
    "n- is the number of samples, it is the rows in out X matrix. n=506\n",
    "\n",
    "p- number of parameters that explain the y. it is the columns of the X matrix. p=13"
   ]
  },
  {
   "cell_type": "code",
   "execution_count": 2,
   "metadata": {
    "id": "ZuSS8LhcfZdn"
   },
   "outputs": [],
   "source": [
    "# * write a model `Ols` which has a propoery $w$ and 3 methods: `fit`, `predict` and `score`.? hint: use [numpy.linalg.pinv](https://docs.scipy.org/doc/numpy-1.15.1/reference/generated/numpy.linalg.pinv.html) to be more efficient.\n",
    "\n",
    "class Ols(object):\n",
    "    def __init__(self):\n",
    "        self.w = None\n",
    "\n",
    "    @staticmethod\n",
    "    def pad(X):\n",
    "        x0 = np.ones(X.shape[0])\n",
    "        x0 = np.matrix(x0).T\n",
    "        X = np.concatenate((x0, X), axis=1)\n",
    "        return X\n",
    "\n",
    "    def fit(self, X, Y):\n",
    "        #remeber pad with 1 before fitting\n",
    "        self._fit(X, Y)\n",
    "\n",
    "    def _fit(self, X, Y):\n",
    "        # optional to use this\n",
    "        X = Ols.pad(X)\n",
    "        self.w = np.dot(np.linalg.pinv(X),Y)\n",
    "\n",
    "    def predict(self, X):\n",
    "        #return wx\n",
    "        X = self._predict(X)\n",
    "        y_predict = np.ravel(np.dot(X, self.w.T))\n",
    "        return y_predict\n",
    "\n",
    "    def _predict(self, X):\n",
    "        X = Ols.pad(X)\n",
    "        return X\n",
    "\n",
    "    def score(self, X, Y):\n",
    "        #return MSE\n",
    "        y_predict = self.predict(X)\n",
    "        mse = np.square(np.subtract(Y,y_predict)).mean()\n",
    "        return mse"
   ]
  },
  {
   "cell_type": "code",
   "execution_count": 3,
   "metadata": {
    "scrolled": true
   },
   "outputs": [
    {
     "name": "stdout",
     "output_type": "stream",
     "text": [
      "MSE: 21.894831181729206\n"
     ]
    }
   ],
   "source": [
    "#Fit the model. What is the training MSE\n",
    "LR_Ols_model = Ols()\n",
    "LR_Ols_model.fit(X,y)\n",
    "y_predict = LR_Ols_model.predict(X)\n",
    "mse = LR_Ols_model.score(X, y)\n",
    "print(f'MSE: {mse}')"
   ]
  },
  {
   "cell_type": "code",
   "execution_count": 4,
   "metadata": {
    "scrolled": true
   },
   "outputs": [
    {
     "data": {
      "image/png": "[encoded data removed]",
      "text/plain": [
       "<Figure size 432x288 with 1 Axes>"
      ]
     },
     "metadata": {
      "needs_background": "light"
     },
     "output_type": "display_data"
    }
   ],
   "source": [
    "#Plot a scatter plot where on x-axis plot Y and in the y-axis Y-ols\n",
    "import matplotlib.pyplot as plt\n",
    "\n",
    "colors = np.random.rand(506)\n",
    "plt.scatter(y, y_predict, c=colors, alpha=0.5)\n",
    "plt.title(\"Y with Yols plot\")\n",
    "plt.xlabel(\"Y\")\n",
    "plt.ylabel(\"Y-ols\")\n",
    "plt.show()"
   ]
  },
  {
   "cell_type": "code",
   "execution_count": 5,
   "metadata": {},
   "outputs": [
    {
     "name": "stdout",
     "output_type": "stream",
     "text": [
      "mse train: 21.518336000940366, mse test: 24.376957489369175\n",
      "Total mse avg: 22.94764674515477\n"
     ]
    }
   ],
   "source": [
    "#Split the data to 75% train and 25% test 20 times. What is the average MSE now for train and test?\n",
    "from sklearn.model_selection import train_test_split\n",
    "\n",
    "mse_train_list = []\n",
    "mse_test_list = []\n",
    "\n",
    "def find_mse(x_train, y_train, x_test, y_test):\n",
    "    LR_Ols_model = Ols()\n",
    "    LR_Ols_model.fit(x_train, y_train)\n",
    "    mse_train = LR_Ols_model.score(x_train, y_train)\n",
    "    \n",
    "    mse_test = LR_Ols_model.score(x_test, y_test)\n",
    "    return mse_train, mse_test\n",
    "\n",
    "for i in range(20):\n",
    "    X_train, X_test, y_train, y_test = train_test_split(X, y, test_size=0.25, random_state=None, shuffle=True)\n",
    "    mse_train, mse_test = find_mse(X_train, y_train, X_test, y_test)\n",
    "    mse_train_list.append(mse_train)\n",
    "    mse_test_list.append(mse_test)\n",
    "    \n",
    "avg_mse_train = np.mean(np.array(mse_train_list))\n",
    "avg_mse_test = np.mean(np.array(mse_test_list))\n",
    "avg_total_mse = np.mean(np.array(mse_train_list+mse_test_list))\n",
    "\n",
    "print(f'mse train: {avg_mse_train}, mse test: {avg_mse_test}')\n",
    "print(f'Total mse avg: {avg_total_mse}')"
   ]
  },
  {
   "cell_type": "code",
   "execution_count": 6,
   "metadata": {},
   "outputs": [
    {
     "name": "stdout",
     "output_type": "stream",
     "text": [
      "P-value: 0.04222413955947899\n",
      "If alpha=0.1 > p-value=0.04222413955947899 and we will reject the null hypothesis of equal averages\n"
     ]
    }
   ],
   "source": [
    "#Use a t-test to proove that the MSE for training is significantly smaller than for testing. What is the p-value?\n",
    "from scipy import stats\n",
    "\n",
    "t_test = stats.ttest_rel(mse_train_list, mse_test_list)\n",
    "print(f'P-value: {t_test[1]}')\n",
    "print(f'If alpha=0.1 > p-value={t_test[1]} and we will reject the null hypothesis of equal averages')"
   ]
  },
  {
   "cell_type": "code",
   "execution_count": 7,
   "metadata": {
    "id": "unGCBc0CIGJL"
   },
   "outputs": [],
   "source": [
    "# Write a new class OlsGd which solves the problem using gradinet descent. \n",
    "# The class should get as a parameter the learning rate and number of iteration. \n",
    "# Plot the loss convergance. for each alpha, learning rate plot the MSE with respect to number of iterations.\n",
    "# What is the effect of learning rate? \n",
    "# How would you find number of iteration automatically? \n",
    "# Note: Gradient Descent does not work well when features are not scaled evenly (why?!). Be sure to normalize your feature first.\n",
    "class Normalizer():\n",
    "    def __init__(self):\n",
    "        self.x_means = None\n",
    "        self.x_stds = None\n",
    "\n",
    "    def fit(self, X):\n",
    "        self.x_means = np.mean(X, axis=0)\n",
    "        self.x_stds = np.std(X, axis=0)\n",
    "\n",
    "    def predict(self, X):\n",
    "        #apply normalization\n",
    "        X_normalize = (X-self.x_means)/self.x_stds\n",
    "        return X_normalize\n",
    "    \n",
    "class OlsGd(Ols):\n",
    "  \n",
    "    def __init__(self, learning_rate=.05, num_iteration=1000, normalize=True, early_stop=True, verbose=True):\n",
    "        super(OlsGd, self).__init__()\n",
    "        self.learning_rate = learning_rate\n",
    "        self.num_iteration = num_iteration\n",
    "        self.early_stop = early_stop\n",
    "        self.normalize = normalize\n",
    "        self.normalizer = Normalizer()    \n",
    "        self.verbose = verbose\n",
    "        self.loss_results = []\n",
    "        self.eps = 0.001\n",
    "        self.dw_size = None\n",
    "    \n",
    "    def _fit(self, X, Y, reset=True, track_loss=True):\n",
    "        #remeber to normalize the data before starting\n",
    "        if self.normalize:\n",
    "            self.normalizer.fit(X)\n",
    "            X = self.normalizer.predict(X)\n",
    "        X = OlsGd.pad(X)\n",
    "        if reset:\n",
    "            self.w = np.zeros(X.shape[1])\n",
    "        else:\n",
    "            self.w = np.random.rand(X.shape[1])\n",
    "\n",
    "        for iterate in range(self.num_iteration):\n",
    "            old_w = self.w\n",
    "            dw_step = self._step(X,Y)\n",
    "            self.w = self.w - self.learning_rate * dw_step\n",
    "            loss = self._find_loss(X,Y)\n",
    "            if track_loss:\n",
    "                self.loss_results.append(loss)\n",
    "            if self.early_stop:\n",
    "                to_stop_early = self.check_early_stop(old_w, dw_step)\n",
    "                if to_stop_early:\n",
    "                    break\n",
    "            \n",
    "    def check_early_stop(self, old_w, dw_step):\n",
    "        early_stopping = False\n",
    "        \n",
    "        absolute_dw = np.absolute(dw_step)\n",
    "        if np.all(absolute_dw < self.eps):\n",
    "            early_stopping = True \n",
    "        \n",
    "        if len(self.loss_results) > 1:\n",
    "            diff_loss = self.loss_results[-2] - self.loss_results[-1]\n",
    "            if diff_loss < self.eps:\n",
    "                early_stopping = True\n",
    "            \n",
    "        diff_w = np.sum(abs(old_w - self.w))\n",
    "        if diff_w < self.eps:\n",
    "            early_stopping = True\n",
    "        return early_stopping\n",
    "                \n",
    "    def _predict(self, X):\n",
    "    #remeber to normalize the data before starting\n",
    "        if self.normalize:\n",
    "            self.normalizer.fit(X)\n",
    "            X = self.normalizer.predict(X)\n",
    "        X = OlsGd.pad(X)\n",
    "        return X\n",
    "      \n",
    "    def _step(self, X, Y):\n",
    "    # use w update for gradient descent\n",
    "        y_current_predict = np.ravel(np.dot(X, self.w.T))\n",
    "        dw = (2/X.shape[0]) * np.dot(X.T, (y_current_predict-Y))\n",
    "        return dw\n",
    "    \n",
    "    def _find_loss(self, X, Y):\n",
    "        current_prediction = np.ravel(np.dot(X, self.w.T))\n",
    "        current_loss = np.square(np.subtract(Y,current_prediction)).mean()\n",
    "        return current_loss"
   ]
  },
  {
   "cell_type": "code",
   "execution_count": 8,
   "metadata": {
    "scrolled": false
   },
   "outputs": [
    {
     "data": {
      "image/png": "[encoded data removed]",
      "text/plain": [
       "<Figure size 432x288 with 1 Axes>"
      ]
     },
     "metadata": {
      "needs_background": "light"
     },
     "output_type": "display_data"
    }
   ],
   "source": [
    "# Plot the loss convergance. for each alpha, learning rate plot the MSE with respect to number of iterations.\n",
    "\n",
    "lr_list = np.arange(0.01,0.17,0.03)\n",
    "iterations_list = np.arange(1,50,10)\n",
    "for lr in lr_list:\n",
    "    current_mse_list = []\n",
    "    for num_iter in iterations_list:\n",
    "        LR_OlsGd_model = OlsGd(learning_rate=lr, num_iteration=num_iter)\n",
    "        LR_OlsGd_model._fit(X, y)\n",
    "        mse = LR_OlsGd_model.score(X,y)\n",
    "        current_mse_list.append(mse)\n",
    "    plt.plot(iterations_list, current_mse_list, label = f'learning rate {round(lr,3)}')\n",
    "\n",
    "plt.xlabel('iteration')\n",
    "plt.ylabel('mse')\n",
    "plt.title(\"loss convergance\")\n",
    "plt.legend()    \n",
    "plt.show()"
   ]
  },
  {
   "cell_type": "code",
   "execution_count": 9,
   "metadata": {},
   "outputs": [
    {
     "data": {
      "image/png": "[encoded data removed]",
      "text/plain": [
       "<Figure size 432x288 with 1 Axes>"
      ]
     },
     "metadata": {
      "needs_background": "light"
     },
     "output_type": "display_data"
    }
   ],
   "source": [
    "# Plot the loss convergance.\n",
    "LR_OlsGd = OlsGd()\n",
    "LR_OlsGd._fit(X, y)\n",
    "y_axis = LR_OlsGd.loss_results\n",
    "plt.plot(y_axis);\n",
    "plt.xlabel('iteration')\n",
    "plt.ylabel('Loss')\n",
    "plt.title(\"loss convergance\")\n",
    "plt.show()"
   ]
  },
  {
   "cell_type": "markdown",
   "metadata": {},
   "source": [
    "#### What is the effect of learning rate? \n",
    "If the learning rate is too large we can miss the minimum and if the learning rate is too small it takes forever to find the minimum. As we can see on the graph when the learning rate is more \"balanced\" (not too large, not too small) we will find the minimum faster (less iterations)\n",
    "\n",
    "#### How would you find number of iteration automatically?\n",
    "As we can see when the learning rate is not too large and not too small the loss convergance more or less after 20 iterations, so we can use different learning rate with early stop rules to find the number of iterations automatically. \n",
    "Another option is to use validation sets in training, and compare the MSE of the validation to the MSE of the test and as long they are not close to each other, do another iteration. In that way we won't need to define the number of iterations at all.\n",
    "\n",
    "#### Gradient Descent does not work well when features are not scaled evenly (why?!)\n",
    "The normalization helps gradient descent to converge. If we won't normalize we might give to a large feature a large impact and we don't necessarily want to do that."
   ]
  },
  {
   "cell_type": "markdown",
   "metadata": {
    "id": "7HVfnXvZFi98"
   },
   "source": [
    "## Exercise 2 - Ridge Linear Regression\n",
    "\n",
    "Recall that ridge regression is identical to OLS but with a L2 penalty over the weights:\n",
    "\n",
    "$L(y,\\hat{y})=\\sum_{i=1}^{i=N}{(y^{(i)}-\\hat{y}^{(i)})^2} + \\lambda \\left\\Vert w \\right\\Vert_2^2$\n",
    "\n",
    "where $y^{(i)}$ is the **true** value and $\\hat{y}^{(i)}$ is the **predicted** value of the $i_{th}$ example, and $N$ is the number of examples\n",
    "\n",
    "* Show, by differentiating the above loss, that the analytical solution is $w_{Ridge}=(X^TX+\\lambda I)^{-1}X^Ty$\n",
    "* Change `OrdinaryLinearRegression` and `OrdinaryLinearRegressionGradientDescent` classes to work also for ridge regression (do not use the random noise analogy but use the analytical derivation). Either add a parameter, or use inheritance.\n",
    "* **Bonus: Noise as a regularizer**: Show that OLS (ordinary least square), if one adds multiplicative noise to the features the **average** solution for $W$ is equivalent to Ridge regression. In other words, if $X'= X*G$ where $G$ is an uncorrelated noise with variance $\\sigma$ and mean 1, then solving for $X'$ with OLS is like solving Ridge for $X$. What is the interpretation? \n",
    "\n"
   ]
  },
  {
   "cell_type": "markdown",
   "metadata": {},
   "source": [
    "$L(y,\\hat{y})=\\sum_{i=1}^{i=N}{(y^{(i)}-\\hat{y}^{(i)})^2} + \\lambda \\left\\Vert w \\right\\Vert_2^2$\n",
    "\n",
    "$= \\sum_{i=1}^{i=N}{(y^{(i)}-{X}^{(i)}{w}^{(i)})^2} + \\lambda \\left\\Vert w \\right\\Vert_2^2 = \\left\\Vert{(y-{Xw})}\\right\\Vert^2 + \\lambda \\left\\Vert w \\right\\Vert_2^2 = (y-Xw)^T (y-Xw) + \\lambda w^T w =y^Ty -2w^TX^Ty + w^TX^TXw + \\lambda w^T w$\n",
    "\n",
    "$\\frac{\\partial{L_{Ridge}}}{\\partial{w}} = 0$\n",
    "\n",
    "$\\frac{\\partial{L_{Ridge}}}{\\partial{w}} = -2X^Ty + 2X^TXw + 2\\lambda w=0$\n",
    "\n",
    "$-X^Ty + X^TXw + \\lambda w=0$\n",
    "\n",
    "$X^Ty = X^TXw + \\lambda w$\n",
    "\n",
    "$X^Ty = (X^TX + \\lambda I)w$\n",
    "\n",
    "$w=(X^TX + \\lambda I)^{(-1)} X^Ty $\n",
    "\n",
    "$w_{Ridge}=(X^TX+\\lambda I)^{-1}X^Ty$"
   ]
  },
  {
   "cell_type": "code",
   "execution_count": 10,
   "metadata": {
    "id": "fsDxzAr8IGJO"
   },
   "outputs": [],
   "source": [
    "class RidgeLs(Ols):\n",
    "    def __init__(self, ridge_lambda, *wargs, **kwargs):\n",
    "        super(RidgeLs,self).__init__(*wargs, **kwargs)\n",
    "        self.ridge_lambda = ridge_lambda\n",
    "    \n",
    "    def _fit(self, X, Y):\n",
    "    #Closed form of ridge regression\n",
    "        X = self.pad(X)\n",
    "        self.XTX_lamda = np.dot(X.T, X) + self.ridge_lambda * np.identity(X.shape[1])\n",
    "        self.w = np.dot(np.dot(np.linalg.inv(self.XTX_lamda), X.T), Y)\n",
    "        \n",
    "\n",
    "class RidgeGd(OlsGd):\n",
    "    def __init__(self, ridge_lambda, *wargs, **kwargs):\n",
    "        super(RidgeGd,self).__init__(*wargs, **kwargs)\n",
    "        self.ridge_lambda = ridge_lambda\n",
    "        \n",
    "    def _step(self, X, Y):\n",
    "        current_prediction = np.ravel(np.dot(X, self.w.T))\n",
    "        grad = np.dot(X.T, (current_prediction-Y)) + self.ridge_lambda * self.w\n",
    "        dw = grad/X.shape[0]\n",
    "        return dw\n",
    "\n",
    "  # Override loss\n",
    "    def _find_loss(self, X, Y):\n",
    "        # Return the loss based on current weights \n",
    "        current_prediction = np.ravel(np.dot(X, self.w.T))\n",
    "        diff = current_prediction - Y\n",
    "        rss = np.sum(diff.T * diff)\n",
    "        regularization_term = self.ridge_lambda * np.square(self.w).mean()\n",
    "        loss = rss + regularization_term\n",
    "        return loss"
   ]
  },
  {
   "cell_type": "code",
   "execution_count": 11,
   "metadata": {},
   "outputs": [
    {
     "name": "stdout",
     "output_type": "stream",
     "text": [
      "MSE: 22.672476936821695\n",
      "MSE: 21.901340007413456\n"
     ]
    }
   ],
   "source": [
    "ridgeLs = RidgeLs(ridge_lambda=1)\n",
    "ridgeLs.fit(X, y)\n",
    "mse_ridgeLs = ridgeLs.score(X,y)\n",
    "print(f'MSE: {mse_ridgeLs}')\n",
    "\n",
    "ridgeGd = RidgeGd(ridge_lambda=1)\n",
    "ridgeGd.fit(X, y)\n",
    "mse_ridgeLs = ridgeGd.score(X,y)\n",
    "print(f'MSE: {mse_ridgeLs}')"
   ]
  },
  {
   "cell_type": "code",
   "execution_count": 12,
   "metadata": {
    "id": "hU_UnG8YIGJP"
   },
   "outputs": [
    {
     "name": "stdout",
     "output_type": "stream",
     "text": [
      "MSE for OLS: 21.8948312\n",
      "MSE for Ridge: 22.0444522\n",
      "MSE for Lasso: 26.7960992\n"
     ]
    }
   ],
   "source": [
    "#Use scikitlearn implementation for OLS, Ridge and Lasso\n",
    "from sklearn.linear_model import LinearRegression, Ridge, Lasso\n",
    "from sklearn.metrics import mean_squared_error\n",
    "\n",
    "\n",
    "model_ols = LinearRegression().fit(X,y)\n",
    "model_ridge = Ridge(alpha=1).fit(X,y)\n",
    "model_lasso = Lasso(alpha=1).fit(X,y)\n",
    "\n",
    "print(f'MSE for OLS: {round(mean_squared_error(y, model_ols.predict(X)),7)}')\n",
    "print(f'MSE for Ridge: {round(mean_squared_error(y, model_ridge.predict(X)),7)}')\n",
    "print(f'MSE for Lasso: {round(mean_squared_error(y, model_lasso.predict(X)),7)}')"
   ]
  },
  {
   "cell_type": "code",
   "execution_count": null,
   "metadata": {},
   "outputs": [],
   "source": []
  }
 ],
 "metadata": {
  "colab": {
   "collapsed_sections": [],
   "name": "Regression_&_Regularization_Exercise.ipynb",
   "provenance": []
  },
  "kernelspec": {
   "display_name": "Python 3",
   "language": "python",
   "name": "python3"
  },
  "language_info": {
   "codemirror_mode": {
    "name": "ipython",
    "version": 3
   },
   "file_extension": ".py",
   "mimetype": "text/x-python",
   "name": "python",
   "nbconvert_exporter": "python",
   "pygments_lexer": "ipython3",
   "version": "3.6.9"
  }
 },
 "nbformat": 4,
 "nbformat_minor": 1
}
