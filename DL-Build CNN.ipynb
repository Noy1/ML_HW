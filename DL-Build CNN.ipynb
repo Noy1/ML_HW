{
 "cells": [
  {
   "cell_type": "markdown",
   "id": "1cfe2d57",
   "metadata": {},
   "source": [
    "## 1) Loading CIFAR dataset"
   ]
  },
  {
   "cell_type": "markdown",
   "id": "62b3c444",
   "metadata": {},
   "source": [
    "You should load the CIFAR dataset. You can use [the pytorch CIFAR tutorial](https://pytorch.org/tutorials/beginner/blitz/cifar10_tutorial.html). As was done in the previous exercise, you should define a dictionary of ``dataloaders``. For now, no need to define pre-process to the data. \n",
    "Please stick to the API of H.W_1, create a dataloaders disctionary ``{'train','val'}``\n",
    "\n",
    "You can use batch_size = 128"
   ]
  },
  {
   "cell_type": "code",
   "execution_count": 1,
   "id": "82fc0942",
   "metadata": {},
   "outputs": [],
   "source": [
    "import torch\n",
    "import torch.nn as nn\n",
    "import torch.optim as optim\n",
    "from torch.optim import lr_scheduler\n",
    "import torchvision\n",
    "from torchvision import datasets, models, transforms\n",
    "\n",
    "import time, copy, os\n",
    "import matplotlib.pyplot as plt\n",
    "%matplotlib inline"
   ]
  },
  {
   "cell_type": "code",
   "execution_count": 2,
   "id": "1f164d9c",
   "metadata": {},
   "outputs": [],
   "source": [
    "# Create a folder for our data\n",
    "# The ! prefix runs this as a shell command\n",
    "!mkdir data\n",
    "!mkdir data/CIFAR10"
   ]
  },
  {
   "cell_type": "code",
   "execution_count": 3,
   "id": "ade6b2d8",
   "metadata": {},
   "outputs": [
    {
     "name": "stdout",
     "output_type": "stream",
     "text": [
      "Downloading https://www.cs.toronto.edu/~kriz/cifar-10-python.tar.gz to ./data/CIFAR10/train/cifar-10-python.tar.gz\n"
     ]
    },
    {
     "data": {
      "application/vnd.jupyter.widget-view+json": {
       "model_id": "d9f06c2c071b4d20b48fbba08cf8fb2b",
       "version_major": 2,
       "version_minor": 0
      },
      "text/plain": [
       "  0%|          | 0/170498071 [00:00<?, ?it/s]"
      ]
     },
     "metadata": {},
     "output_type": "display_data"
    },
    {
     "name": "stdout",
     "output_type": "stream",
     "text": [
      "Extracting ./data/CIFAR10/train/cifar-10-python.tar.gz to ./data/CIFAR10/train\n",
      "Downloading https://www.cs.toronto.edu/~kriz/cifar-10-python.tar.gz to ./data/CIFAR10/val/cifar-10-python.tar.gz\n"
     ]
    },
    {
     "data": {
      "application/vnd.jupyter.widget-view+json": {
       "model_id": "c14fbdbb7e7d48d3942e900fdd7897ab",
       "version_major": 2,
       "version_minor": 0
      },
      "text/plain": [
       "  0%|          | 0/170498071 [00:00<?, ?it/s]"
      ]
     },
     "metadata": {},
     "output_type": "display_data"
    },
    {
     "name": "stdout",
     "output_type": "stream",
     "text": [
      "Extracting ./data/CIFAR10/val/cifar-10-python.tar.gz to ./data/CIFAR10/val\n"
     ]
    }
   ],
   "source": [
    "class_names = ['plane', 'car', 'bird', 'cat', 'deer', 'dog', 'frog', 'horse', 'ship', 'truck']\n",
    "### Enter you code here\n",
    "\n",
    "transform = transforms.Compose(\n",
    "    [transforms.ToTensor(),\n",
    "     transforms.Normalize((0.5, 0.5, 0.5), (0.5, 0.5, 0.5))])\n",
    "\n",
    "batch_size = 128\n",
    "\n",
    "trainset = torchvision.datasets.CIFAR10(root='./data/CIFAR10/train', train=True,\n",
    "                                        download=True, transform=transform)\n",
    "\n",
    "testset = torchvision.datasets.CIFAR10(root='./data/CIFAR10/val', train=False,\n",
    "                                       download=True, transform=transform)\n",
    "\n",
    "\n",
    "dataloaders = {\n",
    "    'train': torch.utils.data.DataLoader(trainset, batch_size=batch_size,\n",
    "                                             shuffle=True, num_workers=2),\n",
    "    'val': torch.utils.data.DataLoader(testset, batch_size=batch_size,\n",
    "                                          shuffle=False, num_workers=2)\n",
    "  }"
   ]
  },
  {
   "cell_type": "code",
   "execution_count": 4,
   "id": "390c2cdf",
   "metadata": {},
   "outputs": [
    {
     "name": "stdout",
     "output_type": "stream",
     "text": [
      "dataset_sizes:  {'train': 50000, 'val': 10000}\n"
     ]
    }
   ],
   "source": [
    "dataset_sizes = {x: len(dataloaders[x].dataset) for x in ['train', 'val']}\n",
    "print('dataset_sizes: ', dataset_sizes)"
   ]
  },
  {
   "cell_type": "code",
   "execution_count": 5,
   "id": "79c4de35",
   "metadata": {},
   "outputs": [
    {
     "data": {
      "text/plain": [
       "device(type='cpu')"
      ]
     },
     "execution_count": 5,
     "metadata": {},
     "output_type": "execute_result"
    }
   ],
   "source": [
    "# Check for the availability of a GPU, and use CPU otherwise\n",
    "device = torch.device(\"cuda:0\" if torch.cuda.is_available() else \"cpu\")\n",
    "device"
   ]
  },
  {
   "cell_type": "markdown",
   "id": "979caede",
   "metadata": {},
   "source": [
    "## Change the network"
   ]
  },
  {
   "cell_type": "code",
   "execution_count": 23,
   "id": "ac1b43ba",
   "metadata": {
    "scrolled": true
   },
   "outputs": [
    {
     "name": "stdout",
     "output_type": "stream",
     "text": [
      "photos size: torch.Size([3, 32, 32])\n"
     ]
    }
   ],
   "source": [
    "print(f'photos size: {trainset[0][0].shape}')"
   ]
  },
  {
   "cell_type": "markdown",
   "id": "b5ef78bb",
   "metadata": {},
   "source": [
    "filters size: we decided to use small filters because as we saw on VGG16 net when we have small filter on more layers we get more deeper network that raise up the complexity, with less linearity and less parameters to optimaize.\n",
    "As a first try we decided to take a block from VGG16 net which consider all the tips we got on the home assignment instructions.(cov,cov,pool)"
   ]
  },
  {
   "cell_type": "code",
   "execution_count": 50,
   "id": "2e517fa6",
   "metadata": {},
   "outputs": [],
   "source": [
    "class NeuralNetwork(nn.Module):\n",
    "    def __init__(self):\n",
    "        super(NeuralNetwork, self).__init__()\n",
    "        self.flatten = nn.Flatten()\n",
    "        \n",
    "        self.cnn_layers = nn.Sequential(\n",
    "            nn.Conv2d(in_channels=3, out_channels=64, kernel_size=3, stride=1, padding=1),\n",
    "            nn.Conv2d(in_channels=64, out_channels=64, kernel_size=3, stride=1, padding=1),\n",
    "            nn.MaxPool2d(kernel_size=2, stride=2)     \n",
    "        )\n",
    "        \n",
    "        self.linear_relu_stack = nn.Sequential(\n",
    "            nn.Linear(16384, 100), #first layer 100 neurons\n",
    "            nn.ReLU(),\n",
    "            nn.Linear(100, 20), #second layer 20 neurons\n",
    "            nn.ReLU(),\n",
    "            nn.Linear(20, 10), #third layer 10 elements\n",
    "            nn.LogSoftmax(dim=1) #output\n",
    "        )\n",
    "\n",
    "\n",
    "    def forward(self, x):\n",
    "        x = self.cnn_layers(x)\n",
    "        x = self.flatten(x)\n",
    "        logits = self.linear_relu_stack(x)\n",
    "        return logits"
   ]
  },
  {
   "cell_type": "code",
   "execution_count": 51,
   "id": "039d96cb",
   "metadata": {
    "scrolled": true
   },
   "outputs": [
    {
     "name": "stdout",
     "output_type": "stream",
     "text": [
      "NeuralNetwork(\n",
      "  (flatten): Flatten(start_dim=1, end_dim=-1)\n",
      "  (cnn_layers): Sequential(\n",
      "    (0): Conv2d(3, 64, kernel_size=(3, 3), stride=(1, 1), padding=(1, 1))\n",
      "    (1): Conv2d(64, 64, kernel_size=(3, 3), stride=(1, 1), padding=(1, 1))\n",
      "    (2): MaxPool2d(kernel_size=2, stride=2, padding=0, dilation=1, ceil_mode=False)\n",
      "  )\n",
      "  (linear_relu_stack): Sequential(\n",
      "    (0): Linear(in_features=16384, out_features=100, bias=True)\n",
      "    (1): ReLU()\n",
      "    (2): Linear(in_features=100, out_features=20, bias=True)\n",
      "    (3): ReLU()\n",
      "    (4): Linear(in_features=20, out_features=10, bias=True)\n",
      "    (5): LogSoftmax(dim=1)\n",
      "  )\n",
      ")\n"
     ]
    }
   ],
   "source": [
    "model = NeuralNetwork().to(device)\n",
    "print(model)"
   ]
  },
  {
   "cell_type": "code",
   "execution_count": 52,
   "id": "2a7e07ed",
   "metadata": {},
   "outputs": [
    {
     "name": "stdout",
     "output_type": "stream",
     "text": [
      "----------------------------------------------------------------\n",
      "        Layer (type)               Output Shape         Param #\n",
      "================================================================\n",
      "            Conv2d-1           [-1, 64, 32, 32]           1,792\n",
      "            Conv2d-2           [-1, 64, 32, 32]          36,928\n",
      "         MaxPool2d-3           [-1, 64, 16, 16]               0\n",
      "           Flatten-4                [-1, 16384]               0\n",
      "            Linear-5                  [-1, 100]       1,638,500\n",
      "              ReLU-6                  [-1, 100]               0\n",
      "            Linear-7                   [-1, 20]           2,020\n",
      "              ReLU-8                   [-1, 20]               0\n",
      "            Linear-9                   [-1, 10]             210\n",
      "       LogSoftmax-10                   [-1, 10]               0\n",
      "================================================================\n",
      "Total params: 1,679,450\n",
      "Trainable params: 1,679,450\n",
      "Non-trainable params: 0\n",
      "----------------------------------------------------------------\n",
      "Input size (MB): 0.01\n",
      "Forward/backward pass size (MB): 1.25\n",
      "Params size (MB): 6.41\n",
      "Estimated Total Size (MB): 7.67\n",
      "----------------------------------------------------------------\n"
     ]
    }
   ],
   "source": [
    "from torchsummary import summary\n",
    "\n",
    "summary(model, (3, 32, 32))"
   ]
  },
  {
   "cell_type": "code",
   "execution_count": 53,
   "id": "1074932c",
   "metadata": {},
   "outputs": [],
   "source": [
    "# If a GPU is available, make the model use it\n",
    "model = model.to(device)\n",
    "\n",
    "criterion = nn.NLLLoss()\n",
    "\n",
    "# Use Stochastic Gradient Descent as the optimizer, with a learning rate of 0.0001 and momentum\n",
    "optimizer_ft = optim.SGD(model.parameters(), lr=0.002, momentum=0.9, weight_decay=0.00001)\n",
    "\n",
    "# Decay LR by a factor of 0.1 every 7 epochs\n",
    "exp_lr_scheduler = lr_scheduler.StepLR(optimizer_ft, step_size=7, gamma=0.1)\n",
    "\n",
    "num_epochs = 15"
   ]
  },
  {
   "cell_type": "code",
   "execution_count": 54,
   "id": "fc1d0a2d",
   "metadata": {},
   "outputs": [],
   "source": [
    "def train_model(model, dataloaders, criterion, optimizer, scheduler, num_epochs=25):\n",
    "    since = time.time()\n",
    "\n",
    "    # Init variables that will save info about the best model\n",
    "    best_model_wts = copy.deepcopy(model.state_dict())\n",
    "    best_acc = 0.0\n",
    "    epoch_loss_train = []\n",
    "    epoch_loss_val = []\n",
    "    epoch_acc_train = []\n",
    "    epoch_acc_val = []\n",
    "\n",
    "    for epoch in range(num_epochs):\n",
    "        print('Epoch {}/{}'.format(epoch, num_epochs - 1))\n",
    "        print('-' * 10)\n",
    "\n",
    "        # Each epoch has a training and validation phase\n",
    "        for phase in ['train', 'val']:\n",
    "            if phase == 'train':\n",
    "                # Set model to training mode. \n",
    "                model.train()  \n",
    "            else:\n",
    "                # Set model to evaluate mode. In evaluate mode, we don't perform backprop and don't need to keep the gradients\n",
    "                model.eval()   \n",
    "\n",
    "            running_loss = 0.0\n",
    "            running_corrects = 0\n",
    "\n",
    "            # Iterate over data\n",
    "            for inputs, labels in dataloaders[phase]:\n",
    "                # Prepare the inputs for GPU/CPU\n",
    "                inputs = inputs.to(device)\n",
    "                labels = labels.to(device)\n",
    "\n",
    "                # zero the parameter gradients\n",
    "                optimizer.zero_grad()\n",
    "\n",
    "                # ===== forward pass ======\n",
    "                with torch.set_grad_enabled(phase=='train'):\n",
    "                    # If we're in train mode, we'll track the gradients to allow back-propagation\n",
    "                    outputs = model(inputs) # apply the model to the inputs. The output is the softmax probability of each class\n",
    "                    _, preds = torch.max(outputs, 1) #the max probability from each row place \n",
    "                    loss = criterion(outputs, labels)\n",
    "\n",
    "                    # ==== backward pass + optimizer step ====\n",
    "                    # This runs only in the training phase\n",
    "                    if phase == 'train':\n",
    "                        loss.backward() # Perform a step in the opposite direction of the gradient\n",
    "                        optimizer.step() # Adapt the optimizer\n",
    "\n",
    "                # Collect statistics\n",
    "                running_loss += loss.item() * inputs.size(0)\n",
    "                running_corrects += torch.sum(preds == labels.data)\n",
    "\n",
    "            epoch_loss = running_loss / dataset_sizes[phase]\n",
    "            epoch_acc = running_corrects.double() / dataset_sizes[phase]\n",
    "\n",
    "            if phase == 'train':\n",
    "                # Adjust the learning rate based on the scheduler\n",
    "                scheduler.step()\n",
    "                epoch_loss_train.append(epoch_loss)  \n",
    "                epoch_acc_train.append(epoch_acc.item())\n",
    "            \n",
    "            else:\n",
    "              epoch_loss_val.append(epoch_loss)\n",
    "              epoch_acc_val.append(epoch_acc.item())\n",
    "\n",
    "            print(f'{phase} Loss: {epoch_loss:.4f} Acc: {epoch_acc:.4f}')\n",
    "\n",
    "            # Keep the results of the best model so far\n",
    "            if phase == 'val' and epoch_acc > best_acc:\n",
    "                best_acc = epoch_acc\n",
    "                # deepcopy the model\n",
    "                best_model_wts = copy.deepcopy(model.state_dict())\n",
    "        print()\n",
    "\n",
    "    time_elapsed = time.time() - since\n",
    "    print(f'Training complete in {(time_elapsed // 60):.0f}m {(time_elapsed % 60):.0f}s')\n",
    "    print(f'Best val Acc: {best_acc:4f}')\n",
    "\n",
    "    # load best model weights\n",
    "    model.load_state_dict(best_model_wts)\n",
    "    return model, epoch_loss_train, epoch_acc_train, epoch_loss_val, epoch_acc_val"
   ]
  },
  {
   "cell_type": "code",
   "execution_count": 55,
   "id": "39e86831",
   "metadata": {},
   "outputs": [
    {
     "name": "stdout",
     "output_type": "stream",
     "text": [
      "Epoch 0/14\n",
      "----------\n",
      "train Loss: 2.0046 Acc: 0.2772\n",
      "val Loss: 1.7064 Acc: 0.3922\n",
      "\n",
      "Epoch 1/14\n",
      "----------\n",
      "train Loss: 1.6013 Acc: 0.4247\n",
      "val Loss: 1.4949 Acc: 0.4674\n",
      "\n",
      "Epoch 2/14\n",
      "----------\n",
      "train Loss: 1.4360 Acc: 0.4882\n",
      "val Loss: 1.3918 Acc: 0.5001\n",
      "\n",
      "Epoch 3/14\n",
      "----------\n",
      "train Loss: 1.3225 Acc: 0.5288\n",
      "val Loss: 1.2958 Acc: 0.5346\n",
      "\n",
      "Epoch 4/14\n",
      "----------\n",
      "train Loss: 1.2223 Acc: 0.5664\n",
      "val Loss: 1.2257 Acc: 0.5645\n",
      "\n",
      "Epoch 5/14\n",
      "----------\n",
      "train Loss: 1.1365 Acc: 0.5959\n",
      "val Loss: 1.1711 Acc: 0.5810\n",
      "\n",
      "Epoch 6/14\n",
      "----------\n",
      "train Loss: 1.0548 Acc: 0.6273\n",
      "val Loss: 1.1358 Acc: 0.5956\n",
      "\n",
      "Epoch 7/14\n",
      "----------\n",
      "train Loss: 0.9399 Acc: 0.6714\n",
      "val Loss: 1.0896 Acc: 0.6152\n",
      "\n",
      "Epoch 8/14\n",
      "----------\n",
      "train Loss: 0.9188 Acc: 0.6795\n",
      "val Loss: 1.0845 Acc: 0.6196\n",
      "\n",
      "Epoch 9/14\n",
      "----------\n",
      "train Loss: 0.9054 Acc: 0.6836\n",
      "val Loss: 1.0803 Acc: 0.6211\n",
      "\n",
      "Epoch 10/14\n",
      "----------\n",
      "train Loss: 0.8928 Acc: 0.6875\n",
      "val Loss: 1.0781 Acc: 0.6203\n",
      "\n",
      "Epoch 11/14\n",
      "----------\n",
      "train Loss: 0.8819 Acc: 0.6910\n",
      "val Loss: 1.0725 Acc: 0.6229\n",
      "\n",
      "Epoch 12/14\n",
      "----------\n",
      "train Loss: 0.8705 Acc: 0.6954\n",
      "val Loss: 1.0724 Acc: 0.6234\n",
      "\n",
      "Epoch 13/14\n",
      "----------\n",
      "train Loss: 0.8598 Acc: 0.6987\n",
      "val Loss: 1.0661 Acc: 0.6234\n",
      "\n",
      "Epoch 14/14\n",
      "----------\n",
      "train Loss: 0.8419 Acc: 0.7070\n",
      "val Loss: 1.0653 Acc: 0.6251\n",
      "\n",
      "Training complete in 28m 54s\n",
      "Best val Acc: 0.625100\n"
     ]
    }
   ],
   "source": [
    "model, epoch_loss_train, epoch_acc_train, epoch_loss_val, epoch_acc_val = train_model(model, dataloaders,\n",
    "                       criterion, \n",
    "                       optimizer_ft, \n",
    "                       exp_lr_scheduler,\n",
    "                       num_epochs=num_epochs)"
   ]
  },
  {
   "cell_type": "code",
   "execution_count": 56,
   "id": "63cc073b",
   "metadata": {},
   "outputs": [
    {
     "data": {
      "image/png": "[encoded data removed]",
      "text/plain": [
       "<Figure size 432x288 with 1 Axes>"
      ]
     },
     "metadata": {
      "needs_background": "light"
     },
     "output_type": "display_data"
    }
   ],
   "source": [
    "plt.plot(epoch_loss_train, label=\"Train\")\n",
    "plt.plot(epoch_loss_val, label= \"Validation\")\n",
    "plt.legend()\n",
    "plt.title('Loss- train, validation')\n",
    "plt.show()"
   ]
  },
  {
   "cell_type": "code",
   "execution_count": 57,
   "id": "9bd9d38e",
   "metadata": {},
   "outputs": [
    {
     "data": {
      "image/png": "[encoded data removed]",
      "text/plain": [
       "<Figure size 432x288 with 1 Axes>"
      ]
     },
     "metadata": {
      "needs_background": "light"
     },
     "output_type": "display_data"
    }
   ],
   "source": [
    "plt.plot(epoch_acc_train, label=\"Train\")\n",
    "plt.plot(epoch_acc_val, label= \"Validation\")\n",
    "plt.legend()\n",
    "plt.title('Accuracy- train, validation')\n",
    "plt.show()"
   ]
  }
 ],
 "metadata": {
  "kernelspec": {
   "display_name": "Python 3",
   "language": "python",
   "name": "python3"
  },
  "language_info": {
   "codemirror_mode": {
    "name": "ipython",
    "version": 3
   },
   "file_extension": ".py",
   "mimetype": "text/x-python",
   "name": "python",
   "nbconvert_exporter": "python",
   "pygments_lexer": "ipython3",
   "version": "3.6.9"
  }
 },
 "nbformat": 4,
 "nbformat_minor": 5
}
