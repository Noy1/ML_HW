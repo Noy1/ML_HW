{
 "cells": [
  {
   "cell_type": "markdown",
   "metadata": {
    "id": "Uq_3t_tluNmU"
   },
   "source": [
    "# Naive Bayes"
   ]
  },
  {
   "cell_type": "markdown",
   "metadata": {
    "id": "TQVMUZkQHlm2"
   },
   "source": [
    "## 1. Classifying Digits\n",
    "In this part we will test digits classification on the MNIST dataset, using Bernoulli Naive Bayes (a generative model).\n",
    "\n",
    "The MNIST dataset contains 28x28 grayscale images of handwritten digits between 0 and 9 (10 classes). For mathmatical analysis clarity, and for matching expected API, flatten each image to create a 1D array with 784 elements."
   ]
  },
  {
   "cell_type": "markdown",
   "metadata": {
    "id": "Cjwjk6pzLE-y"
   },
   "source": [
    "### Loading the MNIST dataset\n",
    "Load the MNIST data set. The digits dataset is one of datasets scikit-learn comes with that do not require the downloading of any file from some external website. Use \n",
    ">```\n",
    "mnist = sklearn.datasets.fetch_mldata('MNIST original')\n",
    "```\n",
    "\n",
    "to fetch the original data. You may set the `data_home` to where you wish to download your data for caching. Each image is already transformed into a 1D integer array $x\\in [0,255]^{784}$, and the corresponding label is an integer $y\\in [0,9]$.\n",
    "\n",
    "Plot a single sample of each digit as the original image, so you get a feeling how the data looks like.\n",
    "\n",
    "Finally, divide your data into train and test sets, using 1/7 of the data for testing.\n",
    "\n",
    "---\n",
    "**Note 1:** Using `digits = sklearn.datasets.load_digits()` will only fetch a very small sample of the original set, with images resized to 8x8. This preprocessing of the data reduces dimensionality and gives invariance to small distortions - however, we will use the original data in this exercise. Feel free to test the proformance of the algorithms below on the preprocessed data as well.\n",
    "\n",
    "**Note 2:**\n",
    "Since ML-Data is deprecated, you may wish to use something like this:\n",
    ">```\n",
    "from keras.datasets import mnist\n",
    "(x_train, y_train), (x_test, y_test) = mnist.load_data()\n",
    "x_train = x_train.reshape(x_train.shape[0], 784)\n",
    "x_test = x_test.reshape(x_test.shape[0], 784)\n",
    "  ```\n",
    "\n"
   ]
  },
  {
   "cell_type": "code",
   "execution_count": 3,
   "metadata": {
    "id": "05Om0QLxBvvT"
   },
   "outputs": [
    {
     "data": {
      "image/png": "[encoded data removed]",
      "text/plain": [
       "<Figure size 540x288 with 10 Axes>"
      ]
     },
     "metadata": {
      "needs_background": "light"
     },
     "output_type": "display_data"
    }
   ],
   "source": [
    "import numpy as np\n",
    "from tensorflow.keras.datasets import mnist\n",
    "import matplotlib.pyplot as plt\n",
    "%matplotlib inline\n",
    "\n",
    "#load data\n",
    "(x_train, y_train), (x_test, y_test) = mnist.load_data()\n",
    "\n",
    "#Plot a single sample of each digit\n",
    "indexes = [1,3, 5,7,9,0,13,15,17,4]\n",
    "fig, axes = plt.subplots(2, 5, figsize=(1.5*5,2*2))\n",
    "count_rows = 0\n",
    "count_columns = 0\n",
    "for i in indexes:\n",
    "    ax = axes[count_rows, count_columns]\n",
    "    ax.imshow(x_train[i], cmap='gray_r')\n",
    "    ax.set_title('Label: {}'.format(y_train[i]))\n",
    "    count_columns +=1\n",
    "    if count_columns == 5:\n",
    "        count_columns = 0\n",
    "        count_rows+=1\n",
    "plt.tight_layout()\n",
    "plt.show()\n",
    "\n",
    "#divide your data into train and test sets\n",
    "x_train = x_train.reshape(x_train.shape[0], 784)\n",
    "x_test = x_test.reshape(x_test.shape[0], 784)"
   ]
  },
  {
   "cell_type": "markdown",
   "metadata": {
    "id": "WTGjjSKaFfE6"
   },
   "source": [
    "### Bernoulli Naive Bayes\n",
    "If we know how the digits are generated, then we know how to classify them (simply choose the digit class which will maximize the posterior probability) --- but which model should we use for describing the digits generation?\n",
    "\n",
    "In this part we will try a very simplified model of digits creation (which is obviously not the same as the \"real\" model), using a Naive Bayes over an underlying Bernoulli distribution --- that is, we will assume that given a digit class, the pixels of the images are the result of independent coin flips, each with its own \"head\" probability.\n",
    "\n",
    "Note that since we assume each pixl is either 0 (black) or 1 (white), we will need to adjust (preprocess) our data accrodingly (see below).\n",
    "\n",
    "So, the model is stated as follows:\n",
    "$$\n",
    "\\begin{align}\n",
    "\\text{Domain} && x \\in \\{0,1\\}^{784} \\\\\n",
    "\\text{Prior} && \\pi_j = \\Pr(y=j) \\\\\n",
    "\\text{Likelihood} && P_j(x) = \\Pr(x | y=j) \\\\\n",
    "\\end{align}\n",
    "$$\n",
    "\n",
    "Where for each $i\\in 0\\ldots 784$ it holds that\n",
    "$$\n",
    "P_{ji}(x_i) = \\Pr(x_i | y=j) =\n",
    "\\begin{cases}\n",
    "p_{ji} & \\text{if } x_i=1 \\\\\n",
    "1-p_{ji} & \\text{if } x_i=0 \\\\\n",
    "\\end{cases}\n",
    "$$\n"
   ]
  },
  {
   "cell_type": "markdown",
   "metadata": {
    "id": "WNjhD3IpL5bC"
   },
   "source": [
    "#### Question 1\n",
    "Write the classification rule based on this Naive Bayes model. \n",
    "How would you esitmate each of the parameters of the model based on the trainning data? \n",
    "\n",
    "\n",
    "**Bonus:** Think of edge cases which may effect your estimator in an undesired way."
   ]
  },
  {
   "cell_type": "markdown",
   "metadata": {
    "id": "0pN1prGcMqwZ"
   },
   "source": [
    "#### Answer 1"
   ]
  },
  {
   "cell_type": "code",
   "execution_count": 4,
   "metadata": {},
   "outputs": [],
   "source": [
    "\n",
    "class BernoulliNaiveBayes(object):\n",
    "    \n",
    "    def __init__(self, alpha=1):\n",
    "        self.p_prior = []\n",
    "        self.p_likelihood = []\n",
    "        self.x_train = []\n",
    "        self.y_train = []\n",
    "        self.n_labels = 0\n",
    "        self.n_features = 0\n",
    "        self.alpha = alpha\n",
    "        \n",
    "    def fit(self, x_train, y_train):\n",
    "        self.x_train = np.where(x_train>0, 1, x_train)\n",
    "        self.y_train = y_train\n",
    "        self.n_features = self.x_train.shape[1]\n",
    "        self.calc_prior_prob()\n",
    "        self.calc_likelihood_prob()\n",
    "        \n",
    "    def calc_prior_prob(self):\n",
    "        y_labels, counts = np.unique(self.y_train, return_counts=True)\n",
    "        self.n_labels = len(y_labels)\n",
    "        number_of_samples = self.y_train.shape[0]\n",
    "        probs_labels = counts/number_of_samples\n",
    "        self.p_prior = probs_labels\n",
    "        \n",
    "    def calc_likelihood_prob(self):\n",
    "        self.p_likelihood = np.zeros([self.n_labels, self.n_features])\n",
    "        \n",
    "        for label in range(self.n_labels):\n",
    "            X_filtered = self.x_train[(self.y_train == label), :]\n",
    "            number_of_shows = (X_filtered.sum(axis = 0) + self.alpha)\n",
    "            number_of_opptions = (X_filtered.shape[0] + 2 * self.alpha)\n",
    "            self.p_likelihood[label, :] = number_of_shows / number_of_opptions\n",
    "            \n",
    "    def predict(self, x_test):\n",
    "        x_test = np.where(x_test>0, 1, x_test)\n",
    "        y_predict = []\n",
    "        \n",
    "        for row_index in range(x_test.shape[0]):\n",
    "            sample = x_test[row_index]\n",
    "            probs_one_feature = np.prod(self.p_likelihood[:, sample==1], axis=1)\n",
    "            probs_zero_feature = np.prod((1-self.p_likelihood[:, sample==0]),axis=1)\n",
    "            prob_by_label = probs_one_feature * probs_zero_feature * self.p_prior\n",
    "            y_label = np.argmax(prob_by_label)\n",
    "            y_predict.append(y_label)\n",
    "        return y_predict"
   ]
  },
  {
   "cell_type": "markdown",
   "metadata": {
    "id": "nOnkgDIXTMCQ"
   },
   "source": [
    "#### Question 2\n",
    "Run a Naive Bayes classifier on the training data and apply predictions on the test data. Use the [sklearn.naive_bayes.BernoulliNB](http://scikit-learn.org/stable/modules/generated/sklearn.naive_bayes.BernoulliNB.html) implementation (see the [source code for sklearn.naive_bayes](https://github.com/scikit-learn/scikit-learn/blob/master/sklearn/naive_bayes.py) for details).\n",
    "\n",
    "Remember we need to preprocess the data in this case such that each pixel would become either black (0) or white (1). For this, use the `binarize` parameter of the implementation. Set this value to $0$ (this is the default), which in this case would mean every pixel with non-zero value will be set to 1.\n",
    "\n",
    "1. Plot the mean image of each class (estimated $\\hat{p}_{ji}$) and generate one sample of each class (remember, you can do this since this is a generative model). You will need to access the `feature_log_prob_` attribute of the trained model.\n",
    "\n",
    "2. Plot the confusion matrix of your classifier, as claculated on the test data (it is recommended to use [sklearn.metrics.confusion_matrix](http://scikit-learn.org/stable/modules/generated/sklearn.metrics.confusion_matrix.html)). Calculate the total accuracy (fraction of correctly classified images), and summarize the results in your own words.\n",
    "\n",
    "3. Think of a way you can find the optimal threshold of the binarization part. **There is no need to actually perform this task --- just describe what you would have done.**\n"
   ]
  },
  {
   "cell_type": "markdown",
   "metadata": {
    "id": "ZKdsdegDWaO_"
   },
   "source": [
    "#### Answer 2"
   ]
  },
  {
   "cell_type": "code",
   "execution_count": 5,
   "metadata": {},
   "outputs": [
    {
     "data": {
      "text/plain": [
       "array([7, 2, 1, ..., 9, 8, 6], dtype=uint8)"
      ]
     },
     "execution_count": 5,
     "metadata": {},
     "output_type": "execute_result"
    }
   ],
   "source": [
    "from sklearn.naive_bayes import BernoulliNB\n",
    "\n",
    "clf = BernoulliNB(binarize=0).fit(x_train, y_train)\n",
    "clf.predict(x_test)"
   ]
  },
  {
   "cell_type": "code",
   "execution_count": 6,
   "metadata": {},
   "outputs": [],
   "source": [
    "def create_digits(labels, p_for_feature_label):\n",
    "    count_rows = 0\n",
    "    count_columns = 0\n",
    "    label = -1\n",
    "    fig, axes = plt.subplots(2, 5, figsize=(1.5*5,2*2))\n",
    "\n",
    "    for label in labels:\n",
    "        features_list = np.array(p_for_feature_label[label]).reshape(28,28)\n",
    "        ax = axes[count_rows, count_columns]\n",
    "        ax.imshow(features_list, cmap='gray_r')\n",
    "        ax.set_title('Label: {}'.format(label))\n",
    "        count_columns +=1\n",
    "        if count_columns == 5:\n",
    "            count_columns = 0\n",
    "            count_rows+=1\n",
    "    plt.tight_layout()\n",
    "    plt.show()"
   ]
  },
  {
   "cell_type": "code",
   "execution_count": 7,
   "metadata": {},
   "outputs": [
    {
     "data": {
      "image/png": "[encoded data removed]",
      "text/plain": [
       "<Figure size 540x288 with 10 Axes>"
      ]
     },
     "metadata": {
      "needs_background": "light"
     },
     "output_type": "display_data"
    }
   ],
   "source": [
    "#Plot the mean image of each class\n",
    "labels = np.unique(y_train)\n",
    "x_train = np.where(x_train>0, 1, x_train)\n",
    "p_for_feature_label = np.zeros([labels.shape[0], x_train.shape[1]])\n",
    "\n",
    "for label in labels:\n",
    "    X_filtered = x_train[(y_train == label), :]\n",
    "    mean_features = (X_filtered.mean(axis = 0))\n",
    "    p_for_feature_label[label, :] = mean_features\n",
    "create_digits(labels, p_for_feature_label)                       "
   ]
  },
  {
   "cell_type": "code",
   "execution_count": 8,
   "metadata": {},
   "outputs": [
    {
     "data": {
      "image/png": "[encoded data removed]",
      "text/plain": [
       "<Figure size 540x288 with 10 Axes>"
      ]
     },
     "metadata": {
      "needs_background": "light"
     },
     "output_type": "display_data"
    }
   ],
   "source": [
    "#generate one sample of each class\n",
    "empirical_probs_of_features = np.exp(clf.feature_log_prob_)\n",
    "lables = np.unique(y_train)\n",
    "p_for_feature_label = np.zeros([lables.shape[0], x_train.shape[1]])\n",
    "\n",
    "for label in lables:\n",
    "    features = []\n",
    "    digit_label = empirical_probs_of_features[label]\n",
    "    for prob_feature in digit_label:\n",
    "        feature_result = np.random.binomial(1, prob_feature, size=None)\n",
    "        features.append(feature_result)\n",
    "    p_for_feature_label[label, :] = np.array(features)\n",
    "\n",
    "create_digits(labels, p_for_feature_label)"
   ]
  },
  {
   "cell_type": "code",
   "execution_count": 9,
   "metadata": {
    "scrolled": true
   },
   "outputs": [
    {
     "name": "stdout",
     "output_type": "stream",
     "text": [
      "Accuracy score: 0.8413\n",
      "[[ 887    0    4    7    2   41   16    1   22    0]\n",
      " [   0 1085   10    5    0    9    6    0   19    1]\n",
      " [  19    8  852   29   17    4   32   14   55    2]\n",
      " [   5   15   34  844    0   13    9   15   49   26]\n",
      " [   2    6    4    0  795    4   21    1   23  126]\n",
      " [  23   12    7  129   30  627   16    8   21   19]\n",
      " [  18   18   15    2   13   35  851    0    6    0]\n",
      " [   1   24   14    4   15    0    0  871   27   72]\n",
      " [  16   23   13   76   17   22    7    6  758   36]\n",
      " [   9   13    5    9   74    8    0   24   24  843]]\n"
     ]
    }
   ],
   "source": [
    "#confusion matrix of your classifier, Calculate the total accuracy\n",
    "from sklearn.metrics import confusion_matrix, accuracy_score, classification_report\n",
    "\n",
    "bernouli_naive_base_obj = BernoulliNB(alpha=1)\n",
    "bernouli_naive_base_obj.fit(x_train, y_train)\n",
    "y_predict = bernouli_naive_base_obj.predict(x_test)\n",
    "print(f'Accuracy score: {accuracy_score(y_test, y_predict)}')\n",
    "print(confusion_matrix(y_test, y_predict))"
   ]
  },
  {
   "cell_type": "markdown",
   "metadata": {},
   "source": [
    "#### Summarize the results\n",
    "The accuracy score is 0.8413 which isan high score but not very accurate. As we can see from the confusion matrix, the primer diagnol represent the rigth predictions of each digit. From this diagnol we can see that the most accurate predictions were on digit 1 with 1085 right predections. Also we can see that probably the features of 4,9 and 5,3 are similar because the algorithem predected 4 as 8 above of the average mistake, and same with 5 that the predection was 3."
   ]
  },
  {
   "cell_type": "markdown",
   "metadata": {},
   "source": [
    "#### A way to find the optimal threshold of the binarization\n",
    "If we look at the original data we can see that there are some range of numbers that repeat on themself in the features. for example: features with values betwwen 200-253 which are clearly dark colors or values between 3-25 which are clearly bright colors. So a good way to find the optimal is to split those values to bins and show them on histogram and find the mean value of the histogram and make it the binarization value.\n",
    "In this way we will get that feature that are pretty bright will mark as 0 and the dark colors that re for sure features of 1 get this value."
   ]
  },
  {
   "cell_type": "markdown",
   "metadata": {
    "id": "lKSgnectrTJ1"
   },
   "source": [
    "## 2. Classifing Text Documents using Multinomial Naive Bayes\n",
    "In this exercise you will classify the \"20 newsgroups\" data set using your own naive bayes classifier and compare to the scikit learn built in version.\n",
    "\n",
    "The 20 newsgroups dataset comprises around 18000 newsgroups posts on 20 topics split in two subsets: one for training (or development) and the other one for testing (or for performance evaluation). The split between the train and test set is based upon messages posted before and after a specific date.\n",
    "\n",
    "\n",
    "* Load the **train** data using `from sklearn.datasets import fetch_20newsgroups`. remove headers, footers and quotes (see documentation)\n",
    "* Use `sklearn.feature_extraction.text import CountVectorizer` to count words (stop_words='english')\n",
    "* Write a class `NaiveBayes(BaseEstimator, ClassifierMixin)` and implement its `fit`, `predict` and `predict_proba` methods.\n",
    "* use `sklearn.pipeline.make_pipeline` to chain the vectroizer and model.\n",
    "* note: limit the vocuabolary size if you suffer memory issues\n",
    "* compare the accuracy over the **test** data. You can use `accuracy_score, classification_report`\n",
    "* compare to the built in `sklearn.naive_bayes.MultinomialNB`. If there are differences try to think why\n",
    "* plot the learning curve - is the model in the bias or variance regime (you can use the built in model for doing the analysis)\n",
    "* optimize performance in respect to vectorizer hyper parameters (e.g. max_features, max_df etc.).\n",
    "\n",
    "### Optional: Model interpretability\n",
    "Find the most important features for a **specific** decision of a NB classifier.\n",
    "Because the model has learned the prior $p(x_i|c)$ during the training, the contribution of an individual feature value can be easily measured by the posterior, $p(c|x_i)=p(c)p(x_i|c)/p(x_i)$\n",
    "Implement a function which gets a scikit-learn NB model as input and returns $P(c|x_i)$:\n",
    "\n",
    "`def calc_p_c_given_xi(model)`\n",
    "\n",
    "Hint: Use the following model properties:\n",
    "\n",
    "* `model.class_log_prior_`\n",
    "* `model.feature_log_prob_`\n",
    "\n",
    "Note: remember these are logs and you need to use np.exp and normalize to get $P(c|x_i)$ \n",
    "Another hint: use numpy built-in broadcasting property.\n",
    "\n",
    "* Use the interpretation to examine errors of the classifier where $\\hat{c}\\ne c$. Which top words support the correct class and which support the wrong class? You can use the `print_txt` below to color words. \n",
    "\n",
    "Bonus: How can you correct the analyzed error? \n",
    "\n",
    "To read more about model interpretation, see the blogpost below and my tutorial:\n",
    "* https://lilianweng.github.io/lil-log/2017/08/01/how-to-explain-the-prediction-of-a-machine-learning-model.html\n",
    "* https://github.com/chanansh/right_but_why"
   ]
  },
  {
   "cell_type": "code",
   "execution_count": 8,
   "metadata": {
    "scrolled": true
   },
   "outputs": [],
   "source": [
    "#Load the train data and count words\n",
    "#CountVectorizer, which builds a dictionary of features and transforms documents to feature vectors:\n",
    "from sklearn.datasets import fetch_20newsgroups\n",
    "from sklearn.feature_extraction.text import CountVectorizer\n",
    "\n",
    "twenty_train = fetch_20newsgroups(subset='train', remove=('headers', 'footers', 'quotes'))\n",
    "twenty_test = fetch_20newsgroups(subset='test', remove=('headers', 'footers', 'quotes'))\n",
    "\n",
    "x_train = twenty_train.data\n",
    "x_test = twenty_test.data\n",
    "y_train = twenty_train.target\n",
    "y_test = twenty_test.target"
   ]
  },
  {
   "cell_type": "code",
   "execution_count": 9,
   "metadata": {},
   "outputs": [],
   "source": [
    "#Write a class NaiveBayes(BaseEstimator, ClassifierMixin)\n",
    "from sklearn.base import BaseEstimator, ClassifierMixin\n",
    "\n",
    "class NaiveBayes(BaseEstimator, ClassifierMixin):\n",
    "    \n",
    "    def __init__(self, alpha=1.0):\n",
    "        self.prior = []\n",
    "        self.features_proba = []\n",
    "        self.alpha = alpha\n",
    "\n",
    "    def fit(self, x_train, y_train):\n",
    "        self.calc_prior_probs(y_train)\n",
    "        self.calc_feature_probs(x_train, y_train)\n",
    "        \n",
    "    def calc_prior_probs(self, y_train):\n",
    "        y_labels, counts = np.unique(y_train, return_counts=True)\n",
    "        number_of_samples = y_train.shape[0]\n",
    "        probs_labels = counts/number_of_samples\n",
    "        self.prior = probs_labels\n",
    "        \n",
    "    def calc_feature_probs(self, x_train, y_train):\n",
    "        labels, counts = np.unique(y_train, return_counts=True)\n",
    "        n_features = x_train.shape[1]\n",
    "        self.features_proba = np.zeros([len(labels), n_features])\n",
    "        \n",
    "        for label in labels:\n",
    "            X_filtered = x_train[(y_train == label), :]\n",
    "            number_of_features_shows = X_filtered.sum(axis=0) + self.alpha\n",
    "            number_of_opptions = X_filtered.sum() + n_features * self.alpha\n",
    "            self.features_proba[label, :] = number_of_features_shows / number_of_opptions\n",
    "        \n",
    "    def predict(self, x_test):\n",
    "        x_test = x_test.toarray()\n",
    "        y_options_probs = self.predict_log_proba(x_test)\n",
    "        y_predict = np.argmax(y_options_probs, axis=1)\n",
    "        return y_predict\n",
    "        \n",
    "    def predict_log_proba(self, x_test):\n",
    "        y_prediction = [] \n",
    "        for row_index in range(x_test.shape[0]):\n",
    "            document_words = x_test[row_index]\n",
    "            indexes = np.where(document_words!=0)[0]\n",
    "            relevant_features = self.features_proba[:,indexes]\n",
    "            relevant_words = document_words[indexes]\n",
    "            feature_by_occuracy = np.log(relevant_words*relevant_features).sum(axis=1)\n",
    "            prob_by_label = feature_by_occuracy + np.log(self.prior)\n",
    "            y_prediction.append(prob_by_label)\n",
    "        return y_prediction"
   ]
  },
  {
   "cell_type": "code",
   "execution_count": 10,
   "metadata": {
    "scrolled": true
   },
   "outputs": [
    {
     "name": "stdout",
     "output_type": "stream",
     "text": [
      "accuracy 0.6192246415294742\n",
      "              precision    recall  f1-score   support\n",
      "\n",
      "           0       0.61      0.26      0.36       319\n",
      "           1       0.59      0.66      0.62       389\n",
      "           2       0.25      0.00      0.01       394\n",
      "           3       0.55      0.71      0.62       392\n",
      "           4       0.76      0.55      0.64       385\n",
      "           5       0.56      0.80      0.66       395\n",
      "           6       0.87      0.68      0.76       390\n",
      "           7       0.82      0.66      0.73       396\n",
      "           8       0.90      0.59      0.71       398\n",
      "           9       0.93      0.72      0.81       397\n",
      "          10       0.58      0.88      0.70       399\n",
      "          11       0.51      0.79      0.62       396\n",
      "          12       0.70      0.46      0.56       393\n",
      "          13       0.80      0.77      0.78       396\n",
      "          14       0.70      0.75      0.72       394\n",
      "          15       0.44      0.89      0.58       398\n",
      "          16       0.57      0.62      0.59       364\n",
      "          17       0.55      0.80      0.65       376\n",
      "          18       0.41      0.43      0.42       310\n",
      "          19       0.52      0.05      0.09       251\n",
      "\n",
      "    accuracy                           0.62      7532\n",
      "   macro avg       0.63      0.60      0.58      7532\n",
      "weighted avg       0.63      0.62      0.59      7532\n",
      "\n",
      "confusion matrix\n",
      " [[ 82   1   0   1   0   3   0   1   2   1  11   8   2   4  10 144   5  28\n",
      "   10   6]\n",
      " [  1 258   0  13   6  41   3   0   0   2   7  29   2   5  11   6   0   2\n",
      "    3   0]\n",
      " [  3  57   1  98  14 135   2   2   1   0  15  40   1   3   6   5   1   1\n",
      "    8   1]\n",
      " [  0  13   0 279  20  17   5   0   0   0   8  24  17   1   2   2   0   1\n",
      "    3   0]\n",
      " [  1  18   1  44 212  15   7   3   0   0  14  25  17   9   9   2   1   3\n",
      "    4   0]\n",
      " [  0  28   1   7   3 315   0   0   0   0   8  20   1   1   6   1   0   1\n",
      "    3   0]\n",
      " [  0   5   0  36  15   5 266   7   1   2   9   7   6   5   7   5   4   8\n",
      "    2   0]\n",
      " [  0   2   0   1   1   3   8 261  13   1  30   7   9   2   9  11   9  11\n",
      "   18   0]\n",
      " [  2   2   0   0   0   1   5  29 235   5  15  10  11   2   5  17  14  24\n",
      "   21   0]\n",
      " [  0   3   0   2   0   5   1   0   3 284  33  10   1   6   4  18   3   6\n",
      "   18   0]\n",
      " [  1   1   0   1   0   1   0   1   0   4 351   5   0   1   2   8   1  11\n",
      "   11   0]\n",
      " [  1   6   0   2   3   2   0   0   1   1  18 311   2   2   8   5  12  13\n",
      "    9   0]\n",
      " [  1  19   1  21   6  11   8   7   0   2  12  67 181  14  22   5   4   9\n",
      "    3   0]\n",
      " [  2   6   0   1   0   1   0   5   0   1  15   3   4 305   5  22   4  14\n",
      "    8   0]\n",
      " [  2  13   0   1   0   2   0   1   1   0  17   9   2   6 295   9   1  11\n",
      "   24   0]\n",
      " [  4   4   0   0   0   2   0   0   0   1  14   6   0   2   2 355   2   5\n",
      "    1   0]\n",
      " [  1   1   0   0   0   1   1   0   0   1  12  15   1   5   6  26 224  44\n",
      "   23   3]\n",
      " [  1   1   0   2   0   2   0   0   2   1   6   7   0   1   0  25   9 302\n",
      "   17   0]\n",
      " [  8   0   0   0   0   1   0   1   1   0   8   8   1   5   8  17  76  40\n",
      "  134   2]\n",
      " [ 24   0   0   2   0   2   0   0   0   1   7   4   1   4   7 133  23  20\n",
      "   10  13]]\n"
     ]
    }
   ],
   "source": [
    "from sklearn.pipeline import Pipeline\n",
    "\n",
    "text_clf =  Pipeline([('vect', CountVectorizer(stop_words='english')),('naiveBayes', NaiveBayes())])\n",
    "text_clf.fit(x_train, y_train)\n",
    "y_predict = text_clf.predict(x_test)\n",
    "\n",
    "print('accuracy', accuracy_score(y_test, y_predict))\n",
    "print(classification_report(y_test, y_predict))\n",
    "print('confusion matrix\\n', confusion_matrix(y_test, y_predict))"
   ]
  },
  {
   "cell_type": "code",
   "execution_count": 11,
   "metadata": {
    "scrolled": true
   },
   "outputs": [
    {
     "name": "stdout",
     "output_type": "stream",
     "text": [
      "accuracy 0.6343600637280935\n",
      "              precision    recall  f1-score   support\n",
      "\n",
      "           0       0.65      0.30      0.41       319\n",
      "           1       0.58      0.69      0.63       389\n",
      "           2       0.40      0.01      0.01       394\n",
      "           3       0.53      0.72      0.61       392\n",
      "           4       0.74      0.56      0.64       385\n",
      "           5       0.56      0.81      0.66       395\n",
      "           6       0.85      0.69      0.76       390\n",
      "           7       0.82      0.70      0.76       396\n",
      "           8       0.91      0.62      0.73       398\n",
      "           9       0.94      0.74      0.83       397\n",
      "          10       0.58      0.91      0.71       399\n",
      "          11       0.54      0.79      0.64       396\n",
      "          12       0.71      0.49      0.58       393\n",
      "          13       0.81      0.79      0.80       396\n",
      "          14       0.72      0.75      0.73       394\n",
      "          15       0.46      0.91      0.61       398\n",
      "          16       0.57      0.61      0.59       364\n",
      "          17       0.58      0.80      0.67       376\n",
      "          18       0.46      0.44      0.45       310\n",
      "          19       0.56      0.06      0.11       251\n",
      "\n",
      "    accuracy                           0.63      7532\n",
      "   macro avg       0.65      0.62      0.60      7532\n",
      "weighted avg       0.65      0.63      0.61      7532\n",
      "\n",
      "confusion matrix\n",
      " [[ 97   1   0   1   0   3   0   1   2   1  12   8   0   4  11 130   5  26\n",
      "   11   6]\n",
      " [  1 269   0  14   7  35   2   0   0   2   7  26   3   5   7   6   0   3\n",
      "    2   0]\n",
      " [  3  66   2 106  12 131   2   2   1   0  15  32   1   4   4   3   0   2\n",
      "    7   1]\n",
      " [  0  13   0 281  24  20   6   0   0   0   7  18  16   1   1   1   1   2\n",
      "    1   0]\n",
      " [  1  20   1  47 216  18   9   3   1   0  15  19  13   8   8   2   0   2\n",
      "    2   0]\n",
      " [  0  32   1   6   4 318   1   0   0   0   8  11   1   2   6   3   0   1\n",
      "    1   0]\n",
      " [  0   5   0  38  16   4 268   6   2   2  10   4   8   1  10   5   3   5\n",
      "    3   0]\n",
      " [  0   2   0   2   1   3   9 278  10   1  29   5   7   2  10   8  11   8\n",
      "   10   0]\n",
      " [  2   2   0   1   1   2   5  26 245   4  15  10  13   2   3  15  14  19\n",
      "   19   0]\n",
      " [  0   3   0   2   0   6   2   0   2 294  34   7   1   5   3  16   2   5\n",
      "   15   0]\n",
      " [  1   1   0   1   0   1   0   1   0   2 362   5   0   1   2   8   1   8\n",
      "    5   0]\n",
      " [  0   6   0   2   4   3   0   1   0   1  18 311   4   2   8   4  12  14\n",
      "    6   0]\n",
      " [  1  19   1  24   8  11   7   9   3   1  13  63 191  12  15   6   3   5\n",
      "    1   0]\n",
      " [  4   6   0   1   0   1   0   5   0   1  15   3   3 312   5  17   4   9\n",
      "   10   0]\n",
      " [  0  11   0   1   0   2   0   3   1   0  17  11   3   7 296  10   1  12\n",
      "   19   0]\n",
      " [  3   4   0   0   0   2   0   0   0   1  15   2   0   1   3 362   2   2\n",
      "    1   0]\n",
      " [  2   0   0   0   0   2   2   0   0   1  12  16   2   4   5  25 222  45\n",
      "   23   3]\n",
      " [  2   0   0   2   0   2   0   0   1   1   6   8   0   1   0  23   9 302\n",
      "   19   0]\n",
      " [  9   0   0   0   0   1   1   1   1   0   8  12   2   5   9  14  77  31\n",
      "  137   2]\n",
      " [ 23   0   0   2   0   2   0   1   0   1   8   4   1   4   7 132  25  18\n",
      "    8  15]]\n"
     ]
    }
   ],
   "source": [
    "from sklearn.naive_bayes import MultinomialNB\n",
    "\n",
    "text_clf =  Pipeline([('vect', CountVectorizer(stop_words='english')),('naiveBayesmodel', MultinomialNB())])\n",
    "text_clf.fit(x_train, y_train)\n",
    "y_predict_sklearn_model = text_clf.predict(x_test)\n",
    "\n",
    "print('accuracy', accuracy_score(y_test, y_predict_sklearn_model))\n",
    "print(classification_report(y_test, y_predict_sklearn_model))\n",
    "print('confusion matrix\\n', confusion_matrix(y_test, y_predict_sklearn_model))"
   ]
  },
  {
   "cell_type": "markdown",
   "metadata": {},
   "source": [
    "#### If there are differences try to think why\n",
    "answer: The results of the 2 models are almost the same, our model has an accuracy of 0.62 and the sklearn model got 0.64 accuracy score. The avg scores of f1, recall, precision are almost the same, there is a shifting of 0.02 difference between the results and the confusion matrix represent the same patterns of mistakes. \n",
    "So We can say that probably the difference between the 2 models is in the implementation of the calculation of the predict probs and when we oerate the log function. As we can see, in the sklearn documentation the feature probs already saves as \"feature_log_prob_\" and in our model we operate the logs only by demand of the feature probs, maybe the numbers we got are less accurate and create mistakes in recognize the document category."
   ]
  },
  {
   "cell_type": "code",
   "execution_count": 12,
   "metadata": {},
   "outputs": [
    {
     "data": {
      "image/png": "[encoded data removed]",
      "text/plain": [
       "<Figure size 720x720 with 1 Axes>"
      ]
     },
     "metadata": {
      "needs_background": "light"
     },
     "output_type": "display_data"
    }
   ],
   "source": [
    "from sklearn.model_selection import learning_curve\n",
    "\n",
    "def plot_learning_curve(estimator, X, y,cv=None, n_jobs=None, train_sizes=np.linspace(0.1, 1.0, 5)):\n",
    "    plt.figure(figsize=(10,10))\n",
    "    plt.xlabel(\"Training examples\")\n",
    "    plt.ylabel(\"Score\")\n",
    "    plt.title(\"learning curve\")\n",
    "\n",
    "    train_sizes, train_scores, test_scores, fit_times, _ = learning_curve(estimator,X,y,cv=cv,n_jobs=n_jobs,\n",
    "        train_sizes=train_sizes,return_times=True)\n",
    "    \n",
    "    train_scores_mean = np.mean(train_scores, axis=1)\n",
    "    train_scores_std = np.std(train_scores, axis=1)\n",
    "    test_scores_mean = np.mean(test_scores, axis=1)\n",
    "    test_scores_std = np.std(test_scores, axis=1)\n",
    "    fit_times_mean = np.mean(fit_times, axis=1)\n",
    "    fit_times_std = np.std(fit_times, axis=1)\n",
    "\n",
    "    # Plot learning curve\n",
    "    plt.fill_between(train_sizes,train_scores_mean - train_scores_std,train_scores_mean + train_scores_std,\n",
    "        alpha=0.1,color=\"r\")\n",
    "    plt.fill_between(train_sizes,test_scores_mean - test_scores_std,test_scores_mean + test_scores_std,\n",
    "        alpha=0.1,color=\"g\")\n",
    "    plt.plot(train_sizes, train_scores_mean, \"o-\", color=\"r\", label=\"Training score\")\n",
    "    plt.plot(train_sizes, test_scores_mean, \"o-\", color=\"g\", label=\"Cross-validation score\")\n",
    "    return plt\n",
    "\n",
    "count_vect = CountVectorizer(stop_words='english').fit(twenty_train.data)\n",
    "X = count_vect.transform(twenty_train.data)\n",
    "plot_learning_curve(NaiveBayes(), X, y_train, cv=5, n_jobs=4)\n",
    "\n",
    "plt.show()"
   ]
  },
  {
   "cell_type": "markdown",
   "metadata": {},
   "source": [
    "#### Is the model in the bias or variance regime?\n",
    "Answer: From the curve, we can clearly see that as the size of the training set increases,the cross-validation accuracy increases. So adding training data is useful in this case. The training score accuracy is going down when we are increasing the size of training data. This means that our model has high bias and low variance, because the accuracy of cross validation is not high- meaning we have bias, and the accuracy of the train is not very high- meaning our variance is low. To achieve lower bias, we can add more training data and it might improve our model."
   ]
  },
  {
   "cell_type": "code",
   "execution_count": 13,
   "metadata": {},
   "outputs": [
    {
     "name": "stdout",
     "output_type": "stream",
     "text": [
      "accuracy 0.6525491237387148\n"
     ]
    }
   ],
   "source": [
    "#improve vectorize:\n",
    "\n",
    "text_clf =  Pipeline([('vect', CountVectorizer(stop_words='english',max_df=0.1, max_features = 40000)),('naiveBayes', NaiveBayes())])\n",
    "text_clf.fit(x_train, y_train)\n",
    "y_predict = text_clf.predict(x_test)\n",
    "\n",
    "print('accuracy', accuracy_score(y_test, y_predict))"
   ]
  },
  {
   "cell_type": "code",
   "execution_count": 14,
   "metadata": {
    "colab": {
     "base_uri": "https://localhost:8080/",
     "height": 35
    },
    "id": "WrTOhkHV9msW",
    "outputId": "c69cb41c-5ed6-4e43-ef3f-6ccaa4980c1d"
   },
   "outputs": [
    {
     "name": "stdout",
     "output_type": "stream",
     "text": [
      "This \u001b[42;37mword\u001b[0m support the first class but this the \u001b[41;37mother\u001b[0m\n"
     ]
    }
   ],
   "source": [
    "import string\n",
    "def print_txt(txt, hot, cold):\n",
    "  \"\"\"\n",
    "  print the text, coloring hot and cold words with colors\n",
    "  \"\"\"\n",
    "  cold_color='\\x1b[41;37m{}\\x1b[0m'\n",
    "  hot_color='\\x1b[42;37m{}\\x1b[0m'\n",
    "  def color(token):\n",
    "    lower = str(token).lower()\n",
    "    lower = lower.replace('\\t','').replace('\\n','')\n",
    "    lower = lower.translate(string.punctuation)\n",
    "    if (lower in hot) and (lower in cold):\n",
    "      return mid_color.format(token)\n",
    "    elif lower in hot:\n",
    "      return hot_color.format(token)\n",
    "    elif lower in cold:\n",
    "      return cold_color.format(token)\n",
    "    else:\n",
    "      return token\n",
    "  colored_txt = \" \".join([color(token) for token in txt.split(' ')])\n",
    "  print(colored_txt)\n",
    "print_txt('This word support the first class but this the other', ['word'],['other'])"
   ]
  }
 ],
 "metadata": {
  "colab": {
   "collapsed_sections": [],
   "name": "NB exercise.ipynb",
   "provenance": []
  },
  "kernelspec": {
   "display_name": "Python 3",
   "language": "python",
   "name": "python3"
  },
  "language_info": {
   "codemirror_mode": {
    "name": "ipython",
    "version": 3
   },
   "file_extension": ".py",
   "mimetype": "text/x-python",
   "name": "python",
   "nbconvert_exporter": "python",
   "pygments_lexer": "ipython3",
   "version": "3.6.9"
  }
 },
 "nbformat": 4,
 "nbformat_minor": 1
}
